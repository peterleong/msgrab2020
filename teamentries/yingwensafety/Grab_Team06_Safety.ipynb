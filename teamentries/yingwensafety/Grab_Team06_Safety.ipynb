{
 "cells": [
  {
   "cell_type": "code",
   "execution_count": null,
   "metadata": {
    "colab": {
     "base_uri": "https://localhost:8080/"
    },
    "id": "OyZu9P0rSh0d",
    "outputId": "36e59a78-f8a9-4517-cf1c-b80d1f2e88c0"
   },
   "outputs": [
    {
     "name": "stdout",
     "output_type": "stream",
     "text": [
      "Mounted at /content/drive\n"
     ]
    }
   ],
   "source": [
    "from google.colab import drive\n",
    "drive.mount('/content/drive')"
   ]
  },
  {
   "cell_type": "code",
   "execution_count": null,
   "metadata": {
    "id": "EZKfllkx_Snq"
   },
   "outputs": [],
   "source": [
    "import warnings\n",
    "warnings.filterwarnings(\"ignore\")\n",
    "\n",
    "import pandas as pd\n",
    "#the data used for training"
   ]
  },
  {
   "cell_type": "code",
   "execution_count": 124,
   "metadata": {
    "id": "jjB-DH3iEzX7"
   },
   "outputs": [],
   "source": [
    "df = pd.read_csv('/content/drive/MyDrive/Colab Notebooks/Safety_DataSet_Aggregated.csv')"
   ]
  },
  {
   "cell_type": "code",
   "execution_count": 125,
   "metadata": {
    "colab": {
     "base_uri": "https://localhost:8080/",
     "height": 399
    },
    "id": "MqkqPUEyD8F8",
    "outputId": "432ac74c-3688-405f-d06d-307431ec733d"
   },
   "outputs": [
    {
     "data": {
      "text/html": [
       "<div>\n",
       "<style scoped>\n",
       "    .dataframe tbody tr th:only-of-type {\n",
       "        vertical-align: middle;\n",
       "    }\n",
       "\n",
       "    .dataframe tbody tr th {\n",
       "        vertical-align: top;\n",
       "    }\n",
       "\n",
       "    .dataframe thead th {\n",
       "        text-align: right;\n",
       "    }\n",
       "</style>\n",
       "<table border=\"1\" class=\"dataframe\">\n",
       "  <thead>\n",
       "    <tr style=\"text-align: right;\">\n",
       "      <th></th>\n",
       "      <th>bookingID</th>\n",
       "      <th>Accuracy</th>\n",
       "      <th>Bearing</th>\n",
       "      <th>acceleration_x</th>\n",
       "      <th>acceleration_y</th>\n",
       "      <th>acceleration_z</th>\n",
       "      <th>gyro_x</th>\n",
       "      <th>gyro_y</th>\n",
       "      <th>gyro_z</th>\n",
       "      <th>second</th>\n",
       "      <th>Speed</th>\n",
       "      <th>label</th>\n",
       "    </tr>\n",
       "  </thead>\n",
       "  <tbody>\n",
       "    <tr>\n",
       "      <th>0</th>\n",
       "      <td>0</td>\n",
       "      <td>12.0</td>\n",
       "      <td>143.298294</td>\n",
       "      <td>0.818112</td>\n",
       "      <td>-9.941461</td>\n",
       "      <td>-2.014999</td>\n",
       "      <td>-0.016245</td>\n",
       "      <td>-0.094040</td>\n",
       "      <td>0.070732</td>\n",
       "      <td>0.0</td>\n",
       "      <td>3.442991</td>\n",
       "      <td>0</td>\n",
       "    </tr>\n",
       "    <tr>\n",
       "      <th>1</th>\n",
       "      <td>0</td>\n",
       "      <td>8.0</td>\n",
       "      <td>143.298294</td>\n",
       "      <td>0.546405</td>\n",
       "      <td>-9.835590</td>\n",
       "      <td>-2.038925</td>\n",
       "      <td>-0.047092</td>\n",
       "      <td>-0.078874</td>\n",
       "      <td>0.043187</td>\n",
       "      <td>1.0</td>\n",
       "      <td>0.228454</td>\n",
       "      <td>0</td>\n",
       "    </tr>\n",
       "    <tr>\n",
       "      <th>2</th>\n",
       "      <td>0</td>\n",
       "      <td>8.0</td>\n",
       "      <td>143.298294</td>\n",
       "      <td>-1.706207</td>\n",
       "      <td>-9.270792</td>\n",
       "      <td>-1.209448</td>\n",
       "      <td>-0.028965</td>\n",
       "      <td>-0.032652</td>\n",
       "      <td>0.015390</td>\n",
       "      <td>2.0</td>\n",
       "      <td>0.228454</td>\n",
       "      <td>0</td>\n",
       "    </tr>\n",
       "    <tr>\n",
       "      <th>3</th>\n",
       "      <td>0</td>\n",
       "      <td>8.0</td>\n",
       "      <td>143.298294</td>\n",
       "      <td>-1.416705</td>\n",
       "      <td>-9.548032</td>\n",
       "      <td>-1.860977</td>\n",
       "      <td>-0.022413</td>\n",
       "      <td>0.005049</td>\n",
       "      <td>-0.025753</td>\n",
       "      <td>3.0</td>\n",
       "      <td>0.228454</td>\n",
       "      <td>0</td>\n",
       "    </tr>\n",
       "    <tr>\n",
       "      <th>4</th>\n",
       "      <td>0</td>\n",
       "      <td>8.0</td>\n",
       "      <td>143.298294</td>\n",
       "      <td>-0.598145</td>\n",
       "      <td>-9.853534</td>\n",
       "      <td>-1.378574</td>\n",
       "      <td>-0.014297</td>\n",
       "      <td>-0.046206</td>\n",
       "      <td>0.021902</td>\n",
       "      <td>4.0</td>\n",
       "      <td>0.228454</td>\n",
       "      <td>0</td>\n",
       "    </tr>\n",
       "    <tr>\n",
       "      <th>...</th>\n",
       "      <td>...</td>\n",
       "      <td>...</td>\n",
       "      <td>...</td>\n",
       "      <td>...</td>\n",
       "      <td>...</td>\n",
       "      <td>...</td>\n",
       "      <td>...</td>\n",
       "      <td>...</td>\n",
       "      <td>...</td>\n",
       "      <td>...</td>\n",
       "      <td>...</td>\n",
       "      <td>...</td>\n",
       "    </tr>\n",
       "    <tr>\n",
       "      <th>16154413</th>\n",
       "      <td>1709396983975</td>\n",
       "      <td>8.0</td>\n",
       "      <td>199.547104</td>\n",
       "      <td>-0.320905</td>\n",
       "      <td>-8.949738</td>\n",
       "      <td>-3.971979</td>\n",
       "      <td>-0.012879</td>\n",
       "      <td>0.015905</td>\n",
       "      <td>-0.007625</td>\n",
       "      <td>559.0</td>\n",
       "      <td>1.035811</td>\n",
       "      <td>1</td>\n",
       "    </tr>\n",
       "    <tr>\n",
       "      <th>16154414</th>\n",
       "      <td>1709396983975</td>\n",
       "      <td>8.0</td>\n",
       "      <td>199.547104</td>\n",
       "      <td>-0.418253</td>\n",
       "      <td>-8.929102</td>\n",
       "      <td>-3.950296</td>\n",
       "      <td>-0.006455</td>\n",
       "      <td>0.005278</td>\n",
       "      <td>-0.000082</td>\n",
       "      <td>560.0</td>\n",
       "      <td>1.035811</td>\n",
       "      <td>1</td>\n",
       "    </tr>\n",
       "    <tr>\n",
       "      <th>16154415</th>\n",
       "      <td>1709396983975</td>\n",
       "      <td>12.0</td>\n",
       "      <td>199.547104</td>\n",
       "      <td>-0.226697</td>\n",
       "      <td>-8.914597</td>\n",
       "      <td>-4.338940</td>\n",
       "      <td>0.044719</td>\n",
       "      <td>0.032351</td>\n",
       "      <td>-0.018600</td>\n",
       "      <td>561.0</td>\n",
       "      <td>0.302453</td>\n",
       "      <td>1</td>\n",
       "    </tr>\n",
       "    <tr>\n",
       "      <th>16154416</th>\n",
       "      <td>1709396983975</td>\n",
       "      <td>12.0</td>\n",
       "      <td>199.547104</td>\n",
       "      <td>-0.372943</td>\n",
       "      <td>-8.951382</td>\n",
       "      <td>-4.416550</td>\n",
       "      <td>0.053263</td>\n",
       "      <td>0.029213</td>\n",
       "      <td>-0.016357</td>\n",
       "      <td>562.0</td>\n",
       "      <td>0.302453</td>\n",
       "      <td>1</td>\n",
       "    </tr>\n",
       "    <tr>\n",
       "      <th>16154417</th>\n",
       "      <td>1709396983975</td>\n",
       "      <td>12.0</td>\n",
       "      <td>199.547104</td>\n",
       "      <td>-0.024524</td>\n",
       "      <td>-8.984430</td>\n",
       "      <td>-3.973624</td>\n",
       "      <td>-0.021494</td>\n",
       "      <td>0.000867</td>\n",
       "      <td>0.012516</td>\n",
       "      <td>563.0</td>\n",
       "      <td>0.302453</td>\n",
       "      <td>1</td>\n",
       "    </tr>\n",
       "  </tbody>\n",
       "</table>\n",
       "<p>16154418 rows × 12 columns</p>\n",
       "</div>"
      ],
      "text/plain": [
       "              bookingID  Accuracy     Bearing  ...  second     Speed  label\n",
       "0                     0      12.0  143.298294  ...     0.0  3.442991      0\n",
       "1                     0       8.0  143.298294  ...     1.0  0.228454      0\n",
       "2                     0       8.0  143.298294  ...     2.0  0.228454      0\n",
       "3                     0       8.0  143.298294  ...     3.0  0.228454      0\n",
       "4                     0       8.0  143.298294  ...     4.0  0.228454      0\n",
       "...                 ...       ...         ...  ...     ...       ...    ...\n",
       "16154413  1709396983975       8.0  199.547104  ...   559.0  1.035811      1\n",
       "16154414  1709396983975       8.0  199.547104  ...   560.0  1.035811      1\n",
       "16154415  1709396983975      12.0  199.547104  ...   561.0  0.302453      1\n",
       "16154416  1709396983975      12.0  199.547104  ...   562.0  0.302453      1\n",
       "16154417  1709396983975      12.0  199.547104  ...   563.0  0.302453      1\n",
       "\n",
       "[16154418 rows x 12 columns]"
      ]
     },
     "execution_count": 125,
     "metadata": {
      "tags": []
     },
     "output_type": "execute_result"
    }
   ],
   "source": [
    "df"
   ]
  },
  {
   "cell_type": "code",
   "execution_count": 126,
   "metadata": {
    "colab": {
     "base_uri": "https://localhost:8080/",
     "height": 851
    },
    "id": "-eesOsBh4whN",
    "outputId": "b8ea7cb6-b7e1-4d03-f0b7-43ad34cc8c38"
   },
   "outputs": [
    {
     "data": {
      "image/png": "[encoded data removed]",
      "text/plain": [
       "<Figure size 432x288 with 1 Axes>"
      ]
     },
     "metadata": {
      "needs_background": "light",
      "tags": []
     },
     "output_type": "display_data"
    },
    {
     "data": {
      "image/png": "[encoded data removed]",
      "text/plain": [
       "<Figure size 432x288 with 1 Axes>"
      ]
     },
     "metadata": {
      "needs_background": "light",
      "tags": []
     },
     "output_type": "display_data"
    },
    {
     "data": {
      "image/png": "[encoded data removed]",
      "text/plain": [
       "<Figure size 432x288 with 1 Axes>"
      ]
     },
     "metadata": {
      "needs_background": "light",
      "tags": []
     },
     "output_type": "display_data"
    }
   ],
   "source": [
    "import seaborn as sns\n",
    "import matplotlib.pyplot as plt\n",
    "for col in ['gyro_x', 'gyro_y', 'gyro_z']:\n",
    "    sns.boxplot(df[col])\n",
    "    plt.title(\"Distribution of {} data\".format(col))\n",
    "    plt.xlim(-20, 20)\n",
    "    plt.show()"
   ]
  },
  {
   "cell_type": "code",
   "execution_count": 127,
   "metadata": {
    "colab": {
     "base_uri": "https://localhost:8080/",
     "height": 297
    },
    "id": "6DkeqcduQfru",
    "outputId": "3314dcba-acbe-454e-9a47-ecf6f79946a7"
   },
   "outputs": [
    {
     "data": {
      "text/plain": [
       "<matplotlib.axes._subplots.AxesSubplot at 0x7fe40d7ff358>"
      ]
     },
     "execution_count": 127,
     "metadata": {
      "tags": []
     },
     "output_type": "execute_result"
    },
    {
     "data": {
      "image/png": "[encoded data removed]",
      "text/plain": [
       "<Figure size 432x288 with 1 Axes>"
      ]
     },
     "metadata": {
      "needs_background": "light",
      "tags": []
     },
     "output_type": "display_data"
    }
   ],
   "source": [
    "sns.distplot(df['Speed'])"
   ]
  },
  {
   "cell_type": "code",
   "execution_count": 128,
   "metadata": {
    "colab": {
     "base_uri": "https://localhost:8080/",
     "height": 297
    },
    "id": "YkE4G5tSU2nb",
    "outputId": "2cdfee45-658b-47f6-8383-354867628c68"
   },
   "outputs": [
    {
     "data": {
      "text/plain": [
       "<matplotlib.axes._subplots.AxesSubplot at 0x7fe40d6e04e0>"
      ]
     },
     "execution_count": 128,
     "metadata": {
      "tags": []
     },
     "output_type": "execute_result"
    },
    {
     "data": {
      "image/png": "[encoded data removed]",
      "text/plain": [
       "<Figure size 432x288 with 1 Axes>"
      ]
     },
     "metadata": {
      "needs_background": "light",
      "tags": []
     },
     "output_type": "display_data"
    }
   ],
   "source": [
    "sns.distplot(df['Accuracy'])"
   ]
  },
  {
   "cell_type": "code",
   "execution_count": 129,
   "metadata": {
    "colab": {
     "base_uri": "https://localhost:8080/"
    },
    "id": "XOsK0BLuQy3Y",
    "outputId": "4c853137-324e-4447-c3f2-96fd3b0398e2"
   },
   "outputs": [
    {
     "data": {
      "text/plain": [
       "array([0.73367101, 0.13881253, 0.12751646])"
      ]
     },
     "execution_count": 129,
     "metadata": {
      "tags": []
     },
     "output_type": "execute_result"
    }
   ],
   "source": [
    "from sklearn.decomposition import PCA\n",
    "pca_gyro = PCA().fit(df.loc[:, ['gyro_x', 'gyro_y', 'gyro_z']])\n",
    "pca_gyro.explained_variance_ratio_\n",
    "# The first principal component can explain the variations in gyroscope data fairly well .Thus, we will only keep the first component for modelling."
   ]
  },
  {
   "cell_type": "code",
   "execution_count": 130,
   "metadata": {
    "colab": {
     "base_uri": "https://localhost:8080/"
    },
    "id": "C4T81T_oWWlk",
    "outputId": "a5ac394c-4257-41fd-d86f-092d4479e541"
   },
   "outputs": [
    {
     "data": {
      "text/plain": [
       "array([0.8597306 , 0.11459168, 0.02567772])"
      ]
     },
     "execution_count": 130,
     "metadata": {
      "tags": []
     },
     "output_type": "execute_result"
    }
   ],
   "source": [
    "pca_gyro2 = PCA().fit(df.loc[:, ['acceleration_x', 'acceleration_y', 'acceleration_z']])\n",
    "pca_gyro2.explained_variance_ratio_"
   ]
  },
  {
   "cell_type": "code",
   "execution_count": 131,
   "metadata": {
    "id": "ncqqFnns7gIK"
   },
   "outputs": [],
   "source": [
    "#arrays = [[\"Accuracy\", \"Bearing\tacceleration_x\",\t\"acceleration_y\",\t\"acceleration_z\",\t\"gyro_x\",\t\"gyro_y\", \"gyro_z\",\t\"second\",\t\"Speed\",\t\"label\"]\n",
    "df2 = df.groupby('bookingID',as_index=False).mean()"
   ]
  },
  {
   "cell_type": "code",
   "execution_count": 132,
   "metadata": {
    "colab": {
     "base_uri": "https://localhost:8080/"
    },
    "id": "WkmVuiNoE380",
    "outputId": "1401f787-19f7-4e96-a98c-bceabb01df0c"
   },
   "outputs": [
    {
     "name": "stdout",
     "output_type": "stream",
     "text": [
      "Column names: Index(['bookingID', 'Accuracy', 'Bearing', 'acceleration_x', 'acceleration_y',\n",
      "       'acceleration_z', 'gyro_x', 'gyro_y', 'gyro_z', 'second', 'Speed',\n",
      "       'label'],\n",
      "      dtype='object') \n",
      "number of rows:  20000\n",
      "bookingID           int64\n",
      "Accuracy          float64\n",
      "Bearing           float64\n",
      "acceleration_x    float64\n",
      "acceleration_y    float64\n",
      "acceleration_z    float64\n",
      "gyro_x            float64\n",
      "gyro_y            float64\n",
      "gyro_z            float64\n",
      "second            float64\n",
      "Speed             float64\n",
      "label             float64\n",
      "dtype: object\n",
      "Missing values: \n",
      " bookingID         0\n",
      "Accuracy          0\n",
      "Bearing           0\n",
      "acceleration_x    0\n",
      "acceleration_y    0\n",
      "acceleration_z    0\n",
      "gyro_x            0\n",
      "gyro_y            0\n",
      "gyro_z            0\n",
      "second            0\n",
      "Speed             0\n",
      "label             0\n",
      "dtype: int64\n"
     ]
    }
   ],
   "source": [
    "print(\"Column names:\", df2.columns, \"\\nnumber of rows: \", len(df2)) \n",
    "print(df2.dtypes)\n",
    "print('Missing values: \\n', df2.isnull().sum())"
   ]
  },
  {
   "cell_type": "code",
   "execution_count": 133,
   "metadata": {
    "colab": {
     "base_uri": "https://localhost:8080/"
    },
    "id": "B_mdOy7QDUIi",
    "outputId": "192b3bfb-cf3c-45b4-83aa-d6cb95bf495a"
   },
   "outputs": [
    {
     "name": "stdout",
     "output_type": "stream",
     "text": [
      "           bookingID   Accuracy     Bearing  ...      second      Speed  label\n",
      "0                  0  10.165339  176.526099  ...  903.526892   8.994822    0.0\n",
      "4                  6   4.586721  197.812785  ...  547.000000   4.628921    0.0\n",
      "5                  7   3.681034  101.562698  ...  480.947313  12.176386    0.0\n",
      "6                  8   7.008253  172.803618  ...  256.847545   5.351266    0.0\n",
      "7                 10   3.815000  120.605333  ...  187.000000   8.702027    0.0\n",
      "...              ...        ...         ...  ...         ...        ...    ...\n",
      "19967  1700807049400   6.656564  206.350689  ...  328.284839  12.783462    0.0\n",
      "19970  1700807049403   3.776021  107.050209  ...  119.815900   2.554366    0.0\n",
      "19971  1700807049404  13.279365  221.526410  ...  397.238095   6.156889    0.0\n",
      "19972  1700807049406   3.665604  170.044568  ...  359.966574   9.721643    0.0\n",
      "19973  1700807049407   4.748870  124.983008  ...  642.802889   8.348759    0.0\n",
      "\n",
      "[14999 rows x 12 columns]\n"
     ]
    }
   ],
   "source": [
    "df0=df2[df2['label'] == 0]\n",
    "\n",
    "print(df0)"
   ]
  },
  {
   "cell_type": "code",
   "execution_count": 134,
   "metadata": {
    "colab": {
     "base_uri": "https://localhost:8080/"
    },
    "id": "X076PuAsFhkx",
    "outputId": "a2929500-f60f-4346-8950-8cc7e2c49681"
   },
   "outputs": [
    {
     "name": "stdout",
     "output_type": "stream",
     "text": [
      "           bookingID   Accuracy     Bearing  ...      second      Speed  label\n",
      "1                  1   3.718763  124.198590  ...  581.175088   7.881588    1.0\n",
      "2                  2   3.930626  173.794872  ...  339.441026   3.157213    1.0\n",
      "3                  4  10.000000  151.807013  ...  547.495430   6.150996    1.0\n",
      "13                18  11.236715  172.307039  ...  517.000000   4.738116    1.0\n",
      "24                35   5.223068  239.553153  ...  832.000000  16.619441    1.0\n",
      "...              ...        ...         ...  ...         ...        ...    ...\n",
      "19995  1709396983957   4.012152  169.904096  ...  541.414585   2.305969    1.0\n",
      "19996  1709396983960  11.938692  179.182557  ...  423.769755   7.611645    1.0\n",
      "19997  1709396983966   9.412141  198.738462  ...  575.269231  12.718705    1.0\n",
      "19998  1709396983971   5.401185  204.802228  ...  540.761374   6.245733    1.0\n",
      "19999  1709396983975  30.910138  109.359487  ...  302.179724   4.400441    1.0\n",
      "\n",
      "[4983 rows x 12 columns]\n"
     ]
    }
   ],
   "source": [
    "df1=df2[df2['label'] == 1]\n",
    "\n",
    "print(df1)"
   ]
  },
  {
   "cell_type": "code",
   "execution_count": 135,
   "metadata": {
    "colab": {
     "base_uri": "https://localhost:8080/",
     "height": 399
    },
    "id": "0Zruv2_LOCLV",
    "outputId": "f075be11-238f-4c65-ddb4-0352dfb358af"
   },
   "outputs": [
    {
     "data": {
      "text/html": [
       "<div>\n",
       "<style scoped>\n",
       "    .dataframe tbody tr th:only-of-type {\n",
       "        vertical-align: middle;\n",
       "    }\n",
       "\n",
       "    .dataframe tbody tr th {\n",
       "        vertical-align: top;\n",
       "    }\n",
       "\n",
       "    .dataframe thead th {\n",
       "        text-align: right;\n",
       "    }\n",
       "</style>\n",
       "<table border=\"1\" class=\"dataframe\">\n",
       "  <thead>\n",
       "    <tr style=\"text-align: right;\">\n",
       "      <th></th>\n",
       "      <th>bookingID</th>\n",
       "      <th>Accuracy</th>\n",
       "      <th>Bearing</th>\n",
       "      <th>acceleration_x</th>\n",
       "      <th>acceleration_y</th>\n",
       "      <th>acceleration_z</th>\n",
       "      <th>gyro_x</th>\n",
       "      <th>gyro_y</th>\n",
       "      <th>gyro_z</th>\n",
       "      <th>second</th>\n",
       "      <th>Speed</th>\n",
       "      <th>label</th>\n",
       "    </tr>\n",
       "  </thead>\n",
       "  <tbody>\n",
       "    <tr>\n",
       "      <th>1844</th>\n",
       "      <td>137438953605</td>\n",
       "      <td>4.158588</td>\n",
       "      <td>84.178497</td>\n",
       "      <td>0.557621</td>\n",
       "      <td>8.836170</td>\n",
       "      <td>4.474395</td>\n",
       "      <td>0.001330</td>\n",
       "      <td>0.005286</td>\n",
       "      <td>0.000581</td>\n",
       "      <td>479.541754</td>\n",
       "      <td>7.605418</td>\n",
       "      <td>0.0</td>\n",
       "    </tr>\n",
       "    <tr>\n",
       "      <th>3006</th>\n",
       "      <td>223338299432</td>\n",
       "      <td>8.150538</td>\n",
       "      <td>229.991591</td>\n",
       "      <td>0.088678</td>\n",
       "      <td>-9.619786</td>\n",
       "      <td>-2.037328</td>\n",
       "      <td>-0.012839</td>\n",
       "      <td>0.001285</td>\n",
       "      <td>-0.005916</td>\n",
       "      <td>367.483871</td>\n",
       "      <td>9.560362</td>\n",
       "      <td>0.0</td>\n",
       "    </tr>\n",
       "    <tr>\n",
       "      <th>17953</th>\n",
       "      <td>1503238553740</td>\n",
       "      <td>5.189421</td>\n",
       "      <td>200.919440</td>\n",
       "      <td>0.230689</td>\n",
       "      <td>9.728452</td>\n",
       "      <td>1.278186</td>\n",
       "      <td>0.001234</td>\n",
       "      <td>-0.001207</td>\n",
       "      <td>-0.005784</td>\n",
       "      <td>702.746935</td>\n",
       "      <td>14.962789</td>\n",
       "      <td>0.0</td>\n",
       "    </tr>\n",
       "    <tr>\n",
       "      <th>17343</th>\n",
       "      <td>1460288880707</td>\n",
       "      <td>4.066501</td>\n",
       "      <td>98.907895</td>\n",
       "      <td>0.156595</td>\n",
       "      <td>9.733119</td>\n",
       "      <td>0.503827</td>\n",
       "      <td>-0.000377</td>\n",
       "      <td>-0.005466</td>\n",
       "      <td>-0.001094</td>\n",
       "      <td>456.896930</td>\n",
       "      <td>4.141404</td>\n",
       "      <td>0.0</td>\n",
       "    </tr>\n",
       "    <tr>\n",
       "      <th>14860</th>\n",
       "      <td>1228360646720</td>\n",
       "      <td>10.000000</td>\n",
       "      <td>165.642352</td>\n",
       "      <td>0.090797</td>\n",
       "      <td>-9.554647</td>\n",
       "      <td>2.187579</td>\n",
       "      <td>0.009899</td>\n",
       "      <td>-0.033612</td>\n",
       "      <td>0.004328</td>\n",
       "      <td>222.526316</td>\n",
       "      <td>6.166000</td>\n",
       "      <td>0.0</td>\n",
       "    </tr>\n",
       "    <tr>\n",
       "      <th>...</th>\n",
       "      <td>...</td>\n",
       "      <td>...</td>\n",
       "      <td>...</td>\n",
       "      <td>...</td>\n",
       "      <td>...</td>\n",
       "      <td>...</td>\n",
       "      <td>...</td>\n",
       "      <td>...</td>\n",
       "      <td>...</td>\n",
       "      <td>...</td>\n",
       "      <td>...</td>\n",
       "      <td>...</td>\n",
       "    </tr>\n",
       "    <tr>\n",
       "      <th>19705</th>\n",
       "      <td>1675037245559</td>\n",
       "      <td>14.405624</td>\n",
       "      <td>132.485149</td>\n",
       "      <td>0.007242</td>\n",
       "      <td>9.581153</td>\n",
       "      <td>0.371788</td>\n",
       "      <td>0.001093</td>\n",
       "      <td>0.006378</td>\n",
       "      <td>0.008370</td>\n",
       "      <td>197.009901</td>\n",
       "      <td>9.934070</td>\n",
       "      <td>0.0</td>\n",
       "    </tr>\n",
       "    <tr>\n",
       "      <th>2042</th>\n",
       "      <td>154618822704</td>\n",
       "      <td>9.409471</td>\n",
       "      <td>140.179149</td>\n",
       "      <td>1.088330</td>\n",
       "      <td>-9.812033</td>\n",
       "      <td>-0.192391</td>\n",
       "      <td>-0.021791</td>\n",
       "      <td>0.026714</td>\n",
       "      <td>0.007118</td>\n",
       "      <td>208.713092</td>\n",
       "      <td>13.388189</td>\n",
       "      <td>0.0</td>\n",
       "    </tr>\n",
       "    <tr>\n",
       "      <th>4563</th>\n",
       "      <td>352187318370</td>\n",
       "      <td>3.425019</td>\n",
       "      <td>156.441270</td>\n",
       "      <td>-0.382777</td>\n",
       "      <td>9.427228</td>\n",
       "      <td>1.573682</td>\n",
       "      <td>0.002623</td>\n",
       "      <td>0.001511</td>\n",
       "      <td>-0.002083</td>\n",
       "      <td>472.975661</td>\n",
       "      <td>4.055150</td>\n",
       "      <td>0.0</td>\n",
       "    </tr>\n",
       "    <tr>\n",
       "      <th>10301</th>\n",
       "      <td>824633720898</td>\n",
       "      <td>8.876404</td>\n",
       "      <td>126.773900</td>\n",
       "      <td>0.179168</td>\n",
       "      <td>-9.797666</td>\n",
       "      <td>-0.814593</td>\n",
       "      <td>0.005612</td>\n",
       "      <td>0.006618</td>\n",
       "      <td>-0.012939</td>\n",
       "      <td>548.708801</td>\n",
       "      <td>15.568349</td>\n",
       "      <td>0.0</td>\n",
       "    </tr>\n",
       "    <tr>\n",
       "      <th>3663</th>\n",
       "      <td>283467841617</td>\n",
       "      <td>4.230444</td>\n",
       "      <td>103.742938</td>\n",
       "      <td>0.327640</td>\n",
       "      <td>9.666546</td>\n",
       "      <td>2.179288</td>\n",
       "      <td>-0.000882</td>\n",
       "      <td>-0.001953</td>\n",
       "      <td>-0.000273</td>\n",
       "      <td>378.912429</td>\n",
       "      <td>4.518446</td>\n",
       "      <td>0.0</td>\n",
       "    </tr>\n",
       "  </tbody>\n",
       "</table>\n",
       "<p>4983 rows × 12 columns</p>\n",
       "</div>"
      ],
      "text/plain": [
       "           bookingID   Accuracy     Bearing  ...      second      Speed  label\n",
       "1844    137438953605   4.158588   84.178497  ...  479.541754   7.605418    0.0\n",
       "3006    223338299432   8.150538  229.991591  ...  367.483871   9.560362    0.0\n",
       "17953  1503238553740   5.189421  200.919440  ...  702.746935  14.962789    0.0\n",
       "17343  1460288880707   4.066501   98.907895  ...  456.896930   4.141404    0.0\n",
       "14860  1228360646720  10.000000  165.642352  ...  222.526316   6.166000    0.0\n",
       "...              ...        ...         ...  ...         ...        ...    ...\n",
       "19705  1675037245559  14.405624  132.485149  ...  197.009901   9.934070    0.0\n",
       "2042    154618822704   9.409471  140.179149  ...  208.713092  13.388189    0.0\n",
       "4563    352187318370   3.425019  156.441270  ...  472.975661   4.055150    0.0\n",
       "10301   824633720898   8.876404  126.773900  ...  548.708801  15.568349    0.0\n",
       "3663    283467841617   4.230444  103.742938  ...  378.912429   4.518446    0.0\n",
       "\n",
       "[4983 rows x 12 columns]"
      ]
     },
     "execution_count": 135,
     "metadata": {
      "tags": []
     },
     "output_type": "execute_result"
    }
   ],
   "source": [
    "df0 = df0.sample(n=len(df1))\n",
    "df0"
   ]
  },
  {
   "cell_type": "code",
   "execution_count": 136,
   "metadata": {
    "colab": {
     "base_uri": "https://localhost:8080/",
     "height": 399
    },
    "id": "C_6eviKmQVTh",
    "outputId": "8493e91a-01b7-481b-c297-d179ed5f3963"
   },
   "outputs": [
    {
     "data": {
      "text/html": [
       "<div>\n",
       "<style scoped>\n",
       "    .dataframe tbody tr th:only-of-type {\n",
       "        vertical-align: middle;\n",
       "    }\n",
       "\n",
       "    .dataframe tbody tr th {\n",
       "        vertical-align: top;\n",
       "    }\n",
       "\n",
       "    .dataframe thead th {\n",
       "        text-align: right;\n",
       "    }\n",
       "</style>\n",
       "<table border=\"1\" class=\"dataframe\">\n",
       "  <thead>\n",
       "    <tr style=\"text-align: right;\">\n",
       "      <th></th>\n",
       "      <th>bookingID</th>\n",
       "      <th>Accuracy</th>\n",
       "      <th>Bearing</th>\n",
       "      <th>acceleration_x</th>\n",
       "      <th>acceleration_y</th>\n",
       "      <th>acceleration_z</th>\n",
       "      <th>gyro_x</th>\n",
       "      <th>gyro_y</th>\n",
       "      <th>gyro_z</th>\n",
       "      <th>second</th>\n",
       "      <th>Speed</th>\n",
       "      <th>label</th>\n",
       "    </tr>\n",
       "  </thead>\n",
       "  <tbody>\n",
       "    <tr>\n",
       "      <th>1844</th>\n",
       "      <td>137438953605</td>\n",
       "      <td>4.158588</td>\n",
       "      <td>84.178497</td>\n",
       "      <td>0.557621</td>\n",
       "      <td>8.836170</td>\n",
       "      <td>4.474395</td>\n",
       "      <td>0.001330</td>\n",
       "      <td>0.005286</td>\n",
       "      <td>0.000581</td>\n",
       "      <td>479.541754</td>\n",
       "      <td>7.605418</td>\n",
       "      <td>0.0</td>\n",
       "    </tr>\n",
       "    <tr>\n",
       "      <th>3006</th>\n",
       "      <td>223338299432</td>\n",
       "      <td>8.150538</td>\n",
       "      <td>229.991591</td>\n",
       "      <td>0.088678</td>\n",
       "      <td>-9.619786</td>\n",
       "      <td>-2.037328</td>\n",
       "      <td>-0.012839</td>\n",
       "      <td>0.001285</td>\n",
       "      <td>-0.005916</td>\n",
       "      <td>367.483871</td>\n",
       "      <td>9.560362</td>\n",
       "      <td>0.0</td>\n",
       "    </tr>\n",
       "    <tr>\n",
       "      <th>17953</th>\n",
       "      <td>1503238553740</td>\n",
       "      <td>5.189421</td>\n",
       "      <td>200.919440</td>\n",
       "      <td>0.230689</td>\n",
       "      <td>9.728452</td>\n",
       "      <td>1.278186</td>\n",
       "      <td>0.001234</td>\n",
       "      <td>-0.001207</td>\n",
       "      <td>-0.005784</td>\n",
       "      <td>702.746935</td>\n",
       "      <td>14.962789</td>\n",
       "      <td>0.0</td>\n",
       "    </tr>\n",
       "    <tr>\n",
       "      <th>17343</th>\n",
       "      <td>1460288880707</td>\n",
       "      <td>4.066501</td>\n",
       "      <td>98.907895</td>\n",
       "      <td>0.156595</td>\n",
       "      <td>9.733119</td>\n",
       "      <td>0.503827</td>\n",
       "      <td>-0.000377</td>\n",
       "      <td>-0.005466</td>\n",
       "      <td>-0.001094</td>\n",
       "      <td>456.896930</td>\n",
       "      <td>4.141404</td>\n",
       "      <td>0.0</td>\n",
       "    </tr>\n",
       "    <tr>\n",
       "      <th>14860</th>\n",
       "      <td>1228360646720</td>\n",
       "      <td>10.000000</td>\n",
       "      <td>165.642352</td>\n",
       "      <td>0.090797</td>\n",
       "      <td>-9.554647</td>\n",
       "      <td>2.187579</td>\n",
       "      <td>0.009899</td>\n",
       "      <td>-0.033612</td>\n",
       "      <td>0.004328</td>\n",
       "      <td>222.526316</td>\n",
       "      <td>6.166000</td>\n",
       "      <td>0.0</td>\n",
       "    </tr>\n",
       "    <tr>\n",
       "      <th>...</th>\n",
       "      <td>...</td>\n",
       "      <td>...</td>\n",
       "      <td>...</td>\n",
       "      <td>...</td>\n",
       "      <td>...</td>\n",
       "      <td>...</td>\n",
       "      <td>...</td>\n",
       "      <td>...</td>\n",
       "      <td>...</td>\n",
       "      <td>...</td>\n",
       "      <td>...</td>\n",
       "      <td>...</td>\n",
       "    </tr>\n",
       "    <tr>\n",
       "      <th>19995</th>\n",
       "      <td>1709396983957</td>\n",
       "      <td>4.012152</td>\n",
       "      <td>169.904096</td>\n",
       "      <td>0.094130</td>\n",
       "      <td>1.860878</td>\n",
       "      <td>9.668742</td>\n",
       "      <td>0.006799</td>\n",
       "      <td>-0.008030</td>\n",
       "      <td>-0.003830</td>\n",
       "      <td>541.414585</td>\n",
       "      <td>2.305969</td>\n",
       "      <td>1.0</td>\n",
       "    </tr>\n",
       "    <tr>\n",
       "      <th>19996</th>\n",
       "      <td>1709396983960</td>\n",
       "      <td>11.938692</td>\n",
       "      <td>179.182557</td>\n",
       "      <td>0.625696</td>\n",
       "      <td>-8.680648</td>\n",
       "      <td>-4.512526</td>\n",
       "      <td>-0.016472</td>\n",
       "      <td>0.006266</td>\n",
       "      <td>-0.001241</td>\n",
       "      <td>423.769755</td>\n",
       "      <td>7.611645</td>\n",
       "      <td>1.0</td>\n",
       "    </tr>\n",
       "    <tr>\n",
       "      <th>19997</th>\n",
       "      <td>1709396983966</td>\n",
       "      <td>9.412141</td>\n",
       "      <td>198.738462</td>\n",
       "      <td>-0.208879</td>\n",
       "      <td>9.072497</td>\n",
       "      <td>3.319529</td>\n",
       "      <td>0.000408</td>\n",
       "      <td>0.000600</td>\n",
       "      <td>0.001489</td>\n",
       "      <td>575.269231</td>\n",
       "      <td>12.718705</td>\n",
       "      <td>1.0</td>\n",
       "    </tr>\n",
       "    <tr>\n",
       "      <th>19998</th>\n",
       "      <td>1709396983971</td>\n",
       "      <td>5.401185</td>\n",
       "      <td>204.802228</td>\n",
       "      <td>0.669512</td>\n",
       "      <td>8.896987</td>\n",
       "      <td>3.759712</td>\n",
       "      <td>0.003282</td>\n",
       "      <td>-0.000685</td>\n",
       "      <td>-0.000242</td>\n",
       "      <td>540.761374</td>\n",
       "      <td>6.245733</td>\n",
       "      <td>1.0</td>\n",
       "    </tr>\n",
       "    <tr>\n",
       "      <th>19999</th>\n",
       "      <td>1709396983975</td>\n",
       "      <td>30.910138</td>\n",
       "      <td>109.359487</td>\n",
       "      <td>-0.268023</td>\n",
       "      <td>-8.915330</td>\n",
       "      <td>-4.021515</td>\n",
       "      <td>-0.005674</td>\n",
       "      <td>0.012661</td>\n",
       "      <td>0.001503</td>\n",
       "      <td>302.179724</td>\n",
       "      <td>4.400441</td>\n",
       "      <td>1.0</td>\n",
       "    </tr>\n",
       "  </tbody>\n",
       "</table>\n",
       "<p>9966 rows × 12 columns</p>\n",
       "</div>"
      ],
      "text/plain": [
       "           bookingID   Accuracy     Bearing  ...      second      Speed  label\n",
       "1844    137438953605   4.158588   84.178497  ...  479.541754   7.605418    0.0\n",
       "3006    223338299432   8.150538  229.991591  ...  367.483871   9.560362    0.0\n",
       "17953  1503238553740   5.189421  200.919440  ...  702.746935  14.962789    0.0\n",
       "17343  1460288880707   4.066501   98.907895  ...  456.896930   4.141404    0.0\n",
       "14860  1228360646720  10.000000  165.642352  ...  222.526316   6.166000    0.0\n",
       "...              ...        ...         ...  ...         ...        ...    ...\n",
       "19995  1709396983957   4.012152  169.904096  ...  541.414585   2.305969    1.0\n",
       "19996  1709396983960  11.938692  179.182557  ...  423.769755   7.611645    1.0\n",
       "19997  1709396983966   9.412141  198.738462  ...  575.269231  12.718705    1.0\n",
       "19998  1709396983971   5.401185  204.802228  ...  540.761374   6.245733    1.0\n",
       "19999  1709396983975  30.910138  109.359487  ...  302.179724   4.400441    1.0\n",
       "\n",
       "[9966 rows x 12 columns]"
      ]
     },
     "execution_count": 136,
     "metadata": {
      "tags": []
     },
     "output_type": "execute_result"
    }
   ],
   "source": [
    "df_bal=pd.concat([df0, df1])\n",
    "df_bal"
   ]
  },
  {
   "cell_type": "code",
   "execution_count": 137,
   "metadata": {
    "colab": {
     "base_uri": "https://localhost:8080/",
     "height": 194
    },
    "id": "XOvEx9vyLZyF",
    "outputId": "57cd6fde-9e2c-490e-8ad2-f60d64d25387"
   },
   "outputs": [
    {
     "data": {
      "text/html": [
       "<div>\n",
       "<style scoped>\n",
       "    .dataframe tbody tr th:only-of-type {\n",
       "        vertical-align: middle;\n",
       "    }\n",
       "\n",
       "    .dataframe tbody tr th {\n",
       "        vertical-align: top;\n",
       "    }\n",
       "\n",
       "    .dataframe thead th {\n",
       "        text-align: right;\n",
       "    }\n",
       "</style>\n",
       "<table border=\"1\" class=\"dataframe\">\n",
       "  <thead>\n",
       "    <tr style=\"text-align: right;\">\n",
       "      <th></th>\n",
       "      <th>Accuracy</th>\n",
       "      <th>Bearing</th>\n",
       "      <th>acceleration_x</th>\n",
       "      <th>gyro_x</th>\n",
       "      <th>second</th>\n",
       "      <th>Speed</th>\n",
       "      <th>label</th>\n",
       "    </tr>\n",
       "  </thead>\n",
       "  <tbody>\n",
       "    <tr>\n",
       "      <th>1844</th>\n",
       "      <td>4.158588</td>\n",
       "      <td>84.178497</td>\n",
       "      <td>0.557621</td>\n",
       "      <td>0.001330</td>\n",
       "      <td>479.541754</td>\n",
       "      <td>7.605418</td>\n",
       "      <td>0.0</td>\n",
       "    </tr>\n",
       "    <tr>\n",
       "      <th>3006</th>\n",
       "      <td>8.150538</td>\n",
       "      <td>229.991591</td>\n",
       "      <td>0.088678</td>\n",
       "      <td>-0.012839</td>\n",
       "      <td>367.483871</td>\n",
       "      <td>9.560362</td>\n",
       "      <td>0.0</td>\n",
       "    </tr>\n",
       "    <tr>\n",
       "      <th>17953</th>\n",
       "      <td>5.189421</td>\n",
       "      <td>200.919440</td>\n",
       "      <td>0.230689</td>\n",
       "      <td>0.001234</td>\n",
       "      <td>702.746935</td>\n",
       "      <td>14.962789</td>\n",
       "      <td>0.0</td>\n",
       "    </tr>\n",
       "    <tr>\n",
       "      <th>17343</th>\n",
       "      <td>4.066501</td>\n",
       "      <td>98.907895</td>\n",
       "      <td>0.156595</td>\n",
       "      <td>-0.000377</td>\n",
       "      <td>456.896930</td>\n",
       "      <td>4.141404</td>\n",
       "      <td>0.0</td>\n",
       "    </tr>\n",
       "    <tr>\n",
       "      <th>14860</th>\n",
       "      <td>10.000000</td>\n",
       "      <td>165.642352</td>\n",
       "      <td>0.090797</td>\n",
       "      <td>0.009899</td>\n",
       "      <td>222.526316</td>\n",
       "      <td>6.166000</td>\n",
       "      <td>0.0</td>\n",
       "    </tr>\n",
       "  </tbody>\n",
       "</table>\n",
       "</div>"
      ],
      "text/plain": [
       "        Accuracy     Bearing  acceleration_x  ...      second      Speed  label\n",
       "1844    4.158588   84.178497        0.557621  ...  479.541754   7.605418    0.0\n",
       "3006    8.150538  229.991591        0.088678  ...  367.483871   9.560362    0.0\n",
       "17953   5.189421  200.919440        0.230689  ...  702.746935  14.962789    0.0\n",
       "17343   4.066501   98.907895        0.156595  ...  456.896930   4.141404    0.0\n",
       "14860  10.000000  165.642352        0.090797  ...  222.526316   6.166000    0.0\n",
       "\n",
       "[5 rows x 7 columns]"
      ]
     },
     "execution_count": 137,
     "metadata": {
      "tags": []
     },
     "output_type": "execute_result"
    }
   ],
   "source": [
    "df_bal = df_bal.drop(columns=['bookingID', 'gyro_y', 'gyro_z', 'acceleration_y', 'acceleration_z'])\n",
    "df_bal.head()"
   ]
  },
  {
   "cell_type": "code",
   "execution_count": 138,
   "metadata": {
    "id": "sd0kDuBL_XJw"
   },
   "outputs": [],
   "source": [
    "df_bal['distance'] = df_bal['Speed']*df_bal['second']"
   ]
  },
  {
   "cell_type": "code",
   "execution_count": 139,
   "metadata": {
    "colab": {
     "base_uri": "https://localhost:8080/"
    },
    "id": "oHRhZAfgLzXL",
    "outputId": "245633ad-ba51-4865-92a7-a199accc6869"
   },
   "outputs": [
    {
     "data": {
      "text/plain": [
       "1844     0.0\n",
       "3006     0.0\n",
       "17953    0.0\n",
       "17343    0.0\n",
       "14860    0.0\n",
       "Name: label, dtype: float64"
      ]
     },
     "execution_count": 139,
     "metadata": {
      "tags": []
     },
     "output_type": "execute_result"
    }
   ],
   "source": [
    "Y = df_bal['label']\n",
    "X = df_bal.drop(columns= ['label'])\n",
    "Y.head()"
   ]
  },
  {
   "cell_type": "code",
   "execution_count": 140,
   "metadata": {
    "colab": {
     "base_uri": "https://localhost:8080/",
     "height": 194
    },
    "id": "F3RTLFZiQ9QD",
    "outputId": "77fecce5-db9c-4e8e-e821-ca55e4b3e872"
   },
   "outputs": [
    {
     "data": {
      "text/html": [
       "<div>\n",
       "<style scoped>\n",
       "    .dataframe tbody tr th:only-of-type {\n",
       "        vertical-align: middle;\n",
       "    }\n",
       "\n",
       "    .dataframe tbody tr th {\n",
       "        vertical-align: top;\n",
       "    }\n",
       "\n",
       "    .dataframe thead th {\n",
       "        text-align: right;\n",
       "    }\n",
       "</style>\n",
       "<table border=\"1\" class=\"dataframe\">\n",
       "  <thead>\n",
       "    <tr style=\"text-align: right;\">\n",
       "      <th></th>\n",
       "      <th>Accuracy</th>\n",
       "      <th>Bearing</th>\n",
       "      <th>acceleration_x</th>\n",
       "      <th>gyro_x</th>\n",
       "      <th>second</th>\n",
       "      <th>Speed</th>\n",
       "      <th>distance</th>\n",
       "    </tr>\n",
       "  </thead>\n",
       "  <tbody>\n",
       "    <tr>\n",
       "      <th>1844</th>\n",
       "      <td>4.158588</td>\n",
       "      <td>84.178497</td>\n",
       "      <td>0.557621</td>\n",
       "      <td>0.001330</td>\n",
       "      <td>479.541754</td>\n",
       "      <td>7.605418</td>\n",
       "      <td>3647.115619</td>\n",
       "    </tr>\n",
       "    <tr>\n",
       "      <th>3006</th>\n",
       "      <td>8.150538</td>\n",
       "      <td>229.991591</td>\n",
       "      <td>0.088678</td>\n",
       "      <td>-0.012839</td>\n",
       "      <td>367.483871</td>\n",
       "      <td>9.560362</td>\n",
       "      <td>3513.278718</td>\n",
       "    </tr>\n",
       "    <tr>\n",
       "      <th>17953</th>\n",
       "      <td>5.189421</td>\n",
       "      <td>200.919440</td>\n",
       "      <td>0.230689</td>\n",
       "      <td>0.001234</td>\n",
       "      <td>702.746935</td>\n",
       "      <td>14.962789</td>\n",
       "      <td>10515.054188</td>\n",
       "    </tr>\n",
       "    <tr>\n",
       "      <th>17343</th>\n",
       "      <td>4.066501</td>\n",
       "      <td>98.907895</td>\n",
       "      <td>0.156595</td>\n",
       "      <td>-0.000377</td>\n",
       "      <td>456.896930</td>\n",
       "      <td>4.141404</td>\n",
       "      <td>1892.194548</td>\n",
       "    </tr>\n",
       "    <tr>\n",
       "      <th>14860</th>\n",
       "      <td>10.000000</td>\n",
       "      <td>165.642352</td>\n",
       "      <td>0.090797</td>\n",
       "      <td>0.009899</td>\n",
       "      <td>222.526316</td>\n",
       "      <td>6.166000</td>\n",
       "      <td>1372.097264</td>\n",
       "    </tr>\n",
       "  </tbody>\n",
       "</table>\n",
       "</div>"
      ],
      "text/plain": [
       "        Accuracy     Bearing  ...      Speed      distance\n",
       "1844    4.158588   84.178497  ...   7.605418   3647.115619\n",
       "3006    8.150538  229.991591  ...   9.560362   3513.278718\n",
       "17953   5.189421  200.919440  ...  14.962789  10515.054188\n",
       "17343   4.066501   98.907895  ...   4.141404   1892.194548\n",
       "14860  10.000000  165.642352  ...   6.166000   1372.097264\n",
       "\n",
       "[5 rows x 7 columns]"
      ]
     },
     "execution_count": 140,
     "metadata": {
      "tags": []
     },
     "output_type": "execute_result"
    }
   ],
   "source": [
    "X.head()"
   ]
  },
  {
   "cell_type": "code",
   "execution_count": 141,
   "metadata": {
    "colab": {
     "base_uri": "https://localhost:8080/"
    },
    "id": "qLTCRxBqNJ2A",
    "outputId": "c2d9d3f9-21d2-43e1-bd1e-9f1e35aff298"
   },
   "outputs": [
    {
     "name": "stdout",
     "output_type": "stream",
     "text": [
      "Model: \"sequential_21\"\n",
      "_________________________________________________________________\n",
      "Layer (type)                 Output Shape              Param #   \n",
      "=================================================================\n",
      "dense_78 (Dense)             (None, 512)               4096      \n",
      "_________________________________________________________________\n",
      "dense_79 (Dense)             (None, 256)               131328    \n",
      "_________________________________________________________________\n",
      "dense_80 (Dense)             (None, 128)               32896     \n",
      "_________________________________________________________________\n",
      "dense_81 (Dense)             (None, 30)                3870      \n",
      "_________________________________________________________________\n",
      "dense_82 (Dense)             (None, 1)                 31        \n",
      "=================================================================\n",
      "Total params: 172,221\n",
      "Trainable params: 172,221\n",
      "Non-trainable params: 0\n",
      "_________________________________________________________________\n",
      "None\n",
      "Epoch 1/10\n",
      "1/1 - 0s - loss: 0.6952 - accuracy: 0.5008 - val_loss: 0.6923 - val_accuracy: 0.5226\n",
      "Epoch 2/10\n",
      "1/1 - 0s - loss: 0.6904 - accuracy: 0.5273 - val_loss: 0.6905 - val_accuracy: 0.5251\n",
      "Epoch 3/10\n",
      "1/1 - 0s - loss: 0.6880 - accuracy: 0.5287 - val_loss: 0.6901 - val_accuracy: 0.5216\n",
      "Epoch 4/10\n",
      "1/1 - 0s - loss: 0.6863 - accuracy: 0.5292 - val_loss: 0.6900 - val_accuracy: 0.5196\n",
      "Epoch 5/10\n",
      "1/1 - 0s - loss: 0.6851 - accuracy: 0.5346 - val_loss: 0.6898 - val_accuracy: 0.5241\n",
      "Epoch 6/10\n",
      "1/1 - 0s - loss: 0.6842 - accuracy: 0.5339 - val_loss: 0.6897 - val_accuracy: 0.5271\n",
      "Epoch 7/10\n",
      "1/1 - 0s - loss: 0.6835 - accuracy: 0.5341 - val_loss: 0.6899 - val_accuracy: 0.5286\n",
      "Epoch 8/10\n",
      "\n",
      "Epoch 00008: ReduceLROnPlateau reducing learning rate to 0.0005000000237487257.\n",
      "1/1 - 0s - loss: 0.6828 - accuracy: 0.5352 - val_loss: 0.6902 - val_accuracy: 0.5336\n",
      "Epoch 9/10\n",
      "1/1 - 0s - loss: 0.6821 - accuracy: 0.5354 - val_loss: 0.6902 - val_accuracy: 0.5361\n",
      "Epoch 10/10\n",
      "\n",
      "Epoch 00010: ReduceLROnPlateau reducing learning rate to 0.0002500000118743628.\n",
      "1/1 - 0s - loss: 0.6818 - accuracy: 0.5366 - val_loss: 0.6902 - val_accuracy: 0.5361\n",
      "63/63 [==============================] - 0s 3ms/step - loss: 0.6902 - accuracy: 0.5361\n",
      "MLP Error: 46.39%\n"
     ]
    }
   ],
   "source": [
    "import numpy\n",
    "import tensorflow as tf\n",
    "from tensorflow.keras.models import Sequential\n",
    "from tensorflow.keras.layers import Dense\n",
    "from tensorflow.keras.layers import Dropout\n",
    "from tensorflow.keras.utils import to_categorical\n",
    "from sklearn import model_selection\n",
    "from sklearn import preprocessing\n",
    "from keras.callbacks import ReduceLROnPlateau\n",
    "learning_rate_reduction = ReduceLROnPlateau(monitor='val_loss', \n",
    "                                            patience=2, \n",
    "                                            verbose=1, \n",
    "                                            factor=0.5, \n",
    "                                            min_lr=0.00001)\n",
    "\n",
    "# Split dataset into train / test\n",
    "X_train, X_test, Y_train, Y_test = model_selection.train_test_split(\n",
    "      X, Y, test_size=0.2, random_state=42)\n",
    "# Scale data (training set) to 0 mean and unit standard deviation.\n",
    "scaler = preprocessing.StandardScaler()\n",
    "X_train = scaler.fit_transform(X_train)\n",
    "X_test = scaler.fit_transform(X_test)\n",
    "# create model\n",
    "model = Sequential()\n",
    "model.add(Dense(512, input_dim=7, activation='relu'))\n",
    "model.add(Dense(256, activation='relu'))\n",
    "model.add(Dense(128, activation='relu'))\n",
    "model.add(Dense(30, activation='relu'))\n",
    "model.add(Dense(1, activation='sigmoid'))\n",
    "# Compile model\n",
    "model.compile(loss='binary_crossentropy', optimizer='adam', \n",
    "              metrics=['accuracy'])\n",
    "print(model.summary())\n",
    "# training the model\n",
    "\n",
    "history = model.fit(X_train,Y_train, batch_size=100000,epochs = 10, \n",
    "                    validation_data = (X_test, Y_test),verbose = 2, \n",
    "                    callbacks=[learning_rate_reduction])\n",
    "# eval model\n",
    "scores = model.evaluate(X_test, Y_test)\n",
    "\n",
    "# calculate predictions\n",
    "predictions = model.predict(X_test)\n",
    "# round predictions\n",
    "rounded = [round(x[0]) for x in predictions]\n",
    "#print(rounded)\n",
    "print(\"MLP Error: %.2f%%\" % (100-scores[1]*100))\n"
   ]
  }
 ],
 "metadata": {
  "accelerator": "GPU",
  "colab": {
   "collapsed_sections": [],
   "name": "Grab_Team06_Safety",
   "provenance": []
  },
  "kernelspec": {
   "display_name": "Python 3",
   "language": "python",
   "name": "python3"
  },
  "language_info": {
   "codemirror_mode": {
    "name": "ipython",
    "version": 3
   },
   "file_extension": ".py",
   "mimetype": "text/x-python",
   "name": "python",
   "nbconvert_exporter": "python",
   "pygments_lexer": "ipython3",
   "version": "3.8.3"
  }
 },
 "nbformat": 4,
 "nbformat_minor": 1
}
