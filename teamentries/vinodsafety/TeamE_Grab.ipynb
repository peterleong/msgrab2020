{
  "nbformat": 4,
  "nbformat_minor": 0,
  "metadata": {
    "colab": {
      "name": "TeamE-Grab.ipynb",
      "provenance": [],
      "collapsed_sections": []
    },
    "kernelspec": {
      "name": "python3",
      "display_name": "Python 3"
    }
  },
  "cells": [
    {
      "cell_type": "markdown",
      "metadata": {
        "id": "25iFIg9h53so"
      },
      "source": [
        "# **Grab Safety Telematics Dataset**\n",
        "*   The telematics data collected during driving trips are useful to detect if the trip is dangerous and has high crash / accident probability.\n",
        "\n",
        "# **Problem Statements**\n",
        "*   Which feature has a high impact on indicating dangerous trips?\n",
        "*   How does the driving behaviour change over time (second) for normal trips and dangerous trips? What are the behaviour difference?\n",
        "*   Given the telematics data for new trips,  derive a model to detect if the trip is a dangerous trip.\n",
        "\n"
      ]
    },
    {
      "cell_type": "code",
      "metadata": {
        "id": "XtcLQZu353dk"
      },
      "source": [
        "# Remove uneccessary  warnings\n",
        "import warnings\n",
        "warnings.simplefilter(action='ignore')"
      ],
      "execution_count": null,
      "outputs": []
    },
    {
      "cell_type": "code",
      "metadata": {
        "id": "ySzMyMiY5y-R"
      },
      "source": [
        "# Importing the relevant modules\n",
        "import numpy as np\n",
        "import pandas as pd\n",
        "import seaborn as sns\n",
        "import matplotlib.pyplot as plt\n",
        "import tensorflow as tf\n",
        "from keras import backend as k\n",
        "from keras.optimizers import RMSprop\n",
        "from keras.optimizers import SGD,Adam\n",
        "from keras.callbacks import EarlyStopping, ModelCheckpoint, ReduceLROnPlateau, Callback\n",
        "from keras.layers import Input, Dense, Dropout,GlobalAveragePooling1D, GlobalMaxPooling1D, Conv1D, concatenate, MaxPool1D, AvgPool1D, Flatten, SpatialDropout1D, BatchNormalization\n",
        "from keras.models import Model, Sequential\n",
        "from keras.regularizers import l2\n",
        "from sklearn.model_selection import train_test_split\n",
        "from sklearn.metrics import confusion_matrix, accuracy_score, classification_report, f1_score, precision_score, recall_score\n",
        "from sklearn.metrics import roc_curve, auc\n",
        "from google.colab import auth \n",
        "from google.colab import drive"
      ],
      "execution_count": null,
      "outputs": []
    },
    {
      "cell_type": "markdown",
      "metadata": {
        "id": "2NPhBRIQ6CdW"
      },
      "source": [
        "# **Data Importing**\n"
      ]
    },
    {
      "cell_type": "code",
      "metadata": {
        "colab": {
          "base_uri": "https://localhost:8080/"
        },
        "id": "K0jiiX7L5_5f",
        "outputId": "70e3c89c-ce3e-4c87-e3b6-b81f3caf7e18"
      },
      "source": [
        "auth.authenticate_user()\n",
        "drive.mount('/content/drive/')"
      ],
      "execution_count": null,
      "outputs": [
        {
          "output_type": "stream",
          "text": [
            "Mounted at /content/drive/\n"
          ],
          "name": "stdout"
        }
      ]
    },
    {
      "cell_type": "code",
      "metadata": {
        "id": "CLFNJ4yu6W9O"
      },
      "source": [
        "data = pd.read_csv('/content/drive/My Drive/DL_Bonus/Safety_DataSet_Aggregated.csv')\n",
        "labels = pd.read_csv('/content/drive/My Drive/DL_Bonus/label.csv')"
      ],
      "execution_count": null,
      "outputs": []
    },
    {
      "cell_type": "markdown",
      "metadata": {
        "id": "5LdcUuMuBfFM"
      },
      "source": [
        "# **Data Cleaning**"
      ]
    },
    {
      "cell_type": "code",
      "metadata": {
        "colab": {
          "base_uri": "https://localhost:8080/",
          "height": 204
        },
        "id": "KRAJHFXxBehO",
        "outputId": "18f7e711-70fb-497b-9944-df40a9bca22c"
      },
      "source": [
        "# Print the last 5 rows of data\n",
        "data.tail(5)"
      ],
      "execution_count": null,
      "outputs": [
        {
          "output_type": "execute_result",
          "data": {
            "text/html": [
              "<div>\n",
              "<style scoped>\n",
              "    .dataframe tbody tr th:only-of-type {\n",
              "        vertical-align: middle;\n",
              "    }\n",
              "\n",
              "    .dataframe tbody tr th {\n",
              "        vertical-align: top;\n",
              "    }\n",
              "\n",
              "    .dataframe thead th {\n",
              "        text-align: right;\n",
              "    }\n",
              "</style>\n",
              "<table border=\"1\" class=\"dataframe\">\n",
              "  <thead>\n",
              "    <tr style=\"text-align: right;\">\n",
              "      <th></th>\n",
              "      <th>bookingID</th>\n",
              "      <th>Accuracy</th>\n",
              "      <th>Bearing</th>\n",
              "      <th>acceleration_x</th>\n",
              "      <th>acceleration_y</th>\n",
              "      <th>acceleration_z</th>\n",
              "      <th>gyro_x</th>\n",
              "      <th>gyro_y</th>\n",
              "      <th>gyro_z</th>\n",
              "      <th>second</th>\n",
              "      <th>Speed</th>\n",
              "      <th>label</th>\n",
              "    </tr>\n",
              "  </thead>\n",
              "  <tbody>\n",
              "    <tr>\n",
              "      <th>16154413</th>\n",
              "      <td>1709396983975</td>\n",
              "      <td>8.0</td>\n",
              "      <td>199.547104</td>\n",
              "      <td>-0.320905</td>\n",
              "      <td>-8.949738</td>\n",
              "      <td>-3.971979</td>\n",
              "      <td>-0.012879</td>\n",
              "      <td>0.015905</td>\n",
              "      <td>-0.007625</td>\n",
              "      <td>559.0</td>\n",
              "      <td>1.035811</td>\n",
              "      <td>1</td>\n",
              "    </tr>\n",
              "    <tr>\n",
              "      <th>16154414</th>\n",
              "      <td>1709396983975</td>\n",
              "      <td>8.0</td>\n",
              "      <td>199.547104</td>\n",
              "      <td>-0.418253</td>\n",
              "      <td>-8.929102</td>\n",
              "      <td>-3.950296</td>\n",
              "      <td>-0.006455</td>\n",
              "      <td>0.005278</td>\n",
              "      <td>-0.000082</td>\n",
              "      <td>560.0</td>\n",
              "      <td>1.035811</td>\n",
              "      <td>1</td>\n",
              "    </tr>\n",
              "    <tr>\n",
              "      <th>16154415</th>\n",
              "      <td>1709396983975</td>\n",
              "      <td>12.0</td>\n",
              "      <td>199.547104</td>\n",
              "      <td>-0.226697</td>\n",
              "      <td>-8.914597</td>\n",
              "      <td>-4.338940</td>\n",
              "      <td>0.044719</td>\n",
              "      <td>0.032351</td>\n",
              "      <td>-0.018600</td>\n",
              "      <td>561.0</td>\n",
              "      <td>0.302453</td>\n",
              "      <td>1</td>\n",
              "    </tr>\n",
              "    <tr>\n",
              "      <th>16154416</th>\n",
              "      <td>1709396983975</td>\n",
              "      <td>12.0</td>\n",
              "      <td>199.547104</td>\n",
              "      <td>-0.372943</td>\n",
              "      <td>-8.951382</td>\n",
              "      <td>-4.416550</td>\n",
              "      <td>0.053263</td>\n",
              "      <td>0.029213</td>\n",
              "      <td>-0.016357</td>\n",
              "      <td>562.0</td>\n",
              "      <td>0.302453</td>\n",
              "      <td>1</td>\n",
              "    </tr>\n",
              "    <tr>\n",
              "      <th>16154417</th>\n",
              "      <td>1709396983975</td>\n",
              "      <td>12.0</td>\n",
              "      <td>199.547104</td>\n",
              "      <td>-0.024524</td>\n",
              "      <td>-8.984430</td>\n",
              "      <td>-3.973624</td>\n",
              "      <td>-0.021494</td>\n",
              "      <td>0.000867</td>\n",
              "      <td>0.012516</td>\n",
              "      <td>563.0</td>\n",
              "      <td>0.302453</td>\n",
              "      <td>1</td>\n",
              "    </tr>\n",
              "  </tbody>\n",
              "</table>\n",
              "</div>"
            ],
            "text/plain": [
              "              bookingID  Accuracy     Bearing  ...  second     Speed  label\n",
              "16154413  1709396983975       8.0  199.547104  ...   559.0  1.035811      1\n",
              "16154414  1709396983975       8.0  199.547104  ...   560.0  1.035811      1\n",
              "16154415  1709396983975      12.0  199.547104  ...   561.0  0.302453      1\n",
              "16154416  1709396983975      12.0  199.547104  ...   562.0  0.302453      1\n",
              "16154417  1709396983975      12.0  199.547104  ...   563.0  0.302453      1\n",
              "\n",
              "[5 rows x 12 columns]"
            ]
          },
          "metadata": {
            "tags": []
          },
          "execution_count": 5
        }
      ]
    },
    {
      "cell_type": "code",
      "metadata": {
        "id": "6FDf0-ipBxHB"
      },
      "source": [
        "# After observing the data,There is some data had a period of more than 600000000 seconds which is impossible thus i decide to remove it\n",
        "to_delete = data.loc[data['second']>600000.0].index\n",
        "data.drop(to_delete,inplace=True)"
      ],
      "execution_count": null,
      "outputs": []
    },
    {
      "cell_type": "code",
      "metadata": {
        "id": "SEZR4Dx2C2a8"
      },
      "source": [
        "# Some of the bookingID were labeled as dangerous trips and a normal trip.So these needs to be\n",
        "# removed from both the features and labe\n",
        "duplicateRows = labels[labels.duplicated(subset='bookingID')]['bookingID'].values\n",
        "labels.drop_duplicates(subset='bookingID',keep=False,inplace =True)\n",
        "\n",
        "deleteRows = data.loc[data['bookingID'].isin(duplicateRows)].index\n",
        "data.drop(deleteRows,inplace=True)"
      ],
      "execution_count": null,
      "outputs": []
    },
    {
      "cell_type": "code",
      "metadata": {
        "colab": {
          "base_uri": "https://localhost:8080/"
        },
        "id": "mTwbksGRF9by",
        "outputId": "f60cefcb-e297-4049-b3ca-87144b299f3c"
      },
      "source": [
        "# Lets check if there are anymore duplicates in both the label and feature dataset\n",
        "labels.duplicated(subset='bookingID').any()"
      ],
      "execution_count": null,
      "outputs": [
        {
          "output_type": "execute_result",
          "data": {
            "text/plain": [
              "False"
            ]
          },
          "metadata": {
            "tags": []
          },
          "execution_count": 8
        }
      ]
    },
    {
      "cell_type": "code",
      "metadata": {
        "colab": {
          "base_uri": "https://localhost:8080/"
        },
        "id": "o-2Pm1AVUr9_",
        "outputId": "20893a27-ae4d-452b-ef74-dd5bd4659149"
      },
      "source": [
        "data.duplicated().any()"
      ],
      "execution_count": null,
      "outputs": [
        {
          "output_type": "execute_result",
          "data": {
            "text/plain": [
              "False"
            ]
          },
          "metadata": {
            "tags": []
          },
          "execution_count": 9
        }
      ]
    },
    {
      "cell_type": "markdown",
      "metadata": {
        "id": "g0QOgntgN-eF"
      },
      "source": [
        "# **Exploratory Data Analysis**\n",
        "*   Lets first do some EDA on the data\n",
        "\n"
      ]
    },
    {
      "cell_type": "code",
      "metadata": {
        "id": "SIt7ktVS_zMd",
        "colab": {
          "base_uri": "https://localhost:8080/"
        },
        "outputId": "4c11083d-3bb2-495c-c0e1-2111ece6e32d"
      },
      "source": [
        "print(data.shape)\n",
        "print(labels.shape)"
      ],
      "execution_count": null,
      "outputs": [
        {
          "output_type": "stream",
          "text": [
            "(16116622, 12)\n",
            "(19982, 2)\n"
          ],
          "name": "stdout"
        }
      ]
    },
    {
      "cell_type": "code",
      "metadata": {
        "colab": {
          "base_uri": "https://localhost:8080/",
          "height": 204
        },
        "id": "OSEV63MZSiv2",
        "outputId": "d7f88e1d-d731-4555-e919-ddda82c20c68"
      },
      "source": [
        "data.head()"
      ],
      "execution_count": null,
      "outputs": [
        {
          "output_type": "execute_result",
          "data": {
            "text/html": [
              "<div>\n",
              "<style scoped>\n",
              "    .dataframe tbody tr th:only-of-type {\n",
              "        vertical-align: middle;\n",
              "    }\n",
              "\n",
              "    .dataframe tbody tr th {\n",
              "        vertical-align: top;\n",
              "    }\n",
              "\n",
              "    .dataframe thead th {\n",
              "        text-align: right;\n",
              "    }\n",
              "</style>\n",
              "<table border=\"1\" class=\"dataframe\">\n",
              "  <thead>\n",
              "    <tr style=\"text-align: right;\">\n",
              "      <th></th>\n",
              "      <th>bookingID</th>\n",
              "      <th>Accuracy</th>\n",
              "      <th>Bearing</th>\n",
              "      <th>acceleration_x</th>\n",
              "      <th>acceleration_y</th>\n",
              "      <th>acceleration_z</th>\n",
              "      <th>gyro_x</th>\n",
              "      <th>gyro_y</th>\n",
              "      <th>gyro_z</th>\n",
              "      <th>second</th>\n",
              "      <th>Speed</th>\n",
              "      <th>label</th>\n",
              "    </tr>\n",
              "  </thead>\n",
              "  <tbody>\n",
              "    <tr>\n",
              "      <th>0</th>\n",
              "      <td>0</td>\n",
              "      <td>12.0</td>\n",
              "      <td>143.298294</td>\n",
              "      <td>0.818112</td>\n",
              "      <td>-9.941461</td>\n",
              "      <td>-2.014999</td>\n",
              "      <td>-0.016245</td>\n",
              "      <td>-0.094040</td>\n",
              "      <td>0.070732</td>\n",
              "      <td>0.0</td>\n",
              "      <td>3.442991</td>\n",
              "      <td>0</td>\n",
              "    </tr>\n",
              "    <tr>\n",
              "      <th>1</th>\n",
              "      <td>0</td>\n",
              "      <td>8.0</td>\n",
              "      <td>143.298294</td>\n",
              "      <td>0.546405</td>\n",
              "      <td>-9.835590</td>\n",
              "      <td>-2.038925</td>\n",
              "      <td>-0.047092</td>\n",
              "      <td>-0.078874</td>\n",
              "      <td>0.043187</td>\n",
              "      <td>1.0</td>\n",
              "      <td>0.228454</td>\n",
              "      <td>0</td>\n",
              "    </tr>\n",
              "    <tr>\n",
              "      <th>2</th>\n",
              "      <td>0</td>\n",
              "      <td>8.0</td>\n",
              "      <td>143.298294</td>\n",
              "      <td>-1.706207</td>\n",
              "      <td>-9.270792</td>\n",
              "      <td>-1.209448</td>\n",
              "      <td>-0.028965</td>\n",
              "      <td>-0.032652</td>\n",
              "      <td>0.015390</td>\n",
              "      <td>2.0</td>\n",
              "      <td>0.228454</td>\n",
              "      <td>0</td>\n",
              "    </tr>\n",
              "    <tr>\n",
              "      <th>3</th>\n",
              "      <td>0</td>\n",
              "      <td>8.0</td>\n",
              "      <td>143.298294</td>\n",
              "      <td>-1.416705</td>\n",
              "      <td>-9.548032</td>\n",
              "      <td>-1.860977</td>\n",
              "      <td>-0.022413</td>\n",
              "      <td>0.005049</td>\n",
              "      <td>-0.025753</td>\n",
              "      <td>3.0</td>\n",
              "      <td>0.228454</td>\n",
              "      <td>0</td>\n",
              "    </tr>\n",
              "    <tr>\n",
              "      <th>4</th>\n",
              "      <td>0</td>\n",
              "      <td>8.0</td>\n",
              "      <td>143.298294</td>\n",
              "      <td>-0.598145</td>\n",
              "      <td>-9.853534</td>\n",
              "      <td>-1.378574</td>\n",
              "      <td>-0.014297</td>\n",
              "      <td>-0.046206</td>\n",
              "      <td>0.021902</td>\n",
              "      <td>4.0</td>\n",
              "      <td>0.228454</td>\n",
              "      <td>0</td>\n",
              "    </tr>\n",
              "  </tbody>\n",
              "</table>\n",
              "</div>"
            ],
            "text/plain": [
              "   bookingID  Accuracy     Bearing  ...  second     Speed  label\n",
              "0          0      12.0  143.298294  ...     0.0  3.442991      0\n",
              "1          0       8.0  143.298294  ...     1.0  0.228454      0\n",
              "2          0       8.0  143.298294  ...     2.0  0.228454      0\n",
              "3          0       8.0  143.298294  ...     3.0  0.228454      0\n",
              "4          0       8.0  143.298294  ...     4.0  0.228454      0\n",
              "\n",
              "[5 rows x 12 columns]"
            ]
          },
          "metadata": {
            "tags": []
          },
          "execution_count": 11
        }
      ]
    },
    {
      "cell_type": "code",
      "metadata": {
        "colab": {
          "base_uri": "https://localhost:8080/",
          "height": 317
        },
        "id": "760bAE2UStcg",
        "outputId": "38431b46-dec6-4678-d81b-06cbaf641169"
      },
      "source": [
        "data.describe()"
      ],
      "execution_count": null,
      "outputs": [
        {
          "output_type": "execute_result",
          "data": {
            "text/html": [
              "<div>\n",
              "<style scoped>\n",
              "    .dataframe tbody tr th:only-of-type {\n",
              "        vertical-align: middle;\n",
              "    }\n",
              "\n",
              "    .dataframe tbody tr th {\n",
              "        vertical-align: top;\n",
              "    }\n",
              "\n",
              "    .dataframe thead th {\n",
              "        text-align: right;\n",
              "    }\n",
              "</style>\n",
              "<table border=\"1\" class=\"dataframe\">\n",
              "  <thead>\n",
              "    <tr style=\"text-align: right;\">\n",
              "      <th></th>\n",
              "      <th>bookingID</th>\n",
              "      <th>Accuracy</th>\n",
              "      <th>Bearing</th>\n",
              "      <th>acceleration_x</th>\n",
              "      <th>acceleration_y</th>\n",
              "      <th>acceleration_z</th>\n",
              "      <th>gyro_x</th>\n",
              "      <th>gyro_y</th>\n",
              "      <th>gyro_z</th>\n",
              "      <th>second</th>\n",
              "      <th>Speed</th>\n",
              "      <th>label</th>\n",
              "    </tr>\n",
              "  </thead>\n",
              "  <tbody>\n",
              "    <tr>\n",
              "      <th>count</th>\n",
              "      <td>1.611662e+07</td>\n",
              "      <td>1.611662e+07</td>\n",
              "      <td>1.611662e+07</td>\n",
              "      <td>1.611662e+07</td>\n",
              "      <td>1.611662e+07</td>\n",
              "      <td>1.611662e+07</td>\n",
              "      <td>1.611662e+07</td>\n",
              "      <td>1.611662e+07</td>\n",
              "      <td>1.611662e+07</td>\n",
              "      <td>1.611662e+07</td>\n",
              "      <td>1.611662e+07</td>\n",
              "      <td>1.611662e+07</td>\n",
              "    </tr>\n",
              "    <tr>\n",
              "      <th>mean</th>\n",
              "      <td>8.184326e+11</td>\n",
              "      <td>1.161323e+01</td>\n",
              "      <td>1.689604e+02</td>\n",
              "      <td>6.897831e-02</td>\n",
              "      <td>4.473578e+00</td>\n",
              "      <td>8.958676e-01</td>\n",
              "      <td>-1.708054e-03</td>\n",
              "      <td>2.938220e-04</td>\n",
              "      <td>-2.602202e-04</td>\n",
              "      <td>6.016819e+02</td>\n",
              "      <td>9.006512e+00</td>\n",
              "      <td>3.052758e-01</td>\n",
              "    </tr>\n",
              "    <tr>\n",
              "      <th>std</th>\n",
              "      <td>4.951576e+11</td>\n",
              "      <td>8.696450e+01</td>\n",
              "      <td>1.072966e+02</td>\n",
              "      <td>1.424626e+00</td>\n",
              "      <td>8.128511e+00</td>\n",
              "      <td>3.250211e+00</td>\n",
              "      <td>1.446195e-01</td>\n",
              "      <td>3.402436e-01</td>\n",
              "      <td>1.481545e-01</td>\n",
              "      <td>4.627549e+02</td>\n",
              "      <td>8.106527e+00</td>\n",
              "      <td>4.605241e-01</td>\n",
              "    </tr>\n",
              "    <tr>\n",
              "      <th>min</th>\n",
              "      <td>0.000000e+00</td>\n",
              "      <td>7.500000e-01</td>\n",
              "      <td>0.000000e+00</td>\n",
              "      <td>-7.841969e+01</td>\n",
              "      <td>-7.299412e+01</td>\n",
              "      <td>-7.844842e+01</td>\n",
              "      <td>-4.845575e+01</td>\n",
              "      <td>-7.488861e+01</td>\n",
              "      <td>-5.355445e+01</td>\n",
              "      <td>0.000000e+00</td>\n",
              "      <td>-2.000000e+00</td>\n",
              "      <td>0.000000e+00</td>\n",
              "    </tr>\n",
              "    <tr>\n",
              "      <th>25%</th>\n",
              "      <td>3.779571e+11</td>\n",
              "      <td>3.900000e+00</td>\n",
              "      <td>7.800000e+01</td>\n",
              "      <td>-5.084229e-01</td>\n",
              "      <td>-1.933465e+00</td>\n",
              "      <td>-9.299316e-01</td>\n",
              "      <td>-2.679133e-02</td>\n",
              "      <td>-2.993423e-02</td>\n",
              "      <td>-1.876996e-02</td>\n",
              "      <td>2.410000e+02</td>\n",
              "      <td>1.020000e+00</td>\n",
              "      <td>0.000000e+00</td>\n",
              "    </tr>\n",
              "    <tr>\n",
              "      <th>50%</th>\n",
              "      <td>8.074539e+11</td>\n",
              "      <td>4.244000e+00</td>\n",
              "      <td>1.687936e+02</td>\n",
              "      <td>6.118774e-02</td>\n",
              "      <td>9.082382e+00</td>\n",
              "      <td>7.769897e-01</td>\n",
              "      <td>-6.420194e-04</td>\n",
              "      <td>2.663161e-04</td>\n",
              "      <td>-3.726278e-05</td>\n",
              "      <td>5.200000e+02</td>\n",
              "      <td>7.530000e+00</td>\n",
              "      <td>0.000000e+00</td>\n",
              "    </tr>\n",
              "    <tr>\n",
              "      <th>75%</th>\n",
              "      <td>1.254130e+12</td>\n",
              "      <td>8.000000e+00</td>\n",
              "      <td>2.629549e+02</td>\n",
              "      <td>6.347809e-01</td>\n",
              "      <td>9.709915e+00</td>\n",
              "      <td>2.751206e+00</td>\n",
              "      <td>2.331594e-02</td>\n",
              "      <td>3.144551e-02</td>\n",
              "      <td>1.823425e-02</td>\n",
              "      <td>8.620000e+02</td>\n",
              "      <td>1.548000e+01</td>\n",
              "      <td>1.000000e+00</td>\n",
              "    </tr>\n",
              "    <tr>\n",
              "      <th>max</th>\n",
              "      <td>1.709397e+12</td>\n",
              "      <td>6.070101e+03</td>\n",
              "      <td>3.599995e+02</td>\n",
              "      <td>6.687346e+01</td>\n",
              "      <td>7.505589e+01</td>\n",
              "      <td>7.805576e+01</td>\n",
              "      <td>3.983975e+01</td>\n",
              "      <td>8.031496e+01</td>\n",
              "      <td>6.630078e+01</td>\n",
              "      <td>8.235000e+03</td>\n",
              "      <td>1.480186e+02</td>\n",
              "      <td>1.000000e+00</td>\n",
              "    </tr>\n",
              "  </tbody>\n",
              "</table>\n",
              "</div>"
            ],
            "text/plain": [
              "          bookingID      Accuracy  ...         Speed         label\n",
              "count  1.611662e+07  1.611662e+07  ...  1.611662e+07  1.611662e+07\n",
              "mean   8.184326e+11  1.161323e+01  ...  9.006512e+00  3.052758e-01\n",
              "std    4.951576e+11  8.696450e+01  ...  8.106527e+00  4.605241e-01\n",
              "min    0.000000e+00  7.500000e-01  ... -2.000000e+00  0.000000e+00\n",
              "25%    3.779571e+11  3.900000e+00  ...  1.020000e+00  0.000000e+00\n",
              "50%    8.074539e+11  4.244000e+00  ...  7.530000e+00  0.000000e+00\n",
              "75%    1.254130e+12  8.000000e+00  ...  1.548000e+01  1.000000e+00\n",
              "max    1.709397e+12  6.070101e+03  ...  1.480186e+02  1.000000e+00\n",
              "\n",
              "[8 rows x 12 columns]"
            ]
          },
          "metadata": {
            "tags": []
          },
          "execution_count": 12
        }
      ]
    },
    {
      "cell_type": "markdown",
      "metadata": {
        "id": "dK4XMDx1VENI"
      },
      "source": [
        "# **Feature Engineering**"
      ]
    },
    {
      "cell_type": "code",
      "metadata": {
        "id": "yNHv_ALzVjeM"
      },
      "source": [
        "# Grouping the booking id together and generating the 'mean', 'sum', 'max', 'min\n",
        "df = pd.DataFrame()\n",
        "for col in data.columns:\n",
        "    if col != \"bookingID\" and col != \"label\" and col != \"gyro_x\" and col != \"gyro_y\" and col != \"gyro_z\":\n",
        "        temp = data.groupby(\"bookingID\")[col].agg([\"mean\", \"sum\", \"max\", \"min\"])\n",
        "        df[col + \"_mean\"] = temp[\"mean\"]\n",
        "        df[col + \"_sum\"] = temp[\"sum\"]\n",
        "        df[col + \"_max\"] = temp[\"max\"]\n",
        "        df[col + \"_min\"] = temp[\"min\"]"
      ],
      "execution_count": null,
      "outputs": []
    },
    {
      "cell_type": "code",
      "metadata": {
        "id": "qlQQufUbXRv9"
      },
      "source": [
        "# Merging the 'Label' and 'data' together\n",
        "df = pd.merge(df, labels, on=\"bookingID\")"
      ],
      "execution_count": null,
      "outputs": []
    },
    {
      "cell_type": "code",
      "metadata": {
        "colab": {
          "base_uri": "https://localhost:8080/",
          "height": 224
        },
        "id": "-eAGiK2DZ0Ty",
        "outputId": "2156d8a2-da0e-4d53-d293-f71e01783b35"
      },
      "source": [
        "df.head(5)"
      ],
      "execution_count": null,
      "outputs": [
        {
          "output_type": "execute_result",
          "data": {
            "text/html": [
              "<div>\n",
              "<style scoped>\n",
              "    .dataframe tbody tr th:only-of-type {\n",
              "        vertical-align: middle;\n",
              "    }\n",
              "\n",
              "    .dataframe tbody tr th {\n",
              "        vertical-align: top;\n",
              "    }\n",
              "\n",
              "    .dataframe thead th {\n",
              "        text-align: right;\n",
              "    }\n",
              "</style>\n",
              "<table border=\"1\" class=\"dataframe\">\n",
              "  <thead>\n",
              "    <tr style=\"text-align: right;\">\n",
              "      <th></th>\n",
              "      <th>bookingID</th>\n",
              "      <th>Accuracy_mean</th>\n",
              "      <th>Accuracy_sum</th>\n",
              "      <th>Accuracy_max</th>\n",
              "      <th>Accuracy_min</th>\n",
              "      <th>Bearing_mean</th>\n",
              "      <th>Bearing_sum</th>\n",
              "      <th>Bearing_max</th>\n",
              "      <th>Bearing_min</th>\n",
              "      <th>acceleration_x_mean</th>\n",
              "      <th>acceleration_x_sum</th>\n",
              "      <th>acceleration_x_max</th>\n",
              "      <th>acceleration_x_min</th>\n",
              "      <th>acceleration_y_mean</th>\n",
              "      <th>acceleration_y_sum</th>\n",
              "      <th>acceleration_y_max</th>\n",
              "      <th>acceleration_y_min</th>\n",
              "      <th>acceleration_z_mean</th>\n",
              "      <th>acceleration_z_sum</th>\n",
              "      <th>acceleration_z_max</th>\n",
              "      <th>acceleration_z_min</th>\n",
              "      <th>second_mean</th>\n",
              "      <th>second_sum</th>\n",
              "      <th>second_max</th>\n",
              "      <th>second_min</th>\n",
              "      <th>Speed_mean</th>\n",
              "      <th>Speed_sum</th>\n",
              "      <th>Speed_max</th>\n",
              "      <th>Speed_min</th>\n",
              "      <th>label</th>\n",
              "    </tr>\n",
              "  </thead>\n",
              "  <tbody>\n",
              "    <tr>\n",
              "      <th>0</th>\n",
              "      <td>0</td>\n",
              "      <td>10.165339</td>\n",
              "      <td>10206.000</td>\n",
              "      <td>48.000</td>\n",
              "      <td>4.0</td>\n",
              "      <td>176.526099</td>\n",
              "      <td>177232.203582</td>\n",
              "      <td>359.979767</td>\n",
              "      <td>0.037464</td>\n",
              "      <td>-0.711264</td>\n",
              "      <td>-714.108606</td>\n",
              "      <td>4.782614</td>\n",
              "      <td>-4.692294</td>\n",
              "      <td>-9.613822</td>\n",
              "      <td>-9652.277441</td>\n",
              "      <td>-6.119916</td>\n",
              "      <td>-12.764703</td>\n",
              "      <td>-1.619658</td>\n",
              "      <td>-1626.136658</td>\n",
              "      <td>2.318857</td>\n",
              "      <td>-6.251807</td>\n",
              "      <td>903.526892</td>\n",
              "      <td>907141.0</td>\n",
              "      <td>1589.0</td>\n",
              "      <td>0.0</td>\n",
              "      <td>8.994822</td>\n",
              "      <td>9030.801222</td>\n",
              "      <td>22.946083</td>\n",
              "      <td>-1.0</td>\n",
              "      <td>0</td>\n",
              "    </tr>\n",
              "    <tr>\n",
              "      <th>1</th>\n",
              "      <td>1</td>\n",
              "      <td>3.718763</td>\n",
              "      <td>3164.667</td>\n",
              "      <td>7.709</td>\n",
              "      <td>3.0</td>\n",
              "      <td>124.198590</td>\n",
              "      <td>105693.000000</td>\n",
              "      <td>337.000000</td>\n",
              "      <td>0.000000</td>\n",
              "      <td>-0.525406</td>\n",
              "      <td>-447.120797</td>\n",
              "      <td>3.813341</td>\n",
              "      <td>-5.352994</td>\n",
              "      <td>9.532086</td>\n",
              "      <td>8111.805312</td>\n",
              "      <td>12.536156</td>\n",
              "      <td>6.623425</td>\n",
              "      <td>-2.198999</td>\n",
              "      <td>-1871.348183</td>\n",
              "      <td>1.481293</td>\n",
              "      <td>-5.355455</td>\n",
              "      <td>581.175088</td>\n",
              "      <td>494580.0</td>\n",
              "      <td>1034.0</td>\n",
              "      <td>0.0</td>\n",
              "      <td>7.881588</td>\n",
              "      <td>6707.231233</td>\n",
              "      <td>21.882141</td>\n",
              "      <td>-1.0</td>\n",
              "      <td>1</td>\n",
              "    </tr>\n",
              "    <tr>\n",
              "      <th>2</th>\n",
              "      <td>2</td>\n",
              "      <td>3.930626</td>\n",
              "      <td>766.472</td>\n",
              "      <td>8.000</td>\n",
              "      <td>3.0</td>\n",
              "      <td>173.794872</td>\n",
              "      <td>33890.000000</td>\n",
              "      <td>354.000000</td>\n",
              "      <td>1.000000</td>\n",
              "      <td>0.306786</td>\n",
              "      <td>59.823351</td>\n",
              "      <td>1.956122</td>\n",
              "      <td>-2.971295</td>\n",
              "      <td>9.843183</td>\n",
              "      <td>1919.420684</td>\n",
              "      <td>13.333716</td>\n",
              "      <td>7.941810</td>\n",
              "      <td>0.139347</td>\n",
              "      <td>27.172626</td>\n",
              "      <td>2.312870</td>\n",
              "      <td>-3.282551</td>\n",
              "      <td>339.441026</td>\n",
              "      <td>66191.0</td>\n",
              "      <td>825.0</td>\n",
              "      <td>0.0</td>\n",
              "      <td>3.157213</td>\n",
              "      <td>615.656528</td>\n",
              "      <td>9.360483</td>\n",
              "      <td>0.0</td>\n",
              "      <td>1</td>\n",
              "    </tr>\n",
              "    <tr>\n",
              "      <th>3</th>\n",
              "      <td>4</td>\n",
              "      <td>10.000000</td>\n",
              "      <td>10940.000</td>\n",
              "      <td>10.000</td>\n",
              "      <td>10.0</td>\n",
              "      <td>151.807013</td>\n",
              "      <td>166076.872711</td>\n",
              "      <td>353.855377</td>\n",
              "      <td>2.271227</td>\n",
              "      <td>-0.365117</td>\n",
              "      <td>-399.438525</td>\n",
              "      <td>2.019635</td>\n",
              "      <td>-2.866458</td>\n",
              "      <td>-9.406439</td>\n",
              "      <td>-10290.643753</td>\n",
              "      <td>-7.064984</td>\n",
              "      <td>-18.847833</td>\n",
              "      <td>-2.613639</td>\n",
              "      <td>-2859.321069</td>\n",
              "      <td>0.296381</td>\n",
              "      <td>-9.374869</td>\n",
              "      <td>547.495430</td>\n",
              "      <td>598960.0</td>\n",
              "      <td>1094.0</td>\n",
              "      <td>0.0</td>\n",
              "      <td>6.150996</td>\n",
              "      <td>6729.190006</td>\n",
              "      <td>19.780001</td>\n",
              "      <td>0.0</td>\n",
              "      <td>1</td>\n",
              "    </tr>\n",
              "    <tr>\n",
              "      <th>4</th>\n",
              "      <td>6</td>\n",
              "      <td>4.586721</td>\n",
              "      <td>5022.460</td>\n",
              "      <td>12.000</td>\n",
              "      <td>3.0</td>\n",
              "      <td>197.812785</td>\n",
              "      <td>216605.000000</td>\n",
              "      <td>359.000000</td>\n",
              "      <td>0.000000</td>\n",
              "      <td>0.490616</td>\n",
              "      <td>537.224988</td>\n",
              "      <td>5.593026</td>\n",
              "      <td>-4.352792</td>\n",
              "      <td>9.538043</td>\n",
              "      <td>10444.157133</td>\n",
              "      <td>13.249917</td>\n",
              "      <td>6.469330</td>\n",
              "      <td>2.355059</td>\n",
              "      <td>2578.789598</td>\n",
              "      <td>7.977724</td>\n",
              "      <td>-2.140482</td>\n",
              "      <td>547.000000</td>\n",
              "      <td>598965.0</td>\n",
              "      <td>1094.0</td>\n",
              "      <td>0.0</td>\n",
              "      <td>4.628921</td>\n",
              "      <td>5068.669039</td>\n",
              "      <td>16.394695</td>\n",
              "      <td>0.0</td>\n",
              "      <td>0</td>\n",
              "    </tr>\n",
              "  </tbody>\n",
              "</table>\n",
              "</div>"
            ],
            "text/plain": [
              "   bookingID  Accuracy_mean  Accuracy_sum  ...  Speed_max  Speed_min  label\n",
              "0          0      10.165339     10206.000  ...  22.946083       -1.0      0\n",
              "1          1       3.718763      3164.667  ...  21.882141       -1.0      1\n",
              "2          2       3.930626       766.472  ...   9.360483        0.0      1\n",
              "3          4      10.000000     10940.000  ...  19.780001        0.0      1\n",
              "4          6       4.586721      5022.460  ...  16.394695        0.0      0\n",
              "\n",
              "[5 rows x 30 columns]"
            ]
          },
          "metadata": {
            "tags": []
          },
          "execution_count": 15
        }
      ]
    },
    {
      "cell_type": "code",
      "metadata": {
        "colab": {
          "base_uri": "https://localhost:8080/"
        },
        "id": "doWYl-_0Z74Z",
        "outputId": "75d1f4ea-bb33-45f7-933d-236170999e23"
      },
      "source": [
        "# Check if there is any null values\n",
        "df.isnull().any()\n"
      ],
      "execution_count": null,
      "outputs": [
        {
          "output_type": "execute_result",
          "data": {
            "text/plain": [
              "bookingID              False\n",
              "Accuracy_mean          False\n",
              "Accuracy_sum           False\n",
              "Accuracy_max           False\n",
              "Accuracy_min           False\n",
              "Bearing_mean           False\n",
              "Bearing_sum            False\n",
              "Bearing_max            False\n",
              "Bearing_min            False\n",
              "acceleration_x_mean    False\n",
              "acceleration_x_sum     False\n",
              "acceleration_x_max     False\n",
              "acceleration_x_min     False\n",
              "acceleration_y_mean    False\n",
              "acceleration_y_sum     False\n",
              "acceleration_y_max     False\n",
              "acceleration_y_min     False\n",
              "acceleration_z_mean    False\n",
              "acceleration_z_sum     False\n",
              "acceleration_z_max     False\n",
              "acceleration_z_min     False\n",
              "second_mean            False\n",
              "second_sum             False\n",
              "second_max             False\n",
              "second_min             False\n",
              "Speed_mean             False\n",
              "Speed_sum              False\n",
              "Speed_max              False\n",
              "Speed_min              False\n",
              "label                  False\n",
              "dtype: bool"
            ]
          },
          "metadata": {
            "tags": []
          },
          "execution_count": 16
        }
      ]
    },
    {
      "cell_type": "code",
      "metadata": {
        "id": "7ZNkX6FZaFXp"
      },
      "source": [
        "df = df.drop(columns=[\"bookingID\"]).reset_index(drop=True)"
      ],
      "execution_count": null,
      "outputs": []
    },
    {
      "cell_type": "markdown",
      "metadata": {
        "id": "n9hZsmTvahme"
      },
      "source": [
        "# **Feature Engineering and Removing Outliers**"
      ]
    },
    {
      "cell_type": "code",
      "metadata": {
        "colab": {
          "base_uri": "https://localhost:8080/",
          "height": 1000
        },
        "id": "AULLimwLafjo",
        "outputId": "5c53483f-0eb7-46f7-e82b-7d03b4df5fa9"
      },
      "source": [
        "# Computes the pairwise correlation between columns\n",
        "corr=df.corr()\n",
        "\n",
        "fig, ax = plt.subplots(figsize=(20,20))\n",
        "ax = sns.heatmap(\n",
        "   corr, \n",
        "   vmin=-1, vmax=1, center=0,\n",
        "   cmap=sns.diverging_palette(20, 220, n=200),\n",
        "   square=True\n",
        ")\n",
        "ax.set_xticklabels(\n",
        "   ax.get_xticklabels(),\n",
        "   horizontalalignment='right'\n",
        ");"
      ],
      "execution_count": null,
      "outputs": [
        {
          "output_type": "display_data",
          "data": {
            "image/png": "[encoded data removed]",
            "text/plain": [
              "<Figure size 1440x1440 with 2 Axes>"
            ]
          },
          "metadata": {
            "tags": [],
            "needs_background": "light"
          }
        }
      ]
    },
    {
      "cell_type": "code",
      "metadata": {
        "id": "Bq0aWsk2bbiQ"
      },
      "source": [
        "# From the heatmap,it can be seen that 'second_min' have no relation toward 'label'\n",
        "df.drop(columns=['second_min'],inplace=True)"
      ],
      "execution_count": null,
      "outputs": []
    },
    {
      "cell_type": "code",
      "metadata": {
        "id": "yt6Js_iacjrJ"
      },
      "source": [
        "# Generation of more features - Velocity, Distance, Rotation angles\n",
        "for col in df.columns:\n",
        "    if col.startswith(\"second\"):\n",
        "        agg_method = col.split(\"_\")[1]\n",
        "        df[\"distance_\" + agg_method] = df[col] * df[\"Speed_\" + agg_method]\n",
        "        df[\"velocity_x_\" + agg_method] = df[col] * df[\"acceleration_x_\" + agg_method]\n",
        "        df[\"velocity_y_\" + agg_method] = df[col] * df[\"acceleration_y_\" + agg_method]\n",
        "        df[\"velocity_z_\" + agg_method] = df[col] * df[\"acceleration_z_\" + agg_method]"
      ],
      "execution_count": null,
      "outputs": []
    },
    {
      "cell_type": "markdown",
      "metadata": {
        "id": "R0oDavjziTVR"
      },
      "source": [
        "# **Feature Selection**"
      ]
    },
    {
      "cell_type": "code",
      "metadata": {
        "colab": {
          "base_uri": "https://localhost:8080/"
        },
        "id": "lTnc-FKNia-K",
        "outputId": "bee869a0-56e2-448f-bdc2-cb5da74db5b6"
      },
      "source": [
        "# Analyzing the columns\n",
        "data.info()"
      ],
      "execution_count": null,
      "outputs": [
        {
          "output_type": "stream",
          "text": [
            "<class 'pandas.core.frame.DataFrame'>\n",
            "Int64Index: 16116622 entries, 0 to 16154417\n",
            "Data columns (total 12 columns):\n",
            " #   Column          Dtype  \n",
            "---  ------          -----  \n",
            " 0   bookingID       int64  \n",
            " 1   Accuracy        float64\n",
            " 2   Bearing         float64\n",
            " 3   acceleration_x  float64\n",
            " 4   acceleration_y  float64\n",
            " 5   acceleration_z  float64\n",
            " 6   gyro_x          float64\n",
            " 7   gyro_y          float64\n",
            " 8   gyro_z          float64\n",
            " 9   second          float64\n",
            " 10  Speed           float64\n",
            " 11  label           int64  \n",
            "dtypes: float64(10), int64(2)\n",
            "memory usage: 2.2 GB\n"
          ],
          "name": "stdout"
        }
      ]
    },
    {
      "cell_type": "code",
      "metadata": {
        "colab": {
          "base_uri": "https://localhost:8080/"
        },
        "id": "zROFABDLih7u",
        "outputId": "3b1a793b-d9d2-4bb3-fba4-12d7eb90ae0d"
      },
      "source": [
        "corr=abs(df.corr()['label'].sort_values(ascending = False))\n",
        "print(corr)"
      ],
      "execution_count": null,
      "outputs": [
        {
          "output_type": "stream",
          "text": [
            "label                  1.000000\n",
            "second_max             0.305921\n",
            "second_mean            0.301935\n",
            "velocity_x_max         0.268064\n",
            "second_sum             0.263532\n",
            "distance_max           0.251222\n",
            "velocity_z_max         0.248577\n",
            "Bearing_sum            0.196389\n",
            "distance_sum           0.193159\n",
            "velocity_y_max         0.185243\n",
            "acceleration_x_max     0.168478\n",
            "distance_mean          0.160825\n",
            "acceleration_z_max     0.157124\n",
            "Speed_sum              0.120908\n",
            "Bearing_max            0.108110\n",
            "velocity_z_mean        0.077702\n",
            "velocity_y_mean        0.076470\n",
            "velocity_y_sum         0.067450\n",
            "acceleration_y_max     0.058698\n",
            "acceleration_y_sum     0.051111\n",
            "acceleration_z_sum     0.047503\n",
            "Accuracy_sum           0.039917\n",
            "velocity_z_sum         0.035265\n",
            "acceleration_z_mean    0.033382\n",
            "Accuracy_max           0.033188\n",
            "Speed_max              0.030518\n",
            "velocity_x_sum         0.011679\n",
            "Accuracy_min           0.008024\n",
            "acceleration_x_sum     0.007446\n",
            "Accuracy_mean          0.006303\n",
            "velocity_x_mean        0.005590\n",
            "acceleration_x_mean    0.005741\n",
            "acceleration_y_mean    0.006728\n",
            "Bearing_mean           0.023134\n",
            "Speed_mean             0.073010\n",
            "acceleration_y_min     0.075245\n",
            "Speed_min              0.089147\n",
            "Bearing_min            0.095236\n",
            "acceleration_z_min     0.128928\n",
            "acceleration_x_min     0.158111\n",
            "Name: label, dtype: float64\n"
          ],
          "name": "stdout"
        }
      ]
    },
    {
      "cell_type": "code",
      "metadata": {
        "id": "Dgz62V4ci8qF"
      },
      "source": [
        "# Lets drop the unnessary columns that have nor corr to the label\n",
        "df.drop(columns=[\"Speed_min\", \"Bearing_min\", \"acceleration_z_min\", \"acceleration_x_min\"], inplace=True)"
      ],
      "execution_count": null,
      "outputs": []
    },
    {
      "cell_type": "markdown",
      "metadata": {
        "id": "yP9WtoGJj9T4"
      },
      "source": [
        "# Model Selection\n"
      ]
    },
    {
      "cell_type": "code",
      "metadata": {
        "colab": {
          "base_uri": "https://localhost:8080/"
        },
        "id": "-5w2KkwkkkGr",
        "outputId": "803c264c-3c9f-48d9-9d9b-aa6a00db23ca"
      },
      "source": [
        "X = df.drop(columns=[\"label\"]).reset_index(drop=True)\n",
        "y = df.label.reset_index(drop=True)\n",
        "X = np.asarray(X)\n",
        "y = np.asarray(y)\n",
        "x_train, x_test, y_train, y_test = train_test_split(X, y, test_size=0.20, random_state=1)\n",
        "print(\"number of test samples :\", x_test.shape[0])\n",
        "print(\"number of training samples:\",x_train.shape[0])"
      ],
      "execution_count": null,
      "outputs": [
        {
          "output_type": "stream",
          "text": [
            "number of test samples : 3997\n",
            "number of training samples: 15985\n"
          ],
          "name": "stdout"
        }
      ]
    },
    {
      "cell_type": "code",
      "metadata": {
        "colab": {
          "base_uri": "https://localhost:8080/"
        },
        "id": "Uh0Qsi71oPu4",
        "outputId": "8223f62f-249e-4d29-eda9-302415d6c7eb"
      },
      "source": [
        "# Training using Neural Network\n",
        "model = tf.keras.models.Sequential([\n",
        "    # Flatten the results to feed into a DNN\n",
        "    tf.keras.layers.Flatten(),\n",
        "    tf.keras.layers.Dense(12, activation='relu'),\n",
        "    tf.keras.layers.Dense(12, activation='relu'),\n",
        "    # Only 1 output neuron. \n",
        "    tf.keras.layers.Dense(1, activation='sigmoid')\n",
        "])\n",
        "model.compile(loss='binary_crossentropy',\n",
        "              optimizer='adam',\n",
        "              metrics=['accuracy'])\n",
        "history = model.fit(x_train,y_train,epochs=100,validation_data=(x_test,y_test))\n",
        "score = model.evaluate(x_test,y_test)\n",
        "print(\"Accuracy: %.2f%%\" % (score[1]*100))\n",
        "print(\"Error: %.2f%%\" % (100-score[1]*100))\n"
      ],
      "execution_count": null,
      "outputs": [
        {
          "output_type": "stream",
          "text": [
            "Epoch 1/100\n",
            "500/500 [==============================] - 1s 2ms/step - loss: 87480328.0000 - accuracy: 0.4602 - val_loss: 13997095.0000 - val_accuracy: 0.6387\n",
            "Epoch 2/100\n",
            "500/500 [==============================] - 1s 1ms/step - loss: 6640430.0000 - accuracy: 0.5218 - val_loss: 5595177.0000 - val_accuracy: 0.6457\n",
            "Epoch 3/100\n",
            "500/500 [==============================] - 1s 1ms/step - loss: 4954032.5000 - accuracy: 0.5414 - val_loss: 2822195.5000 - val_accuracy: 0.6187\n",
            "Epoch 4/100\n",
            "500/500 [==============================] - 1s 1ms/step - loss: 2790616.2500 - accuracy: 0.5556 - val_loss: 2826985.0000 - val_accuracy: 0.6890\n",
            "Epoch 5/100\n",
            "500/500 [==============================] - 1s 1ms/step - loss: 2798334.7500 - accuracy: 0.5480 - val_loss: 1914714.0000 - val_accuracy: 0.5314\n",
            "Epoch 6/100\n",
            "500/500 [==============================] - 1s 1ms/step - loss: 2660441.7500 - accuracy: 0.5581 - val_loss: 1612624.0000 - val_accuracy: 0.5669\n",
            "Epoch 7/100\n",
            "500/500 [==============================] - 1s 1ms/step - loss: 2902466.7500 - accuracy: 0.5481 - val_loss: 2658802.0000 - val_accuracy: 0.6910\n",
            "Epoch 8/100\n",
            "500/500 [==============================] - 1s 1ms/step - loss: 1762937.5000 - accuracy: 0.5697 - val_loss: 1799630.5000 - val_accuracy: 0.6970\n",
            "Epoch 9/100\n",
            "500/500 [==============================] - 1s 1ms/step - loss: 1695083.2500 - accuracy: 0.5606 - val_loss: 5464059.0000 - val_accuracy: 0.6492\n",
            "Epoch 10/100\n",
            "500/500 [==============================] - 1s 1ms/step - loss: 2098129.2500 - accuracy: 0.5627 - val_loss: 1914443.6250 - val_accuracy: 0.6783\n",
            "Epoch 11/100\n",
            "500/500 [==============================] - 1s 1ms/step - loss: 2021951.2500 - accuracy: 0.5749 - val_loss: 1480504.5000 - val_accuracy: 0.5547\n",
            "Epoch 12/100\n",
            "500/500 [==============================] - 1s 1ms/step - loss: 1984671.8750 - accuracy: 0.5588 - val_loss: 2005140.3750 - val_accuracy: 0.6255\n",
            "Epoch 13/100\n",
            "500/500 [==============================] - 1s 1ms/step - loss: 1387646.1250 - accuracy: 0.5717 - val_loss: 1020359.6250 - val_accuracy: 0.5884\n",
            "Epoch 14/100\n",
            "500/500 [==============================] - 1s 1ms/step - loss: 1263780.0000 - accuracy: 0.5667 - val_loss: 1629143.1250 - val_accuracy: 0.7028\n",
            "Epoch 15/100\n",
            "500/500 [==============================] - 1s 1ms/step - loss: 1196260.5000 - accuracy: 0.5764 - val_loss: 647120.8750 - val_accuracy: 0.7325\n",
            "Epoch 16/100\n",
            "500/500 [==============================] - 1s 1ms/step - loss: 1483252.1250 - accuracy: 0.5647 - val_loss: 563370.6875 - val_accuracy: 0.4784\n",
            "Epoch 17/100\n",
            "500/500 [==============================] - 1s 1ms/step - loss: 1517322.0000 - accuracy: 0.5600 - val_loss: 1150936.5000 - val_accuracy: 0.7290\n",
            "Epoch 18/100\n",
            "500/500 [==============================] - 1s 1ms/step - loss: 1142314.0000 - accuracy: 0.5761 - val_loss: 1935027.5000 - val_accuracy: 0.3255\n",
            "Epoch 19/100\n",
            "500/500 [==============================] - 1s 1ms/step - loss: 1433528.7500 - accuracy: 0.5566 - val_loss: 1277782.5000 - val_accuracy: 0.4886\n",
            "Epoch 20/100\n",
            "500/500 [==============================] - 1s 1ms/step - loss: 1370328.7500 - accuracy: 0.5505 - val_loss: 1030509.4375 - val_accuracy: 0.6883\n",
            "Epoch 21/100\n",
            "500/500 [==============================] - 1s 1ms/step - loss: 990994.3750 - accuracy: 0.5630 - val_loss: 676239.3750 - val_accuracy: 0.6110\n",
            "Epoch 22/100\n",
            "500/500 [==============================] - 1s 1ms/step - loss: 1033108.2500 - accuracy: 0.5470 - val_loss: 689955.8125 - val_accuracy: 0.4121\n",
            "Epoch 23/100\n",
            "500/500 [==============================] - 1s 1ms/step - loss: 997918.6250 - accuracy: 0.5628 - val_loss: 794825.8125 - val_accuracy: 0.5817\n",
            "Epoch 24/100\n",
            "500/500 [==============================] - 1s 1ms/step - loss: 994891.0000 - accuracy: 0.5539 - val_loss: 1311881.3750 - val_accuracy: 0.6813\n",
            "Epoch 25/100\n",
            "500/500 [==============================] - 1s 1ms/step - loss: 937456.4375 - accuracy: 0.5525 - val_loss: 833844.0625 - val_accuracy: 0.3640\n",
            "Epoch 26/100\n",
            "500/500 [==============================] - 1s 1ms/step - loss: 785845.8125 - accuracy: 0.5568 - val_loss: 895633.1250 - val_accuracy: 0.7351\n",
            "Epoch 27/100\n",
            "500/500 [==============================] - 1s 1ms/step - loss: 796371.8125 - accuracy: 0.5508 - val_loss: 736597.5625 - val_accuracy: 0.4709\n",
            "Epoch 28/100\n",
            "500/500 [==============================] - 1s 1ms/step - loss: 582721.7500 - accuracy: 0.5555 - val_loss: 542995.6875 - val_accuracy: 0.6435\n",
            "Epoch 29/100\n",
            "500/500 [==============================] - 1s 1ms/step - loss: 529333.4375 - accuracy: 0.5605 - val_loss: 525765.7500 - val_accuracy: 0.7100\n",
            "Epoch 30/100\n",
            "500/500 [==============================] - 1s 1ms/step - loss: 526306.3125 - accuracy: 0.5682 - val_loss: 1011170.8125 - val_accuracy: 0.6225\n",
            "Epoch 31/100\n",
            "500/500 [==============================] - 1s 1ms/step - loss: 607962.8125 - accuracy: 0.5458 - val_loss: 465919.0000 - val_accuracy: 0.5061\n",
            "Epoch 32/100\n",
            "500/500 [==============================] - 1s 1ms/step - loss: 648956.8750 - accuracy: 0.5494 - val_loss: 941079.3125 - val_accuracy: 0.5867\n",
            "Epoch 33/100\n",
            "500/500 [==============================] - 1s 1ms/step - loss: 435693.6562 - accuracy: 0.5588 - val_loss: 543327.1250 - val_accuracy: 0.5734\n",
            "Epoch 34/100\n",
            "500/500 [==============================] - 1s 1ms/step - loss: 365450.5000 - accuracy: 0.5670 - val_loss: 518410.5000 - val_accuracy: 0.6783\n",
            "Epoch 35/100\n",
            "500/500 [==============================] - 1s 1ms/step - loss: 310721.0938 - accuracy: 0.5545 - val_loss: 242638.2656 - val_accuracy: 0.6580\n",
            "Epoch 36/100\n",
            "500/500 [==============================] - 1s 1ms/step - loss: 297733.0938 - accuracy: 0.5689 - val_loss: 239589.0000 - val_accuracy: 0.4568\n",
            "Epoch 37/100\n",
            "500/500 [==============================] - 1s 1ms/step - loss: 263269.0938 - accuracy: 0.5662 - val_loss: 163770.4688 - val_accuracy: 0.5074\n",
            "Epoch 38/100\n",
            "500/500 [==============================] - 1s 1ms/step - loss: 192698.9219 - accuracy: 0.5824 - val_loss: 57722.4961 - val_accuracy: 0.7090\n",
            "Epoch 39/100\n",
            "500/500 [==============================] - 1s 1ms/step - loss: 200628.0312 - accuracy: 0.5688 - val_loss: 220477.3594 - val_accuracy: 0.4096\n",
            "Epoch 40/100\n",
            "500/500 [==============================] - 1s 1ms/step - loss: 229184.6094 - accuracy: 0.5884 - val_loss: 128499.5938 - val_accuracy: 0.4241\n",
            "Epoch 41/100\n",
            "500/500 [==============================] - 1s 1ms/step - loss: 130863.7266 - accuracy: 0.6043 - val_loss: 85101.0156 - val_accuracy: 0.4206\n",
            "Epoch 42/100\n",
            "500/500 [==============================] - 1s 1ms/step - loss: 133815.3438 - accuracy: 0.6116 - val_loss: 288826.6562 - val_accuracy: 0.4739\n",
            "Epoch 43/100\n",
            "500/500 [==============================] - 1s 1ms/step - loss: 158545.0000 - accuracy: 0.5967 - val_loss: 61038.3516 - val_accuracy: 0.6743\n",
            "Epoch 44/100\n",
            "500/500 [==============================] - 1s 1ms/step - loss: 55371.1211 - accuracy: 0.6360 - val_loss: 8882.8721 - val_accuracy: 0.6287\n",
            "Epoch 45/100\n",
            "500/500 [==============================] - 1s 1ms/step - loss: 5753.4717 - accuracy: 0.6608 - val_loss: 3297.8147 - val_accuracy: 0.6675\n",
            "Epoch 46/100\n",
            "500/500 [==============================] - 1s 1ms/step - loss: 3825.8062 - accuracy: 0.6985 - val_loss: 2382.2817 - val_accuracy: 0.6770\n",
            "Epoch 47/100\n",
            "500/500 [==============================] - 1s 1ms/step - loss: 4162.8286 - accuracy: 0.6993 - val_loss: 2075.0388 - val_accuracy: 0.7376\n",
            "Epoch 48/100\n",
            "500/500 [==============================] - 1s 1ms/step - loss: 6545.8677 - accuracy: 0.7038 - val_loss: 1546.4584 - val_accuracy: 0.7558\n",
            "Epoch 49/100\n",
            "500/500 [==============================] - 1s 1ms/step - loss: 1767.3579 - accuracy: 0.7140 - val_loss: 7862.9702 - val_accuracy: 0.7516\n",
            "Epoch 50/100\n",
            "500/500 [==============================] - 1s 1ms/step - loss: 8302.8994 - accuracy: 0.7092 - val_loss: 14566.0957 - val_accuracy: 0.7240\n",
            "Epoch 51/100\n",
            "500/500 [==============================] - 1s 1ms/step - loss: 7939.9058 - accuracy: 0.7240 - val_loss: 2684.4712 - val_accuracy: 0.7035\n",
            "Epoch 52/100\n",
            "500/500 [==============================] - 1s 1ms/step - loss: 9066.0811 - accuracy: 0.7280 - val_loss: 1491.2290 - val_accuracy: 0.7581\n",
            "Epoch 53/100\n",
            "500/500 [==============================] - 1s 1ms/step - loss: 1329.2852 - accuracy: 0.7329 - val_loss: 629.3748 - val_accuracy: 0.7581\n",
            "Epoch 54/100\n",
            "500/500 [==============================] - 1s 1ms/step - loss: 8266.8242 - accuracy: 0.7270 - val_loss: 3268.3125 - val_accuracy: 0.7538\n",
            "Epoch 55/100\n",
            "500/500 [==============================] - 1s 1ms/step - loss: 1613.8912 - accuracy: 0.7323 - val_loss: 1505.0291 - val_accuracy: 0.7220\n",
            "Epoch 56/100\n",
            "500/500 [==============================] - 1s 1ms/step - loss: 2291.3496 - accuracy: 0.7364 - val_loss: 4320.1465 - val_accuracy: 0.7235\n",
            "Epoch 57/100\n",
            "500/500 [==============================] - 1s 1ms/step - loss: 908.9161 - accuracy: 0.7390 - val_loss: 5882.0659 - val_accuracy: 0.7581\n",
            "Epoch 58/100\n",
            "500/500 [==============================] - 1s 1ms/step - loss: 770.9321 - accuracy: 0.7411 - val_loss: 1020.9722 - val_accuracy: 0.7348\n",
            "Epoch 59/100\n",
            "500/500 [==============================] - 1s 1ms/step - loss: 4467.8760 - accuracy: 0.7431 - val_loss: 3717.1279 - val_accuracy: 0.7593\n",
            "Epoch 60/100\n",
            "500/500 [==============================] - 1s 1ms/step - loss: 2136.6104 - accuracy: 0.7383 - val_loss: 1192.5487 - val_accuracy: 0.7358\n",
            "Epoch 61/100\n",
            "500/500 [==============================] - 1s 1ms/step - loss: 1228.0750 - accuracy: 0.7529 - val_loss: 1046.3688 - val_accuracy: 0.7563\n",
            "Epoch 62/100\n",
            "500/500 [==============================] - 1s 1ms/step - loss: 1164.5878 - accuracy: 0.7533 - val_loss: 2530.8264 - val_accuracy: 0.7576\n",
            "Epoch 63/100\n",
            "500/500 [==============================] - 1s 1ms/step - loss: 2741.7021 - accuracy: 0.7537 - val_loss: 1002.5679 - val_accuracy: 0.7568\n",
            "Epoch 64/100\n",
            "500/500 [==============================] - 1s 1ms/step - loss: 818.0226 - accuracy: 0.7533 - val_loss: 1302.9689 - val_accuracy: 0.7561\n",
            "Epoch 65/100\n",
            "500/500 [==============================] - 1s 1ms/step - loss: 654.0613 - accuracy: 0.7528 - val_loss: 494.3485 - val_accuracy: 0.7543\n",
            "Epoch 66/100\n",
            "500/500 [==============================] - 1s 1ms/step - loss: 342.8903 - accuracy: 0.7519 - val_loss: 384.9154 - val_accuracy: 0.7538\n",
            "Epoch 67/100\n",
            "500/500 [==============================] - 1s 2ms/step - loss: 237.0380 - accuracy: 0.7515 - val_loss: 380.2895 - val_accuracy: 0.7541\n",
            "Epoch 68/100\n",
            "500/500 [==============================] - 1s 1ms/step - loss: 317.2745 - accuracy: 0.7505 - val_loss: 125.2490 - val_accuracy: 0.7553\n",
            "Epoch 69/100\n",
            "500/500 [==============================] - 1s 1ms/step - loss: 2222.4431 - accuracy: 0.7506 - val_loss: 361.8215 - val_accuracy: 0.7551\n",
            "Epoch 70/100\n",
            "500/500 [==============================] - 1s 1ms/step - loss: 561.0887 - accuracy: 0.7524 - val_loss: 54.7772 - val_accuracy: 0.7546\n",
            "Epoch 71/100\n",
            "500/500 [==============================] - 1s 1ms/step - loss: 234.5004 - accuracy: 0.7517 - val_loss: 140.7325 - val_accuracy: 0.7538\n",
            "Epoch 72/100\n",
            "500/500 [==============================] - 1s 1ms/step - loss: 173.4540 - accuracy: 0.7513 - val_loss: 111.7393 - val_accuracy: 0.7538\n",
            "Epoch 73/100\n",
            "500/500 [==============================] - 1s 1ms/step - loss: 335.2625 - accuracy: 0.7505 - val_loss: 67.2615 - val_accuracy: 0.7536\n",
            "Epoch 74/100\n",
            "500/500 [==============================] - 1s 1ms/step - loss: 176.8900 - accuracy: 0.7500 - val_loss: 23.5675 - val_accuracy: 0.7536\n",
            "Epoch 75/100\n",
            "500/500 [==============================] - 1s 1ms/step - loss: 24.2278 - accuracy: 0.7505 - val_loss: 72.8142 - val_accuracy: 0.7533\n",
            "Epoch 76/100\n",
            "500/500 [==============================] - 1s 1ms/step - loss: 109.7851 - accuracy: 0.7504 - val_loss: 43.9885 - val_accuracy: 0.7543\n",
            "Epoch 77/100\n",
            "500/500 [==============================] - 1s 1ms/step - loss: 147.6254 - accuracy: 0.7504 - val_loss: 220.7197 - val_accuracy: 0.7531\n",
            "Epoch 78/100\n",
            "500/500 [==============================] - 1s 1ms/step - loss: 38.3832 - accuracy: 0.7501 - val_loss: 56.3206 - val_accuracy: 0.7538\n",
            "Epoch 79/100\n",
            "500/500 [==============================] - 1s 1ms/step - loss: 91.7963 - accuracy: 0.7502 - val_loss: 37.3026 - val_accuracy: 0.7531\n",
            "Epoch 80/100\n",
            "500/500 [==============================] - 1s 1ms/step - loss: 18.6057 - accuracy: 0.7501 - val_loss: 36.6317 - val_accuracy: 0.7531\n",
            "Epoch 81/100\n",
            "500/500 [==============================] - 1s 1ms/step - loss: 11.5921 - accuracy: 0.7503 - val_loss: 35.4034 - val_accuracy: 0.7531\n",
            "Epoch 82/100\n",
            "500/500 [==============================] - 1s 1ms/step - loss: 8.2910 - accuracy: 0.7503 - val_loss: 35.5601 - val_accuracy: 0.7533\n",
            "Epoch 83/100\n",
            "500/500 [==============================] - 1s 1ms/step - loss: 5.7116 - accuracy: 0.7503 - val_loss: 37.0736 - val_accuracy: 0.7533\n",
            "Epoch 84/100\n",
            "500/500 [==============================] - 1s 1ms/step - loss: 2.1670 - accuracy: 0.7505 - val_loss: 33.1660 - val_accuracy: 0.7533\n",
            "Epoch 85/100\n",
            "500/500 [==============================] - 1s 1ms/step - loss: 0.7775 - accuracy: 0.7505 - val_loss: 31.0927 - val_accuracy: 0.7531\n",
            "Epoch 86/100\n",
            "500/500 [==============================] - 1s 1ms/step - loss: 0.5615 - accuracy: 0.7505 - val_loss: 31.0924 - val_accuracy: 0.7531\n",
            "Epoch 87/100\n",
            "500/500 [==============================] - 1s 1ms/step - loss: 0.5615 - accuracy: 0.7505 - val_loss: 31.0924 - val_accuracy: 0.7531\n",
            "Epoch 88/100\n",
            "500/500 [==============================] - 1s 1ms/step - loss: 0.5615 - accuracy: 0.7505 - val_loss: 31.0925 - val_accuracy: 0.7531\n",
            "Epoch 89/100\n",
            "500/500 [==============================] - 1s 1ms/step - loss: 0.5615 - accuracy: 0.7505 - val_loss: 31.0921 - val_accuracy: 0.7531\n",
            "Epoch 90/100\n",
            "500/500 [==============================] - 1s 1ms/step - loss: 0.5614 - accuracy: 0.7505 - val_loss: 31.0925 - val_accuracy: 0.7531\n",
            "Epoch 91/100\n",
            "500/500 [==============================] - 1s 1ms/step - loss: 0.5615 - accuracy: 0.7505 - val_loss: 31.0925 - val_accuracy: 0.7531\n",
            "Epoch 92/100\n",
            "500/500 [==============================] - 1s 1ms/step - loss: 0.5615 - accuracy: 0.7505 - val_loss: 31.0921 - val_accuracy: 0.7531\n",
            "Epoch 93/100\n",
            "500/500 [==============================] - 1s 1ms/step - loss: 0.5615 - accuracy: 0.7505 - val_loss: 31.0911 - val_accuracy: 0.7531\n",
            "Epoch 94/100\n",
            "500/500 [==============================] - 1s 1ms/step - loss: 0.5615 - accuracy: 0.7505 - val_loss: 31.0912 - val_accuracy: 0.7531\n",
            "Epoch 95/100\n",
            "500/500 [==============================] - 1s 1ms/step - loss: 0.5615 - accuracy: 0.7505 - val_loss: 31.0911 - val_accuracy: 0.7531\n",
            "Epoch 96/100\n",
            "500/500 [==============================] - 1s 1ms/step - loss: 0.5615 - accuracy: 0.7505 - val_loss: 31.0907 - val_accuracy: 0.7531\n",
            "Epoch 97/100\n",
            "500/500 [==============================] - 1s 1ms/step - loss: 0.5615 - accuracy: 0.7505 - val_loss: 31.0888 - val_accuracy: 0.7531\n",
            "Epoch 98/100\n",
            "500/500 [==============================] - 1s 1ms/step - loss: 0.5615 - accuracy: 0.7505 - val_loss: 31.0893 - val_accuracy: 0.7531\n",
            "Epoch 99/100\n",
            "500/500 [==============================] - 1s 1ms/step - loss: 0.5615 - accuracy: 0.7505 - val_loss: 31.0878 - val_accuracy: 0.7531\n",
            "Epoch 100/100\n",
            "500/500 [==============================] - 1s 1ms/step - loss: 0.5615 - accuracy: 0.7505 - val_loss: 31.0894 - val_accuracy: 0.7531\n",
            "125/125 [==============================] - 0s 952us/step - loss: 31.0894 - accuracy: 0.7531\n",
            "Accuracy: 75.31%\n",
            "Error: 24.69%\n"
          ],
          "name": "stdout"
        }
      ]
    },
    {
      "cell_type": "code",
      "metadata": {
        "colab": {
          "base_uri": "https://localhost:8080/"
        },
        "id": "WAYS0AAFhGNm",
        "outputId": "3d1763d0-4698-4059-8022-01b68360ebc0"
      },
      "source": [
        "print(\"History Keys\",history.history.keys())"
      ],
      "execution_count": null,
      "outputs": [
        {
          "output_type": "stream",
          "text": [
            "History Keys dict_keys(['loss', 'accuracy', 'val_loss', 'val_accuracy'])\n"
          ],
          "name": "stdout"
        }
      ]
    },
    {
      "cell_type": "code",
      "metadata": {
        "id": "bpioXSzfsiZJ",
        "colab": {
          "base_uri": "https://localhost:8080/",
          "height": 295
        },
        "outputId": "107c21b3-9030-429c-ce77-e52a1b760f34"
      },
      "source": [
        "import matplotlib.pyplot as plt\n",
        "\n",
        "\n",
        "# Plot history: Accuracy\n",
        "%matplotlib inline\n",
        "# plt.ylim(0.6,1.05)\n",
        "plt.plot(history.history['accuracy'], label='Accuracy (training data)')\n",
        "plt.plot(history.history['val_accuracy'], label='Accuracy (validation data)')\n",
        "plt.title('Model Accuracy')\n",
        "plt.ylabel('Accuracy')\n",
        "plt.xlabel('No. epoch')\n",
        "plt.legend(loc=\"lower right\")\n",
        "plt.show()"
      ],
      "execution_count": null,
      "outputs": [
        {
          "output_type": "display_data",
          "data": {
            "image/png": "[encoded data removed]",
            "text/plain": [
              "<Figure size 432x288 with 1 Axes>"
            ]
          },
          "metadata": {
            "tags": [],
            "needs_background": "light"
          }
        }
      ]
    },
    {
      "cell_type": "code",
      "metadata": {
        "id": "pJaXebM4skp_",
        "colab": {
          "base_uri": "https://localhost:8080/",
          "height": 295
        },
        "outputId": "c8db00c0-be0f-4ad1-c07e-0165d4c3ebe3"
      },
      "source": [
        "# Plot history: loss\n",
        "%matplotlib inline\n",
        "# plt.ylim(-0.1,1.0)\n",
        "plt.plot(history.history['loss'], label='Crossentrophy Loss (training data)')\n",
        "plt.plot(history.history['val_loss'], label='Crossentrophy Loss (validation data)')\n",
        "plt.title('Model Crossentrophy Loss')\n",
        "plt.ylabel('Crossentrophy Loss')\n",
        "plt.xlabel('No. epoch')\n",
        "plt.legend(loc=\"center right\")\n",
        "plt.show()\n"
      ],
      "execution_count": null,
      "outputs": [
        {
          "output_type": "display_data",
          "data": {
            "image/png": "[encoded data removed]",
            "text/plain": [
              "<Figure size 432x288 with 1 Axes>"
            ]
          },
          "metadata": {
            "tags": [],
            "needs_background": "light"
          }
        }
      ]
    }
  ]
}