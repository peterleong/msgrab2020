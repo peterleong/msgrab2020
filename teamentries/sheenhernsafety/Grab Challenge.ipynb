{
 "cells": [
  {
   "cell_type": "markdown",
   "metadata": {
    "id": "TyYQPHt1RuIP"
   },
   "source": [
    "# Grab Challenge"
   ]
  },
  {
   "cell_type": "code",
   "execution_count": 48,
   "metadata": {
    "id": "2CfnVYdG6Gkt"
   },
   "outputs": [],
   "source": [
    "import pandas as pd\n",
    "import numpy as np\n",
    "import matplotlib.pyplot as plt\n",
    "import seaborn as sns\n",
    "\n",
    "from sklearn.ensemble import GradientBoostingClassifier, RandomForestClassifier\n",
    "from sklearn.tree import DecisionTreeClassifier\n",
    "from sklearn.model_selection import train_test_split\n",
    "from xgboost import XGBClassifier"
   ]
  },
  {
   "cell_type": "markdown",
   "metadata": {
    "id": "vtS6y5GIRxU8"
   },
   "source": [
    "### Reading the data"
   ]
  },
  {
   "cell_type": "code",
   "execution_count": null,
   "metadata": {
    "id": "-maZPIc9P6zJ"
   },
   "outputs": [],
   "source": [
    "li = []\n",
    "\n",
    "for i in range(10):\n",
    "    to_concat_df = pd.read_csv('part-0000{}-e6120af0-10c2-4248-97c4-81baf4304e5c-c000.csv'.format(i))\n",
    "    li.append(to_concat_df)"
   ]
  },
  {
   "cell_type": "code",
   "execution_count": null,
   "metadata": {
    "id": "VHE7Gm0MP8p2"
   },
   "outputs": [],
   "source": [
    "df = pd.concat(li, axis=0, ignore_index=True)\n",
    "df"
   ]
  },
  {
   "cell_type": "code",
   "execution_count": null,
   "metadata": {
    "id": "rlnLlw7VP-WW"
   },
   "outputs": [],
   "source": [
    "labels = pd.read_csv('part-00000-e9445087-aa0a-433b-a7f6-7f4c19d78ad6-c000.csv')\n",
    "labels"
   ]
  },
  {
   "cell_type": "code",
   "execution_count": null,
   "metadata": {
    "id": "Tx-EM_x8QD-y"
   },
   "outputs": [],
   "source": [
    "drop_bookingIDs = np.random.choice(non_dangerous_ids, 5000, replace=False)"
   ]
  },
  {
   "cell_type": "code",
   "execution_count": null,
   "metadata": {
    "id": "dCisrLvnQIk8"
   },
   "outputs": [],
   "source": [
    "df = df.drop(df[df['bookingID'].isin(drop_bookingIDs)].index)\n",
    "labels = labels.drop(labels[labels['bookingID'].isin(drop_bookingIDs)].index)"
   ]
  },
  {
   "cell_type": "code",
   "execution_count": null,
   "metadata": {
    "id": "QMW6Z6sYQjkp"
   },
   "outputs": [],
   "source": [
    "df.to_hdf('downsampled_features.hdf')\n",
    "labels.to_feather('downsampled_labels.hdf')"
   ]
  },
  {
   "cell_type": "markdown",
   "metadata": {
    "id": "HPMMqaecR24b"
   },
   "source": [
    "Save data to hdf so that the big dataset can be read faster\n"
   ]
  },
  {
   "cell_type": "code",
   "execution_count": null,
   "metadata": {
    "id": "bYhfg4YaQkPd"
   },
   "outputs": [],
   "source": [
    "df = pd.read_hdf('./drive/MyDrive/Grab Challenge/downsampled_features.hdf')\n",
    "labels = pd.read_hdf('./drive/MyDrive/Grab Challenge/downsampled_labels.hdf')"
   ]
  },
  {
   "cell_type": "code",
   "execution_count": 27,
   "metadata": {
    "colab": {
     "base_uri": "https://localhost:8080/",
     "height": 405
    },
    "id": "21aJjqkIJ-xy",
    "outputId": "0f174d56-db3a-43af-a7a7-51abc89adf45"
   },
   "outputs": [
    {
     "data": {
      "text/html": [
       "<div>\n",
       "<style scoped>\n",
       "    .dataframe tbody tr th:only-of-type {\n",
       "        vertical-align: middle;\n",
       "    }\n",
       "\n",
       "    .dataframe tbody tr th {\n",
       "        vertical-align: top;\n",
       "    }\n",
       "\n",
       "    .dataframe thead th {\n",
       "        text-align: right;\n",
       "    }\n",
       "</style>\n",
       "<table border=\"1\" class=\"dataframe\">\n",
       "  <thead>\n",
       "    <tr style=\"text-align: right;\">\n",
       "      <th></th>\n",
       "      <th>bookingID</th>\n",
       "      <th>label</th>\n",
       "    </tr>\n",
       "  </thead>\n",
       "  <tbody>\n",
       "    <tr>\n",
       "      <th>0</th>\n",
       "      <td>111669149733</td>\n",
       "      <td>0</td>\n",
       "    </tr>\n",
       "    <tr>\n",
       "      <th>1</th>\n",
       "      <td>335007449205</td>\n",
       "      <td>1</td>\n",
       "    </tr>\n",
       "    <tr>\n",
       "      <th>3</th>\n",
       "      <td>1520418422900</td>\n",
       "      <td>0</td>\n",
       "    </tr>\n",
       "    <tr>\n",
       "      <th>4</th>\n",
       "      <td>798863917116</td>\n",
       "      <td>0</td>\n",
       "    </tr>\n",
       "    <tr>\n",
       "      <th>5</th>\n",
       "      <td>283467841567</td>\n",
       "      <td>0</td>\n",
       "    </tr>\n",
       "    <tr>\n",
       "      <th>...</th>\n",
       "      <td>...</td>\n",
       "      <td>...</td>\n",
       "    </tr>\n",
       "    <tr>\n",
       "      <th>20012</th>\n",
       "      <td>558345748558</td>\n",
       "      <td>0</td>\n",
       "    </tr>\n",
       "    <tr>\n",
       "      <th>20013</th>\n",
       "      <td>429496729754</td>\n",
       "      <td>0</td>\n",
       "    </tr>\n",
       "    <tr>\n",
       "      <th>20014</th>\n",
       "      <td>154618822713</td>\n",
       "      <td>0</td>\n",
       "    </tr>\n",
       "    <tr>\n",
       "      <th>20015</th>\n",
       "      <td>979252543488</td>\n",
       "      <td>0</td>\n",
       "    </tr>\n",
       "    <tr>\n",
       "      <th>20017</th>\n",
       "      <td>558345748643</td>\n",
       "      <td>1</td>\n",
       "    </tr>\n",
       "  </tbody>\n",
       "</table>\n",
       "<p>15000 rows × 2 columns</p>\n",
       "</div>"
      ],
      "text/plain": [
       "           bookingID  label\n",
       "0       111669149733      0\n",
       "1       335007449205      1\n",
       "3      1520418422900      0\n",
       "4       798863917116      0\n",
       "5       283467841567      0\n",
       "...              ...    ...\n",
       "20012   558345748558      0\n",
       "20013   429496729754      0\n",
       "20014   154618822713      0\n",
       "20015   979252543488      0\n",
       "20017   558345748643      1\n",
       "\n",
       "[15000 rows x 2 columns]"
      ]
     },
     "execution_count": 27,
     "metadata": {
      "tags": []
     },
     "output_type": "execute_result"
    }
   ],
   "source": [
    "# Remove duplicated labels\n",
    "labels = labels[~labels['bookingID'].duplicated()]\n",
    "labels"
   ]
  },
  {
   "cell_type": "code",
   "execution_count": 5,
   "metadata": {
    "colab": {
     "base_uri": "https://localhost:8080/",
     "height": 425
    },
    "id": "dvhicHxz7LE5",
    "outputId": "9936a4df-f8f4-449b-ae55-6fe4136f6d18"
   },
   "outputs": [
    {
     "data": {
      "text/html": [
       "<div>\n",
       "<style scoped>\n",
       "    .dataframe tbody tr th:only-of-type {\n",
       "        vertical-align: middle;\n",
       "    }\n",
       "\n",
       "    .dataframe tbody tr th {\n",
       "        vertical-align: top;\n",
       "    }\n",
       "\n",
       "    .dataframe thead th {\n",
       "        text-align: right;\n",
       "    }\n",
       "</style>\n",
       "<table border=\"1\" class=\"dataframe\">\n",
       "  <thead>\n",
       "    <tr style=\"text-align: right;\">\n",
       "      <th></th>\n",
       "      <th>bookingID</th>\n",
       "      <th>Accuracy</th>\n",
       "      <th>Bearing</th>\n",
       "      <th>acceleration_x</th>\n",
       "      <th>acceleration_y</th>\n",
       "      <th>acceleration_z</th>\n",
       "      <th>gyro_x</th>\n",
       "      <th>gyro_y</th>\n",
       "      <th>gyro_z</th>\n",
       "      <th>second</th>\n",
       "      <th>Speed</th>\n",
       "    </tr>\n",
       "  </thead>\n",
       "  <tbody>\n",
       "    <tr>\n",
       "      <th>0</th>\n",
       "      <td>1202590843006</td>\n",
       "      <td>3.000</td>\n",
       "      <td>353.000000</td>\n",
       "      <td>1.228867</td>\n",
       "      <td>8.900100</td>\n",
       "      <td>3.986968</td>\n",
       "      <td>0.008221</td>\n",
       "      <td>0.002269</td>\n",
       "      <td>-0.009966</td>\n",
       "      <td>1362.0</td>\n",
       "      <td>0.000000</td>\n",
       "    </tr>\n",
       "    <tr>\n",
       "      <th>1</th>\n",
       "      <td>274877907034</td>\n",
       "      <td>9.293</td>\n",
       "      <td>17.000000</td>\n",
       "      <td>0.032775</td>\n",
       "      <td>8.659933</td>\n",
       "      <td>4.737300</td>\n",
       "      <td>0.024629</td>\n",
       "      <td>0.004028</td>\n",
       "      <td>-0.010858</td>\n",
       "      <td>257.0</td>\n",
       "      <td>0.190000</td>\n",
       "    </tr>\n",
       "    <tr>\n",
       "      <th>2</th>\n",
       "      <td>884763263056</td>\n",
       "      <td>3.000</td>\n",
       "      <td>189.000000</td>\n",
       "      <td>1.139675</td>\n",
       "      <td>9.545974</td>\n",
       "      <td>1.951334</td>\n",
       "      <td>-0.006899</td>\n",
       "      <td>-0.015080</td>\n",
       "      <td>0.001122</td>\n",
       "      <td>973.0</td>\n",
       "      <td>0.667059</td>\n",
       "    </tr>\n",
       "    <tr>\n",
       "      <th>4</th>\n",
       "      <td>1056561954943</td>\n",
       "      <td>3.900</td>\n",
       "      <td>50.000000</td>\n",
       "      <td>-0.112882</td>\n",
       "      <td>10.550960</td>\n",
       "      <td>-1.560110</td>\n",
       "      <td>0.130568</td>\n",
       "      <td>-0.061697</td>\n",
       "      <td>0.161530</td>\n",
       "      <td>820.0</td>\n",
       "      <td>20.419409</td>\n",
       "    </tr>\n",
       "    <tr>\n",
       "      <th>5</th>\n",
       "      <td>1185410973787</td>\n",
       "      <td>3.900</td>\n",
       "      <td>178.000000</td>\n",
       "      <td>0.805649</td>\n",
       "      <td>9.206902</td>\n",
       "      <td>2.954445</td>\n",
       "      <td>-0.057104</td>\n",
       "      <td>-0.043555</td>\n",
       "      <td>0.002334</td>\n",
       "      <td>533.0</td>\n",
       "      <td>19.250000</td>\n",
       "    </tr>\n",
       "    <tr>\n",
       "      <th>...</th>\n",
       "      <td>...</td>\n",
       "      <td>...</td>\n",
       "      <td>...</td>\n",
       "      <td>...</td>\n",
       "      <td>...</td>\n",
       "      <td>...</td>\n",
       "      <td>...</td>\n",
       "      <td>...</td>\n",
       "      <td>...</td>\n",
       "      <td>...</td>\n",
       "      <td>...</td>\n",
       "    </tr>\n",
       "    <tr>\n",
       "      <th>16135555</th>\n",
       "      <td>1331439861893</td>\n",
       "      <td>9.000</td>\n",
       "      <td>138.065338</td>\n",
       "      <td>-0.820355</td>\n",
       "      <td>-9.246567</td>\n",
       "      <td>-2.435046</td>\n",
       "      <td>-0.069028</td>\n",
       "      <td>-0.013546</td>\n",
       "      <td>0.031578</td>\n",
       "      <td>719.0</td>\n",
       "      <td>15.078815</td>\n",
       "    </tr>\n",
       "    <tr>\n",
       "      <th>16135556</th>\n",
       "      <td>592705486872</td>\n",
       "      <td>3.000</td>\n",
       "      <td>59.000000</td>\n",
       "      <td>0.189148</td>\n",
       "      <td>9.670476</td>\n",
       "      <td>1.625713</td>\n",
       "      <td>0.004508</td>\n",
       "      <td>0.100046</td>\n",
       "      <td>0.007831</td>\n",
       "      <td>155.0</td>\n",
       "      <td>0.000000</td>\n",
       "    </tr>\n",
       "    <tr>\n",
       "      <th>16135557</th>\n",
       "      <td>1357209665551</td>\n",
       "      <td>7.000</td>\n",
       "      <td>290.154938</td>\n",
       "      <td>-1.576559</td>\n",
       "      <td>-8.460007</td>\n",
       "      <td>-4.211835</td>\n",
       "      <td>0.049078</td>\n",
       "      <td>0.023569</td>\n",
       "      <td>-0.073863</td>\n",
       "      <td>83.0</td>\n",
       "      <td>11.094002</td>\n",
       "    </tr>\n",
       "    <tr>\n",
       "      <th>16135558</th>\n",
       "      <td>1520418422900</td>\n",
       "      <td>3.900</td>\n",
       "      <td>253.000000</td>\n",
       "      <td>-0.143478</td>\n",
       "      <td>10.014740</td>\n",
       "      <td>0.629425</td>\n",
       "      <td>0.007156</td>\n",
       "      <td>-0.026550</td>\n",
       "      <td>-0.013199</td>\n",
       "      <td>364.0</td>\n",
       "      <td>21.520000</td>\n",
       "    </tr>\n",
       "    <tr>\n",
       "      <th>16135560</th>\n",
       "      <td>1520418422978</td>\n",
       "      <td>3.000</td>\n",
       "      <td>0.000000</td>\n",
       "      <td>1.533486</td>\n",
       "      <td>9.551667</td>\n",
       "      <td>1.727417</td>\n",
       "      <td>-0.001812</td>\n",
       "      <td>0.005274</td>\n",
       "      <td>0.000916</td>\n",
       "      <td>711.0</td>\n",
       "      <td>0.000000</td>\n",
       "    </tr>\n",
       "  </tbody>\n",
       "</table>\n",
       "<p>12388500 rows × 11 columns</p>\n",
       "</div>"
      ],
      "text/plain": [
       "              bookingID  Accuracy     Bearing  ...    gyro_z  second      Speed\n",
       "0         1202590843006     3.000  353.000000  ... -0.009966  1362.0   0.000000\n",
       "1          274877907034     9.293   17.000000  ... -0.010858   257.0   0.190000\n",
       "2          884763263056     3.000  189.000000  ...  0.001122   973.0   0.667059\n",
       "4         1056561954943     3.900   50.000000  ...  0.161530   820.0  20.419409\n",
       "5         1185410973787     3.900  178.000000  ...  0.002334   533.0  19.250000\n",
       "...                 ...       ...         ...  ...       ...     ...        ...\n",
       "16135555  1331439861893     9.000  138.065338  ...  0.031578   719.0  15.078815\n",
       "16135556   592705486872     3.000   59.000000  ...  0.007831   155.0   0.000000\n",
       "16135557  1357209665551     7.000  290.154938  ... -0.073863    83.0  11.094002\n",
       "16135558  1520418422900     3.900  253.000000  ... -0.013199   364.0  21.520000\n",
       "16135560  1520418422978     3.000    0.000000  ...  0.000916   711.0   0.000000\n",
       "\n",
       "[12388500 rows x 11 columns]"
      ]
     },
     "execution_count": 5,
     "metadata": {
      "tags": []
     },
     "output_type": "execute_result"
    }
   ],
   "source": [
    "df"
   ]
  },
  {
   "cell_type": "markdown",
   "metadata": {
    "id": "padtr9DqR__c"
   },
   "source": [
    "For this problem, we can aggregate the data for each bookingID, to create features for each trip, which can be used to predict the label. "
   ]
  },
  {
   "cell_type": "markdown",
   "metadata": {
    "id": "qkpU8Ww-Swba"
   },
   "source": [
    "Here are the features:\n",
    "\n",
    "- Average Acceleration magnitude (Average Acceleration Magnitude for each second, sqrt(x^2 + y^2 + z^2) )\n",
    "\n",
    "- Average gyro x/y/z squared (Gryo x/y/z squared average for each second, squared as so there are no -ve values)\n",
    "\n",
    "- Average speed (Average speed for each second)"
   ]
  },
  {
   "cell_type": "code",
   "execution_count": 10,
   "metadata": {
    "id": "_dO8vMZNGXVm"
   },
   "outputs": [],
   "source": [
    "dic = {}\n",
    "for key, group in df.groupby('bookingID'):\n",
    "  trip_features = []\n",
    "  group['acceleration_magnitude'] = np.sqrt(group['acceleration_x']**2 + group['acceleration_y']**2 + group['acceleration_z']**2)\n",
    "  group['sq_gyro_x'] = group['gyro_x'] ** 2\n",
    "  group['sq_gyro_y'] = group['gyro_y'] ** 2\n",
    "  group['sq_gyro_z'] = group['gyro_z'] ** 2\n",
    "  trip_features.append(group['acceleration_magnitude'].mean())\n",
    "  trip_features.append(group['sq_gyro_x'].mean())\n",
    "  trip_features.append(group['sq_gyro_y'].mean())\n",
    "  trip_features.append(group['sq_gyro_z'].mean())\n",
    "  trip_features.append(group['Speed'].mean())\n",
    "  dic[key] = trip_features"
   ]
  },
  {
   "cell_type": "code",
   "execution_count": 33,
   "metadata": {
    "colab": {
     "base_uri": "https://localhost:8080/",
     "height": 425
    },
    "id": "g0Y-957bJGI3",
    "outputId": "401e9294-453a-4076-9c74-a85af198bf53"
   },
   "outputs": [
    {
     "data": {
      "text/html": [
       "<div>\n",
       "<style scoped>\n",
       "    .dataframe tbody tr th:only-of-type {\n",
       "        vertical-align: middle;\n",
       "    }\n",
       "\n",
       "    .dataframe tbody tr th {\n",
       "        vertical-align: top;\n",
       "    }\n",
       "\n",
       "    .dataframe thead th {\n",
       "        text-align: right;\n",
       "    }\n",
       "</style>\n",
       "<table border=\"1\" class=\"dataframe\">\n",
       "  <thead>\n",
       "    <tr style=\"text-align: right;\">\n",
       "      <th></th>\n",
       "      <th>bookingID</th>\n",
       "      <th>avg_acceleration_magnitude</th>\n",
       "      <th>avg_gyrox_squared</th>\n",
       "      <th>avg_gyroy_squared</th>\n",
       "      <th>avg_gyroz_squared</th>\n",
       "      <th>avg_speed</th>\n",
       "    </tr>\n",
       "  </thead>\n",
       "  <tbody>\n",
       "    <tr>\n",
       "      <th>0</th>\n",
       "      <td>0</td>\n",
       "      <td>9.886164</td>\n",
       "      <td>0.004357</td>\n",
       "      <td>0.010073</td>\n",
       "      <td>0.004069</td>\n",
       "      <td>8.994822</td>\n",
       "    </tr>\n",
       "    <tr>\n",
       "      <th>1</th>\n",
       "      <td>1</td>\n",
       "      <td>9.862507</td>\n",
       "      <td>0.000775</td>\n",
       "      <td>0.008456</td>\n",
       "      <td>0.001144</td>\n",
       "      <td>7.881588</td>\n",
       "    </tr>\n",
       "    <tr>\n",
       "      <th>2</th>\n",
       "      <td>2</td>\n",
       "      <td>9.929590</td>\n",
       "      <td>0.002932</td>\n",
       "      <td>0.013859</td>\n",
       "      <td>0.001312</td>\n",
       "      <td>3.157213</td>\n",
       "    </tr>\n",
       "    <tr>\n",
       "      <th>3</th>\n",
       "      <td>4</td>\n",
       "      <td>9.813434</td>\n",
       "      <td>0.002315</td>\n",
       "      <td>0.013199</td>\n",
       "      <td>0.004343</td>\n",
       "      <td>6.150996</td>\n",
       "    </tr>\n",
       "    <tr>\n",
       "      <th>4</th>\n",
       "      <td>6</td>\n",
       "      <td>9.918090</td>\n",
       "      <td>0.003056</td>\n",
       "      <td>0.011399</td>\n",
       "      <td>0.003305</td>\n",
       "      <td>4.628921</td>\n",
       "    </tr>\n",
       "    <tr>\n",
       "      <th>...</th>\n",
       "      <td>...</td>\n",
       "      <td>...</td>\n",
       "      <td>...</td>\n",
       "      <td>...</td>\n",
       "      <td>...</td>\n",
       "      <td>...</td>\n",
       "    </tr>\n",
       "    <tr>\n",
       "      <th>14995</th>\n",
       "      <td>1709396983957</td>\n",
       "      <td>11.332052</td>\n",
       "      <td>0.051908</td>\n",
       "      <td>0.026310</td>\n",
       "      <td>0.144247</td>\n",
       "      <td>2.305969</td>\n",
       "    </tr>\n",
       "    <tr>\n",
       "      <th>14996</th>\n",
       "      <td>1709396983960</td>\n",
       "      <td>9.876478</td>\n",
       "      <td>0.006233</td>\n",
       "      <td>0.007316</td>\n",
       "      <td>0.002076</td>\n",
       "      <td>7.611645</td>\n",
       "    </tr>\n",
       "    <tr>\n",
       "      <th>14997</th>\n",
       "      <td>1709396983966</td>\n",
       "      <td>9.723770</td>\n",
       "      <td>0.000561</td>\n",
       "      <td>0.009851</td>\n",
       "      <td>0.001769</td>\n",
       "      <td>12.718705</td>\n",
       "    </tr>\n",
       "    <tr>\n",
       "      <th>14998</th>\n",
       "      <td>1709396983971</td>\n",
       "      <td>9.775231</td>\n",
       "      <td>0.004286</td>\n",
       "      <td>0.028969</td>\n",
       "      <td>0.004458</td>\n",
       "      <td>6.245733</td>\n",
       "    </tr>\n",
       "    <tr>\n",
       "      <th>14999</th>\n",
       "      <td>1709396983975</td>\n",
       "      <td>9.840983</td>\n",
       "      <td>0.003446</td>\n",
       "      <td>0.013747</td>\n",
       "      <td>0.003106</td>\n",
       "      <td>4.400441</td>\n",
       "    </tr>\n",
       "  </tbody>\n",
       "</table>\n",
       "<p>15000 rows × 6 columns</p>\n",
       "</div>"
      ],
      "text/plain": [
       "           bookingID  avg_acceleration_magnitude  ...  avg_gyroz_squared  avg_speed\n",
       "0                  0                    9.886164  ...           0.004069   8.994822\n",
       "1                  1                    9.862507  ...           0.001144   7.881588\n",
       "2                  2                    9.929590  ...           0.001312   3.157213\n",
       "3                  4                    9.813434  ...           0.004343   6.150996\n",
       "4                  6                    9.918090  ...           0.003305   4.628921\n",
       "...              ...                         ...  ...                ...        ...\n",
       "14995  1709396983957                   11.332052  ...           0.144247   2.305969\n",
       "14996  1709396983960                    9.876478  ...           0.002076   7.611645\n",
       "14997  1709396983966                    9.723770  ...           0.001769  12.718705\n",
       "14998  1709396983971                    9.775231  ...           0.004458   6.245733\n",
       "14999  1709396983975                    9.840983  ...           0.003106   4.400441\n",
       "\n",
       "[15000 rows x 6 columns]"
      ]
     },
     "execution_count": 33,
     "metadata": {
      "tags": []
     },
     "output_type": "execute_result"
    }
   ],
   "source": [
    "agg_df = pd.DataFrame.from_dict(dic, orient='index', columns = ['avg_acceleration_magnitude', 'avg_gyrox_squared', 'avg_gyroy_squared', 'avg_gyroz_squared', 'avg_speed'])\n",
    "agg_df.reset_index(inplace=True)\n",
    "agg_df.rename(columns={'index': 'bookingID'}, inplace=True)\n",
    "agg_df"
   ]
  },
  {
   "cell_type": "markdown",
   "metadata": {
    "id": "et1hxVKFToIZ"
   },
   "source": [
    "Merge together with labels"
   ]
  },
  {
   "cell_type": "code",
   "execution_count": 34,
   "metadata": {
    "colab": {
     "base_uri": "https://localhost:8080/",
     "height": 425
    },
    "id": "htBeY728K04B",
    "outputId": "dd39ea6f-df50-49d6-df85-5628287b5485"
   },
   "outputs": [
    {
     "data": {
      "text/html": [
       "<div>\n",
       "<style scoped>\n",
       "    .dataframe tbody tr th:only-of-type {\n",
       "        vertical-align: middle;\n",
       "    }\n",
       "\n",
       "    .dataframe tbody tr th {\n",
       "        vertical-align: top;\n",
       "    }\n",
       "\n",
       "    .dataframe thead th {\n",
       "        text-align: right;\n",
       "    }\n",
       "</style>\n",
       "<table border=\"1\" class=\"dataframe\">\n",
       "  <thead>\n",
       "    <tr style=\"text-align: right;\">\n",
       "      <th></th>\n",
       "      <th>bookingID</th>\n",
       "      <th>avg_acceleration_magnitude</th>\n",
       "      <th>avg_gyrox_squared</th>\n",
       "      <th>avg_gyroy_squared</th>\n",
       "      <th>avg_gyroz_squared</th>\n",
       "      <th>avg_speed</th>\n",
       "      <th>label</th>\n",
       "    </tr>\n",
       "  </thead>\n",
       "  <tbody>\n",
       "    <tr>\n",
       "      <th>0</th>\n",
       "      <td>0</td>\n",
       "      <td>9.886164</td>\n",
       "      <td>0.004357</td>\n",
       "      <td>0.010073</td>\n",
       "      <td>0.004069</td>\n",
       "      <td>8.994822</td>\n",
       "      <td>0</td>\n",
       "    </tr>\n",
       "    <tr>\n",
       "      <th>1</th>\n",
       "      <td>1</td>\n",
       "      <td>9.862507</td>\n",
       "      <td>0.000775</td>\n",
       "      <td>0.008456</td>\n",
       "      <td>0.001144</td>\n",
       "      <td>7.881588</td>\n",
       "      <td>1</td>\n",
       "    </tr>\n",
       "    <tr>\n",
       "      <th>2</th>\n",
       "      <td>2</td>\n",
       "      <td>9.929590</td>\n",
       "      <td>0.002932</td>\n",
       "      <td>0.013859</td>\n",
       "      <td>0.001312</td>\n",
       "      <td>3.157213</td>\n",
       "      <td>1</td>\n",
       "    </tr>\n",
       "    <tr>\n",
       "      <th>3</th>\n",
       "      <td>4</td>\n",
       "      <td>9.813434</td>\n",
       "      <td>0.002315</td>\n",
       "      <td>0.013199</td>\n",
       "      <td>0.004343</td>\n",
       "      <td>6.150996</td>\n",
       "      <td>1</td>\n",
       "    </tr>\n",
       "    <tr>\n",
       "      <th>4</th>\n",
       "      <td>6</td>\n",
       "      <td>9.918090</td>\n",
       "      <td>0.003056</td>\n",
       "      <td>0.011399</td>\n",
       "      <td>0.003305</td>\n",
       "      <td>4.628921</td>\n",
       "      <td>0</td>\n",
       "    </tr>\n",
       "    <tr>\n",
       "      <th>...</th>\n",
       "      <td>...</td>\n",
       "      <td>...</td>\n",
       "      <td>...</td>\n",
       "      <td>...</td>\n",
       "      <td>...</td>\n",
       "      <td>...</td>\n",
       "      <td>...</td>\n",
       "    </tr>\n",
       "    <tr>\n",
       "      <th>14995</th>\n",
       "      <td>1709396983957</td>\n",
       "      <td>11.332052</td>\n",
       "      <td>0.051908</td>\n",
       "      <td>0.026310</td>\n",
       "      <td>0.144247</td>\n",
       "      <td>2.305969</td>\n",
       "      <td>1</td>\n",
       "    </tr>\n",
       "    <tr>\n",
       "      <th>14996</th>\n",
       "      <td>1709396983960</td>\n",
       "      <td>9.876478</td>\n",
       "      <td>0.006233</td>\n",
       "      <td>0.007316</td>\n",
       "      <td>0.002076</td>\n",
       "      <td>7.611645</td>\n",
       "      <td>1</td>\n",
       "    </tr>\n",
       "    <tr>\n",
       "      <th>14997</th>\n",
       "      <td>1709396983966</td>\n",
       "      <td>9.723770</td>\n",
       "      <td>0.000561</td>\n",
       "      <td>0.009851</td>\n",
       "      <td>0.001769</td>\n",
       "      <td>12.718705</td>\n",
       "      <td>1</td>\n",
       "    </tr>\n",
       "    <tr>\n",
       "      <th>14998</th>\n",
       "      <td>1709396983971</td>\n",
       "      <td>9.775231</td>\n",
       "      <td>0.004286</td>\n",
       "      <td>0.028969</td>\n",
       "      <td>0.004458</td>\n",
       "      <td>6.245733</td>\n",
       "      <td>1</td>\n",
       "    </tr>\n",
       "    <tr>\n",
       "      <th>14999</th>\n",
       "      <td>1709396983975</td>\n",
       "      <td>9.840983</td>\n",
       "      <td>0.003446</td>\n",
       "      <td>0.013747</td>\n",
       "      <td>0.003106</td>\n",
       "      <td>4.400441</td>\n",
       "      <td>1</td>\n",
       "    </tr>\n",
       "  </tbody>\n",
       "</table>\n",
       "<p>15000 rows × 7 columns</p>\n",
       "</div>"
      ],
      "text/plain": [
       "           bookingID  avg_acceleration_magnitude  ...  avg_speed  label\n",
       "0                  0                    9.886164  ...   8.994822      0\n",
       "1                  1                    9.862507  ...   7.881588      1\n",
       "2                  2                    9.929590  ...   3.157213      1\n",
       "3                  4                    9.813434  ...   6.150996      1\n",
       "4                  6                    9.918090  ...   4.628921      0\n",
       "...              ...                         ...  ...        ...    ...\n",
       "14995  1709396983957                   11.332052  ...   2.305969      1\n",
       "14996  1709396983960                    9.876478  ...   7.611645      1\n",
       "14997  1709396983966                    9.723770  ...  12.718705      1\n",
       "14998  1709396983971                    9.775231  ...   6.245733      1\n",
       "14999  1709396983975                    9.840983  ...   4.400441      1\n",
       "\n",
       "[15000 rows x 7 columns]"
      ]
     },
     "execution_count": 34,
     "metadata": {
      "tags": []
     },
     "output_type": "execute_result"
    }
   ],
   "source": [
    "with_label = agg_df.merge(labels, how='inner', on='bookingID')\n",
    "with_label"
   ]
  },
  {
   "cell_type": "markdown",
   "metadata": {
    "id": "oLYGN5BgTq3o"
   },
   "source": [
    "Train Various Classifiers"
   ]
  },
  {
   "cell_type": "code",
   "execution_count": 36,
   "metadata": {
    "id": "caIJ6mAGM7uo"
   },
   "outputs": [],
   "source": [
    "X_train, X_test, y_train, y_test = train_test_split(with_label.drop('label', axis=1), with_label['label'], test_size = 0.2)"
   ]
  },
  {
   "cell_type": "code",
   "execution_count": 38,
   "metadata": {
    "colab": {
     "base_uri": "https://localhost:8080/"
    },
    "id": "ooUkkk6FNOWC",
    "outputId": "73341380-f173-48c5-b194-bff344180873"
   },
   "outputs": [
    {
     "data": {
      "text/plain": [
       "XGBClassifier(base_score=0.5, booster='gbtree', colsample_bylevel=1,\n",
       "              colsample_bynode=1, colsample_bytree=1, gamma=0,\n",
       "              learning_rate=0.1, max_delta_step=0, max_depth=3,\n",
       "              min_child_weight=1, missing=None, n_estimators=100, n_jobs=1,\n",
       "              nthread=None, objective='binary:logistic', random_state=0,\n",
       "              reg_alpha=0, reg_lambda=1, scale_pos_weight=1, seed=None,\n",
       "              silent=None, subsample=1, verbosity=1)"
      ]
     },
     "execution_count": 38,
     "metadata": {
      "tags": []
     },
     "output_type": "execute_result"
    }
   ],
   "source": [
    "xgb_clf = XGBClassifier()\n",
    "xgb_clf.fit(X_train, y_train)"
   ]
  },
  {
   "cell_type": "code",
   "execution_count": 39,
   "metadata": {
    "colab": {
     "base_uri": "https://localhost:8080/"
    },
    "id": "rqgZwXeeN9YT",
    "outputId": "90ae52e4-85a4-4e1a-eeb9-77e75fd8cddc"
   },
   "outputs": [
    {
     "name": "stdout",
     "output_type": "stream",
     "text": [
      "0.7013333333333334\n"
     ]
    }
   ],
   "source": [
    "score = xgb_clf.score(X_test, y_test)\n",
    "print(score)"
   ]
  },
  {
   "cell_type": "code",
   "execution_count": 46,
   "metadata": {
    "colab": {
     "base_uri": "https://localhost:8080/"
    },
    "id": "B1LPBFv6U5_b",
    "outputId": "ae0d0faa-1a0c-4667-f271-2e46032978ea"
   },
   "outputs": [
    {
     "name": "stdout",
     "output_type": "stream",
     "text": [
      "0.6936666666666667\n"
     ]
    }
   ],
   "source": [
    "rdf_clf = RandomForestClassifier()\n",
    "rdf_clf.fit(X_train, y_train)\n",
    "score = rdf_clf.score(X_test, y_test)\n",
    "print(score)"
   ]
  },
  {
   "cell_type": "code",
   "execution_count": 47,
   "metadata": {
    "colab": {
     "base_uri": "https://localhost:8080/"
    },
    "id": "SMb70AioU5k2",
    "outputId": "9e7ffc89-7ad4-4a55-bf99-99389a330271"
   },
   "outputs": [
    {
     "name": "stdout",
     "output_type": "stream",
     "text": [
      "0.7026666666666667\n"
     ]
    }
   ],
   "source": [
    "gbc_clf = GradientBoostingClassifier()\n",
    "gbc_clf.fit(X_train, y_train)\n",
    "score = gbc_clf.score(X_test, y_test)\n",
    "print(score)"
   ]
  },
  {
   "cell_type": "code",
   "execution_count": 49,
   "metadata": {
    "colab": {
     "base_uri": "https://localhost:8080/"
    },
    "id": "ipZufxosWQ6H",
    "outputId": "89d6c5f5-e290-4397-8b13-d58da97620cf"
   },
   "outputs": [
    {
     "name": "stdout",
     "output_type": "stream",
     "text": [
      "0.612\n"
     ]
    }
   ],
   "source": [
    "dtc_clf = DecisionTreeClassifier()\n",
    "dtc_clf.fit(X_train, y_train)\n",
    "score = dtc_clf.score(X_test, y_test)\n",
    "print(score)"
   ]
  },
  {
   "cell_type": "markdown",
   "metadata": {
    "id": "P-oSQDjtWXii"
   },
   "source": [
    "Yay, GradientBoostingClassifier is amazing!\n"
   ]
  }
 ],
 "metadata": {
  "colab": {
   "name": "Untitled0.ipynb",
   "provenance": []
  },
  "kernelspec": {
   "display_name": "Python 3",
   "language": "python",
   "name": "python3"
  },
  "language_info": {
   "codemirror_mode": {
    "name": "ipython",
    "version": 3
   },
   "file_extension": ".py",
   "mimetype": "text/x-python",
   "name": "python",
   "nbconvert_exporter": "python",
   "pygments_lexer": "ipython3",
   "version": "3.7.4"
  }
 },
 "nbformat": 4,
 "nbformat_minor": 1
}
