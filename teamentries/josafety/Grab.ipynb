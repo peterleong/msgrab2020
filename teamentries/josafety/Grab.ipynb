{
 "cells": [
  {
   "cell_type": "markdown",
   "metadata": {},
   "source": [
    "# Grab - Safety\n",
    "Submitted by: Group 4\n",
    "- Jo Hyunsuh\n",
    "- EV Chua Yee Suan\n",
    "- Timothy Toh"
   ]
  },
  {
   "cell_type": "markdown",
   "metadata": {},
   "source": [
    "# Data Importing"
   ]
  },
  {
   "cell_type": "code",
   "execution_count": 1,
   "metadata": {},
   "outputs": [],
   "source": [
    "# shift-tab to show docstring: highlight and shift-tab: format\n",
    "#?zip()\n",
    "#%lsmagic\n",
    "# Suppress Future Warnings\n",
    "import warnings\n",
    "#warnings.simplefilter(action='ignore', category=FutureWarning)\n",
    "warnings.filterwarnings('ignore')"
   ]
  },
  {
   "cell_type": "code",
   "execution_count": 2,
   "metadata": {},
   "outputs": [
    {
     "name": "stdout",
     "output_type": "stream",
     "text": [
      "************************\n",
      "        Versions        \n",
      "************************\n",
      "Scikit-learn version=0.23.1\n",
      "Numpy version=1.18.5\n",
      "Pandas version=1.0.5\n",
      "Matplotlib version=3.2.2\n",
      "Python version=3.8.3\n"
     ]
    }
   ],
   "source": [
    "import sklearn\n",
    "import numpy as np\n",
    "import pandas as pd\n",
    "import matplotlib\n",
    "from matplotlib import pyplot as plt\n",
    "import seaborn as sns\n",
    "import platform\n",
    "\n",
    "message=\"        Versions        \"\n",
    "print(\"*\"*len(message))\n",
    "print(message)\n",
    "print(\"*\"*len(message))\n",
    "print(\"Scikit-learn version={}\".format(sklearn.__version__))\n",
    "print(\"Numpy version={}\".format(np.__version__))\n",
    "print(\"Pandas version={}\".format(pd.__version__))\n",
    "print(\"Matplotlib version={}\".format(matplotlib.__version__))\n",
    "print(\"Python version={}\".format(platform.python_version()))"
   ]
  },
  {
   "cell_type": "code",
   "execution_count": 3,
   "metadata": {},
   "outputs": [],
   "source": [
    "from sklearn.model_selection import train_test_split\n",
    "\n",
    "from sklearn.linear_model import LogisticRegression\n",
    "from sklearn.svm import SVC, LinearSVC\n",
    "from sklearn.ensemble import RandomForestClassifier\n",
    "\n",
    "from sklearn.metrics import confusion_matrix\n",
    "from sklearn.metrics import accuracy_score"
   ]
  },
  {
   "cell_type": "code",
   "execution_count": 4,
   "metadata": {},
   "outputs": [],
   "source": [
    "# Load the datasets\n",
    "data = pd.read_csv('Safety_DataSet_Aggregated.csv')"
   ]
  },
  {
   "cell_type": "code",
   "execution_count": 5,
   "metadata": {},
   "outputs": [
    {
     "data": {
      "text/html": [
       "<div>\n",
       "<style scoped>\n",
       "    .dataframe tbody tr th:only-of-type {\n",
       "        vertical-align: middle;\n",
       "    }\n",
       "\n",
       "    .dataframe tbody tr th {\n",
       "        vertical-align: top;\n",
       "    }\n",
       "\n",
       "    .dataframe thead th {\n",
       "        text-align: right;\n",
       "    }\n",
       "</style>\n",
       "<table border=\"1\" class=\"dataframe\">\n",
       "  <thead>\n",
       "    <tr style=\"text-align: right;\">\n",
       "      <th></th>\n",
       "      <th>bookingID</th>\n",
       "      <th>Accuracy</th>\n",
       "      <th>Bearing</th>\n",
       "      <th>acceleration_x</th>\n",
       "      <th>acceleration_y</th>\n",
       "      <th>acceleration_z</th>\n",
       "      <th>gyro_x</th>\n",
       "      <th>gyro_y</th>\n",
       "      <th>gyro_z</th>\n",
       "      <th>second</th>\n",
       "      <th>Speed</th>\n",
       "      <th>label</th>\n",
       "    </tr>\n",
       "  </thead>\n",
       "  <tbody>\n",
       "    <tr>\n",
       "      <th>0</th>\n",
       "      <td>0</td>\n",
       "      <td>12.0</td>\n",
       "      <td>143.298294</td>\n",
       "      <td>0.818112</td>\n",
       "      <td>-9.941461</td>\n",
       "      <td>-2.014999</td>\n",
       "      <td>-0.016245</td>\n",
       "      <td>-0.094040</td>\n",
       "      <td>0.070732</td>\n",
       "      <td>0.0</td>\n",
       "      <td>3.442991</td>\n",
       "      <td>0</td>\n",
       "    </tr>\n",
       "    <tr>\n",
       "      <th>1</th>\n",
       "      <td>0</td>\n",
       "      <td>8.0</td>\n",
       "      <td>143.298294</td>\n",
       "      <td>0.546405</td>\n",
       "      <td>-9.835590</td>\n",
       "      <td>-2.038925</td>\n",
       "      <td>-0.047092</td>\n",
       "      <td>-0.078874</td>\n",
       "      <td>0.043187</td>\n",
       "      <td>1.0</td>\n",
       "      <td>0.228454</td>\n",
       "      <td>0</td>\n",
       "    </tr>\n",
       "    <tr>\n",
       "      <th>2</th>\n",
       "      <td>0</td>\n",
       "      <td>8.0</td>\n",
       "      <td>143.298294</td>\n",
       "      <td>-1.706207</td>\n",
       "      <td>-9.270792</td>\n",
       "      <td>-1.209448</td>\n",
       "      <td>-0.028965</td>\n",
       "      <td>-0.032652</td>\n",
       "      <td>0.015390</td>\n",
       "      <td>2.0</td>\n",
       "      <td>0.228454</td>\n",
       "      <td>0</td>\n",
       "    </tr>\n",
       "    <tr>\n",
       "      <th>3</th>\n",
       "      <td>0</td>\n",
       "      <td>8.0</td>\n",
       "      <td>143.298294</td>\n",
       "      <td>-1.416705</td>\n",
       "      <td>-9.548032</td>\n",
       "      <td>-1.860977</td>\n",
       "      <td>-0.022413</td>\n",
       "      <td>0.005049</td>\n",
       "      <td>-0.025753</td>\n",
       "      <td>3.0</td>\n",
       "      <td>0.228454</td>\n",
       "      <td>0</td>\n",
       "    </tr>\n",
       "    <tr>\n",
       "      <th>4</th>\n",
       "      <td>0</td>\n",
       "      <td>8.0</td>\n",
       "      <td>143.298294</td>\n",
       "      <td>-0.598145</td>\n",
       "      <td>-9.853534</td>\n",
       "      <td>-1.378574</td>\n",
       "      <td>-0.014297</td>\n",
       "      <td>-0.046206</td>\n",
       "      <td>0.021902</td>\n",
       "      <td>4.0</td>\n",
       "      <td>0.228454</td>\n",
       "      <td>0</td>\n",
       "    </tr>\n",
       "  </tbody>\n",
       "</table>\n",
       "</div>"
      ],
      "text/plain": [
       "   bookingID  Accuracy     Bearing  acceleration_x  acceleration_y  \\\n",
       "0          0      12.0  143.298294        0.818112       -9.941461   \n",
       "1          0       8.0  143.298294        0.546405       -9.835590   \n",
       "2          0       8.0  143.298294       -1.706207       -9.270792   \n",
       "3          0       8.0  143.298294       -1.416705       -9.548032   \n",
       "4          0       8.0  143.298294       -0.598145       -9.853534   \n",
       "\n",
       "   acceleration_z    gyro_x    gyro_y    gyro_z  second     Speed  label  \n",
       "0       -2.014999 -0.016245 -0.094040  0.070732     0.0  3.442991      0  \n",
       "1       -2.038925 -0.047092 -0.078874  0.043187     1.0  0.228454      0  \n",
       "2       -1.209448 -0.028965 -0.032652  0.015390     2.0  0.228454      0  \n",
       "3       -1.860977 -0.022413  0.005049 -0.025753     3.0  0.228454      0  \n",
       "4       -1.378574 -0.014297 -0.046206  0.021902     4.0  0.228454      0  "
      ]
     },
     "execution_count": 5,
     "metadata": {},
     "output_type": "execute_result"
    }
   ],
   "source": [
    "data.head()"
   ]
  },
  {
   "cell_type": "markdown",
   "metadata": {},
   "source": [
    "# Data Exploration / Cleansing"
   ]
  },
  {
   "cell_type": "markdown",
   "metadata": {},
   "source": [
    "1. bookingID: trip \n",
    "2. Accuracy: accuracy inferred by GPS in meters\n",
    "3. Bearing: GPS bearing in degree\n",
    "4. acceleration_x: accelerometer reading at x axis (m/s2)\n",
    "5. acceleration_y: accelerometer reading at y axis (m/s2)\n",
    "6. acceleration_z: accelerometer reading at z axis (m/s2)\n",
    "(Acceleration determines the acceleration / vibration of the device in motion. Each of the axis can be thought of as a different sensor even though they reside on the same physical chip)\n",
    "7. gyro_x: gyroscope reading in x axis (rad/s)\n",
    "8. gyro_y: gyroscope reading in y axis (rad/s)\n",
    "9. gyro_z: gyroscope reading in z axis (rad/s)\n",
    "(Gyroscope data determine the orientation of the device relative to earth's gravity)\n",
    "10. second: time of the record by number of seconds\n",
    "11. Speed: speed measured by GPS in m/s\n",
    "12. label: tags to indicate dangerous driving trip (0: Normal trip / 1: Dangerous trip)"
   ]
  },
  {
   "cell_type": "code",
   "execution_count": 6,
   "metadata": {},
   "outputs": [
    {
     "name": "stdout",
     "output_type": "stream",
     "text": [
      "<class 'pandas.core.frame.DataFrame'>\n",
      "RangeIndex: 16154418 entries, 0 to 16154417\n",
      "Data columns (total 12 columns):\n",
      " #   Column          Dtype  \n",
      "---  ------          -----  \n",
      " 0   bookingID       int64  \n",
      " 1   Accuracy        float64\n",
      " 2   Bearing         float64\n",
      " 3   acceleration_x  float64\n",
      " 4   acceleration_y  float64\n",
      " 5   acceleration_z  float64\n",
      " 6   gyro_x          float64\n",
      " 7   gyro_y          float64\n",
      " 8   gyro_z          float64\n",
      " 9   second          float64\n",
      " 10  Speed           float64\n",
      " 11  label           int64  \n",
      "dtypes: float64(10), int64(2)\n",
      "memory usage: 1.4 GB\n"
     ]
    }
   ],
   "source": [
    "data.info()"
   ]
  },
  {
   "cell_type": "code",
   "execution_count": 7,
   "metadata": {},
   "outputs": [
    {
     "data": {
      "text/plain": [
       "bookingID         0\n",
       "Accuracy          0\n",
       "Bearing           0\n",
       "acceleration_x    0\n",
       "acceleration_y    0\n",
       "acceleration_z    0\n",
       "gyro_x            0\n",
       "gyro_y            0\n",
       "gyro_z            0\n",
       "second            0\n",
       "Speed             0\n",
       "label             0\n",
       "dtype: int64"
      ]
     },
     "execution_count": 7,
     "metadata": {},
     "output_type": "execute_result"
    }
   ],
   "source": [
    "# List out all variables with null/missing values\n",
    "data.isnull().sum()"
   ]
  },
  {
   "cell_type": "markdown",
   "metadata": {},
   "source": [
    "In this dataset:\n",
    "- there are 16135561 trip information\n",
    "- there are 11 columns\n",
    "- all columns are nummeric variables\n",
    "- there is no null value"
   ]
  },
  {
   "cell_type": "code",
   "execution_count": 8,
   "metadata": {},
   "outputs": [
    {
     "data": {
      "text/html": [
       "<div>\n",
       "<style scoped>\n",
       "    .dataframe tbody tr th:only-of-type {\n",
       "        vertical-align: middle;\n",
       "    }\n",
       "\n",
       "    .dataframe tbody tr th {\n",
       "        vertical-align: top;\n",
       "    }\n",
       "\n",
       "    .dataframe thead th {\n",
       "        text-align: right;\n",
       "    }\n",
       "</style>\n",
       "<table border=\"1\" class=\"dataframe\">\n",
       "  <thead>\n",
       "    <tr style=\"text-align: right;\">\n",
       "      <th></th>\n",
       "      <th>bookingID</th>\n",
       "      <th>Accuracy</th>\n",
       "      <th>Bearing</th>\n",
       "      <th>acceleration_x</th>\n",
       "      <th>acceleration_y</th>\n",
       "      <th>acceleration_z</th>\n",
       "      <th>gyro_x</th>\n",
       "      <th>gyro_y</th>\n",
       "      <th>gyro_z</th>\n",
       "      <th>second</th>\n",
       "      <th>Speed</th>\n",
       "      <th>label</th>\n",
       "    </tr>\n",
       "  </thead>\n",
       "  <tbody>\n",
       "    <tr>\n",
       "      <th>count</th>\n",
       "      <td>1.615442e+07</td>\n",
       "      <td>1.615442e+07</td>\n",
       "      <td>1.615442e+07</td>\n",
       "      <td>1.615442e+07</td>\n",
       "      <td>1.615442e+07</td>\n",
       "      <td>1.615442e+07</td>\n",
       "      <td>1.615442e+07</td>\n",
       "      <td>1.615442e+07</td>\n",
       "      <td>1.615442e+07</td>\n",
       "      <td>1.615442e+07</td>\n",
       "      <td>1.615442e+07</td>\n",
       "      <td>1.615442e+07</td>\n",
       "    </tr>\n",
       "    <tr>\n",
       "      <th>mean</th>\n",
       "      <td>8.185295e+11</td>\n",
       "      <td>1.160744e+01</td>\n",
       "      <td>1.689771e+02</td>\n",
       "      <td>6.931060e-02</td>\n",
       "      <td>4.464359e+00</td>\n",
       "      <td>8.927299e-01</td>\n",
       "      <td>-1.713431e-03</td>\n",
       "      <td>2.663392e-04</td>\n",
       "      <td>-2.538211e-04</td>\n",
       "      <td>3.799905e+03</td>\n",
       "      <td>9.006626e+00</td>\n",
       "      <td>3.057288e-01</td>\n",
       "    </tr>\n",
       "    <tr>\n",
       "      <th>std</th>\n",
       "      <td>4.953377e+11</td>\n",
       "      <td>8.686924e+01</td>\n",
       "      <td>1.072962e+02</td>\n",
       "      <td>1.423701e+00</td>\n",
       "      <td>8.132821e+00</td>\n",
       "      <td>3.252890e+00</td>\n",
       "      <td>1.445047e-01</td>\n",
       "      <td>3.398832e-01</td>\n",
       "      <td>1.480109e-01</td>\n",
       "      <td>1.435848e+06</td>\n",
       "      <td>8.106292e+00</td>\n",
       "      <td>4.607154e-01</td>\n",
       "    </tr>\n",
       "    <tr>\n",
       "      <th>min</th>\n",
       "      <td>0.000000e+00</td>\n",
       "      <td>7.500000e-01</td>\n",
       "      <td>0.000000e+00</td>\n",
       "      <td>-7.841969e+01</td>\n",
       "      <td>-7.299412e+01</td>\n",
       "      <td>-7.844842e+01</td>\n",
       "      <td>-4.845575e+01</td>\n",
       "      <td>-7.488861e+01</td>\n",
       "      <td>-5.355445e+01</td>\n",
       "      <td>0.000000e+00</td>\n",
       "      <td>-2.000000e+00</td>\n",
       "      <td>0.000000e+00</td>\n",
       "    </tr>\n",
       "    <tr>\n",
       "      <th>25%</th>\n",
       "      <td>3.779571e+11</td>\n",
       "      <td>3.900000e+00</td>\n",
       "      <td>7.800000e+01</td>\n",
       "      <td>-5.078247e-01</td>\n",
       "      <td>-2.113992e+00</td>\n",
       "      <td>-9.337672e-01</td>\n",
       "      <td>-2.678341e-02</td>\n",
       "      <td>-2.994671e-02</td>\n",
       "      <td>-1.875904e-02</td>\n",
       "      <td>2.410000e+02</td>\n",
       "      <td>1.020000e+00</td>\n",
       "      <td>0.000000e+00</td>\n",
       "    </tr>\n",
       "    <tr>\n",
       "      <th>50%</th>\n",
       "      <td>8.074539e+11</td>\n",
       "      <td>4.255000e+00</td>\n",
       "      <td>1.689621e+02</td>\n",
       "      <td>6.159973e-02</td>\n",
       "      <td>9.081207e+00</td>\n",
       "      <td>7.740933e-01</td>\n",
       "      <td>-6.442187e-04</td>\n",
       "      <td>2.620612e-04</td>\n",
       "      <td>-3.490659e-05</td>\n",
       "      <td>5.200000e+02</td>\n",
       "      <td>7.530000e+00</td>\n",
       "      <td>0.000000e+00</td>\n",
       "    </tr>\n",
       "    <tr>\n",
       "      <th>75%</th>\n",
       "      <td>1.254130e+12</td>\n",
       "      <td>8.000000e+00</td>\n",
       "      <td>2.630000e+02</td>\n",
       "      <td>6.353790e-01</td>\n",
       "      <td>9.709685e+00</td>\n",
       "      <td>2.749072e+00</td>\n",
       "      <td>2.330015e-02</td>\n",
       "      <td>3.141785e-02</td>\n",
       "      <td>1.823433e-02</td>\n",
       "      <td>8.630000e+02</td>\n",
       "      <td>1.548000e+01</td>\n",
       "      <td>1.000000e+00</td>\n",
       "    </tr>\n",
       "    <tr>\n",
       "      <th>max</th>\n",
       "      <td>1.709397e+12</td>\n",
       "      <td>6.070101e+03</td>\n",
       "      <td>3.599995e+02</td>\n",
       "      <td>6.687346e+01</td>\n",
       "      <td>7.505589e+01</td>\n",
       "      <td>7.805576e+01</td>\n",
       "      <td>3.983975e+01</td>\n",
       "      <td>8.031496e+01</td>\n",
       "      <td>6.630078e+01</td>\n",
       "      <td>1.495797e+09</td>\n",
       "      <td>1.480186e+02</td>\n",
       "      <td>1.000000e+00</td>\n",
       "    </tr>\n",
       "  </tbody>\n",
       "</table>\n",
       "</div>"
      ],
      "text/plain": [
       "          bookingID      Accuracy       Bearing  acceleration_x  \\\n",
       "count  1.615442e+07  1.615442e+07  1.615442e+07    1.615442e+07   \n",
       "mean   8.185295e+11  1.160744e+01  1.689771e+02    6.931060e-02   \n",
       "std    4.953377e+11  8.686924e+01  1.072962e+02    1.423701e+00   \n",
       "min    0.000000e+00  7.500000e-01  0.000000e+00   -7.841969e+01   \n",
       "25%    3.779571e+11  3.900000e+00  7.800000e+01   -5.078247e-01   \n",
       "50%    8.074539e+11  4.255000e+00  1.689621e+02    6.159973e-02   \n",
       "75%    1.254130e+12  8.000000e+00  2.630000e+02    6.353790e-01   \n",
       "max    1.709397e+12  6.070101e+03  3.599995e+02    6.687346e+01   \n",
       "\n",
       "       acceleration_y  acceleration_z        gyro_x        gyro_y  \\\n",
       "count    1.615442e+07    1.615442e+07  1.615442e+07  1.615442e+07   \n",
       "mean     4.464359e+00    8.927299e-01 -1.713431e-03  2.663392e-04   \n",
       "std      8.132821e+00    3.252890e+00  1.445047e-01  3.398832e-01   \n",
       "min     -7.299412e+01   -7.844842e+01 -4.845575e+01 -7.488861e+01   \n",
       "25%     -2.113992e+00   -9.337672e-01 -2.678341e-02 -2.994671e-02   \n",
       "50%      9.081207e+00    7.740933e-01 -6.442187e-04  2.620612e-04   \n",
       "75%      9.709685e+00    2.749072e+00  2.330015e-02  3.141785e-02   \n",
       "max      7.505589e+01    7.805576e+01  3.983975e+01  8.031496e+01   \n",
       "\n",
       "             gyro_z        second         Speed         label  \n",
       "count  1.615442e+07  1.615442e+07  1.615442e+07  1.615442e+07  \n",
       "mean  -2.538211e-04  3.799905e+03  9.006626e+00  3.057288e-01  \n",
       "std    1.480109e-01  1.435848e+06  8.106292e+00  4.607154e-01  \n",
       "min   -5.355445e+01  0.000000e+00 -2.000000e+00  0.000000e+00  \n",
       "25%   -1.875904e-02  2.410000e+02  1.020000e+00  0.000000e+00  \n",
       "50%   -3.490659e-05  5.200000e+02  7.530000e+00  0.000000e+00  \n",
       "75%    1.823433e-02  8.630000e+02  1.548000e+01  1.000000e+00  \n",
       "max    6.630078e+01  1.495797e+09  1.480186e+02  1.000000e+00  "
      ]
     },
     "execution_count": 8,
     "metadata": {},
     "output_type": "execute_result"
    }
   ],
   "source": [
    "data.describe()"
   ]
  },
  {
   "cell_type": "markdown",
   "metadata": {},
   "source": [
    "There are some erroneous values:\n",
    "1. second\n",
    "  - 0 second trip\n",
    "  - unreasonably high trip times\n",
    "2. Speed\n",
    "  - negative speed\n",
    "  - impossibly high speed"
   ]
  },
  {
   "cell_type": "markdown",
   "metadata": {},
   "source": [
    "The reason for this is most likely due to poor GPS accuracy."
   ]
  },
  {
   "cell_type": "code",
   "execution_count": 9,
   "metadata": {},
   "outputs": [],
   "source": [
    "# choose GPS data with high accuracy \n",
    "data = data.loc[(data.Accuracy >= np.percentile(data.Accuracy, 95))]\n",
    "\n",
    "# filter out 0 second trips and trips longer than 12 hours\n",
    "data = data.loc[(data.second != 0) & (data.second < 43200)]\n",
    "\n",
    "# filter out data with negative speed and speed higher than 30m/s(108km/h)\n",
    "data = data.loc[(data.Speed > 0) & (data.Speed < 30)]"
   ]
  },
  {
   "cell_type": "code",
   "execution_count": 10,
   "metadata": {},
   "outputs": [
    {
     "data": {
      "text/html": [
       "<div>\n",
       "<style scoped>\n",
       "    .dataframe tbody tr th:only-of-type {\n",
       "        vertical-align: middle;\n",
       "    }\n",
       "\n",
       "    .dataframe tbody tr th {\n",
       "        vertical-align: top;\n",
       "    }\n",
       "\n",
       "    .dataframe thead th {\n",
       "        text-align: right;\n",
       "    }\n",
       "</style>\n",
       "<table border=\"1\" class=\"dataframe\">\n",
       "  <thead>\n",
       "    <tr style=\"text-align: right;\">\n",
       "      <th></th>\n",
       "      <th>bookingID</th>\n",
       "      <th>Accuracy</th>\n",
       "      <th>Bearing</th>\n",
       "      <th>acceleration_x</th>\n",
       "      <th>acceleration_y</th>\n",
       "      <th>acceleration_z</th>\n",
       "      <th>gyro_x</th>\n",
       "      <th>gyro_y</th>\n",
       "      <th>gyro_z</th>\n",
       "      <th>second</th>\n",
       "      <th>Speed</th>\n",
       "      <th>label</th>\n",
       "    </tr>\n",
       "  </thead>\n",
       "  <tbody>\n",
       "    <tr>\n",
       "      <th>count</th>\n",
       "      <td>8.170190e+05</td>\n",
       "      <td>817019.000000</td>\n",
       "      <td>817019.000000</td>\n",
       "      <td>817019.000000</td>\n",
       "      <td>817019.000000</td>\n",
       "      <td>817019.000000</td>\n",
       "      <td>817019.000000</td>\n",
       "      <td>817019.000000</td>\n",
       "      <td>817019.000000</td>\n",
       "      <td>817019.000000</td>\n",
       "      <td>8.170190e+05</td>\n",
       "      <td>817019.000000</td>\n",
       "    </tr>\n",
       "    <tr>\n",
       "      <th>mean</th>\n",
       "      <td>8.294812e+11</td>\n",
       "      <td>25.160237</td>\n",
       "      <td>175.791531</td>\n",
       "      <td>-0.019907</td>\n",
       "      <td>-4.195807</td>\n",
       "      <td>-1.094720</td>\n",
       "      <td>-0.003969</td>\n",
       "      <td>0.000845</td>\n",
       "      <td>-0.000074</td>\n",
       "      <td>509.629586</td>\n",
       "      <td>6.954522e+00</td>\n",
       "      <td>0.328029</td>\n",
       "    </tr>\n",
       "    <tr>\n",
       "      <th>std</th>\n",
       "      <td>4.965411e+11</td>\n",
       "      <td>23.453135</td>\n",
       "      <td>101.876953</td>\n",
       "      <td>1.555126</td>\n",
       "      <td>7.966180</td>\n",
       "      <td>3.793532</td>\n",
       "      <td>0.196533</td>\n",
       "      <td>0.247659</td>\n",
       "      <td>0.200279</td>\n",
       "      <td>432.919653</td>\n",
       "      <td>6.549585e+00</td>\n",
       "      <td>0.469496</td>\n",
       "    </tr>\n",
       "    <tr>\n",
       "      <th>min</th>\n",
       "      <td>0.000000e+00</td>\n",
       "      <td>16.000000</td>\n",
       "      <td>0.000000</td>\n",
       "      <td>-43.599203</td>\n",
       "      <td>-56.388879</td>\n",
       "      <td>-75.936990</td>\n",
       "      <td>-9.719521</td>\n",
       "      <td>-18.139412</td>\n",
       "      <td>-17.828683</td>\n",
       "      <td>1.000000</td>\n",
       "      <td>9.423920e-15</td>\n",
       "      <td>0.000000</td>\n",
       "    </tr>\n",
       "    <tr>\n",
       "      <th>25%</th>\n",
       "      <td>3.951370e+11</td>\n",
       "      <td>16.000000</td>\n",
       "      <td>89.644119</td>\n",
       "      <td>-0.592462</td>\n",
       "      <td>-9.680670</td>\n",
       "      <td>-3.293533</td>\n",
       "      <td>-0.032629</td>\n",
       "      <td>-0.037887</td>\n",
       "      <td>-0.021776</td>\n",
       "      <td>183.000000</td>\n",
       "      <td>1.505055e+00</td>\n",
       "      <td>0.000000</td>\n",
       "    </tr>\n",
       "    <tr>\n",
       "      <th>50%</th>\n",
       "      <td>8.160438e+11</td>\n",
       "      <td>16.687000</td>\n",
       "      <td>177.214630</td>\n",
       "      <td>-0.015103</td>\n",
       "      <td>-8.954672</td>\n",
       "      <td>-0.948657</td>\n",
       "      <td>-0.004280</td>\n",
       "      <td>0.001431</td>\n",
       "      <td>-0.000216</td>\n",
       "      <td>402.000000</td>\n",
       "      <td>4.928909e+00</td>\n",
       "      <td>0.000000</td>\n",
       "    </tr>\n",
       "    <tr>\n",
       "      <th>75%</th>\n",
       "      <td>1.262720e+12</td>\n",
       "      <td>32.000000</td>\n",
       "      <td>266.688110</td>\n",
       "      <td>0.562854</td>\n",
       "      <td>2.140139</td>\n",
       "      <td>0.966036</td>\n",
       "      <td>0.023717</td>\n",
       "      <td>0.039939</td>\n",
       "      <td>0.021305</td>\n",
       "      <td>716.000000</td>\n",
       "      <td>1.092374e+01</td>\n",
       "      <td>1.000000</td>\n",
       "    </tr>\n",
       "    <tr>\n",
       "      <th>max</th>\n",
       "      <td>1.709397e+12</td>\n",
       "      <td>556.746000</td>\n",
       "      <td>359.994781</td>\n",
       "      <td>66.873456</td>\n",
       "      <td>56.003525</td>\n",
       "      <td>48.228094</td>\n",
       "      <td>13.535559</td>\n",
       "      <td>35.858337</td>\n",
       "      <td>24.196860</td>\n",
       "      <td>6251.000000</td>\n",
       "      <td>2.999742e+01</td>\n",
       "      <td>1.000000</td>\n",
       "    </tr>\n",
       "  </tbody>\n",
       "</table>\n",
       "</div>"
      ],
      "text/plain": [
       "          bookingID       Accuracy        Bearing  acceleration_x  \\\n",
       "count  8.170190e+05  817019.000000  817019.000000   817019.000000   \n",
       "mean   8.294812e+11      25.160237     175.791531       -0.019907   \n",
       "std    4.965411e+11      23.453135     101.876953        1.555126   \n",
       "min    0.000000e+00      16.000000       0.000000      -43.599203   \n",
       "25%    3.951370e+11      16.000000      89.644119       -0.592462   \n",
       "50%    8.160438e+11      16.687000     177.214630       -0.015103   \n",
       "75%    1.262720e+12      32.000000     266.688110        0.562854   \n",
       "max    1.709397e+12     556.746000     359.994781       66.873456   \n",
       "\n",
       "       acceleration_y  acceleration_z         gyro_x         gyro_y  \\\n",
       "count   817019.000000   817019.000000  817019.000000  817019.000000   \n",
       "mean        -4.195807       -1.094720      -0.003969       0.000845   \n",
       "std          7.966180        3.793532       0.196533       0.247659   \n",
       "min        -56.388879      -75.936990      -9.719521     -18.139412   \n",
       "25%         -9.680670       -3.293533      -0.032629      -0.037887   \n",
       "50%         -8.954672       -0.948657      -0.004280       0.001431   \n",
       "75%          2.140139        0.966036       0.023717       0.039939   \n",
       "max         56.003525       48.228094      13.535559      35.858337   \n",
       "\n",
       "              gyro_z         second         Speed          label  \n",
       "count  817019.000000  817019.000000  8.170190e+05  817019.000000  \n",
       "mean       -0.000074     509.629586  6.954522e+00       0.328029  \n",
       "std         0.200279     432.919653  6.549585e+00       0.469496  \n",
       "min       -17.828683       1.000000  9.423920e-15       0.000000  \n",
       "25%        -0.021776     183.000000  1.505055e+00       0.000000  \n",
       "50%        -0.000216     402.000000  4.928909e+00       0.000000  \n",
       "75%         0.021305     716.000000  1.092374e+01       1.000000  \n",
       "max        24.196860    6251.000000  2.999742e+01       1.000000  "
      ]
     },
     "execution_count": 10,
     "metadata": {},
     "output_type": "execute_result"
    }
   ],
   "source": [
    "data.describe()"
   ]
  },
  {
   "cell_type": "markdown",
   "metadata": {},
   "source": [
    "# Feature Engineering"
   ]
  },
  {
   "cell_type": "markdown",
   "metadata": {},
   "source": [
    "## Distance"
   ]
  },
  {
   "cell_type": "code",
   "execution_count": 11,
   "metadata": {},
   "outputs": [],
   "source": [
    "data['distance']=data['Speed']*data['second']"
   ]
  },
  {
   "cell_type": "markdown",
   "metadata": {},
   "source": [
    "## Speed"
   ]
  },
  {
   "cell_type": "code",
   "execution_count": 12,
   "metadata": {},
   "outputs": [],
   "source": [
    "data['speed_x']=data['acceleration_x']*data['second']\n",
    "data['speed_y']=data['acceleration_y']*data['second']\n",
    "data['speed_z']=data['acceleration_z']*data['second']\n",
    "data['speed_xy']=np.sqrt(data['speed_x']**2+data['speed_y']**2)\n",
    "data['speed_xz']=np.sqrt(data['speed_x']**2+data['speed_z']**2)\n",
    "data['speed_yz']=np.sqrt(data['speed_z']**2+data['speed_y']**2)\n",
    "data['speed_xyz']=np.sqrt(data['speed_x']**2+data['speed_y']**2+data['speed_z']**2)"
   ]
  },
  {
   "cell_type": "markdown",
   "metadata": {},
   "source": [
    "## Radian"
   ]
  },
  {
   "cell_type": "code",
   "execution_count": 13,
   "metadata": {},
   "outputs": [],
   "source": [
    "data['rad_x']=data['gyro_x']*data['second']\n",
    "data['rad_y']=data['gyro_y']*data['second']\n",
    "data['rad_z']=data['gyro_z']*data['second']\n",
    "data['rad_xy']=np.sqrt(data['rad_x']**2+data['rad_y']**2)\n",
    "data['rad_xz']=np.sqrt(data['rad_x']**2+data['rad_z']**2)\n",
    "data['rad_yz']=np.sqrt(data['rad_z']**2+data['rad_y']**2)\n",
    "data['rad_xyz']=np.sqrt(data['rad_x']**2+data['rad_y']**2+data['rad_z']**2)"
   ]
  },
  {
   "cell_type": "markdown",
   "metadata": {},
   "source": [
    "## Acceleration"
   ]
  },
  {
   "cell_type": "code",
   "execution_count": 14,
   "metadata": {},
   "outputs": [],
   "source": [
    "data['acc_xy']=np.sqrt(data['acceleration_x']**2+data['acceleration_y']**2)\n",
    "data['acc_xz']=np.sqrt(data['acceleration_x']**2+data['acceleration_z']**2)\n",
    "data['acc_yz']=np.sqrt(data['acceleration_z']**2+data['acceleration_y']**2)\n",
    "data['acc_xyz']=np.sqrt(data['acceleration_x']**2+data['acceleration_y']**2+data['acceleration_z']**2)"
   ]
  },
  {
   "cell_type": "markdown",
   "metadata": {},
   "source": [
    "## Gyro"
   ]
  },
  {
   "cell_type": "code",
   "execution_count": 15,
   "metadata": {},
   "outputs": [],
   "source": [
    "data['gyro_xy']=np.sqrt(data['gyro_x']**2+data['gyro_y']**2)\n",
    "data['gyro_xz']=np.sqrt(data['gyro_x']**2+data['gyro_z']**2)\n",
    "data['gyro_yz']=np.sqrt(data['gyro_z']**2+data['gyro_y']**2)\n",
    "data['gyro_xyz']=np.sqrt(data['gyro_x']**2+data['gyro_y']**2+data['gyro_z']**2)"
   ]
  },
  {
   "cell_type": "markdown",
   "metadata": {},
   "source": [
    "## Interaction"
   ]
  },
  {
   "cell_type": "code",
   "execution_count": 16,
   "metadata": {},
   "outputs": [],
   "source": [
    "data['acc_gyro_x']=data['acceleration_x']*data['gyro_x']\n",
    "data['acc_gyro_y']=data['acceleration_y']*data['gyro_y']\n",
    "data['acc_gyro_z']=data['acceleration_z']*data['gyro_z']\n",
    "data['acc_gyro_xy']=np.sqrt(data['acc_gyro_x']**2+data['acc_gyro_y']**2)\n",
    "data['acc_gyro_xz']=np.sqrt(data['acc_gyro_x']**2+data['acc_gyro_z']**2)\n",
    "data['acc_gyro_yz']=np.sqrt(data['acc_gyro_z']**2+data['acc_gyro_y']**2)\n",
    "data['acc_gyro_xyz']=np.sqrt(data['acc_gyro_x']**2+data['acc_gyro_y']**2+data['acc_gyro_z']**2)"
   ]
  },
  {
   "cell_type": "code",
   "execution_count": 17,
   "metadata": {
    "scrolled": true
   },
   "outputs": [
    {
     "name": "stdout",
     "output_type": "stream",
     "text": [
      "<class 'pandas.core.frame.DataFrame'>\n",
      "Int64Index: 817019 entries, 64 to 16154172\n",
      "Data columns (total 42 columns):\n",
      " #   Column          Non-Null Count   Dtype  \n",
      "---  ------          --------------   -----  \n",
      " 0   bookingID       817019 non-null  int64  \n",
      " 1   Accuracy        817019 non-null  float64\n",
      " 2   Bearing         817019 non-null  float64\n",
      " 3   acceleration_x  817019 non-null  float64\n",
      " 4   acceleration_y  817019 non-null  float64\n",
      " 5   acceleration_z  817019 non-null  float64\n",
      " 6   gyro_x          817019 non-null  float64\n",
      " 7   gyro_y          817019 non-null  float64\n",
      " 8   gyro_z          817019 non-null  float64\n",
      " 9   second          817019 non-null  float64\n",
      " 10  Speed           817019 non-null  float64\n",
      " 11  label           817019 non-null  int64  \n",
      " 12  distance        817019 non-null  float64\n",
      " 13  speed_x         817019 non-null  float64\n",
      " 14  speed_y         817019 non-null  float64\n",
      " 15  speed_z         817019 non-null  float64\n",
      " 16  speed_xy        817019 non-null  float64\n",
      " 17  speed_xz        817019 non-null  float64\n",
      " 18  speed_yz        817019 non-null  float64\n",
      " 19  speed_xyz       817019 non-null  float64\n",
      " 20  rad_x           817019 non-null  float64\n",
      " 21  rad_y           817019 non-null  float64\n",
      " 22  rad_z           817019 non-null  float64\n",
      " 23  rad_xy          817019 non-null  float64\n",
      " 24  rad_xz          817019 non-null  float64\n",
      " 25  rad_yz          817019 non-null  float64\n",
      " 26  rad_xyz         817019 non-null  float64\n",
      " 27  acc_xy          817019 non-null  float64\n",
      " 28  acc_xz          817019 non-null  float64\n",
      " 29  acc_yz          817019 non-null  float64\n",
      " 30  acc_xyz         817019 non-null  float64\n",
      " 31  gyro_xy         817019 non-null  float64\n",
      " 32  gyro_xz         817019 non-null  float64\n",
      " 33  gyro_yz         817019 non-null  float64\n",
      " 34  gyro_xyz        817019 non-null  float64\n",
      " 35  acc_gyro_x      817019 non-null  float64\n",
      " 36  acc_gyro_y      817019 non-null  float64\n",
      " 37  acc_gyro_z      817019 non-null  float64\n",
      " 38  acc_gyro_xy     817019 non-null  float64\n",
      " 39  acc_gyro_xz     817019 non-null  float64\n",
      " 40  acc_gyro_yz     817019 non-null  float64\n",
      " 41  acc_gyro_xyz    817019 non-null  float64\n",
      "dtypes: float64(40), int64(2)\n",
      "memory usage: 268.0 MB\n"
     ]
    }
   ],
   "source": [
    "data.info()"
   ]
  },
  {
   "cell_type": "markdown",
   "metadata": {},
   "source": [
    "# Model Training"
   ]
  },
  {
   "cell_type": "markdown",
   "metadata": {},
   "source": [
    "## Split Data into Train and Test Sets"
   ]
  },
  {
   "cell_type": "code",
   "execution_count": 19,
   "metadata": {},
   "outputs": [],
   "source": [
    "X = data.drop(['label'], axis=1).values\n",
    "y = data['label'].values\n",
    "\n",
    "X_train, X_test, y_train, y_test = train_test_split(X, y, test_size=0.20)"
   ]
  },
  {
   "cell_type": "markdown",
   "metadata": {},
   "source": [
    "## Logistic Regression"
   ]
  },
  {
   "cell_type": "code",
   "execution_count": 20,
   "metadata": {},
   "outputs": [
    {
     "data": {
      "text/plain": [
       "LogisticRegression()"
      ]
     },
     "execution_count": 20,
     "metadata": {},
     "output_type": "execute_result"
    }
   ],
   "source": [
    "clflog = LogisticRegression()\n",
    "clflog.fit(X_train, y_train)"
   ]
  },
  {
   "cell_type": "markdown",
   "metadata": {},
   "source": [
    "## Random Forest"
   ]
  },
  {
   "cell_type": "code",
   "execution_count": 21,
   "metadata": {},
   "outputs": [
    {
     "data": {
      "text/plain": [
       "RandomForestClassifier()"
      ]
     },
     "execution_count": 21,
     "metadata": {},
     "output_type": "execute_result"
    }
   ],
   "source": [
    "clfrfc = RandomForestClassifier()\n",
    "clfrfc.fit(X_train, y_train)"
   ]
  },
  {
   "cell_type": "markdown",
   "metadata": {},
   "source": [
    "# Model Evaluation"
   ]
  },
  {
   "cell_type": "markdown",
   "metadata": {},
   "source": [
    "## Logistic Regression"
   ]
  },
  {
   "cell_type": "code",
   "execution_count": 22,
   "metadata": {},
   "outputs": [],
   "source": [
    "y_hat= clflog.predict(X_test)\n",
    "y_hat2= clflog.predict(X_train)"
   ]
  },
  {
   "cell_type": "code",
   "execution_count": 23,
   "metadata": {},
   "outputs": [
    {
     "data": {
      "text/plain": [
       "<matplotlib.axes._subplots.AxesSubplot at 0x1d59af259a0>"
      ]
     },
     "execution_count": 23,
     "metadata": {},
     "output_type": "execute_result"
    },
    {
     "data": {
      "image/png": "[encoded data removed]",
      "text/plain": [
       "<Figure size 432x360 with 2 Axes>"
      ]
     },
     "metadata": {
      "needs_background": "light"
     },
     "output_type": "display_data"
    }
   ],
   "source": [
    "# evaluate model for test set\n",
    "class_names=[\"Normal\",\"Dangerous\"]\n",
    "cm = confusion_matrix(y_test, y_hat, labels=[0,1])\n",
    "df_cm = pd.DataFrame(cm, columns=class_names, index = class_names)\n",
    "df_cm.index.name = 'Actual'\n",
    "df_cm.columns.name = 'Predicted'\n",
    "plt.figure(figsize = (6,5))\n",
    "sns.set(font_scale=1.4)#for label size\n",
    "sns.heatmap(df_cm, cmap=\"Blues\", annot=True,annot_kws={\"size\": 16})# font size"
   ]
  },
  {
   "cell_type": "code",
   "execution_count": 24,
   "metadata": {},
   "outputs": [],
   "source": [
    "# Accuracy score for test set\n",
    "testlog = accuracy_score(y_test, y_hat)\n",
    "\n",
    "# Accuracy score for train set\n",
    "trainlog = accuracy_score(y_train, y_hat2)"
   ]
  },
  {
   "cell_type": "markdown",
   "metadata": {},
   "source": [
    "## Random Forest"
   ]
  },
  {
   "cell_type": "code",
   "execution_count": 25,
   "metadata": {},
   "outputs": [],
   "source": [
    "y_hat= clfrfc.predict(X_test)\n",
    "y_hat2= clfrfc.predict(X_train)"
   ]
  },
  {
   "cell_type": "code",
   "execution_count": 26,
   "metadata": {},
   "outputs": [
    {
     "data": {
      "text/plain": [
       "<matplotlib.axes._subplots.AxesSubplot at 0x1d59a90e7c0>"
      ]
     },
     "execution_count": 26,
     "metadata": {},
     "output_type": "execute_result"
    },
    {
     "data": {
      "image/png": "[encoded data removed]",
      "text/plain": [
       "<Figure size 432x360 with 2 Axes>"
      ]
     },
     "metadata": {},
     "output_type": "display_data"
    }
   ],
   "source": [
    "# evaluate model for test set\n",
    "class_names=[\"Normal\",\"Dangerous\"]\n",
    "cm = confusion_matrix(y_test, y_hat, labels=[0,1])\n",
    "df_cm = pd.DataFrame(cm, columns=class_names, index = class_names)\n",
    "df_cm.index.name = 'Actual'\n",
    "df_cm.columns.name = 'Predicted'\n",
    "plt.figure(figsize = (6,5))\n",
    "sns.set(font_scale=1.4)#for label size\n",
    "sns.heatmap(df_cm, cmap=\"Blues\", annot=True,annot_kws={\"size\": 16})# font size"
   ]
  },
  {
   "cell_type": "code",
   "execution_count": 27,
   "metadata": {},
   "outputs": [],
   "source": [
    "# Accuracy score for test set\n",
    "testrfc = accuracy_score(y_test, y_hat)\n",
    "\n",
    "# Accuracy score for train set\n",
    "trainrfc = accuracy_score(y_train, y_hat2)"
   ]
  },
  {
   "cell_type": "markdown",
   "metadata": {},
   "source": [
    "## Model summary"
   ]
  },
  {
   "cell_type": "code",
   "execution_count": 29,
   "metadata": {},
   "outputs": [
    {
     "data": {
      "text/html": [
       "<div>\n",
       "<style scoped>\n",
       "    .dataframe tbody tr th:only-of-type {\n",
       "        vertical-align: middle;\n",
       "    }\n",
       "\n",
       "    .dataframe tbody tr th {\n",
       "        vertical-align: top;\n",
       "    }\n",
       "\n",
       "    .dataframe thead th {\n",
       "        text-align: right;\n",
       "    }\n",
       "</style>\n",
       "<table border=\"1\" class=\"dataframe\">\n",
       "  <thead>\n",
       "    <tr style=\"text-align: right;\">\n",
       "      <th></th>\n",
       "      <th>Model</th>\n",
       "      <th>Test</th>\n",
       "      <th>Train</th>\n",
       "      <th>Mean</th>\n",
       "    </tr>\n",
       "  </thead>\n",
       "  <tbody>\n",
       "    <tr>\n",
       "      <th>1</th>\n",
       "      <td>Random Forest</td>\n",
       "      <td>0.840396</td>\n",
       "      <td>0.998375</td>\n",
       "      <td>0.919385</td>\n",
       "    </tr>\n",
       "    <tr>\n",
       "      <th>0</th>\n",
       "      <td>Logistic Regression</td>\n",
       "      <td>0.672627</td>\n",
       "      <td>0.671807</td>\n",
       "      <td>0.672217</td>\n",
       "    </tr>\n",
       "  </tbody>\n",
       "</table>\n",
       "</div>"
      ],
      "text/plain": [
       "                 Model      Test     Train      Mean\n",
       "1        Random Forest  0.840396  0.998375  0.919385\n",
       "0  Logistic Regression  0.672627  0.671807  0.672217"
      ]
     },
     "execution_count": 29,
     "metadata": {},
     "output_type": "execute_result"
    }
   ],
   "source": [
    "models = pd.DataFrame({\n",
    "    'Model': ['Logistic Regression','Random Forest'],\n",
    "    \n",
    "    'Test': [testlog, testrfc],\n",
    "    \n",
    "    'Train': [trainlog, trainrfc],\n",
    "    \n",
    "    'Mean': [(testlog+trainlog)/2, (testrfc+trainrfc)/2],\n",
    "    })\n",
    "\n",
    "models.sort_values(by='Mean', ascending=False)"
   ]
  }
 ],
 "metadata": {
  "kernelspec": {
   "display_name": "Python 3",
   "language": "python",
   "name": "python3"
  },
  "language_info": {
   "codemirror_mode": {
    "name": "ipython",
    "version": 3
   },
   "file_extension": ".py",
   "mimetype": "text/x-python",
   "name": "python",
   "nbconvert_exporter": "python",
   "pygments_lexer": "ipython3",
   "version": "3.8.3"
  }
 },
 "nbformat": 4,
 "nbformat_minor": 4
}
