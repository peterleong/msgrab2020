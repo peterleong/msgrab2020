{
  "nbformat": 4,
  "nbformat_minor": 0,
  "metadata": {
    "colab": {
      "name": "Grab.ipynb",
      "provenance": [],
      "collapsed_sections": []
    },
    "kernelspec": {
      "name": "python3",
      "display_name": "Python 3"
    },
    "accelerator": "GPU"
  },
  "cells": [
    {
      "cell_type": "markdown",
      "metadata": {
        "id": "4qwiJE3_GNYb"
      },
      "source": [
        "# Ivan Lee, Keane Ng, Liew Khye Lerk"
      ]
    },
    {
      "cell_type": "code",
      "metadata": {
        "id": "0rXdkvG0OzI2"
      },
      "source": [
        " from google.colab import auth \n",
        "auth.authenticate_user()"
      ],
      "execution_count": null,
      "outputs": []
    },
    {
      "cell_type": "code",
      "metadata": {
        "colab": {
          "base_uri": "https://localhost:8080/"
        },
        "id": "g9Ad2ahzRME5",
        "outputId": "12d06d0a-4e6e-490d-af03-bb9ad50dfb01"
      },
      "source": [
        "from google.colab import drive\n",
        "drive.mount('/content/drive/')"
      ],
      "execution_count": null,
      "outputs": [
        {
          "output_type": "stream",
          "text": [
            "Drive already mounted at /content/drive/; to attempt to forcibly remount, call drive.mount(\"/content/drive/\", force_remount=True).\n"
          ],
          "name": "stdout"
        }
      ]
    },
    {
      "cell_type": "code",
      "metadata": {
        "id": "QK5pneLL7sEV"
      },
      "source": [
        "import numpy as np\n",
        "import tensorflow as tf\n",
        "import matplotlib.pyplot as plt\n",
        "import pandas as pd\n",
        "import seaborn as sns\n",
        "from sklearn.model_selection import train_test_split\n",
        "\n",
        "from keras import backend as K\n",
        "from tensorflow.keras.optimizers import SGD, Adam\n",
        "from tensorflow.keras.callbacks import EarlyStopping, ModelCheckpoint, ReduceLROnPlateau\n",
        "from tensorflow.keras.layers import Input, Dense, Dropout, GlobalAveragePooling1D, MaxPooling1D, Conv1D, concatenate, Flatten, LSTM, Reshape\n",
        "from tensorflow.keras.models import Model, Sequential\n",
        "from keras.layers.embeddings import Embedding\n",
        "from keras.regularizers import l2"
      ],
      "execution_count": null,
      "outputs": []
    },
    {
      "cell_type": "markdown",
      "metadata": {
        "id": "4SHSy8N-XZPR"
      },
      "source": [
        "#Import data"
      ]
    },
    {
      "cell_type": "code",
      "metadata": {
        "id": "-2Oamri0RBEs"
      },
      "source": [
        "data = pd.read_csv('/content/drive/My Drive/Colab Notebooks/Safety_DataSet_Aggregated.csv')\n",
        "labels = pd.read_csv('/content/drive/My Drive/Colab Notebooks/labels.csv')"
      ],
      "execution_count": null,
      "outputs": []
    },
    {
      "cell_type": "markdown",
      "metadata": {
        "id": "10hQnalPNY7W"
      },
      "source": [
        "# Exploratory Data Analysis"
      ]
    },
    {
      "cell_type": "code",
      "metadata": {
        "colab": {
          "base_uri": "https://localhost:8080/",
          "height": 204
        },
        "id": "IAQBCbS-xFXy",
        "outputId": "c1ffaddc-e87a-4386-c1cd-6330c6747a5e"
      },
      "source": [
        "labels.head(5)"
      ],
      "execution_count": null,
      "outputs": [
        {
          "output_type": "execute_result",
          "data": {
            "text/html": [
              "<div>\n",
              "<style scoped>\n",
              "    .dataframe tbody tr th:only-of-type {\n",
              "        vertical-align: middle;\n",
              "    }\n",
              "\n",
              "    .dataframe tbody tr th {\n",
              "        vertical-align: top;\n",
              "    }\n",
              "\n",
              "    .dataframe thead th {\n",
              "        text-align: right;\n",
              "    }\n",
              "</style>\n",
              "<table border=\"1\" class=\"dataframe\">\n",
              "  <thead>\n",
              "    <tr style=\"text-align: right;\">\n",
              "      <th></th>\n",
              "      <th>bookingID</th>\n",
              "      <th>label</th>\n",
              "    </tr>\n",
              "  </thead>\n",
              "  <tbody>\n",
              "    <tr>\n",
              "      <th>0</th>\n",
              "      <td>111669149733</td>\n",
              "      <td>0</td>\n",
              "    </tr>\n",
              "    <tr>\n",
              "      <th>1</th>\n",
              "      <td>335007449205</td>\n",
              "      <td>1</td>\n",
              "    </tr>\n",
              "    <tr>\n",
              "      <th>2</th>\n",
              "      <td>171798691856</td>\n",
              "      <td>0</td>\n",
              "    </tr>\n",
              "    <tr>\n",
              "      <th>3</th>\n",
              "      <td>1520418422900</td>\n",
              "      <td>0</td>\n",
              "    </tr>\n",
              "    <tr>\n",
              "      <th>4</th>\n",
              "      <td>798863917116</td>\n",
              "      <td>0</td>\n",
              "    </tr>\n",
              "  </tbody>\n",
              "</table>\n",
              "</div>"
            ],
            "text/plain": [
              "       bookingID  label\n",
              "0   111669149733      0\n",
              "1   335007449205      1\n",
              "2   171798691856      0\n",
              "3  1520418422900      0\n",
              "4   798863917116      0"
            ]
          },
          "metadata": {
            "tags": []
          },
          "execution_count": 46
        }
      ]
    },
    {
      "cell_type": "code",
      "metadata": {
        "colab": {
          "base_uri": "https://localhost:8080/"
        },
        "id": "S9i24of_xbZV",
        "outputId": "f7bf4c54-9586-4cce-d40b-9b8ed6495ed9"
      },
      "source": [
        "labels.info()"
      ],
      "execution_count": null,
      "outputs": [
        {
          "output_type": "stream",
          "text": [
            "<class 'pandas.core.frame.DataFrame'>\n",
            "RangeIndex: 20018 entries, 0 to 20017\n",
            "Data columns (total 2 columns):\n",
            " #   Column     Non-Null Count  Dtype\n",
            "---  ------     --------------  -----\n",
            " 0   bookingID  20018 non-null  int64\n",
            " 1   label      20018 non-null  int64\n",
            "dtypes: int64(2)\n",
            "memory usage: 312.9 KB\n"
          ],
          "name": "stdout"
        }
      ]
    },
    {
      "cell_type": "code",
      "metadata": {
        "colab": {
          "base_uri": "https://localhost:8080/"
        },
        "id": "Dein17rdyS49",
        "outputId": "5bce06d3-5501-4012-bf98-a8f869539c42"
      },
      "source": [
        "labels.isnull().any()"
      ],
      "execution_count": null,
      "outputs": [
        {
          "output_type": "execute_result",
          "data": {
            "text/plain": [
              "bookingID    False\n",
              "label        False\n",
              "dtype: bool"
            ]
          },
          "metadata": {
            "tags": []
          },
          "execution_count": 48
        }
      ]
    },
    {
      "cell_type": "code",
      "metadata": {
        "colab": {
          "base_uri": "https://localhost:8080/"
        },
        "id": "9qGEiKrVwIkA",
        "outputId": "2ec65577-3822-4d2f-d425-3ce8b6b800c8"
      },
      "source": [
        "len(labels['bookingID'])"
      ],
      "execution_count": null,
      "outputs": [
        {
          "output_type": "execute_result",
          "data": {
            "text/plain": [
              "20018"
            ]
          },
          "metadata": {
            "tags": []
          },
          "execution_count": 49
        }
      ]
    },
    {
      "cell_type": "code",
      "metadata": {
        "id": "IrBVrZWAuXOp",
        "colab": {
          "base_uri": "https://localhost:8080/"
        },
        "outputId": "78ca0a0b-57e9-43a2-ddec-416b67dd5cf9"
      },
      "source": [
        "len(labels['bookingID'].unique())"
      ],
      "execution_count": null,
      "outputs": [
        {
          "output_type": "execute_result",
          "data": {
            "text/plain": [
              "20000"
            ]
          },
          "metadata": {
            "tags": []
          },
          "execution_count": 50
        }
      ]
    },
    {
      "cell_type": "code",
      "metadata": {
        "colab": {
          "base_uri": "https://localhost:8080/"
        },
        "id": "3QzpiXWfvByq",
        "outputId": "59c99e6c-9fcc-415d-cad1-17a38f327154"
      },
      "source": [
        "labels.duplicated(subset=\"bookingID\").any()"
      ],
      "execution_count": null,
      "outputs": [
        {
          "output_type": "execute_result",
          "data": {
            "text/plain": [
              "True"
            ]
          },
          "metadata": {
            "tags": []
          },
          "execution_count": 51
        }
      ]
    },
    {
      "cell_type": "code",
      "metadata": {
        "id": "XHNP1inrytVt"
      },
      "source": [
        "labels.drop_duplicates(subset=\"bookingID\", keep=\"last\", inplace=True)"
      ],
      "execution_count": null,
      "outputs": []
    },
    {
      "cell_type": "code",
      "metadata": {
        "colab": {
          "base_uri": "https://localhost:8080/"
        },
        "id": "AMHChZRUvDeG",
        "outputId": "93d4ea33-27d0-468e-b70a-062506f98a43"
      },
      "source": [
        "labels.duplicated(subset=\"bookingID\").any()"
      ],
      "execution_count": null,
      "outputs": [
        {
          "output_type": "execute_result",
          "data": {
            "text/plain": [
              "False"
            ]
          },
          "metadata": {
            "tags": []
          },
          "execution_count": 53
        }
      ]
    },
    {
      "cell_type": "code",
      "metadata": {
        "colab": {
          "base_uri": "https://localhost:8080/",
          "height": 204
        },
        "id": "-7hkdQnwzAc8",
        "outputId": "7fe4e92c-5aed-44d8-db0c-59d4506bc3c4"
      },
      "source": [
        "data.head(5)"
      ],
      "execution_count": null,
      "outputs": [
        {
          "output_type": "execute_result",
          "data": {
            "text/html": [
              "<div>\n",
              "<style scoped>\n",
              "    .dataframe tbody tr th:only-of-type {\n",
              "        vertical-align: middle;\n",
              "    }\n",
              "\n",
              "    .dataframe tbody tr th {\n",
              "        vertical-align: top;\n",
              "    }\n",
              "\n",
              "    .dataframe thead th {\n",
              "        text-align: right;\n",
              "    }\n",
              "</style>\n",
              "<table border=\"1\" class=\"dataframe\">\n",
              "  <thead>\n",
              "    <tr style=\"text-align: right;\">\n",
              "      <th></th>\n",
              "      <th>bookingID</th>\n",
              "      <th>Accuracy</th>\n",
              "      <th>Bearing</th>\n",
              "      <th>acceleration_x</th>\n",
              "      <th>acceleration_y</th>\n",
              "      <th>acceleration_z</th>\n",
              "      <th>gyro_x</th>\n",
              "      <th>gyro_y</th>\n",
              "      <th>gyro_z</th>\n",
              "      <th>second</th>\n",
              "      <th>Speed</th>\n",
              "      <th>label</th>\n",
              "    </tr>\n",
              "  </thead>\n",
              "  <tbody>\n",
              "    <tr>\n",
              "      <th>0</th>\n",
              "      <td>0</td>\n",
              "      <td>12.0</td>\n",
              "      <td>143.298294</td>\n",
              "      <td>0.818112</td>\n",
              "      <td>-9.941461</td>\n",
              "      <td>-2.014999</td>\n",
              "      <td>-0.016245</td>\n",
              "      <td>-0.094040</td>\n",
              "      <td>0.070732</td>\n",
              "      <td>0.0</td>\n",
              "      <td>3.442991</td>\n",
              "      <td>0</td>\n",
              "    </tr>\n",
              "    <tr>\n",
              "      <th>1</th>\n",
              "      <td>0</td>\n",
              "      <td>8.0</td>\n",
              "      <td>143.298294</td>\n",
              "      <td>0.546405</td>\n",
              "      <td>-9.835590</td>\n",
              "      <td>-2.038925</td>\n",
              "      <td>-0.047092</td>\n",
              "      <td>-0.078874</td>\n",
              "      <td>0.043187</td>\n",
              "      <td>1.0</td>\n",
              "      <td>0.228454</td>\n",
              "      <td>0</td>\n",
              "    </tr>\n",
              "    <tr>\n",
              "      <th>2</th>\n",
              "      <td>0</td>\n",
              "      <td>8.0</td>\n",
              "      <td>143.298294</td>\n",
              "      <td>-1.706207</td>\n",
              "      <td>-9.270792</td>\n",
              "      <td>-1.209448</td>\n",
              "      <td>-0.028965</td>\n",
              "      <td>-0.032652</td>\n",
              "      <td>0.015390</td>\n",
              "      <td>2.0</td>\n",
              "      <td>0.228454</td>\n",
              "      <td>0</td>\n",
              "    </tr>\n",
              "    <tr>\n",
              "      <th>3</th>\n",
              "      <td>0</td>\n",
              "      <td>8.0</td>\n",
              "      <td>143.298294</td>\n",
              "      <td>-1.416705</td>\n",
              "      <td>-9.548032</td>\n",
              "      <td>-1.860977</td>\n",
              "      <td>-0.022413</td>\n",
              "      <td>0.005049</td>\n",
              "      <td>-0.025753</td>\n",
              "      <td>3.0</td>\n",
              "      <td>0.228454</td>\n",
              "      <td>0</td>\n",
              "    </tr>\n",
              "    <tr>\n",
              "      <th>4</th>\n",
              "      <td>0</td>\n",
              "      <td>8.0</td>\n",
              "      <td>143.298294</td>\n",
              "      <td>-0.598145</td>\n",
              "      <td>-9.853534</td>\n",
              "      <td>-1.378574</td>\n",
              "      <td>-0.014297</td>\n",
              "      <td>-0.046206</td>\n",
              "      <td>0.021902</td>\n",
              "      <td>4.0</td>\n",
              "      <td>0.228454</td>\n",
              "      <td>0</td>\n",
              "    </tr>\n",
              "  </tbody>\n",
              "</table>\n",
              "</div>"
            ],
            "text/plain": [
              "   bookingID  Accuracy     Bearing  ...  second     Speed  label\n",
              "0          0      12.0  143.298294  ...     0.0  3.442991      0\n",
              "1          0       8.0  143.298294  ...     1.0  0.228454      0\n",
              "2          0       8.0  143.298294  ...     2.0  0.228454      0\n",
              "3          0       8.0  143.298294  ...     3.0  0.228454      0\n",
              "4          0       8.0  143.298294  ...     4.0  0.228454      0\n",
              "\n",
              "[5 rows x 12 columns]"
            ]
          },
          "metadata": {
            "tags": []
          },
          "execution_count": 54
        }
      ]
    },
    {
      "cell_type": "code",
      "metadata": {
        "colab": {
          "base_uri": "https://localhost:8080/"
        },
        "id": "kZgLWu47zEfG",
        "outputId": "09358d03-610e-4956-a0fe-c48f1b64c5a3"
      },
      "source": [
        "data.info()"
      ],
      "execution_count": null,
      "outputs": [
        {
          "output_type": "stream",
          "text": [
            "<class 'pandas.core.frame.DataFrame'>\n",
            "RangeIndex: 16154418 entries, 0 to 16154417\n",
            "Data columns (total 12 columns):\n",
            " #   Column          Dtype  \n",
            "---  ------          -----  \n",
            " 0   bookingID       int64  \n",
            " 1   Accuracy        float64\n",
            " 2   Bearing         float64\n",
            " 3   acceleration_x  float64\n",
            " 4   acceleration_y  float64\n",
            " 5   acceleration_z  float64\n",
            " 6   gyro_x          float64\n",
            " 7   gyro_y          float64\n",
            " 8   gyro_z          float64\n",
            " 9   second          float64\n",
            " 10  Speed           float64\n",
            " 11  label           int64  \n",
            "dtypes: float64(10), int64(2)\n",
            "memory usage: 1.4 GB\n"
          ],
          "name": "stdout"
        }
      ]
    },
    {
      "cell_type": "code",
      "metadata": {
        "colab": {
          "base_uri": "https://localhost:8080/"
        },
        "id": "6cPUgzlQzHdo",
        "outputId": "51557eac-a66e-434f-ddbc-1e3124a91a93"
      },
      "source": [
        "data.isnull().any()"
      ],
      "execution_count": null,
      "outputs": [
        {
          "output_type": "execute_result",
          "data": {
            "text/plain": [
              "bookingID         False\n",
              "Accuracy          False\n",
              "Bearing           False\n",
              "acceleration_x    False\n",
              "acceleration_y    False\n",
              "acceleration_z    False\n",
              "gyro_x            False\n",
              "gyro_y            False\n",
              "gyro_z            False\n",
              "second            False\n",
              "Speed             False\n",
              "label             False\n",
              "dtype: bool"
            ]
          },
          "metadata": {
            "tags": []
          },
          "execution_count": 56
        }
      ]
    },
    {
      "cell_type": "code",
      "metadata": {
        "colab": {
          "base_uri": "https://localhost:8080/"
        },
        "id": "YGWuDd1eznXL",
        "outputId": "b680b77f-440f-44a0-9fbd-f9279d8eec11"
      },
      "source": [
        "data.duplicated().any()"
      ],
      "execution_count": null,
      "outputs": [
        {
          "output_type": "execute_result",
          "data": {
            "text/plain": [
              "False"
            ]
          },
          "metadata": {
            "tags": []
          },
          "execution_count": 57
        }
      ]
    },
    {
      "cell_type": "markdown",
      "metadata": {
        "id": "DY2gBmWpNh6_"
      },
      "source": [
        "# Feature Engineering"
      ]
    },
    {
      "cell_type": "code",
      "metadata": {
        "id": "7x3MHvtV0jTX"
      },
      "source": [
        "df = pd.DataFrame()\n",
        "for col in data.columns:\n",
        "    if col != \"bookingID\" and col != \"label\" and col != \"gyro_x\" and col != \"gyro_y\" and col != \"gyro_z\":\n",
        "        temp = data.groupby(\"bookingID\")[col].agg([\"mean\", \"sum\", \"max\", \"min\"])\n",
        "        df[col + \"_mean\"] = temp[\"mean\"]\n",
        "        df[col + \"_sum\"] = temp[\"sum\"]\n",
        "        df[col + \"_max\"] = temp[\"max\"]\n",
        "        df[col + \"_min\"] = temp[\"min\"]"
      ],
      "execution_count": null,
      "outputs": []
    },
    {
      "cell_type": "code",
      "metadata": {
        "id": "RvBXjpOS5ard"
      },
      "source": [
        "for col in df.columns:\n",
        "    if col.startswith(\"second\"):\n",
        "        agg_method = col.split(\"_\")[1]\n",
        "        df[\"distance_\" + agg_method] = df[col] * df[\"Speed_\" + agg_method]\n",
        "        df[\"velocity_x_\" + agg_method] = df[col] * df[\"acceleration_x_\" + agg_method]\n",
        "        df[\"velocity_y_\" + agg_method] = df[col] * df[\"acceleration_y_\" + agg_method]\n",
        "        df[\"velocity_z_\" + agg_method] = df[col] * df[\"acceleration_z_\" + agg_method]"
      ],
      "execution_count": null,
      "outputs": []
    },
    {
      "cell_type": "code",
      "metadata": {
        "colab": {
          "base_uri": "https://localhost:8080/"
        },
        "id": "TFY96mRq1CEw",
        "outputId": "59487f38-4bc3-4c12-e2fd-23391a9d2d1e"
      },
      "source": [
        "len(df)"
      ],
      "execution_count": null,
      "outputs": [
        {
          "output_type": "execute_result",
          "data": {
            "text/plain": [
              "20000"
            ]
          },
          "metadata": {
            "tags": []
          },
          "execution_count": 60
        }
      ]
    },
    {
      "cell_type": "code",
      "metadata": {
        "id": "nu6eyLFL1mvy"
      },
      "source": [
        "df = pd.merge(df, labels, on=\"bookingID\")"
      ],
      "execution_count": null,
      "outputs": []
    },
    {
      "cell_type": "code",
      "metadata": {
        "colab": {
          "base_uri": "https://localhost:8080/",
          "height": 224
        },
        "id": "sUQtC1D_1JXO",
        "outputId": "16cde770-6aa9-4b81-f99b-522ac3956602"
      },
      "source": [
        "df.head(5)"
      ],
      "execution_count": null,
      "outputs": [
        {
          "output_type": "execute_result",
          "data": {
            "text/html": [
              "<div>\n",
              "<style scoped>\n",
              "    .dataframe tbody tr th:only-of-type {\n",
              "        vertical-align: middle;\n",
              "    }\n",
              "\n",
              "    .dataframe tbody tr th {\n",
              "        vertical-align: top;\n",
              "    }\n",
              "\n",
              "    .dataframe thead th {\n",
              "        text-align: right;\n",
              "    }\n",
              "</style>\n",
              "<table border=\"1\" class=\"dataframe\">\n",
              "  <thead>\n",
              "    <tr style=\"text-align: right;\">\n",
              "      <th></th>\n",
              "      <th>bookingID</th>\n",
              "      <th>Accuracy_mean</th>\n",
              "      <th>Accuracy_sum</th>\n",
              "      <th>Accuracy_max</th>\n",
              "      <th>Accuracy_min</th>\n",
              "      <th>Bearing_mean</th>\n",
              "      <th>Bearing_sum</th>\n",
              "      <th>Bearing_max</th>\n",
              "      <th>Bearing_min</th>\n",
              "      <th>acceleration_x_mean</th>\n",
              "      <th>acceleration_x_sum</th>\n",
              "      <th>acceleration_x_max</th>\n",
              "      <th>acceleration_x_min</th>\n",
              "      <th>acceleration_y_mean</th>\n",
              "      <th>acceleration_y_sum</th>\n",
              "      <th>acceleration_y_max</th>\n",
              "      <th>acceleration_y_min</th>\n",
              "      <th>acceleration_z_mean</th>\n",
              "      <th>acceleration_z_sum</th>\n",
              "      <th>acceleration_z_max</th>\n",
              "      <th>acceleration_z_min</th>\n",
              "      <th>second_mean</th>\n",
              "      <th>second_sum</th>\n",
              "      <th>second_max</th>\n",
              "      <th>second_min</th>\n",
              "      <th>Speed_mean</th>\n",
              "      <th>Speed_sum</th>\n",
              "      <th>Speed_max</th>\n",
              "      <th>Speed_min</th>\n",
              "      <th>distance_mean</th>\n",
              "      <th>velocity_x_mean</th>\n",
              "      <th>velocity_y_mean</th>\n",
              "      <th>velocity_z_mean</th>\n",
              "      <th>distance_sum</th>\n",
              "      <th>velocity_x_sum</th>\n",
              "      <th>velocity_y_sum</th>\n",
              "      <th>velocity_z_sum</th>\n",
              "      <th>distance_max</th>\n",
              "      <th>velocity_x_max</th>\n",
              "      <th>velocity_y_max</th>\n",
              "      <th>velocity_z_max</th>\n",
              "      <th>distance_min</th>\n",
              "      <th>velocity_x_min</th>\n",
              "      <th>velocity_y_min</th>\n",
              "      <th>velocity_z_min</th>\n",
              "      <th>label</th>\n",
              "    </tr>\n",
              "  </thead>\n",
              "  <tbody>\n",
              "    <tr>\n",
              "      <th>0</th>\n",
              "      <td>0</td>\n",
              "      <td>10.165339</td>\n",
              "      <td>10206.000</td>\n",
              "      <td>48.000</td>\n",
              "      <td>4.0</td>\n",
              "      <td>176.526099</td>\n",
              "      <td>177232.203582</td>\n",
              "      <td>359.979767</td>\n",
              "      <td>0.037464</td>\n",
              "      <td>-0.711264</td>\n",
              "      <td>-714.108606</td>\n",
              "      <td>4.782614</td>\n",
              "      <td>-4.692294</td>\n",
              "      <td>-9.613822</td>\n",
              "      <td>-9652.277441</td>\n",
              "      <td>-6.119916</td>\n",
              "      <td>-12.764703</td>\n",
              "      <td>-1.619658</td>\n",
              "      <td>-1626.136658</td>\n",
              "      <td>2.318857</td>\n",
              "      <td>-6.251807</td>\n",
              "      <td>903.526892</td>\n",
              "      <td>907141.0</td>\n",
              "      <td>1589.0</td>\n",
              "      <td>0.0</td>\n",
              "      <td>8.994822</td>\n",
              "      <td>9030.801222</td>\n",
              "      <td>22.946083</td>\n",
              "      <td>-1.0</td>\n",
              "      <td>8127.063510</td>\n",
              "      <td>-642.645747</td>\n",
              "      <td>-8686.346854</td>\n",
              "      <td>-1463.404583</td>\n",
              "      <td>8.192210e+09</td>\n",
              "      <td>-6.477972e+08</td>\n",
              "      <td>-8.755977e+09</td>\n",
              "      <td>-1.475135e+09</td>\n",
              "      <td>36461.325996</td>\n",
              "      <td>7599.573862</td>\n",
              "      <td>-9724.546161</td>\n",
              "      <td>3684.663474</td>\n",
              "      <td>-0.0</td>\n",
              "      <td>-0.0</td>\n",
              "      <td>-0.0</td>\n",
              "      <td>-0.0</td>\n",
              "      <td>0</td>\n",
              "    </tr>\n",
              "    <tr>\n",
              "      <th>1</th>\n",
              "      <td>1</td>\n",
              "      <td>3.718763</td>\n",
              "      <td>3164.667</td>\n",
              "      <td>7.709</td>\n",
              "      <td>3.0</td>\n",
              "      <td>124.198590</td>\n",
              "      <td>105693.000000</td>\n",
              "      <td>337.000000</td>\n",
              "      <td>0.000000</td>\n",
              "      <td>-0.525406</td>\n",
              "      <td>-447.120797</td>\n",
              "      <td>3.813341</td>\n",
              "      <td>-5.352994</td>\n",
              "      <td>9.532086</td>\n",
              "      <td>8111.805312</td>\n",
              "      <td>12.536156</td>\n",
              "      <td>6.623425</td>\n",
              "      <td>-2.198999</td>\n",
              "      <td>-1871.348183</td>\n",
              "      <td>1.481293</td>\n",
              "      <td>-5.355455</td>\n",
              "      <td>581.175088</td>\n",
              "      <td>494580.0</td>\n",
              "      <td>1034.0</td>\n",
              "      <td>0.0</td>\n",
              "      <td>7.881588</td>\n",
              "      <td>6707.231233</td>\n",
              "      <td>21.882141</td>\n",
              "      <td>-1.0</td>\n",
              "      <td>4580.582495</td>\n",
              "      <td>-305.353077</td>\n",
              "      <td>5539.811007</td>\n",
              "      <td>-1278.003461</td>\n",
              "      <td>3.317262e+09</td>\n",
              "      <td>-2.211370e+08</td>\n",
              "      <td>4.011937e+09</td>\n",
              "      <td>-9.255314e+08</td>\n",
              "      <td>22626.133794</td>\n",
              "      <td>3942.994594</td>\n",
              "      <td>12962.385304</td>\n",
              "      <td>1531.656548</td>\n",
              "      <td>-0.0</td>\n",
              "      <td>-0.0</td>\n",
              "      <td>0.0</td>\n",
              "      <td>-0.0</td>\n",
              "      <td>1</td>\n",
              "    </tr>\n",
              "    <tr>\n",
              "      <th>2</th>\n",
              "      <td>2</td>\n",
              "      <td>3.930626</td>\n",
              "      <td>766.472</td>\n",
              "      <td>8.000</td>\n",
              "      <td>3.0</td>\n",
              "      <td>173.794872</td>\n",
              "      <td>33890.000000</td>\n",
              "      <td>354.000000</td>\n",
              "      <td>1.000000</td>\n",
              "      <td>0.306786</td>\n",
              "      <td>59.823351</td>\n",
              "      <td>1.956122</td>\n",
              "      <td>-2.971295</td>\n",
              "      <td>9.843183</td>\n",
              "      <td>1919.420684</td>\n",
              "      <td>13.333716</td>\n",
              "      <td>7.941810</td>\n",
              "      <td>0.139347</td>\n",
              "      <td>27.172626</td>\n",
              "      <td>2.312870</td>\n",
              "      <td>-3.282551</td>\n",
              "      <td>339.441026</td>\n",
              "      <td>66191.0</td>\n",
              "      <td>825.0</td>\n",
              "      <td>0.0</td>\n",
              "      <td>3.157213</td>\n",
              "      <td>615.656528</td>\n",
              "      <td>9.360483</td>\n",
              "      <td>0.0</td>\n",
              "      <td>1071.687607</td>\n",
              "      <td>104.135895</td>\n",
              "      <td>3341.180132</td>\n",
              "      <td>47.300020</td>\n",
              "      <td>4.075092e+07</td>\n",
              "      <td>3.959767e+06</td>\n",
              "      <td>1.270484e+08</td>\n",
              "      <td>1.798583e+06</td>\n",
              "      <td>7722.398475</td>\n",
              "      <td>1613.801062</td>\n",
              "      <td>11000.315700</td>\n",
              "      <td>1908.117338</td>\n",
              "      <td>0.0</td>\n",
              "      <td>-0.0</td>\n",
              "      <td>0.0</td>\n",
              "      <td>-0.0</td>\n",
              "      <td>1</td>\n",
              "    </tr>\n",
              "    <tr>\n",
              "      <th>3</th>\n",
              "      <td>4</td>\n",
              "      <td>10.000000</td>\n",
              "      <td>10940.000</td>\n",
              "      <td>10.000</td>\n",
              "      <td>10.0</td>\n",
              "      <td>151.807013</td>\n",
              "      <td>166076.872711</td>\n",
              "      <td>353.855377</td>\n",
              "      <td>2.271227</td>\n",
              "      <td>-0.365117</td>\n",
              "      <td>-399.438525</td>\n",
              "      <td>2.019635</td>\n",
              "      <td>-2.866458</td>\n",
              "      <td>-9.406439</td>\n",
              "      <td>-10290.643753</td>\n",
              "      <td>-7.064984</td>\n",
              "      <td>-18.847833</td>\n",
              "      <td>-2.613639</td>\n",
              "      <td>-2859.321069</td>\n",
              "      <td>0.296381</td>\n",
              "      <td>-9.374869</td>\n",
              "      <td>547.495430</td>\n",
              "      <td>598960.0</td>\n",
              "      <td>1094.0</td>\n",
              "      <td>0.0</td>\n",
              "      <td>6.150996</td>\n",
              "      <td>6729.190006</td>\n",
              "      <td>19.780001</td>\n",
              "      <td>0.0</td>\n",
              "      <td>3367.642389</td>\n",
              "      <td>-199.900153</td>\n",
              "      <td>-5149.982105</td>\n",
              "      <td>-1430.955409</td>\n",
              "      <td>4.030516e+09</td>\n",
              "      <td>-2.392477e+08</td>\n",
              "      <td>-6.163684e+09</td>\n",
              "      <td>-1.712619e+09</td>\n",
              "      <td>21639.320751</td>\n",
              "      <td>2209.480701</td>\n",
              "      <td>-7729.092639</td>\n",
              "      <td>324.240393</td>\n",
              "      <td>0.0</td>\n",
              "      <td>-0.0</td>\n",
              "      <td>-0.0</td>\n",
              "      <td>-0.0</td>\n",
              "      <td>1</td>\n",
              "    </tr>\n",
              "    <tr>\n",
              "      <th>4</th>\n",
              "      <td>6</td>\n",
              "      <td>4.586721</td>\n",
              "      <td>5022.460</td>\n",
              "      <td>12.000</td>\n",
              "      <td>3.0</td>\n",
              "      <td>197.812785</td>\n",
              "      <td>216605.000000</td>\n",
              "      <td>359.000000</td>\n",
              "      <td>0.000000</td>\n",
              "      <td>0.490616</td>\n",
              "      <td>537.224988</td>\n",
              "      <td>5.593026</td>\n",
              "      <td>-4.352792</td>\n",
              "      <td>9.538043</td>\n",
              "      <td>10444.157133</td>\n",
              "      <td>13.249917</td>\n",
              "      <td>6.469330</td>\n",
              "      <td>2.355059</td>\n",
              "      <td>2578.789598</td>\n",
              "      <td>7.977724</td>\n",
              "      <td>-2.140482</td>\n",
              "      <td>547.000000</td>\n",
              "      <td>598965.0</td>\n",
              "      <td>1094.0</td>\n",
              "      <td>0.0</td>\n",
              "      <td>4.628921</td>\n",
              "      <td>5068.669039</td>\n",
              "      <td>16.394695</td>\n",
              "      <td>0.0</td>\n",
              "      <td>2532.020059</td>\n",
              "      <td>268.367186</td>\n",
              "      <td>5217.309545</td>\n",
              "      <td>1288.217270</td>\n",
              "      <td>3.035955e+09</td>\n",
              "      <td>3.217790e+08</td>\n",
              "      <td>6.255685e+09</td>\n",
              "      <td>1.544605e+09</td>\n",
              "      <td>17935.796330</td>\n",
              "      <td>6118.770444</td>\n",
              "      <td>14495.409198</td>\n",
              "      <td>8727.629618</td>\n",
              "      <td>0.0</td>\n",
              "      <td>-0.0</td>\n",
              "      <td>0.0</td>\n",
              "      <td>-0.0</td>\n",
              "      <td>0</td>\n",
              "    </tr>\n",
              "  </tbody>\n",
              "</table>\n",
              "</div>"
            ],
            "text/plain": [
              "   bookingID  Accuracy_mean  ...  velocity_z_min  label\n",
              "0          0      10.165339  ...            -0.0      0\n",
              "1          1       3.718763  ...            -0.0      1\n",
              "2          2       3.930626  ...            -0.0      1\n",
              "3          4      10.000000  ...            -0.0      1\n",
              "4          6       4.586721  ...            -0.0      0\n",
              "\n",
              "[5 rows x 46 columns]"
            ]
          },
          "metadata": {
            "tags": []
          },
          "execution_count": 62
        }
      ]
    },
    {
      "cell_type": "code",
      "metadata": {
        "colab": {
          "base_uri": "https://localhost:8080/"
        },
        "id": "datBpB1R2UTW",
        "outputId": "bb2d4ae5-bd1f-4b32-b667-41c232fe6589"
      },
      "source": [
        "df.isnull().any()"
      ],
      "execution_count": null,
      "outputs": [
        {
          "output_type": "execute_result",
          "data": {
            "text/plain": [
              "bookingID              False\n",
              "Accuracy_mean          False\n",
              "Accuracy_sum           False\n",
              "Accuracy_max           False\n",
              "Accuracy_min           False\n",
              "Bearing_mean           False\n",
              "Bearing_sum            False\n",
              "Bearing_max            False\n",
              "Bearing_min            False\n",
              "acceleration_x_mean    False\n",
              "acceleration_x_sum     False\n",
              "acceleration_x_max     False\n",
              "acceleration_x_min     False\n",
              "acceleration_y_mean    False\n",
              "acceleration_y_sum     False\n",
              "acceleration_y_max     False\n",
              "acceleration_y_min     False\n",
              "acceleration_z_mean    False\n",
              "acceleration_z_sum     False\n",
              "acceleration_z_max     False\n",
              "acceleration_z_min     False\n",
              "second_mean            False\n",
              "second_sum             False\n",
              "second_max             False\n",
              "second_min             False\n",
              "Speed_mean             False\n",
              "Speed_sum              False\n",
              "Speed_max              False\n",
              "Speed_min              False\n",
              "distance_mean          False\n",
              "velocity_x_mean        False\n",
              "velocity_y_mean        False\n",
              "velocity_z_mean        False\n",
              "distance_sum           False\n",
              "velocity_x_sum         False\n",
              "velocity_y_sum         False\n",
              "velocity_z_sum         False\n",
              "distance_max           False\n",
              "velocity_x_max         False\n",
              "velocity_y_max         False\n",
              "velocity_z_max         False\n",
              "distance_min           False\n",
              "velocity_x_min         False\n",
              "velocity_y_min         False\n",
              "velocity_z_min         False\n",
              "label                  False\n",
              "dtype: bool"
            ]
          },
          "metadata": {
            "tags": []
          },
          "execution_count": 63
        }
      ]
    },
    {
      "cell_type": "code",
      "metadata": {
        "colab": {
          "base_uri": "https://localhost:8080/"
        },
        "id": "S68KVyNI2UVp",
        "outputId": "1302d40a-5451-49a8-d477-d2eddb321287"
      },
      "source": [
        "df.duplicated().any()"
      ],
      "execution_count": null,
      "outputs": [
        {
          "output_type": "execute_result",
          "data": {
            "text/plain": [
              "False"
            ]
          },
          "metadata": {
            "tags": []
          },
          "execution_count": 64
        }
      ]
    },
    {
      "cell_type": "code",
      "metadata": {
        "id": "G4HdWTMB2UX1"
      },
      "source": [
        "df = df.drop(columns=[\"bookingID\"]).reset_index(drop=True)"
      ],
      "execution_count": null,
      "outputs": []
    },
    {
      "cell_type": "markdown",
      "metadata": {
        "id": "rwBMO5MB39Zb"
      },
      "source": [
        "#Feature Selection"
      ]
    },
    {
      "cell_type": "code",
      "metadata": {
        "colab": {
          "base_uri": "https://localhost:8080/"
        },
        "id": "Cf3dTi_J2UZr",
        "outputId": "9c819032-cf71-4b6a-82b2-adc890bd9612"
      },
      "source": [
        "df.info()"
      ],
      "execution_count": null,
      "outputs": [
        {
          "output_type": "stream",
          "text": [
            "<class 'pandas.core.frame.DataFrame'>\n",
            "RangeIndex: 20000 entries, 0 to 19999\n",
            "Data columns (total 45 columns):\n",
            " #   Column               Non-Null Count  Dtype  \n",
            "---  ------               --------------  -----  \n",
            " 0   Accuracy_mean        20000 non-null  float64\n",
            " 1   Accuracy_sum         20000 non-null  float64\n",
            " 2   Accuracy_max         20000 non-null  float64\n",
            " 3   Accuracy_min         20000 non-null  float64\n",
            " 4   Bearing_mean         20000 non-null  float64\n",
            " 5   Bearing_sum          20000 non-null  float64\n",
            " 6   Bearing_max          20000 non-null  float64\n",
            " 7   Bearing_min          20000 non-null  float64\n",
            " 8   acceleration_x_mean  20000 non-null  float64\n",
            " 9   acceleration_x_sum   20000 non-null  float64\n",
            " 10  acceleration_x_max   20000 non-null  float64\n",
            " 11  acceleration_x_min   20000 non-null  float64\n",
            " 12  acceleration_y_mean  20000 non-null  float64\n",
            " 13  acceleration_y_sum   20000 non-null  float64\n",
            " 14  acceleration_y_max   20000 non-null  float64\n",
            " 15  acceleration_y_min   20000 non-null  float64\n",
            " 16  acceleration_z_mean  20000 non-null  float64\n",
            " 17  acceleration_z_sum   20000 non-null  float64\n",
            " 18  acceleration_z_max   20000 non-null  float64\n",
            " 19  acceleration_z_min   20000 non-null  float64\n",
            " 20  second_mean          20000 non-null  float64\n",
            " 21  second_sum           20000 non-null  float64\n",
            " 22  second_max           20000 non-null  float64\n",
            " 23  second_min           20000 non-null  float64\n",
            " 24  Speed_mean           20000 non-null  float64\n",
            " 25  Speed_sum            20000 non-null  float64\n",
            " 26  Speed_max            20000 non-null  float64\n",
            " 27  Speed_min            20000 non-null  float64\n",
            " 28  distance_mean        20000 non-null  float64\n",
            " 29  velocity_x_mean      20000 non-null  float64\n",
            " 30  velocity_y_mean      20000 non-null  float64\n",
            " 31  velocity_z_mean      20000 non-null  float64\n",
            " 32  distance_sum         20000 non-null  float64\n",
            " 33  velocity_x_sum       20000 non-null  float64\n",
            " 34  velocity_y_sum       20000 non-null  float64\n",
            " 35  velocity_z_sum       20000 non-null  float64\n",
            " 36  distance_max         20000 non-null  float64\n",
            " 37  velocity_x_max       20000 non-null  float64\n",
            " 38  velocity_y_max       20000 non-null  float64\n",
            " 39  velocity_z_max       20000 non-null  float64\n",
            " 40  distance_min         20000 non-null  float64\n",
            " 41  velocity_x_min       20000 non-null  float64\n",
            " 42  velocity_y_min       20000 non-null  float64\n",
            " 43  velocity_z_min       20000 non-null  float64\n",
            " 44  label                20000 non-null  int64  \n",
            "dtypes: float64(44), int64(1)\n",
            "memory usage: 6.9 MB\n"
          ],
          "name": "stdout"
        }
      ]
    },
    {
      "cell_type": "code",
      "metadata": {
        "colab": {
          "base_uri": "https://localhost:8080/"
        },
        "id": "kkNidIKv2CEj",
        "outputId": "7bb996a8-26a6-479d-b15d-6b31272806c7"
      },
      "source": [
        "corr=abs(df.corr()['label']).sort_values(ascending = False)\n",
        "print(corr)"
      ],
      "execution_count": null,
      "outputs": [
        {
          "output_type": "stream",
          "text": [
            "label                  1.000000\n",
            "Bearing_sum            0.196237\n",
            "acceleration_x_max     0.168572\n",
            "acceleration_x_min     0.158021\n",
            "acceleration_z_max     0.156995\n",
            "acceleration_z_min     0.128672\n",
            "Speed_sum              0.121857\n",
            "Bearing_max            0.108010\n",
            "Bearing_min            0.095364\n",
            "Speed_min              0.089194\n",
            "acceleration_y_min     0.075424\n",
            "Speed_mean             0.072482\n",
            "acceleration_y_max     0.058552\n",
            "acceleration_y_sum     0.051582\n",
            "acceleration_z_sum     0.047572\n",
            "Accuracy_sum           0.040019\n",
            "Accuracy_max           0.033616\n",
            "acceleration_z_mean    0.033264\n",
            "Speed_max              0.030936\n",
            "Bearing_mean           0.022991\n",
            "distance_max           0.008551\n",
            "second_max             0.008332\n",
            "velocity_y_max         0.008233\n",
            "acceleration_x_sum     0.008099\n",
            "Accuracy_min           0.008008\n",
            "velocity_x_max         0.007941\n",
            "velocity_z_max         0.007580\n",
            "acceleration_y_mean    0.006820\n",
            "Accuracy_mean          0.006366\n",
            "distance_mean          0.005958\n",
            "second_sum             0.005617\n",
            "velocity_y_mean        0.005470\n",
            "second_mean            0.005406\n",
            "acceleration_x_mean    0.005393\n",
            "velocity_y_sum         0.005265\n",
            "velocity_z_sum         0.004811\n",
            "velocity_z_mean        0.004470\n",
            "distance_sum           0.004122\n",
            "velocity_x_sum         0.003508\n",
            "velocity_x_mean        0.000915\n",
            "second_min                  NaN\n",
            "distance_min                NaN\n",
            "velocity_x_min              NaN\n",
            "velocity_y_min              NaN\n",
            "velocity_z_min              NaN\n",
            "Name: label, dtype: float64\n"
          ],
          "name": "stdout"
        }
      ]
    },
    {
      "cell_type": "code",
      "metadata": {
        "id": "BQJsEbpE5RwS"
      },
      "source": [
        "df.drop(columns=[\"second_min\", \"distance_min\", \"velocity_x_min\", \"velocity_y_min\", \"velocity_z_min\"], inplace=True)"
      ],
      "execution_count": null,
      "outputs": []
    },
    {
      "cell_type": "markdown",
      "metadata": {
        "id": "gOd-5jhgItql"
      },
      "source": [
        "# Model Training"
      ]
    },
    {
      "cell_type": "code",
      "metadata": {
        "id": "1GdyWa5o2T9l"
      },
      "source": [
        "features = [\"Bearing_sum\", \"acceleration_x_max\", \"acceleration_z_max\", \"Speed_sum\", \"Bearing_max\", \"acceleration_x_min\", \"acceleration_z_min\", \"Bearing_min\", \"Speed_min\", \"acceleration_y_min\"]"
      ],
      "execution_count": null,
      "outputs": []
    },
    {
      "cell_type": "code",
      "metadata": {
        "id": "3Xi8Kyw9CwN1"
      },
      "source": [
        "X_test = df.drop(columns=[\"label\"]).reset_index(drop=True)\n",
        "X_test = X_test[features]\n",
        "X_test = X_test.astype('float32')\n",
        "y_test = df.label.reset_index(drop=True)\n",
        "\n",
        "train_X, test_X, train_y, test_y = train_test_split(X_test, y_test, test_size=0.2)\n",
        "train2_X, val2_X, train2_y, val2_y = train_test_split(train_X, train_y, test_size=0.333)"
      ],
      "execution_count": null,
      "outputs": []
    },
    {
      "cell_type": "code",
      "metadata": {
        "id": "fUn1PglQV9bi"
      },
      "source": [
        "# Training using Neural Network\n",
        "model = Sequential()\n",
        "\n",
        "# Flatten the results to feed into a DNN\n",
        "model.add(Flatten())\n",
        "model.add(Dense(32, activation=\"relu\"))\n",
        "model.add(Dense(64, activation=\"relu\"))\n",
        "model.add(Dropout(0.2))\n",
        "model.add(Dense(1, activation=\"sigmoid\"))\n",
        "# Only 1 output neuron. \n",
        "model.compile(loss='binary_crossentropy', optimizer='adam', metrics=['acc'])"
      ],
      "execution_count": null,
      "outputs": []
    },
    {
      "cell_type": "code",
      "metadata": {
        "colab": {
          "base_uri": "https://localhost:8080/"
        },
        "id": "Ei5paSdNjXgq",
        "outputId": "defc5383-7f36-41c1-c3a9-3f3eab26981a"
      },
      "source": [
        "es = EarlyStopping(monitor='val_loss', mode='min', verbose=1, patience=50)\n",
        "\n",
        "history = model.fit(train2_X, train2_y, epochs=500, batch_size=25, verbose=2, callbacks=[es], validation_data = (val2_X, val2_y))"
      ],
      "execution_count": null,
      "outputs": [
        {
          "output_type": "stream",
          "text": [
            "Epoch 1/500\n",
            "427/427 - 1s - loss: 1547.4532 - acc: 0.5962 - val_loss: 29.6422 - val_acc: 0.4782\n",
            "Epoch 2/500\n",
            "427/427 - 1s - loss: 7.2706 - acc: 0.6428 - val_loss: 0.6676 - val_acc: 0.7481\n",
            "Epoch 3/500\n",
            "427/427 - 1s - loss: 1.0272 - acc: 0.6819 - val_loss: 0.6320 - val_acc: 0.7511\n",
            "Epoch 4/500\n",
            "427/427 - 1s - loss: 0.8479 - acc: 0.6887 - val_loss: 0.7548 - val_acc: 0.7483\n",
            "Epoch 5/500\n",
            "427/427 - 1s - loss: 0.9589 - acc: 0.6959 - val_loss: 0.7162 - val_acc: 0.7519\n",
            "Epoch 6/500\n",
            "427/427 - 1s - loss: 0.6641 - acc: 0.7184 - val_loss: 1.1572 - val_acc: 0.7417\n",
            "Epoch 7/500\n",
            "427/427 - 1s - loss: 0.6332 - acc: 0.7359 - val_loss: 0.7027 - val_acc: 0.7519\n",
            "Epoch 8/500\n",
            "427/427 - 1s - loss: 0.6578 - acc: 0.7458 - val_loss: 0.5655 - val_acc: 0.7513\n",
            "Epoch 9/500\n",
            "427/427 - 1s - loss: 0.5778 - acc: 0.7478 - val_loss: 0.6149 - val_acc: 0.7519\n",
            "Epoch 10/500\n",
            "427/427 - 1s - loss: 0.5835 - acc: 0.7513 - val_loss: 0.5908 - val_acc: 0.7534\n",
            "Epoch 11/500\n",
            "427/427 - 1s - loss: 0.6728 - acc: 0.7519 - val_loss: 0.5610 - val_acc: 0.7521\n",
            "Epoch 12/500\n",
            "427/427 - 1s - loss: 0.5637 - acc: 0.7521 - val_loss: 0.6064 - val_acc: 0.7523\n",
            "Epoch 13/500\n",
            "427/427 - 1s - loss: 0.6216 - acc: 0.7536 - val_loss: 0.6280 - val_acc: 0.7539\n",
            "Epoch 14/500\n",
            "427/427 - 1s - loss: 0.6095 - acc: 0.7534 - val_loss: 0.5620 - val_acc: 0.7532\n",
            "Epoch 15/500\n",
            "427/427 - 1s - loss: 0.5781 - acc: 0.7519 - val_loss: 0.6020 - val_acc: 0.7528\n",
            "Epoch 16/500\n",
            "427/427 - 1s - loss: 0.5829 - acc: 0.7525 - val_loss: 0.5753 - val_acc: 0.7526\n",
            "Epoch 17/500\n",
            "427/427 - 1s - loss: 0.5958 - acc: 0.7527 - val_loss: 0.5636 - val_acc: 0.7541\n",
            "Epoch 18/500\n",
            "427/427 - 1s - loss: 0.5649 - acc: 0.7531 - val_loss: 0.5706 - val_acc: 0.7575\n",
            "Epoch 19/500\n",
            "427/427 - 1s - loss: 0.5935 - acc: 0.7517 - val_loss: 0.5639 - val_acc: 0.7571\n",
            "Epoch 20/500\n",
            "427/427 - 1s - loss: 0.6045 - acc: 0.7516 - val_loss: 0.5661 - val_acc: 0.7519\n",
            "Epoch 21/500\n",
            "427/427 - 1s - loss: 0.5624 - acc: 0.7526 - val_loss: 0.5784 - val_acc: 0.7556\n",
            "Epoch 22/500\n",
            "427/427 - 1s - loss: 0.5754 - acc: 0.7518 - val_loss: 0.5617 - val_acc: 0.7519\n",
            "Epoch 23/500\n",
            "427/427 - 1s - loss: 0.5704 - acc: 0.7513 - val_loss: 0.5604 - val_acc: 0.7519\n",
            "Epoch 24/500\n",
            "427/427 - 1s - loss: 0.5623 - acc: 0.7516 - val_loss: 0.5605 - val_acc: 0.7519\n",
            "Epoch 25/500\n",
            "427/427 - 1s - loss: 0.5621 - acc: 0.7514 - val_loss: 0.5618 - val_acc: 0.7519\n",
            "Epoch 26/500\n",
            "427/427 - 1s - loss: 0.5644 - acc: 0.7516 - val_loss: 0.5626 - val_acc: 0.7519\n",
            "Epoch 27/500\n",
            "427/427 - 1s - loss: 0.5620 - acc: 0.7515 - val_loss: 0.5623 - val_acc: 0.7519\n",
            "Epoch 28/500\n",
            "427/427 - 1s - loss: 0.5611 - acc: 0.7514 - val_loss: 0.5613 - val_acc: 0.7519\n",
            "Epoch 29/500\n",
            "427/427 - 1s - loss: 0.5621 - acc: 0.7513 - val_loss: 0.5600 - val_acc: 0.7519\n",
            "Epoch 30/500\n",
            "427/427 - 1s - loss: 0.5609 - acc: 0.7515 - val_loss: 0.5616 - val_acc: 0.7519\n",
            "Epoch 31/500\n",
            "427/427 - 1s - loss: 0.5672 - acc: 0.7512 - val_loss: 0.5605 - val_acc: 0.7517\n",
            "Epoch 32/500\n",
            "427/427 - 1s - loss: 0.5622 - acc: 0.7514 - val_loss: 0.5604 - val_acc: 0.7519\n",
            "Epoch 33/500\n",
            "427/427 - 1s - loss: 0.5616 - acc: 0.7514 - val_loss: 0.5604 - val_acc: 0.7517\n",
            "Epoch 34/500\n",
            "427/427 - 1s - loss: 0.5615 - acc: 0.7513 - val_loss: 0.5634 - val_acc: 0.7517\n",
            "Epoch 35/500\n",
            "427/427 - 1s - loss: 0.5612 - acc: 0.7515 - val_loss: 0.5605 - val_acc: 0.7519\n",
            "Epoch 36/500\n",
            "427/427 - 1s - loss: 0.5619 - acc: 0.7513 - val_loss: 0.5652 - val_acc: 0.7517\n",
            "Epoch 37/500\n",
            "427/427 - 1s - loss: 0.7155 - acc: 0.7508 - val_loss: 0.5693 - val_acc: 0.7515\n",
            "Epoch 38/500\n",
            "427/427 - 1s - loss: 0.5644 - acc: 0.7515 - val_loss: 0.5690 - val_acc: 0.7515\n",
            "Epoch 39/500\n",
            "427/427 - 1s - loss: 0.6731 - acc: 0.7512 - val_loss: 0.5643 - val_acc: 0.7517\n",
            "Epoch 40/500\n",
            "427/427 - 1s - loss: 0.5614 - acc: 0.7513 - val_loss: 0.5625 - val_acc: 0.7517\n",
            "Epoch 41/500\n",
            "427/427 - 1s - loss: 0.5612 - acc: 0.7513 - val_loss: 0.5621 - val_acc: 0.7517\n",
            "Epoch 42/500\n",
            "427/427 - 1s - loss: 0.5604 - acc: 0.7515 - val_loss: 0.5613 - val_acc: 0.7513\n",
            "Epoch 43/500\n",
            "427/427 - 1s - loss: 0.5603 - acc: 0.7514 - val_loss: 0.5630 - val_acc: 0.7517\n",
            "Epoch 44/500\n",
            "427/427 - 1s - loss: 0.5632 - acc: 0.7512 - val_loss: 0.5647 - val_acc: 0.7517\n",
            "Epoch 45/500\n",
            "427/427 - 1s - loss: 0.5632 - acc: 0.7514 - val_loss: 0.5618 - val_acc: 0.7517\n",
            "Epoch 46/500\n",
            "427/427 - 1s - loss: 0.5603 - acc: 0.7515 - val_loss: 0.5625 - val_acc: 0.7517\n",
            "Epoch 47/500\n",
            "427/427 - 1s - loss: 0.5615 - acc: 0.7515 - val_loss: 0.5620 - val_acc: 0.7517\n",
            "Epoch 48/500\n",
            "427/427 - 1s - loss: 0.5603 - acc: 0.7515 - val_loss: 0.5622 - val_acc: 0.7517\n",
            "Epoch 49/500\n",
            "427/427 - 1s - loss: 0.5606 - acc: 0.7513 - val_loss: 0.5618 - val_acc: 0.7517\n",
            "Epoch 50/500\n",
            "427/427 - 1s - loss: 0.5606 - acc: 0.7513 - val_loss: 0.5654 - val_acc: 0.7517\n",
            "Epoch 51/500\n",
            "427/427 - 1s - loss: 0.5621 - acc: 0.7514 - val_loss: 0.5622 - val_acc: 0.7517\n",
            "Epoch 52/500\n",
            "427/427 - 1s - loss: 0.5612 - acc: 0.7513 - val_loss: 0.5620 - val_acc: 0.7517\n",
            "Epoch 53/500\n",
            "427/427 - 1s - loss: 0.5611 - acc: 0.7514 - val_loss: 0.5624 - val_acc: 0.7517\n",
            "Epoch 54/500\n",
            "427/427 - 1s - loss: 0.5613 - acc: 0.7514 - val_loss: 0.5618 - val_acc: 0.7517\n",
            "Epoch 55/500\n",
            "427/427 - 1s - loss: 0.5606 - acc: 0.7515 - val_loss: 0.5626 - val_acc: 0.7517\n",
            "Epoch 56/500\n",
            "427/427 - 1s - loss: 0.5612 - acc: 0.7513 - val_loss: 0.5615 - val_acc: 0.7515\n",
            "Epoch 57/500\n",
            "427/427 - 1s - loss: 0.5610 - acc: 0.7514 - val_loss: 0.5616 - val_acc: 0.7517\n",
            "Epoch 58/500\n",
            "427/427 - 1s - loss: 0.5610 - acc: 0.7513 - val_loss: 0.5616 - val_acc: 0.7515\n",
            "Epoch 59/500\n",
            "427/427 - 1s - loss: 0.5607 - acc: 0.7514 - val_loss: 0.5621 - val_acc: 0.7517\n",
            "Epoch 60/500\n",
            "427/427 - 1s - loss: 0.5609 - acc: 0.7514 - val_loss: 0.5625 - val_acc: 0.7517\n",
            "Epoch 61/500\n",
            "427/427 - 1s - loss: 0.5614 - acc: 0.7512 - val_loss: 0.5614 - val_acc: 0.7517\n",
            "Epoch 62/500\n",
            "427/427 - 1s - loss: 0.5606 - acc: 0.7515 - val_loss: 0.5610 - val_acc: 0.7517\n",
            "Epoch 63/500\n",
            "427/427 - 1s - loss: 1.0367 - acc: 0.7509 - val_loss: 0.5623 - val_acc: 0.7515\n",
            "Epoch 64/500\n",
            "427/427 - 1s - loss: 0.5617 - acc: 0.7515 - val_loss: 0.5620 - val_acc: 0.7515\n",
            "Epoch 65/500\n",
            "427/427 - 1s - loss: 0.5605 - acc: 0.7515 - val_loss: 0.5620 - val_acc: 0.7515\n",
            "Epoch 66/500\n",
            "427/427 - 1s - loss: 0.5613 - acc: 0.7514 - val_loss: 0.5617 - val_acc: 0.7515\n",
            "Epoch 67/500\n",
            "427/427 - 1s - loss: 0.7743 - acc: 0.7490 - val_loss: 0.5609 - val_acc: 0.7519\n",
            "Epoch 68/500\n",
            "427/427 - 1s - loss: 0.5609 - acc: 0.7514 - val_loss: 0.5604 - val_acc: 0.7519\n",
            "Epoch 69/500\n",
            "427/427 - 1s - loss: 0.5608 - acc: 0.7513 - val_loss: 0.5621 - val_acc: 0.7517\n",
            "Epoch 70/500\n",
            "427/427 - 1s - loss: 0.5613 - acc: 0.7514 - val_loss: 0.5618 - val_acc: 0.7515\n",
            "Epoch 71/500\n",
            "427/427 - 1s - loss: 0.5608 - acc: 0.7515 - val_loss: 0.5607 - val_acc: 0.7517\n",
            "Epoch 72/500\n",
            "427/427 - 1s - loss: 0.5615 - acc: 0.7514 - val_loss: 0.5605 - val_acc: 0.7517\n",
            "Epoch 73/500\n",
            "427/427 - 1s - loss: 0.5607 - acc: 0.7514 - val_loss: 0.5617 - val_acc: 0.7519\n",
            "Epoch 74/500\n",
            "427/427 - 1s - loss: 0.5614 - acc: 0.7515 - val_loss: 0.5605 - val_acc: 0.7519\n",
            "Epoch 75/500\n",
            "427/427 - 1s - loss: 0.5607 - acc: 0.7515 - val_loss: 0.5610 - val_acc: 0.7519\n",
            "Epoch 76/500\n",
            "427/427 - 1s - loss: 0.5620 - acc: 0.7512 - val_loss: 0.5608 - val_acc: 0.7519\n",
            "Epoch 77/500\n",
            "427/427 - 1s - loss: 0.5611 - acc: 0.7514 - val_loss: 0.5607 - val_acc: 0.7517\n",
            "Epoch 78/500\n",
            "427/427 - 1s - loss: 0.5615 - acc: 0.7511 - val_loss: 0.5606 - val_acc: 0.7515\n",
            "Epoch 79/500\n",
            "427/427 - 1s - loss: 0.5607 - acc: 0.7512 - val_loss: 0.5608 - val_acc: 0.7519\n",
            "Epoch 00079: early stopping\n"
          ],
          "name": "stdout"
        }
      ]
    },
    {
      "cell_type": "code",
      "metadata": {
        "colab": {
          "base_uri": "https://localhost:8080/",
          "height": 513
        },
        "id": "Aj4DRgIimIdU",
        "outputId": "15660168-5338-426a-8131-c713a569c60e"
      },
      "source": [
        "# plot accuracy\n",
        "names = [\"Train accuracy\", \"Validation accuracy\"]\n",
        "plt.figure(figsize=(16, 8))\n",
        "plt.plot(history.history['acc'])\n",
        "plt.plot(history.history['val_acc'])\n",
        "plt.title('Model Accuracy')\n",
        "plt.ylabel('Accuracy')\n",
        "plt.xlabel('Epoch')\n",
        "plt.legend(names, loc='upper left')\n",
        "axes = plt.gca()\n",
        "axes.set_ylim([0.6, 0.8])\n",
        "plt.show()"
      ],
      "execution_count": null,
      "outputs": [
        {
          "output_type": "display_data",
          "data": {
            "image/png": "[encoded data removed]",
            "text/plain": [
              "<Figure size 1152x576 with 1 Axes>"
            ]
          },
          "metadata": {
            "tags": [],
            "needs_background": "light"
          }
        }
      ]
    },
    {
      "cell_type": "code",
      "metadata": {
        "colab": {
          "base_uri": "https://localhost:8080/",
          "height": 513
        },
        "id": "6AYxN1cGnmPg",
        "outputId": "43bf2a40-f13e-459a-f220-90295ed66e2f"
      },
      "source": [
        "# plot loss\n",
        "names = [\"Train loss\", \"Validation loss\"]\n",
        "plt.figure(figsize=(16, 8))\n",
        "plt.plot(history.history['loss'])\n",
        "plt.plot(history.history['val_loss'])\n",
        "plt.title('Model Loss')\n",
        "plt.ylabel('Loss')\n",
        "plt.xlabel('Epoch')\n",
        "plt.legend(names, loc='upper left')\n",
        "axes = plt.gca()\n",
        "axes.set_ylim([0, 50])\n",
        "plt.show()"
      ],
      "execution_count": null,
      "outputs": [
        {
          "output_type": "display_data",
          "data": {
            "image/png": "[encoded data removed]",
            "text/plain": [
              "<Figure size 1152x576 with 1 Axes>"
            ]
          },
          "metadata": {
            "tags": [],
            "needs_background": "light"
          }
        }
      ]
    },
    {
      "cell_type": "code",
      "metadata": {
        "colab": {
          "base_uri": "https://localhost:8080/"
        },
        "id": "jTofIGvCu2FJ",
        "outputId": "48047369-d489-4ab0-d664-a21526a73f92"
      },
      "source": [
        "scores = model.evaluate(test_X, test_y)\n",
        "print(\"Accuracy {:.2f}\".format(scores[1]*100))\n",
        "print(\"Loss {:.5f}\".format(scores[0]))"
      ],
      "execution_count": null,
      "outputs": [
        {
          "output_type": "stream",
          "text": [
            "125/125 [==============================] - 0s 2ms/step - loss: 0.5668 - acc: 0.7475\n",
            "Accuracy 74.75\n",
            "Loss 0.56677\n"
          ],
          "name": "stdout"
        }
      ]
    }
  ]
}