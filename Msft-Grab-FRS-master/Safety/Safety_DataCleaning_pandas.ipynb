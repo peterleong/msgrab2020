{
  "cells": [
    {
      "metadata": {
        "collapsed": true,
        "trusted": false
      },
      "cell_type": "code",
      "source": "import pandas as pd\nimport glob\n\n# Read feature csv files and concate as single dataframe\n\npath_f = r'C:\\...\\FRS_Safety\\Feature' # use your path\nall_feature_files = glob.glob(path_f + \"/*.csv\")\n\nli = []\n\nfor filename in all_feature_files:\n    df = pd.read_csv(filename, index_col=None, header=0)\n    li.append(df)\n\ndf_f = pd.concat(li, axis=0, ignore_index=True)",
      "execution_count": null,
      "outputs": []
    },
    {
      "metadata": {
        "trusted": true
      },
      "cell_type": "code",
      "source": "# Read label csv file\ndf_l = pd.read_csv('/FRS_Safety/Label/part_00000_e9445087_aa0a_433b_a7f6_7f4c19d78ad6_c000.csv', index_col=None, header=0)",
      "execution_count": null,
      "outputs": []
    },
    {
      "metadata": {
        "trusted": true
      },
      "cell_type": "code",
      "source": "# Sort dataframe according to bookingID and second (time)\n\ndf_f = df_f.sort_values(by=['bookingID', 'second'], ascending=[True, True])\ndf_l = df_l.sort_values(by='bookingID', ascending=True)",
      "execution_count": null,
      "outputs": []
    },
    {
      "metadata": {
        "trusted": true
      },
      "cell_type": "code",
      "source": "# Join dataframes, use inner join for model building. Use left join to keep bookings with no label as tesing file.\n\ndf = pd.merge(left=df_f, right=df_l, how='inner', left_on='bookingID', right_on='species_id')",
      "execution_count": null,
      "outputs": []
    }
  ],
  "metadata": {
    "kernelspec": {
      "name": "python36",
      "display_name": "Python 3.6",
      "language": "python"
    },
    "language_info": {
      "mimetype": "text/x-python",
      "nbconvert_exporter": "python",
      "name": "python",
      "pygments_lexer": "ipython3",
      "version": "3.6.6",
      "file_extension": ".py",
      "codemirror_mode": {
        "version": 3,
        "name": "ipython"
      }
    }
  },
  "nbformat": 4,
  "nbformat_minor": 2
}