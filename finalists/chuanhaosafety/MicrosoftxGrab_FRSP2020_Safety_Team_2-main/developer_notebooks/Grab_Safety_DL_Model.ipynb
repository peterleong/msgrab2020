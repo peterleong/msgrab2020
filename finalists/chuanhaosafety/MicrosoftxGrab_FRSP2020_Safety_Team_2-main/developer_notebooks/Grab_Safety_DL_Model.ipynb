{
  "nbformat": 4,
  "nbformat_minor": 0,
  "metadata": {
    "colab": {
      "name": "Grab Safety DL Model.ipynb",
      "provenance": [],
      "collapsed_sections": [],
      "toc_visible": true
    },
    "kernelspec": {
      "name": "python3",
      "display_name": "Python 3"
    },
    "accelerator": "GPU"
  },
  "cells": [
    {
      "cell_type": "code",
      "metadata": {
        "id": "yVMpBeI2vp3H"
      },
      "source": [
        "import numpy as np\n",
        "import pandas as pd\n",
        "import matplotlib.pyplot as plt\n",
        "import seaborn as sns\n",
        "import sklearn\n",
        "from sklearn.metrics import f1_score, accuracy_score, roc_auc_score, log_loss, confusion_matrix, classification_report\n",
        "from sklearn.linear_model import LogisticRegressionCV\n",
        "from sklearn.model_selection import train_test_split\n",
        "from sklearn.preprocessing import StandardScaler\n",
        "from sklearn.pipeline import Pipeline"
      ],
      "execution_count": null,
      "outputs": []
    },
    {
      "cell_type": "markdown",
      "metadata": {
        "id": "HxbP6hT3a7Uw"
      },
      "source": [
        "# Deep Learning approaches\n",
        "\n",
        "The DL models we are building will be a simple an LSTM RNN model.\n",
        "The model will have 2 LSTM Layers with a Dense Layer at the bottom.  \n",
        "\n",
        "Here we will be doing 2 instances of the DL model.\n",
        "One trained with the normal distribution of the data, the other with the Oversampled dangerous class."
      ]
    },
    {
      "cell_type": "code",
      "metadata": {
        "colab": {
          "base_uri": "https://localhost:8080/"
        },
        "id": "Vhl6PshdVCxY",
        "outputId": "4c771267-588b-46f8-b4d6-a4ba5e32548d"
      },
      "source": [
        "from sklearn.model_selection import train_test_split\n",
        "from imblearn.over_sampling import RandomOverSampler\n",
        "from tensorflow.keras.preprocessing import sequence\n",
        "\n",
        "from tensorflow.keras.callbacks import EarlyStopping, History\n",
        "\n",
        "import tensorflow.keras as K\n",
        "import tensorflow as tf"
      ],
      "execution_count": null,
      "outputs": [
        {
          "output_type": "stream",
          "text": [
            "/usr/local/lib/python3.6/dist-packages/sklearn/externals/six.py:31: FutureWarning: The module is deprecated in version 0.21 and will be removed in version 0.23 since we've dropped support for Python 2.7. Please rely on the official version of six (https://pypi.org/project/six/).\n",
            "  \"(https://pypi.org/project/six/).\", FutureWarning)\n",
            "/usr/local/lib/python3.6/dist-packages/sklearn/utils/deprecation.py:144: FutureWarning: The sklearn.neighbors.base module is  deprecated in version 0.22 and will be removed in version 0.24. The corresponding classes / functions should instead be imported from sklearn.neighbors. Anything that cannot be imported from sklearn.neighbors is now part of the private API.\n",
            "  warnings.warn(message, FutureWarning)\n"
          ],
          "name": "stderr"
        }
      ]
    },
    {
      "cell_type": "markdown",
      "metadata": {
        "id": "f-wcw3NkDgX9"
      },
      "source": [
        "## Inital data prep\n",
        "\n",
        "Even though we have processed the dl_data.  \n",
        "We still need to process it further into the sequences to be feed into the LSTM RNN network."
      ]
    },
    {
      "cell_type": "code",
      "metadata": {
        "id": "N2HwPp9Ej8Jb"
      },
      "source": [
        "dl_data = pd.read_csv('/content/drive/MyDrive/grab/dl_data.csv')"
      ],
      "execution_count": null,
      "outputs": []
    },
    {
      "cell_type": "code",
      "metadata": {
        "colab": {
          "base_uri": "https://localhost:8080/",
          "height": 419
        },
        "id": "VwGyQC-FkBVv",
        "outputId": "476518df-d87b-482a-d6fe-6b9de04eff9e"
      },
      "source": [
        "dl_data"
      ],
      "execution_count": null,
      "outputs": [
        {
          "output_type": "execute_result",
          "data": {
            "text/html": [
              "<div>\n",
              "<style scoped>\n",
              "    .dataframe tbody tr th:only-of-type {\n",
              "        vertical-align: middle;\n",
              "    }\n",
              "\n",
              "    .dataframe tbody tr th {\n",
              "        vertical-align: top;\n",
              "    }\n",
              "\n",
              "    .dataframe thead th {\n",
              "        text-align: right;\n",
              "    }\n",
              "</style>\n",
              "<table border=\"1\" class=\"dataframe\">\n",
              "  <thead>\n",
              "    <tr style=\"text-align: right;\">\n",
              "      <th></th>\n",
              "      <th>bookingID</th>\n",
              "      <th>Accuracy</th>\n",
              "      <th>Bearing</th>\n",
              "      <th>gyro_x</th>\n",
              "      <th>gyro_y</th>\n",
              "      <th>gyro_z</th>\n",
              "      <th>second</th>\n",
              "      <th>Speed</th>\n",
              "      <th>label</th>\n",
              "      <th>acc_vec</th>\n",
              "      <th>acc_y</th>\n",
              "    </tr>\n",
              "  </thead>\n",
              "  <tbody>\n",
              "    <tr>\n",
              "      <th>0</th>\n",
              "      <td>0</td>\n",
              "      <td>12.0</td>\n",
              "      <td>143.298294</td>\n",
              "      <td>-0.016245</td>\n",
              "      <td>-0.094040</td>\n",
              "      <td>0.070732</td>\n",
              "      <td>0.0</td>\n",
              "      <td>3.442991</td>\n",
              "      <td>0</td>\n",
              "      <td>10.176551</td>\n",
              "      <td>9.941461</td>\n",
              "    </tr>\n",
              "    <tr>\n",
              "      <th>1</th>\n",
              "      <td>0</td>\n",
              "      <td>8.0</td>\n",
              "      <td>143.298294</td>\n",
              "      <td>-0.047092</td>\n",
              "      <td>-0.078874</td>\n",
              "      <td>0.043187</td>\n",
              "      <td>1.0</td>\n",
              "      <td>0.228454</td>\n",
              "      <td>0</td>\n",
              "      <td>10.059553</td>\n",
              "      <td>9.835590</td>\n",
              "    </tr>\n",
              "    <tr>\n",
              "      <th>2</th>\n",
              "      <td>0</td>\n",
              "      <td>8.0</td>\n",
              "      <td>143.298294</td>\n",
              "      <td>-0.028965</td>\n",
              "      <td>-0.032652</td>\n",
              "      <td>0.015390</td>\n",
              "      <td>2.0</td>\n",
              "      <td>0.228454</td>\n",
              "      <td>0</td>\n",
              "      <td>9.503762</td>\n",
              "      <td>9.270792</td>\n",
              "    </tr>\n",
              "    <tr>\n",
              "      <th>3</th>\n",
              "      <td>0</td>\n",
              "      <td>8.0</td>\n",
              "      <td>143.298294</td>\n",
              "      <td>-0.022413</td>\n",
              "      <td>0.005049</td>\n",
              "      <td>-0.025753</td>\n",
              "      <td>3.0</td>\n",
              "      <td>0.228454</td>\n",
              "      <td>0</td>\n",
              "      <td>9.830320</td>\n",
              "      <td>9.548032</td>\n",
              "    </tr>\n",
              "    <tr>\n",
              "      <th>4</th>\n",
              "      <td>0</td>\n",
              "      <td>8.0</td>\n",
              "      <td>143.298294</td>\n",
              "      <td>-0.014297</td>\n",
              "      <td>-0.046206</td>\n",
              "      <td>0.021902</td>\n",
              "      <td>4.0</td>\n",
              "      <td>0.228454</td>\n",
              "      <td>0</td>\n",
              "      <td>9.967466</td>\n",
              "      <td>9.853534</td>\n",
              "    </tr>\n",
              "    <tr>\n",
              "      <th>...</th>\n",
              "      <td>...</td>\n",
              "      <td>...</td>\n",
              "      <td>...</td>\n",
              "      <td>...</td>\n",
              "      <td>...</td>\n",
              "      <td>...</td>\n",
              "      <td>...</td>\n",
              "      <td>...</td>\n",
              "      <td>...</td>\n",
              "      <td>...</td>\n",
              "      <td>...</td>\n",
              "    </tr>\n",
              "    <tr>\n",
              "      <th>15161680</th>\n",
              "      <td>1709396983975</td>\n",
              "      <td>8.0</td>\n",
              "      <td>199.547104</td>\n",
              "      <td>-0.012879</td>\n",
              "      <td>0.015905</td>\n",
              "      <td>-0.007625</td>\n",
              "      <td>559.0</td>\n",
              "      <td>1.035811</td>\n",
              "      <td>1</td>\n",
              "      <td>9.796805</td>\n",
              "      <td>8.949738</td>\n",
              "    </tr>\n",
              "    <tr>\n",
              "      <th>15161681</th>\n",
              "      <td>1709396983975</td>\n",
              "      <td>8.0</td>\n",
              "      <td>199.547104</td>\n",
              "      <td>-0.006455</td>\n",
              "      <td>0.005278</td>\n",
              "      <td>-0.000082</td>\n",
              "      <td>560.0</td>\n",
              "      <td>1.035811</td>\n",
              "      <td>1</td>\n",
              "      <td>9.772852</td>\n",
              "      <td>8.929102</td>\n",
              "    </tr>\n",
              "    <tr>\n",
              "      <th>15161682</th>\n",
              "      <td>1709396983975</td>\n",
              "      <td>12.0</td>\n",
              "      <td>199.547104</td>\n",
              "      <td>0.044719</td>\n",
              "      <td>0.032351</td>\n",
              "      <td>-0.018600</td>\n",
              "      <td>561.0</td>\n",
              "      <td>0.302453</td>\n",
              "      <td>1</td>\n",
              "      <td>9.917047</td>\n",
              "      <td>8.914597</td>\n",
              "    </tr>\n",
              "    <tr>\n",
              "      <th>15161683</th>\n",
              "      <td>1709396983975</td>\n",
              "      <td>12.0</td>\n",
              "      <td>199.547104</td>\n",
              "      <td>0.053263</td>\n",
              "      <td>0.029213</td>\n",
              "      <td>-0.016357</td>\n",
              "      <td>562.0</td>\n",
              "      <td>0.302453</td>\n",
              "      <td>1</td>\n",
              "      <td>9.988606</td>\n",
              "      <td>8.951382</td>\n",
              "    </tr>\n",
              "    <tr>\n",
              "      <th>15161684</th>\n",
              "      <td>1709396983975</td>\n",
              "      <td>12.0</td>\n",
              "      <td>199.547104</td>\n",
              "      <td>-0.021494</td>\n",
              "      <td>0.000867</td>\n",
              "      <td>0.012516</td>\n",
              "      <td>563.0</td>\n",
              "      <td>0.302453</td>\n",
              "      <td>1</td>\n",
              "      <td>9.823964</td>\n",
              "      <td>8.984430</td>\n",
              "    </tr>\n",
              "  </tbody>\n",
              "</table>\n",
              "<p>15161685 rows × 11 columns</p>\n",
              "</div>"
            ],
            "text/plain": [
              "              bookingID  Accuracy     Bearing  ...  label    acc_vec     acc_y\n",
              "0                     0      12.0  143.298294  ...      0  10.176551  9.941461\n",
              "1                     0       8.0  143.298294  ...      0  10.059553  9.835590\n",
              "2                     0       8.0  143.298294  ...      0   9.503762  9.270792\n",
              "3                     0       8.0  143.298294  ...      0   9.830320  9.548032\n",
              "4                     0       8.0  143.298294  ...      0   9.967466  9.853534\n",
              "...                 ...       ...         ...  ...    ...        ...       ...\n",
              "15161680  1709396983975       8.0  199.547104  ...      1   9.796805  8.949738\n",
              "15161681  1709396983975       8.0  199.547104  ...      1   9.772852  8.929102\n",
              "15161682  1709396983975      12.0  199.547104  ...      1   9.917047  8.914597\n",
              "15161683  1709396983975      12.0  199.547104  ...      1   9.988606  8.951382\n",
              "15161684  1709396983975      12.0  199.547104  ...      1   9.823964  8.984430\n",
              "\n",
              "[15161685 rows x 11 columns]"
            ]
          },
          "metadata": {
            "tags": []
          },
          "execution_count": 11
        }
      ]
    },
    {
      "cell_type": "code",
      "metadata": {
        "id": "U1dZzLkrD1Ik"
      },
      "source": [
        "# Dropping second to take it as 1 continous sequence\n",
        "# Doing this because interpolating the data at this time is probably not realistic\n",
        "dl_data = dl_data.drop(['second'], axis=1)"
      ],
      "execution_count": null,
      "outputs": []
    },
    {
      "cell_type": "code",
      "metadata": {
        "id": "mvrk5p7xPBnP",
        "colab": {
          "base_uri": "https://localhost:8080/",
          "height": 1000
        },
        "outputId": "60258ef2-4aaa-40f0-abe5-91c5a46eb75c"
      },
      "source": [
        "# Creating new df by bookingID\n",
        "dl = dl_data.set_index(['bookingID'])\n",
        "\n",
        "# Grabbing the labels\n",
        "l = dl.groupby(['bookingID'])['label'].max()\n",
        "l = l.values\n",
        "# Grabbing the data\n",
        "d = [i[1].drop(['label'], axis=1).values for i in tuple(dl.groupby(['bookingID']))]\n",
        "d = np.array(d)\n",
        "\n",
        "print(f\"Looking at d\")\n",
        "display(d)\n",
        "\n",
        "pad_max = np.max([len(i) for i in d])\n",
        "print(f\"Pad max: {pad_max}\")"
      ],
      "execution_count": null,
      "outputs": [
        {
          "output_type": "stream",
          "text": [
            "Looking at d\n"
          ],
          "name": "stdout"
        },
        {
          "output_type": "display_data",
          "data": {
            "text/plain": [
              "array([array([[ 1.20000000e+01,  1.43298294e+02, -1.62447500e-02, ...,\n",
              "         3.44299054e+00,  1.01765505e+01,  9.94146118e+00],\n",
              "       [ 8.00000000e+00,  1.43298294e+02, -4.70918786e-02, ...,\n",
              "         2.28454471e-01,  1.00595525e+01,  9.83558960e+00],\n",
              "       [ 8.00000000e+00,  1.43298294e+02, -2.89650726e-02, ...,\n",
              "         2.28454471e-01,  9.50376166e+00,  9.27079163e+00],\n",
              "       ...,\n",
              "       [ 8.00000000e+00,  1.31808448e+00, -9.69017794e-03, ...,\n",
              "         1.65436668e+01,  1.02945232e+01,  1.02233368e+01],\n",
              "       [ 8.00000000e+00,  1.31808448e+00, -4.23354729e-02, ...,\n",
              "         1.65436668e+01,  1.04173120e+01,  1.02342529e+01],\n",
              "       [ 8.00000000e+00,  1.31808448e+00,  2.09582788e-02, ...,\n",
              "         1.75009499e+01,  9.05307233e+00,  8.78210754e+00]]),\n",
              "       array([[ 4.00000000e+00,  2.52000000e+02,  1.61268410e-02, ...,\n",
              "         4.75642700e+00,  1.05700997e+01,  1.01741410e+01],\n",
              "       [ 4.00000000e+00,  2.36000000e+02,  3.74722200e-02, ...,\n",
              "         4.93721100e+00,  9.37949522e+00,  8.74902600e+00],\n",
              "       [ 4.00000000e+00,  2.28000000e+02, -2.44869700e-02, ...,\n",
              "         5.54421040e+00,  9.66717055e+00,  8.98903000e+00],\n",
              "       ...,\n",
              "       [ 4.00000000e+00,  1.07000000e+02, -6.97433600e-02, ...,\n",
              "         9.68306300e+00,  9.96532976e+00,  9.21898800e+00],\n",
              "       [ 4.00000000e+00,  1.05000000e+02, -5.68977320e-03, ...,\n",
              "         1.05674030e+01,  9.95201688e+00,  9.50267300e+00],\n",
              "       [ 4.00000000e+00,  1.03000000e+02,  9.40732500e-03, ...,\n",
              "         1.15566510e+01,  1.03429309e+01,  9.76454100e+00]]),\n",
              "       array([[ 4.00000000e+00,  3.16000000e+02,  2.49874420e-02, ...,\n",
              "         8.06405300e+00,  9.93814108e+00,  9.93145200e+00],\n",
              "       [ 6.00000000e+00,  3.20000000e+02,  1.19671550e-01, ...,\n",
              "         7.75857350e+00,  9.79217382e+00,  9.63935000e+00],\n",
              "       [ 3.90000000e+00,  3.17000000e+02, -9.71856040e-02, ...,\n",
              "         8.52681200e+00,  1.04584339e+01,  1.02714390e+01],\n",
              "       ...,\n",
              "       [ 3.72000000e+00,  2.80000000e+01, -1.04515990e-01, ...,\n",
              "         3.13558800e+00,  9.02867780e+00,  8.92825000e+00],\n",
              "       [ 4.59400000e+00,  2.50000000e+01,  3.65938840e-02, ...,\n",
              "         3.55265120e+00,  1.00172605e+01,  9.97694300e+00],\n",
              "       [ 3.82000000e+00,  1.60000000e+01,  1.82679260e-02, ...,\n",
              "         3.21354300e+00,  9.79464362e+00,  9.56752200e+00]]),\n",
              "       ...,\n",
              "       array([[ 6.07700000e+00,  0.00000000e+00,  2.74658200e-04, ...,\n",
              "         0.00000000e+00,  9.69839303e+00,  9.08821100e+00],\n",
              "       [ 6.04500000e+00,  2.82000000e+02,  2.74658200e-04, ...,\n",
              "         3.70000000e-01,  9.68217056e+00,  9.07624800e+00],\n",
              "       [ 6.01400000e+00,  0.00000000e+00,  2.74658200e-04, ...,\n",
              "         0.00000000e+00,  9.70243350e+00,  9.09779400e+00],\n",
              "       ...,\n",
              "       [ 9.64800000e+00,  1.36000000e+02, -3.10058600e-02, ...,\n",
              "         9.07000000e+00,  9.62576165e+00,  9.27017200e+00],\n",
              "       [ 9.64800000e+00,  1.36000000e+02,  2.71606450e-02, ...,\n",
              "         9.89000000e+00,  1.00828598e+01,  9.32763700e+00],\n",
              "       [ 1.07200000e+01,  1.39000000e+02,  1.82189940e-02, ...,\n",
              "         1.03400000e+01,  9.53251610e+00,  8.79373200e+00]]),\n",
              "       array([[ 8.15500000e+00,  2.00000000e+00,  2.33350500e-03, ...,\n",
              "         0.00000000e+00,  9.82613297e+00,  9.09106200e+00],\n",
              "       [ 6.70500000e+00,  2.00000000e+00,  4.77696630e-03, ...,\n",
              "         0.00000000e+00,  9.62010560e+00,  8.93064500e+00],\n",
              "       [ 6.87200000e+00,  2.00000000e+00,  2.22855870e-01, ...,\n",
              "         0.00000000e+00,  9.50932754e+00,  8.55235000e+00],\n",
              "       ...,\n",
              "       [ 4.41600000e+00,  2.59000000e+02, -1.78250480e-02, ...,\n",
              "         0.00000000e+00,  9.54716502e+00,  8.68642900e+00],\n",
              "       [ 4.17600000e+00,  2.59000000e+02, -1.53815870e-02, ...,\n",
              "         0.00000000e+00,  9.76423347e+00,  8.82529700e+00],\n",
              "       [ 4.02400000e+00,  2.59000000e+02,  2.73789800e-02, ...,\n",
              "         0.00000000e+00,  9.74836446e+00,  8.83008600e+00]]),\n",
              "       array([[ 6.50000000e+01,  2.82278931e+02,  4.48052885e-02, ...,\n",
              "        -1.00000000e+00,  1.08250999e+01,  8.65724487e+00],\n",
              "       [ 6.50000000e+01,  2.94364136e+02,  1.15044564e-01, ...,\n",
              "        -1.00000000e+00,  1.01080167e+01,  8.60475769e+00],\n",
              "       [ 6.50000000e+01,  3.16479889e+02, -1.04007093e-02, ...,\n",
              "        -1.00000000e+00,  9.96274792e+00,  8.67339478e+00],\n",
              "       ...,\n",
              "       [ 1.20000000e+01,  1.99547104e+02,  4.47187358e-02, ...,\n",
              "         3.02453041e-01,  9.91704731e+00,  8.91459656e+00],\n",
              "       [ 1.20000000e+01,  1.99547104e+02,  5.32634881e-02, ...,\n",
              "         3.02453041e-01,  9.98860578e+00,  8.95138245e+00],\n",
              "       [ 1.20000000e+01,  1.99547104e+02, -2.14935742e-02, ...,\n",
              "         3.02453041e-01,  9.82396394e+00,  8.98442993e+00]])],\n",
              "      dtype=object)"
            ]
          },
          "metadata": {
            "tags": []
          }
        },
        {
          "output_type": "stream",
          "text": [
            "Pad max: 5954\n"
          ],
          "name": "stdout"
        }
      ]
    },
    {
      "cell_type": "code",
      "metadata": {
        "colab": {
          "base_uri": "https://localhost:8080/",
          "height": 307
        },
        "id": "onm8R9PlD-Il",
        "outputId": "8149e8aa-ab0c-4266-ea7a-50f643d0fc3e"
      },
      "source": [
        "display(f\"d shape: {d.shape}\")\n",
        "display(f\"l shape: {l.shape}\")\n",
        "\n",
        "display(d[0])\n",
        "display(l[0])"
      ],
      "execution_count": null,
      "outputs": [
        {
          "output_type": "display_data",
          "data": {
            "application/vnd.google.colaboratory.intrinsic+json": {
              "type": "string"
            },
            "text/plain": [
              "'d shape: (19899,)'"
            ]
          },
          "metadata": {
            "tags": []
          }
        },
        {
          "output_type": "display_data",
          "data": {
            "application/vnd.google.colaboratory.intrinsic+json": {
              "type": "string"
            },
            "text/plain": [
              "'l shape: (19899,)'"
            ]
          },
          "metadata": {
            "tags": []
          }
        },
        {
          "output_type": "display_data",
          "data": {
            "text/plain": [
              "array([[ 1.20000000e+01,  1.43298294e+02, -1.62447500e-02, ...,\n",
              "         3.44299054e+00,  1.01765505e+01,  9.94146118e+00],\n",
              "       [ 8.00000000e+00,  1.43298294e+02, -4.70918786e-02, ...,\n",
              "         2.28454471e-01,  1.00595525e+01,  9.83558960e+00],\n",
              "       [ 8.00000000e+00,  1.43298294e+02, -2.89650726e-02, ...,\n",
              "         2.28454471e-01,  9.50376166e+00,  9.27079163e+00],\n",
              "       ...,\n",
              "       [ 8.00000000e+00,  1.31808448e+00, -9.69017794e-03, ...,\n",
              "         1.65436668e+01,  1.02945232e+01,  1.02233368e+01],\n",
              "       [ 8.00000000e+00,  1.31808448e+00, -4.23354729e-02, ...,\n",
              "         1.65436668e+01,  1.04173120e+01,  1.02342529e+01],\n",
              "       [ 8.00000000e+00,  1.31808448e+00,  2.09582788e-02, ...,\n",
              "         1.75009499e+01,  9.05307233e+00,  8.78210754e+00]])"
            ]
          },
          "metadata": {
            "tags": []
          }
        },
        {
          "output_type": "display_data",
          "data": {
            "text/plain": [
              "0"
            ]
          },
          "metadata": {
            "tags": []
          }
        }
      ]
    },
    {
      "cell_type": "markdown",
      "metadata": {
        "id": "9CXoHSnVD4zu"
      },
      "source": [
        "## Inital LSTM RNN training\n",
        "\n",
        "Here we will be using a padding to fill the values with 0.\n",
        "Then we will be cutting off the last 954 data points to be used as the seqence to be fed into the model.  \n",
        "\n",
        "This experiment we will be using the natural distribution of the unbalanced class for training."
      ]
    },
    {
      "cell_type": "code",
      "metadata": {
        "id": "2sjPhNAsd4F5",
        "colab": {
          "base_uri": "https://localhost:8080/"
        },
        "outputId": "e597c4c9-7f36-4147-c389-b6ed0b16e603"
      },
      "source": [
        "# Padding the sequences\n",
        "d = sequence.pad_sequences(d, maxlen=pad_max)\n",
        "d = d[:, 5000:, :] # last 1K data\n",
        "d.shape"
      ],
      "execution_count": null,
      "outputs": [
        {
          "output_type": "execute_result",
          "data": {
            "text/plain": [
              "(19899, 954, 8)"
            ]
          },
          "metadata": {
            "tags": []
          },
          "execution_count": 17
        }
      ]
    },
    {
      "cell_type": "code",
      "metadata": {
        "colab": {
          "base_uri": "https://localhost:8080/"
        },
        "id": "uGS7nCnCU4sc",
        "outputId": "49d7430e-5019-46a4-e300-6e8901e5f4fc"
      },
      "source": [
        "# Creating the train test split for the data\n",
        "x_train, x_test, y_train, y_test = train_test_split(d, l.reshape(-1, 1))\n",
        "print(x_train.shape)\n",
        "print(x_test.shape)\n",
        "print(y_train.shape)\n",
        "print(y_test.shape)"
      ],
      "execution_count": null,
      "outputs": [
        {
          "output_type": "stream",
          "text": [
            "(14924, 954, 8)\n",
            "(4975, 954, 8)\n",
            "(14924, 1)\n",
            "(4975, 1)\n"
          ],
          "name": "stdout"
        }
      ]
    },
    {
      "cell_type": "code",
      "metadata": {
        "colab": {
          "base_uri": "https://localhost:8080/"
        },
        "id": "KQn4BmOKFpKs",
        "outputId": "88000807-69a0-42cf-988f-892001e6b5a2"
      },
      "source": [
        "x_train"
      ],
      "execution_count": null,
      "outputs": [
        {
          "output_type": "execute_result",
          "data": {
            "text/plain": [
              "array([[[  0,   0,   0, ...,   0,   0,   0],\n",
              "        [  0,   0,   0, ...,   0,   0,   0],\n",
              "        [  0,   0,   0, ...,   0,   0,   0],\n",
              "        ...,\n",
              "        [  4,   0,   0, ...,   0,   9,   9],\n",
              "        [  4,   0,   0, ...,   0,  10,  10],\n",
              "        [  4,   0,   0, ...,   0,   9,   9]],\n",
              "\n",
              "       [[  0,   0,   0, ...,   0,   0,   0],\n",
              "        [  0,   0,   0, ...,   0,   0,   0],\n",
              "        [  0,   0,   0, ...,   0,   0,   0],\n",
              "        ...,\n",
              "        [  7, 168,   0, ...,   2,   9,   8],\n",
              "        [  7, 187,   0, ...,   3,   9,   9],\n",
              "        [  9, 193,   0, ...,   4,   9,   8]],\n",
              "\n",
              "       [[  0,   0,   0, ...,   0,   0,   0],\n",
              "        [  0,   0,   0, ...,   0,   0,   0],\n",
              "        [  0,   0,   0, ...,   0,   0,   0],\n",
              "        ...,\n",
              "        [  5,  76,   0, ...,  22,   9,   0],\n",
              "        [  5, 109,   0, ...,  24,   8,   0],\n",
              "        [  5, 119,   0, ...,  25,   9,   0]],\n",
              "\n",
              "       ...,\n",
              "\n",
              "       [[  0,   0,   0, ...,   0,   0,   0],\n",
              "        [  0,   0,   0, ...,   0,   0,   0],\n",
              "        [  0,   0,   0, ...,   0,   0,   0],\n",
              "        ...,\n",
              "        [  4, 190,   0, ...,  21,   9,   9],\n",
              "        [  4, 192,   0, ...,  21,   9,   9],\n",
              "        [  4, 193,   0, ...,  21,   9,   9]],\n",
              "\n",
              "       [[  0,   0,   0, ...,   0,   0,   0],\n",
              "        [  0,   0,   0, ...,   0,   0,   0],\n",
              "        [  0,   0,   0, ...,   0,   0,   0],\n",
              "        ...,\n",
              "        [  3, 251,   0, ...,   1,   9,   7],\n",
              "        [  3, 249,   0, ...,   1,   9,   7],\n",
              "        [  3, 249,   0, ...,   0,   9,   7]],\n",
              "\n",
              "       [[ 12, 350,   0, ...,   2,   9,   8],\n",
              "        [ 12, 350,   0, ...,   2,   9,   8],\n",
              "        [ 12, 350,   0, ...,   2,   9,   8],\n",
              "        ...,\n",
              "        [ 12, 243,   0, ...,   1,   9,   8],\n",
              "        [ 12, 245,   0, ...,   1,   9,   8],\n",
              "        [ 12, 252,   0, ...,   1,   9,   9]]], dtype=int32)"
            ]
          },
          "metadata": {
            "tags": []
          },
          "execution_count": 19
        }
      ]
    },
    {
      "cell_type": "code",
      "metadata": {
        "colab": {
          "base_uri": "https://localhost:8080/"
        },
        "id": "f2DZHikBFqpN",
        "outputId": "fd694c1d-a24b-4e84-fe62-50582e2143a3"
      },
      "source": [
        "y_train"
      ],
      "execution_count": null,
      "outputs": [
        {
          "output_type": "execute_result",
          "data": {
            "text/plain": [
              "array([[0],\n",
              "       [0],\n",
              "       [0],\n",
              "       ...,\n",
              "       [0],\n",
              "       [0],\n",
              "       [1]])"
            ]
          },
          "metadata": {
            "tags": []
          },
          "execution_count": 20
        }
      ]
    },
    {
      "cell_type": "code",
      "metadata": {
        "colab": {
          "base_uri": "https://localhost:8080/"
        },
        "id": "BpKIFWQPl7HY",
        "outputId": "9a57d2cb-88e5-4a89-acab-1a4579dba79c"
      },
      "source": [
        "# Making an LSTM model\n",
        "from keras.layers import Conv1D, Dense, Dropout, Input, Concatenate, GlobalMaxPooling1D, LSTM, TimeDistributed\n",
        "from keras.models import Model, Sequential\n",
        "\n",
        "model = Sequential()\n",
        "\n",
        "model.add(LSTM(500, return_sequences=True, batch_input_shape=(None, 954, 8)))\n",
        "model.add(LSTM(500, return_sequences=False))\n",
        "model.add(Dense(2, activation='softmax'))\n",
        "model.summary()\n",
        "\n",
        "model.compile(optimizer='adam', loss='binary_crossentropy', metrics=['binary_crossentropy'])"
      ],
      "execution_count": null,
      "outputs": [
        {
          "output_type": "stream",
          "text": [
            "Model: \"sequential\"\n",
            "_________________________________________________________________\n",
            "Layer (type)                 Output Shape              Param #   \n",
            "=================================================================\n",
            "lstm (LSTM)                  (None, 954, 500)          1018000   \n",
            "_________________________________________________________________\n",
            "lstm_1 (LSTM)                (None, 500)               2002000   \n",
            "_________________________________________________________________\n",
            "dense (Dense)                (None, 2)                 1002      \n",
            "=================================================================\n",
            "Total params: 3,021,002\n",
            "Trainable params: 3,021,002\n",
            "Non-trainable params: 0\n",
            "_________________________________________________________________\n"
          ],
          "name": "stdout"
        }
      ]
    },
    {
      "cell_type": "code",
      "metadata": {
        "colab": {
          "base_uri": "https://localhost:8080/"
        },
        "id": "4q8SY5DBaJO9",
        "outputId": "097c5e40-77d4-480c-e2a9-aaaca0d9d1af"
      },
      "source": [
        "model.fit(x_train, y_train, epochs=20, callbacks=[EarlyStopping(monitor='val_loss', min_delta=1e-6)], batch_size=16, validation_data=(x_test, y_test))"
      ],
      "execution_count": null,
      "outputs": [
        {
          "output_type": "stream",
          "text": [
            "Epoch 1/20\n",
            "933/933 [==============================] - 309s 331ms/step - loss: 0.6986 - binary_crossentropy: 0.6986 - val_loss: 0.6932 - val_binary_crossentropy: 0.6932\n",
            "Epoch 2/20\n",
            "933/933 [==============================] - 309s 331ms/step - loss: 0.6932 - binary_crossentropy: 0.6932 - val_loss: 0.6931 - val_binary_crossentropy: 0.6931\n",
            "Epoch 3/20\n",
            "933/933 [==============================] - 311s 334ms/step - loss: 0.6932 - binary_crossentropy: 0.6932 - val_loss: 0.6932 - val_binary_crossentropy: 0.6932\n"
          ],
          "name": "stdout"
        },
        {
          "output_type": "execute_result",
          "data": {
            "text/plain": [
              "<tensorflow.python.keras.callbacks.History at 0x7f68d2e7d5c0>"
            ]
          },
          "metadata": {
            "tags": []
          },
          "execution_count": 10
        }
      ]
    },
    {
      "cell_type": "code",
      "metadata": {
        "id": "xo8n0kXebZlY"
      },
      "source": [
        "model.save('/content/drive/MyDrive/grab/lstm.h5', save_format='h5')"
      ],
      "execution_count": null,
      "outputs": []
    },
    {
      "cell_type": "code",
      "metadata": {
        "colab": {
          "base_uri": "https://localhost:8080/"
        },
        "id": "yqqr5-EHuCiz",
        "outputId": "1533a903-a697-4175-aa50-6c8e1559c29c"
      },
      "source": [
        "preds = model.predict_classes(x_test)\n",
        "preds"
      ],
      "execution_count": null,
      "outputs": [
        {
          "output_type": "stream",
          "text": [
            "WARNING:tensorflow:From <ipython-input-14-ebfa97e93bca>:1: Sequential.predict_classes (from tensorflow.python.keras.engine.sequential) is deprecated and will be removed after 2021-01-01.\n",
            "Instructions for updating:\n",
            "Please use instead:* `np.argmax(model.predict(x), axis=-1)`,   if your model does multi-class classification   (e.g. if it uses a `softmax` last-layer activation).* `(model.predict(x) > 0.5).astype(\"int32\")`,   if your model does binary classification   (e.g. if it uses a `sigmoid` last-layer activation).\n"
          ],
          "name": "stdout"
        },
        {
          "output_type": "execute_result",
          "data": {
            "text/plain": [
              "array([0, 1, 0, ..., 1, 1, 0])"
            ]
          },
          "metadata": {
            "tags": []
          },
          "execution_count": 14
        }
      ]
    },
    {
      "cell_type": "code",
      "metadata": {
        "colab": {
          "base_uri": "https://localhost:8080/",
          "height": 485
        },
        "id": "EM-RuxExuYDc",
        "outputId": "f0053099-b8eb-43d7-936b-55fe96cbb789"
      },
      "source": [
        "print(classification_report(y_test, preds))\n",
        "cm = confusion_matrix(y_test, preds)\n",
        "print(cm)\n",
        "sns.heatmap(cm, annot=True, cmap='copper')"
      ],
      "execution_count": null,
      "outputs": [
        {
          "output_type": "stream",
          "text": [
            "              precision    recall  f1-score   support\n",
            "\n",
            "           0       0.75      0.95      0.83      3710\n",
            "           1       0.27      0.06      0.10      1265\n",
            "\n",
            "    accuracy                           0.72      4975\n",
            "   macro avg       0.51      0.50      0.47      4975\n",
            "weighted avg       0.63      0.72      0.65      4975\n",
            "\n",
            "[[3511  199]\n",
            " [1191   74]]\n"
          ],
          "name": "stdout"
        },
        {
          "output_type": "execute_result",
          "data": {
            "text/plain": [
              "<matplotlib.axes._subplots.AxesSubplot at 0x7f686c181fd0>"
            ]
          },
          "metadata": {
            "tags": []
          },
          "execution_count": 22
        },
        {
          "output_type": "display_data",
          "data": {
            "image/png": "[encoded data removed]",
            "text/plain": [
              "<Figure size 432x288 with 2 Axes>"
            ]
          },
          "metadata": {
            "tags": [],
            "needs_background": "light"
          }
        }
      ]
    },
    {
      "cell_type": "markdown",
      "metadata": {
        "id": "2Ew5-P56Ni24"
      },
      "source": [
        "## 2nd Experiment trying to oversample and balance the dataset\n",
        "\n",
        "In this section, we balanaced the data using RandomOverSampling from imblearn, oversampling on the dagerous (1 label) data points.  \n",
        "\n",
        "We also used a much longer sequence length of the last 1954 data points for the sequence."
      ]
    },
    {
      "cell_type": "code",
      "metadata": {
        "colab": {
          "base_uri": "https://localhost:8080/"
        },
        "id": "Om4h6fUZMB8Y",
        "outputId": "c0603080-e172-4a0d-ab9b-974b43d69b64"
      },
      "source": [
        "d = sequence.pad_sequences(d, maxlen=pad_max)\n",
        "d.shape\n",
        "d = d[:, 4000:, :] # last 1K data\n",
        "\n",
        "# Creating the train test split for the data\n",
        "x_train, x_test, y_train, y_test = train_test_split(d, l.reshape(-1, 1))\n",
        "print(x_train.shape)\n",
        "print(x_test.shape)\n",
        "print(y_train.shape)\n",
        "print(y_test.shape)\n",
        "\n",
        "from imblearn.over_sampling import RandomOverSampler\n",
        "ros = RandomOverSampler(random_state=42, ratio=0.5, return_indices=True)\n",
        "ros.fit_resample(x_train[:, :, 0], y_train)\n",
        "x_train = x_train[ros.sample_indices_]\n",
        "y_train = y_train[ros.sample_indices_]\n",
        "\n",
        "print(x_train.shape)\n",
        "print(y_train.shape)"
      ],
      "execution_count": null,
      "outputs": [
        {
          "output_type": "stream",
          "text": [
            "(14924, 1954, 8)\n",
            "(4975, 1954, 8)\n",
            "(14924, 1)\n",
            "(4975, 1)\n"
          ],
          "name": "stdout"
        },
        {
          "output_type": "stream",
          "text": [
            "/usr/local/lib/python3.6/dist-packages/sklearn/utils/validation.py:760: DataConversionWarning: A column-vector y was passed when a 1d array was expected. Please change the shape of y to (n_samples, ), for example using ravel().\n",
            "  y = column_or_1d(y, warn=True)\n",
            "/usr/local/lib/python3.6/dist-packages/sklearn/utils/deprecation.py:87: FutureWarning: Function safe_indexing is deprecated; safe_indexing is deprecated in version 0.22 and will be removed in version 0.24.\n",
            "  warnings.warn(msg, category=FutureWarning)\n"
          ],
          "name": "stderr"
        },
        {
          "output_type": "stream",
          "text": [
            "(16842, 1954, 8)\n",
            "(16842, 1)\n"
          ],
          "name": "stdout"
        }
      ]
    },
    {
      "cell_type": "code",
      "metadata": {
        "colab": {
          "base_uri": "https://localhost:8080/"
        },
        "id": "AZ3CJ_iVO4o1",
        "outputId": "ecd35348-4568-441b-a818-30ce487f17c7"
      },
      "source": [
        "# Making an LSTM model\n",
        "from keras.layers import Conv1D, Dense, Dropout, Input, Concatenate, GlobalMaxPooling1D, LSTM, TimeDistributed\n",
        "from keras.models import Model, Sequential\n",
        "\n",
        "model = Sequential()\n",
        "\n",
        "model.add(LSTM(500, return_sequences=True, batch_input_shape=(None, 1954, 8)))\n",
        "model.add(LSTM(500, return_sequences=False))\n",
        "model.add(Dense(2, activation='softmax'))\n",
        "model.summary()\n",
        "\n",
        "model.compile(optimizer='adam', loss='binary_crossentropy', metrics=['binary_crossentropy'])"
      ],
      "execution_count": null,
      "outputs": [
        {
          "output_type": "stream",
          "text": [
            "Model: \"sequential_1\"\n",
            "_________________________________________________________________\n",
            "Layer (type)                 Output Shape              Param #   \n",
            "=================================================================\n",
            "lstm_2 (LSTM)                (None, 1954, 500)         1018000   \n",
            "_________________________________________________________________\n",
            "lstm_3 (LSTM)                (None, 500)               2002000   \n",
            "_________________________________________________________________\n",
            "dense_1 (Dense)              (None, 2)                 1002      \n",
            "=================================================================\n",
            "Total params: 3,021,002\n",
            "Trainable params: 3,021,002\n",
            "Non-trainable params: 0\n",
            "_________________________________________________________________\n"
          ],
          "name": "stdout"
        }
      ]
    },
    {
      "cell_type": "code",
      "metadata": {
        "colab": {
          "base_uri": "https://localhost:8080/"
        },
        "id": "f-TTGZgPO4o4",
        "outputId": "39874f24-1885-49ca-953e-0a65a68a6ebd"
      },
      "source": [
        "model.fit(x_train, y_train, epochs=20, callbacks=[EarlyStopping(monitor='val_loss', min_delta=1e-6)], batch_size=32, validation_data=(x_test, y_test))"
      ],
      "execution_count": null,
      "outputs": [
        {
          "output_type": "stream",
          "text": [
            "Epoch 1/20\n",
            "527/527 [==============================] - 353s 671ms/step - loss: 0.6931 - binary_crossentropy: 0.6931 - val_loss: 0.6932 - val_binary_crossentropy: 0.6932\n",
            "Epoch 2/20\n",
            "527/527 [==============================] - 353s 670ms/step - loss: 0.6932 - binary_crossentropy: 0.6932 - val_loss: 0.6931 - val_binary_crossentropy: 0.6931\n",
            "Epoch 3/20\n",
            "527/527 [==============================] - 353s 670ms/step - loss: 0.6931 - binary_crossentropy: 0.6931 - val_loss: 0.6931 - val_binary_crossentropy: 0.6931\n"
          ],
          "name": "stdout"
        },
        {
          "output_type": "execute_result",
          "data": {
            "text/plain": [
              "<tensorflow.python.keras.callbacks.History at 0x7fbe464befd0>"
            ]
          },
          "metadata": {
            "tags": []
          },
          "execution_count": 10
        }
      ]
    },
    {
      "cell_type": "code",
      "metadata": {
        "id": "zJeVvs9OO4o5"
      },
      "source": [
        "model.save('/content/drive/MyDrive/grab/lstm_balanced.h5', save_format='h5')"
      ],
      "execution_count": null,
      "outputs": []
    },
    {
      "cell_type": "code",
      "metadata": {
        "colab": {
          "base_uri": "https://localhost:8080/"
        },
        "id": "_h85zfdGO4o5",
        "outputId": "f7191547-1b22-47e2-c36a-3e951cdb5fd6"
      },
      "source": [
        "preds = model.predict_classes(x_test)\n",
        "preds"
      ],
      "execution_count": null,
      "outputs": [
        {
          "output_type": "stream",
          "text": [
            "WARNING:tensorflow:From <ipython-input-12-ebfa97e93bca>:1: Sequential.predict_classes (from tensorflow.python.keras.engine.sequential) is deprecated and will be removed after 2021-01-01.\n",
            "Instructions for updating:\n",
            "Please use instead:* `np.argmax(model.predict(x), axis=-1)`,   if your model does multi-class classification   (e.g. if it uses a `softmax` last-layer activation).* `(model.predict(x) > 0.5).astype(\"int32\")`,   if your model does binary classification   (e.g. if it uses a `sigmoid` last-layer activation).\n"
          ],
          "name": "stdout"
        },
        {
          "output_type": "execute_result",
          "data": {
            "text/plain": [
              "array([1, 1, 1, ..., 1, 1, 1])"
            ]
          },
          "metadata": {
            "tags": []
          },
          "execution_count": 12
        }
      ]
    },
    {
      "cell_type": "code",
      "metadata": {
        "colab": {
          "base_uri": "https://localhost:8080/",
          "height": 481
        },
        "id": "1h3oMRdFO4o5",
        "outputId": "cbab7cc7-ae64-4507-84ae-37fec3070e94"
      },
      "source": [
        "print(classification_report(y_test, preds))\n",
        "cm = confusion_matrix(y_test, preds)\n",
        "print(cm)\n",
        "sns.heatmap(cm, annot=True, cmap='copper')"
      ],
      "execution_count": null,
      "outputs": [
        {
          "output_type": "stream",
          "text": [
            "              precision    recall  f1-score   support\n",
            "\n",
            "           0       0.67      0.06      0.10      3691\n",
            "           1       0.25      0.92      0.40      1284\n",
            "\n",
            "    accuracy                           0.28      4975\n",
            "   macro avg       0.46      0.49      0.25      4975\n",
            "weighted avg       0.56      0.28      0.18      4975\n",
            "\n",
            "[[ 207 3484]\n",
            " [ 102 1182]]\n"
          ],
          "name": "stdout"
        },
        {
          "output_type": "execute_result",
          "data": {
            "text/plain": [
              "<matplotlib.axes._subplots.AxesSubplot at 0x7fbe46314780>"
            ]
          },
          "metadata": {
            "tags": []
          },
          "execution_count": 13
        },
        {
          "output_type": "display_data",
          "data": {
            "image/png": "[encoded data removed]",
            "text/plain": [
              "<Figure size 432x288 with 2 Axes>"
            ]
          },
          "metadata": {
            "tags": [],
            "needs_background": "light"
          }
        }
      ]
    }
  ]
}