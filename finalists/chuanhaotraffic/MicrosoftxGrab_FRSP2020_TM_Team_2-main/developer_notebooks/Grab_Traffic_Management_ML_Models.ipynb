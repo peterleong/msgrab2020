{
 "cells": [
  {
   "cell_type": "markdown",
   "metadata": {
    "id": "jGkE78N154Ww"
   },
   "source": [
    "# Traffic Demand Dataset:\n",
    "\n",
    "Data Schema (Field & Description):\n",
    "\n",
    "\t- geohash6: geohash is a public domain geocoding system which encodes a geographic location into a short string of letters and digits with arbitrary precision. You are free to use any geohash library to encode/decode the geohashes into latitude and longitude or vice versa.(Examples:https://github.com/hkwi/python-geohash)\n",
    "    - day: the value indicates the sequential order and not a particular day of the month\n",
    "    - timestamp: start time of 15-minute intervals in the following format: <hour>:<minute>, where hour ranges from 0 to 23 and minute is either one of (0, 15, 30, 45)\n",
    "    - demand: aggregated demand normalised to be in the range [0,1]\n",
    "\n",
    "The dataset can be downloaded [here (140MB CSV file)](https://msftgrab.z23.web.core.windows.net/traffic/training.csv).\n",
    "\n",
    "# Problem Statements:\n",
    " \n",
    "The challenge targets to improve the traffic condition for road network in Southeast Asia by leveraging Grab booking demand data, which hinders mobility and economic growth. Problem statements including:\n",
    "\n",
    "  1. Which areas have high / low traffic demand? \n",
    "  2. How does regional traffic demand change according to day / time?\n",
    "  3. Forecast the travel demand for next 15min / 1hour and predict areas with high travel demand"
   ]
  },
  {
   "cell_type": "code",
   "execution_count": null,
   "metadata": {
    "colab": {
     "base_uri": "https://localhost:8080/"
    },
    "id": "V-ITHHwaCpCK",
    "outputId": "44271a98-5e93-4825-d217-febc2aecf888"
   },
   "outputs": [
    {
     "name": "stdout",
     "output_type": "stream",
     "text": [
      "************************\n",
      "        Versions        \n",
      "************************\n",
      "Scikit-learn version=0.22.2.post1\n",
      "Numpy version=1.18.5\n",
      "Pandas version=1.1.4\n",
      "Matplotlib version=3.2.2\n",
      "Python version=3.6.9\n"
     ]
    }
   ],
   "source": [
    "import sklearn\n",
    "import numpy as np\n",
    "import pandas as pd\n",
    "import matplotlib\n",
    "import platform\n",
    "\n",
    "message=\"        Versions        \"\n",
    "print(\"*\"*len(message))\n",
    "print(message)\n",
    "print(\"*\"*len(message))\n",
    "print(\"Scikit-learn version={}\".format(sklearn.__version__))\n",
    "print(\"Numpy version={}\".format(np.__version__))\n",
    "print(\"Pandas version={}\".format(pd.__version__))\n",
    "print(\"Matplotlib version={}\".format(matplotlib.__version__))\n",
    "print(\"Python version={}\".format(platform.python_version()))"
   ]
  },
  {
   "cell_type": "code",
   "execution_count": null,
   "metadata": {
    "id": "AhQCoGTJCpCN"
   },
   "outputs": [],
   "source": [
    "import numpy as np\n",
    "import pandas as pd\n",
    "from matplotlib import pyplot as plt\n",
    "import seaborn as sns\n",
    "%matplotlib inline"
   ]
  },
  {
   "cell_type": "code",
   "execution_count": null,
   "metadata": {
    "colab": {
     "base_uri": "https://localhost:8080/"
    },
    "id": "0YYMIg5LCyFh",
    "outputId": "3d2821bd-1b32-4d6f-b55c-35c22f6ca4fd"
   },
   "outputs": [
    {
     "name": "stdout",
     "output_type": "stream",
     "text": [
      "Drive already mounted at /content/drive; to attempt to forcibly remount, call drive.mount(\"/content/drive\", force_remount=True).\n"
     ]
    }
   ],
   "source": [
    "# Mount drive to get access to the data files\n",
    "# only run this if using google collab\n",
    "from google.colab import drive\n",
    "drive.mount('/content/drive')"
   ]
  },
  {
   "cell_type": "code",
   "execution_count": null,
   "metadata": {
    "colab": {
     "base_uri": "https://localhost:8080/"
    },
    "id": "2l3ZG_iJDY7t",
    "outputId": "713daa11-6a37-46d5-a79a-32380419fbdd"
   },
   "outputs": [
    {
     "name": "stdout",
     "output_type": "stream",
     "text": [
      "/content/drive/My Drive/SP_Stuff/Grab_Data_Sci_Challenge\n",
      "Grab_Data_Sci_Challenge.ipynb  time_series_gbr.pkl  training_filled.csv\n"
     ]
    }
   ],
   "source": [
    "# Change directory to be in the project folder\n",
    "# only run this if using google collab\n",
    "%cd '/content/drive/My Drive/SP_Stuff/Grab_Data_Sci_Challenge/'\n",
    "!ls"
   ]
  },
  {
   "cell_type": "markdown",
   "metadata": {
    "id": "jMgKYYOtM28E"
   },
   "source": [
    "Loading the already filled dataset"
   ]
  },
  {
   "cell_type": "code",
   "execution_count": null,
   "metadata": {
    "colab": {
     "base_uri": "https://localhost:8080/",
     "height": 345
    },
    "id": "U99kLnT-CpCR",
    "outputId": "6edde3d1-cd72-436f-8dc0-60d52edee326"
   },
   "outputs": [
    {
     "data": {
      "text/html": [
       "<div>\n",
       "<style scoped>\n",
       "    .dataframe tbody tr th:only-of-type {\n",
       "        vertical-align: middle;\n",
       "    }\n",
       "\n",
       "    .dataframe tbody tr th {\n",
       "        vertical-align: top;\n",
       "    }\n",
       "\n",
       "    .dataframe thead th {\n",
       "        text-align: right;\n",
       "    }\n",
       "</style>\n",
       "<table border=\"1\" class=\"dataframe\">\n",
       "  <thead>\n",
       "    <tr style=\"text-align: right;\">\n",
       "      <th></th>\n",
       "      <th>geohash6</th>\n",
       "      <th>day</th>\n",
       "      <th>timestamp</th>\n",
       "      <th>demand</th>\n",
       "      <th>lon</th>\n",
       "      <th>lat</th>\n",
       "    </tr>\n",
       "  </thead>\n",
       "  <tbody>\n",
       "    <tr>\n",
       "      <th>0</th>\n",
       "      <td>qp03wc</td>\n",
       "      <td>1</td>\n",
       "      <td>20:0</td>\n",
       "      <td>0.004959</td>\n",
       "      <td>90.653687</td>\n",
       "      <td>-5.353088</td>\n",
       "    </tr>\n",
       "    <tr>\n",
       "      <th>1</th>\n",
       "      <td>qp03wc</td>\n",
       "      <td>1</td>\n",
       "      <td>14:30</td>\n",
       "      <td>0.272885</td>\n",
       "      <td>90.653687</td>\n",
       "      <td>-5.353088</td>\n",
       "    </tr>\n",
       "    <tr>\n",
       "      <th>2</th>\n",
       "      <td>qp03wc</td>\n",
       "      <td>1</td>\n",
       "      <td>6:15</td>\n",
       "      <td>0.308053</td>\n",
       "      <td>90.653687</td>\n",
       "      <td>-5.353088</td>\n",
       "    </tr>\n",
       "    <tr>\n",
       "      <th>3</th>\n",
       "      <td>qp03wc</td>\n",
       "      <td>1</td>\n",
       "      <td>5:0</td>\n",
       "      <td>0.253679</td>\n",
       "      <td>90.653687</td>\n",
       "      <td>-5.353088</td>\n",
       "    </tr>\n",
       "    <tr>\n",
       "      <th>4</th>\n",
       "      <td>qp03wc</td>\n",
       "      <td>1</td>\n",
       "      <td>4:0</td>\n",
       "      <td>0.267803</td>\n",
       "      <td>90.653687</td>\n",
       "      <td>-5.353088</td>\n",
       "    </tr>\n",
       "    <tr>\n",
       "      <th>5</th>\n",
       "      <td>qp03wc</td>\n",
       "      <td>1</td>\n",
       "      <td>12:15</td>\n",
       "      <td>0.515115</td>\n",
       "      <td>90.653687</td>\n",
       "      <td>-5.353088</td>\n",
       "    </tr>\n",
       "    <tr>\n",
       "      <th>6</th>\n",
       "      <td>qp03wc</td>\n",
       "      <td>1</td>\n",
       "      <td>3:30</td>\n",
       "      <td>0.187321</td>\n",
       "      <td>90.653687</td>\n",
       "      <td>-5.353088</td>\n",
       "    </tr>\n",
       "    <tr>\n",
       "      <th>7</th>\n",
       "      <td>qp03wc</td>\n",
       "      <td>1</td>\n",
       "      <td>20:45</td>\n",
       "      <td>0.005720</td>\n",
       "      <td>90.653687</td>\n",
       "      <td>-5.353088</td>\n",
       "    </tr>\n",
       "    <tr>\n",
       "      <th>8</th>\n",
       "      <td>qp03wc</td>\n",
       "      <td>1</td>\n",
       "      <td>22:15</td>\n",
       "      <td>0.099461</td>\n",
       "      <td>90.653687</td>\n",
       "      <td>-5.353088</td>\n",
       "    </tr>\n",
       "    <tr>\n",
       "      <th>9</th>\n",
       "      <td>qp03wc</td>\n",
       "      <td>1</td>\n",
       "      <td>9:15</td>\n",
       "      <td>0.402417</td>\n",
       "      <td>90.653687</td>\n",
       "      <td>-5.353088</td>\n",
       "    </tr>\n",
       "  </tbody>\n",
       "</table>\n",
       "</div>"
      ],
      "text/plain": [
       "  geohash6  day timestamp    demand        lon       lat\n",
       "0   qp03wc    1      20:0  0.004959  90.653687 -5.353088\n",
       "1   qp03wc    1     14:30  0.272885  90.653687 -5.353088\n",
       "2   qp03wc    1      6:15  0.308053  90.653687 -5.353088\n",
       "3   qp03wc    1       5:0  0.253679  90.653687 -5.353088\n",
       "4   qp03wc    1       4:0  0.267803  90.653687 -5.353088\n",
       "5   qp03wc    1     12:15  0.515115  90.653687 -5.353088\n",
       "6   qp03wc    1      3:30  0.187321  90.653687 -5.353088\n",
       "7   qp03wc    1     20:45  0.005720  90.653687 -5.353088\n",
       "8   qp03wc    1     22:15  0.099461  90.653687 -5.353088\n",
       "9   qp03wc    1      9:15  0.402417  90.653687 -5.353088"
      ]
     },
     "execution_count": 5,
     "metadata": {
      "tags": []
     },
     "output_type": "execute_result"
    }
   ],
   "source": [
    "training_data = pd.read_csv(\"training_filled.csv\")\n",
    "training_data.head(10 )"
   ]
  },
  {
   "cell_type": "markdown",
   "metadata": {
    "id": "tp8yVU8cetSk"
   },
   "source": [
    "## Getting Region 1 data"
   ]
  },
  {
   "cell_type": "code",
   "execution_count": null,
   "metadata": {
    "colab": {
     "base_uri": "https://localhost:8080/",
     "height": 404
    },
    "id": "6rQAnKrjbI20",
    "outputId": "54ef6d72-d293-4a05-bdcc-212d3ef483e6"
   },
   "outputs": [
    {
     "data": {
      "text/html": [
       "<div>\n",
       "<style scoped>\n",
       "    .dataframe tbody tr th:only-of-type {\n",
       "        vertical-align: middle;\n",
       "    }\n",
       "\n",
       "    .dataframe tbody tr th {\n",
       "        vertical-align: top;\n",
       "    }\n",
       "\n",
       "    .dataframe thead th {\n",
       "        text-align: right;\n",
       "    }\n",
       "</style>\n",
       "<table border=\"1\" class=\"dataframe\">\n",
       "  <thead>\n",
       "    <tr style=\"text-align: right;\">\n",
       "      <th></th>\n",
       "      <th>geohash6</th>\n",
       "      <th>day</th>\n",
       "      <th>timestamp</th>\n",
       "      <th>demand</th>\n",
       "      <th>lon</th>\n",
       "      <th>lat</th>\n",
       "    </tr>\n",
       "  </thead>\n",
       "  <tbody>\n",
       "    <tr>\n",
       "      <th>0</th>\n",
       "      <td>qp03wc</td>\n",
       "      <td>1</td>\n",
       "      <td>20:0</td>\n",
       "      <td>0.004959</td>\n",
       "      <td>90.653687</td>\n",
       "      <td>-5.353088</td>\n",
       "    </tr>\n",
       "    <tr>\n",
       "      <th>1</th>\n",
       "      <td>qp03wc</td>\n",
       "      <td>1</td>\n",
       "      <td>14:30</td>\n",
       "      <td>0.272885</td>\n",
       "      <td>90.653687</td>\n",
       "      <td>-5.353088</td>\n",
       "    </tr>\n",
       "    <tr>\n",
       "      <th>2</th>\n",
       "      <td>qp03wc</td>\n",
       "      <td>1</td>\n",
       "      <td>6:15</td>\n",
       "      <td>0.308053</td>\n",
       "      <td>90.653687</td>\n",
       "      <td>-5.353088</td>\n",
       "    </tr>\n",
       "    <tr>\n",
       "      <th>3</th>\n",
       "      <td>qp03wc</td>\n",
       "      <td>1</td>\n",
       "      <td>5:0</td>\n",
       "      <td>0.253679</td>\n",
       "      <td>90.653687</td>\n",
       "      <td>-5.353088</td>\n",
       "    </tr>\n",
       "    <tr>\n",
       "      <th>4</th>\n",
       "      <td>qp03wc</td>\n",
       "      <td>1</td>\n",
       "      <td>4:0</td>\n",
       "      <td>0.267803</td>\n",
       "      <td>90.653687</td>\n",
       "      <td>-5.353088</td>\n",
       "    </tr>\n",
       "    <tr>\n",
       "      <th>...</th>\n",
       "      <td>...</td>\n",
       "      <td>...</td>\n",
       "      <td>...</td>\n",
       "      <td>...</td>\n",
       "      <td>...</td>\n",
       "      <td>...</td>\n",
       "    </tr>\n",
       "    <tr>\n",
       "      <th>7319995</th>\n",
       "      <td>qp098v</td>\n",
       "      <td>61</td>\n",
       "      <td>19:45</td>\n",
       "      <td>0.000000</td>\n",
       "      <td>90.741577</td>\n",
       "      <td>-5.331116</td>\n",
       "    </tr>\n",
       "    <tr>\n",
       "      <th>7319996</th>\n",
       "      <td>qp098v</td>\n",
       "      <td>61</td>\n",
       "      <td>19:0</td>\n",
       "      <td>0.000000</td>\n",
       "      <td>90.741577</td>\n",
       "      <td>-5.331116</td>\n",
       "    </tr>\n",
       "    <tr>\n",
       "      <th>7319997</th>\n",
       "      <td>qp098v</td>\n",
       "      <td>61</td>\n",
       "      <td>0:0</td>\n",
       "      <td>0.000000</td>\n",
       "      <td>90.741577</td>\n",
       "      <td>-5.331116</td>\n",
       "    </tr>\n",
       "    <tr>\n",
       "      <th>7319998</th>\n",
       "      <td>qp098v</td>\n",
       "      <td>61</td>\n",
       "      <td>17:30</td>\n",
       "      <td>0.000000</td>\n",
       "      <td>90.741577</td>\n",
       "      <td>-5.331116</td>\n",
       "    </tr>\n",
       "    <tr>\n",
       "      <th>7319999</th>\n",
       "      <td>qp098v</td>\n",
       "      <td>61</td>\n",
       "      <td>20:15</td>\n",
       "      <td>0.000000</td>\n",
       "      <td>90.741577</td>\n",
       "      <td>-5.331116</td>\n",
       "    </tr>\n",
       "  </tbody>\n",
       "</table>\n",
       "<p>1270752 rows × 6 columns</p>\n",
       "</div>"
      ],
      "text/plain": [
       "        geohash6  day timestamp    demand        lon       lat\n",
       "0         qp03wc    1      20:0  0.004959  90.653687 -5.353088\n",
       "1         qp03wc    1     14:30  0.272885  90.653687 -5.353088\n",
       "2         qp03wc    1      6:15  0.308053  90.653687 -5.353088\n",
       "3         qp03wc    1       5:0  0.253679  90.653687 -5.353088\n",
       "4         qp03wc    1       4:0  0.267803  90.653687 -5.353088\n",
       "...          ...  ...       ...       ...        ...       ...\n",
       "7319995   qp098v   61     19:45  0.000000  90.741577 -5.331116\n",
       "7319996   qp098v   61      19:0  0.000000  90.741577 -5.331116\n",
       "7319997   qp098v   61       0:0  0.000000  90.741577 -5.331116\n",
       "7319998   qp098v   61     17:30  0.000000  90.741577 -5.331116\n",
       "7319999   qp098v   61     20:15  0.000000  90.741577 -5.331116\n",
       "\n",
       "[1270752 rows x 6 columns]"
      ]
     },
     "execution_count": 6,
     "metadata": {
      "tags": []
     },
     "output_type": "execute_result"
    }
   ],
   "source": [
    " # getting Region 1 data \n",
    "region1 = training_data[training_data['lat'] >= -5.40]\n",
    "region1 = region1[region1['lat'] <= -5.30]\n",
    "region1 = region1[region1['lon'] >= 90.60]\n",
    "region1 = region1[region1['lon'] <= 90.75]\n",
    "region1"
   ]
  },
  {
   "cell_type": "markdown",
   "metadata": {
    "id": "Sg4zLuRCs3IA"
   },
   "source": [
    "## Data preparation (Sliding Window)"
   ]
  },
  {
   "cell_type": "code",
   "execution_count": null,
   "metadata": {
    "colab": {
     "base_uri": "https://localhost:8080/",
     "height": 404
    },
    "id": "Dg1LO2nufYSh",
    "outputId": "c1338070-ac04-431d-bac1-8b88e125457c"
   },
   "outputs": [
    {
     "data": {
      "text/html": [
       "<div>\n",
       "<style scoped>\n",
       "    .dataframe tbody tr th:only-of-type {\n",
       "        vertical-align: middle;\n",
       "    }\n",
       "\n",
       "    .dataframe tbody tr th {\n",
       "        vertical-align: top;\n",
       "    }\n",
       "\n",
       "    .dataframe thead th {\n",
       "        text-align: right;\n",
       "    }\n",
       "</style>\n",
       "<table border=\"1\" class=\"dataframe\">\n",
       "  <thead>\n",
       "    <tr style=\"text-align: right;\">\n",
       "      <th></th>\n",
       "      <th>geohash6</th>\n",
       "      <th>day</th>\n",
       "      <th>timestamp</th>\n",
       "      <th>demand</th>\n",
       "      <th>lon</th>\n",
       "      <th>lat</th>\n",
       "    </tr>\n",
       "  </thead>\n",
       "  <tbody>\n",
       "    <tr>\n",
       "      <th>0</th>\n",
       "      <td>qp03wc</td>\n",
       "      <td>1</td>\n",
       "      <td>20:00:00</td>\n",
       "      <td>0.004959</td>\n",
       "      <td>90.653687</td>\n",
       "      <td>-5.353088</td>\n",
       "    </tr>\n",
       "    <tr>\n",
       "      <th>1</th>\n",
       "      <td>qp03wc</td>\n",
       "      <td>1</td>\n",
       "      <td>14:30:00</td>\n",
       "      <td>0.272885</td>\n",
       "      <td>90.653687</td>\n",
       "      <td>-5.353088</td>\n",
       "    </tr>\n",
       "    <tr>\n",
       "      <th>2</th>\n",
       "      <td>qp03wc</td>\n",
       "      <td>1</td>\n",
       "      <td>06:15:00</td>\n",
       "      <td>0.308053</td>\n",
       "      <td>90.653687</td>\n",
       "      <td>-5.353088</td>\n",
       "    </tr>\n",
       "    <tr>\n",
       "      <th>3</th>\n",
       "      <td>qp03wc</td>\n",
       "      <td>1</td>\n",
       "      <td>05:00:00</td>\n",
       "      <td>0.253679</td>\n",
       "      <td>90.653687</td>\n",
       "      <td>-5.353088</td>\n",
       "    </tr>\n",
       "    <tr>\n",
       "      <th>4</th>\n",
       "      <td>qp03wc</td>\n",
       "      <td>1</td>\n",
       "      <td>04:00:00</td>\n",
       "      <td>0.267803</td>\n",
       "      <td>90.653687</td>\n",
       "      <td>-5.353088</td>\n",
       "    </tr>\n",
       "    <tr>\n",
       "      <th>...</th>\n",
       "      <td>...</td>\n",
       "      <td>...</td>\n",
       "      <td>...</td>\n",
       "      <td>...</td>\n",
       "      <td>...</td>\n",
       "      <td>...</td>\n",
       "    </tr>\n",
       "    <tr>\n",
       "      <th>7319995</th>\n",
       "      <td>qp098v</td>\n",
       "      <td>61</td>\n",
       "      <td>19:45:00</td>\n",
       "      <td>0.000000</td>\n",
       "      <td>90.741577</td>\n",
       "      <td>-5.331116</td>\n",
       "    </tr>\n",
       "    <tr>\n",
       "      <th>7319996</th>\n",
       "      <td>qp098v</td>\n",
       "      <td>61</td>\n",
       "      <td>19:00:00</td>\n",
       "      <td>0.000000</td>\n",
       "      <td>90.741577</td>\n",
       "      <td>-5.331116</td>\n",
       "    </tr>\n",
       "    <tr>\n",
       "      <th>7319997</th>\n",
       "      <td>qp098v</td>\n",
       "      <td>61</td>\n",
       "      <td>00:00:00</td>\n",
       "      <td>0.000000</td>\n",
       "      <td>90.741577</td>\n",
       "      <td>-5.331116</td>\n",
       "    </tr>\n",
       "    <tr>\n",
       "      <th>7319998</th>\n",
       "      <td>qp098v</td>\n",
       "      <td>61</td>\n",
       "      <td>17:30:00</td>\n",
       "      <td>0.000000</td>\n",
       "      <td>90.741577</td>\n",
       "      <td>-5.331116</td>\n",
       "    </tr>\n",
       "    <tr>\n",
       "      <th>7319999</th>\n",
       "      <td>qp098v</td>\n",
       "      <td>61</td>\n",
       "      <td>20:15:00</td>\n",
       "      <td>0.000000</td>\n",
       "      <td>90.741577</td>\n",
       "      <td>-5.331116</td>\n",
       "    </tr>\n",
       "  </tbody>\n",
       "</table>\n",
       "<p>1270752 rows × 6 columns</p>\n",
       "</div>"
      ],
      "text/plain": [
       "        geohash6  day timestamp    demand        lon       lat\n",
       "0         qp03wc    1  20:00:00  0.004959  90.653687 -5.353088\n",
       "1         qp03wc    1  14:30:00  0.272885  90.653687 -5.353088\n",
       "2         qp03wc    1  06:15:00  0.308053  90.653687 -5.353088\n",
       "3         qp03wc    1  05:00:00  0.253679  90.653687 -5.353088\n",
       "4         qp03wc    1  04:00:00  0.267803  90.653687 -5.353088\n",
       "...          ...  ...       ...       ...        ...       ...\n",
       "7319995   qp098v   61  19:45:00  0.000000  90.741577 -5.331116\n",
       "7319996   qp098v   61  19:00:00  0.000000  90.741577 -5.331116\n",
       "7319997   qp098v   61  00:00:00  0.000000  90.741577 -5.331116\n",
       "7319998   qp098v   61  17:30:00  0.000000  90.741577 -5.331116\n",
       "7319999   qp098v   61  20:15:00  0.000000  90.741577 -5.331116\n",
       "\n",
       "[1270752 rows x 6 columns]"
      ]
     },
     "execution_count": 7,
     "metadata": {
      "tags": []
     },
     "output_type": "execute_result"
    }
   ],
   "source": [
    "# convert the timestamps to datetime\n",
    "region1[\"timestamp\"] =  pd.to_datetime(region1[\"timestamp\"], format='%H:%M').dt.time\n",
    "\n",
    "region1"
   ]
  },
  {
   "cell_type": "markdown",
   "metadata": {
    "id": "NnHEaXa-qGbn"
   },
   "source": [
    "We would be using the data from one geohash that has the highest mean demand from region 1 to train the regression models since we are predicting on high demand\n",
    "\n",
    "Note that the model would be trained on every timestamp of every of the 61 days"
   ]
  },
  {
   "cell_type": "code",
   "execution_count": null,
   "metadata": {
    "colab": {
     "base_uri": "https://localhost:8080/"
    },
    "id": "jXh8Rn9sTtDX",
    "outputId": "f9284735-4fea-48fc-c149-ab723c55980d"
   },
   "outputs": [
    {
     "data": {
      "text/plain": [
       "geohash6\n",
       "qp03xx    0.751653\n",
       "qp03xw    0.745806\n",
       "qp03yb    0.694499\n",
       "qp03xm    0.680359\n",
       "qp03wz    0.677979\n",
       "            ...   \n",
       "qp03qp    0.000399\n",
       "qp03y4    0.000225\n",
       "qp03vc    0.000171\n",
       "qp098v    0.000083\n",
       "qp03vf    0.000081\n",
       "Name: demand, Length: 217, dtype: float64"
      ]
     },
     "execution_count": 8,
     "metadata": {
      "tags": []
     },
     "output_type": "execute_result"
    }
   ],
   "source": [
    "region1.groupby(\"geohash6\")[\"demand\"].mean().sort_values(ascending=False)"
   ]
  },
  {
   "cell_type": "code",
   "execution_count": null,
   "metadata": {
    "id": "qoKWq_ZsZMbY"
   },
   "outputs": [],
   "source": [
    "high_demand_geohash = region1[region1[\"geohash6\"] == \"qp03xx\"]\n",
    "\n",
    "# sort the values by day and timestamp\n",
    "\n",
    "high_demand_geohash = high_demand_geohash.sort_values([\"day\", \"timestamp\"],ascending=True)"
   ]
  },
  {
   "cell_type": "code",
   "execution_count": null,
   "metadata": {
    "colab": {
     "base_uri": "https://localhost:8080/",
     "height": 404
    },
    "id": "SPUCQ-PebtN4",
    "outputId": "bb78b494-266a-4627-ec5a-e0a37b594193"
   },
   "outputs": [
    {
     "data": {
      "text/html": [
       "<div>\n",
       "<style scoped>\n",
       "    .dataframe tbody tr th:only-of-type {\n",
       "        vertical-align: middle;\n",
       "    }\n",
       "\n",
       "    .dataframe tbody tr th {\n",
       "        vertical-align: top;\n",
       "    }\n",
       "\n",
       "    .dataframe thead th {\n",
       "        text-align: right;\n",
       "    }\n",
       "</style>\n",
       "<table border=\"1\" class=\"dataframe\">\n",
       "  <thead>\n",
       "    <tr style=\"text-align: right;\">\n",
       "      <th></th>\n",
       "      <th>geohash6</th>\n",
       "      <th>day</th>\n",
       "      <th>timestamp</th>\n",
       "      <th>demand</th>\n",
       "      <th>lon</th>\n",
       "      <th>lat</th>\n",
       "    </tr>\n",
       "  </thead>\n",
       "  <tbody>\n",
       "    <tr>\n",
       "      <th>0</th>\n",
       "      <td>qp03xx</td>\n",
       "      <td>1</td>\n",
       "      <td>00:00</td>\n",
       "      <td>0.320478</td>\n",
       "      <td>90.686646</td>\n",
       "      <td>-5.320129</td>\n",
       "    </tr>\n",
       "    <tr>\n",
       "      <th>1</th>\n",
       "      <td>qp03xx</td>\n",
       "      <td>1</td>\n",
       "      <td>00:15</td>\n",
       "      <td>0.351964</td>\n",
       "      <td>90.686646</td>\n",
       "      <td>-5.320129</td>\n",
       "    </tr>\n",
       "    <tr>\n",
       "      <th>2</th>\n",
       "      <td>qp03xx</td>\n",
       "      <td>1</td>\n",
       "      <td>00:30</td>\n",
       "      <td>0.386225</td>\n",
       "      <td>90.686646</td>\n",
       "      <td>-5.320129</td>\n",
       "    </tr>\n",
       "    <tr>\n",
       "      <th>3</th>\n",
       "      <td>qp03xx</td>\n",
       "      <td>1</td>\n",
       "      <td>00:45</td>\n",
       "      <td>0.357434</td>\n",
       "      <td>90.686646</td>\n",
       "      <td>-5.320129</td>\n",
       "    </tr>\n",
       "    <tr>\n",
       "      <th>4</th>\n",
       "      <td>qp03xx</td>\n",
       "      <td>1</td>\n",
       "      <td>01:00</td>\n",
       "      <td>0.376079</td>\n",
       "      <td>90.686646</td>\n",
       "      <td>-5.320129</td>\n",
       "    </tr>\n",
       "    <tr>\n",
       "      <th>...</th>\n",
       "      <td>...</td>\n",
       "      <td>...</td>\n",
       "      <td>...</td>\n",
       "      <td>...</td>\n",
       "      <td>...</td>\n",
       "      <td>...</td>\n",
       "    </tr>\n",
       "    <tr>\n",
       "      <th>5851</th>\n",
       "      <td>qp03xx</td>\n",
       "      <td>61</td>\n",
       "      <td>22:45</td>\n",
       "      <td>0.188155</td>\n",
       "      <td>90.686646</td>\n",
       "      <td>-5.320129</td>\n",
       "    </tr>\n",
       "    <tr>\n",
       "      <th>5852</th>\n",
       "      <td>qp03xx</td>\n",
       "      <td>61</td>\n",
       "      <td>23:00</td>\n",
       "      <td>0.167299</td>\n",
       "      <td>90.686646</td>\n",
       "      <td>-5.320129</td>\n",
       "    </tr>\n",
       "    <tr>\n",
       "      <th>5853</th>\n",
       "      <td>qp03xx</td>\n",
       "      <td>61</td>\n",
       "      <td>23:15</td>\n",
       "      <td>0.181768</td>\n",
       "      <td>90.686646</td>\n",
       "      <td>-5.320129</td>\n",
       "    </tr>\n",
       "    <tr>\n",
       "      <th>5854</th>\n",
       "      <td>qp03xx</td>\n",
       "      <td>61</td>\n",
       "      <td>23:30</td>\n",
       "      <td>0.230112</td>\n",
       "      <td>90.686646</td>\n",
       "      <td>-5.320129</td>\n",
       "    </tr>\n",
       "    <tr>\n",
       "      <th>5855</th>\n",
       "      <td>qp03xx</td>\n",
       "      <td>61</td>\n",
       "      <td>23:45</td>\n",
       "      <td>0.212988</td>\n",
       "      <td>90.686646</td>\n",
       "      <td>-5.320129</td>\n",
       "    </tr>\n",
       "  </tbody>\n",
       "</table>\n",
       "<p>5856 rows × 6 columns</p>\n",
       "</div>"
      ],
      "text/plain": [
       "     geohash6  day timestamp    demand        lon       lat\n",
       "0      qp03xx    1     00:00  0.320478  90.686646 -5.320129\n",
       "1      qp03xx    1     00:15  0.351964  90.686646 -5.320129\n",
       "2      qp03xx    1     00:30  0.386225  90.686646 -5.320129\n",
       "3      qp03xx    1     00:45  0.357434  90.686646 -5.320129\n",
       "4      qp03xx    1     01:00  0.376079  90.686646 -5.320129\n",
       "...       ...  ...       ...       ...        ...       ...\n",
       "5851   qp03xx   61     22:45  0.188155  90.686646 -5.320129\n",
       "5852   qp03xx   61     23:00  0.167299  90.686646 -5.320129\n",
       "5853   qp03xx   61     23:15  0.181768  90.686646 -5.320129\n",
       "5854   qp03xx   61     23:30  0.230112  90.686646 -5.320129\n",
       "5855   qp03xx   61     23:45  0.212988  90.686646 -5.320129\n",
       "\n",
       "[5856 rows x 6 columns]"
      ]
     },
     "execution_count": 10,
     "metadata": {
      "tags": []
     },
     "output_type": "execute_result"
    }
   ],
   "source": [
    "high_demand_geohash[\"timestamp\"] = high_demand_geohash[\"timestamp\"].apply(lambda x: x.strftime('%H:%M'))\n",
    "high_demand_geohash.index = np.arange(0, len(high_demand_geohash))\n",
    "high_demand_geohash"
   ]
  },
  {
   "cell_type": "markdown",
   "metadata": {
    "id": "RG7wIKCDuU8Z"
   },
   "source": [
    "Let's use the sliding window approach to restructure the time series into supervised learning problem\n",
    "\n",
    "The reason for this is so that we can use traditional ML models to do the forecasting"
   ]
  },
  {
   "cell_type": "markdown",
   "metadata": {
    "id": "T7ZQEDQnTgRg"
   },
   "source": [
    "For example, what the sliding window does is convert the time series, which look like this:\n",
    "\n",
    "| Time   | Measure |\n",
    "| -------| ------- |\n",
    "| 1      | 100     |\n",
    "| 2      | 110     |\n",
    "| 3      | 108     |\n",
    "| 4      | 115     |\n",
    "| 5      | 120     |\n",
    "\n",
    "and restructured into this:\n",
    "\n",
    "| X (feature)    | y (labels) |\n",
    "| -------        | -------    |\n",
    "| ?              | 100        |\n",
    "| 100            | 110        |\n",
    "| 110            | 108        |\n",
    "| 108            | 115        |\n",
    "| 115            | 120        |\n",
    "| 120            | ?          |\n",
    "\n",
    "The feature, X is the previous time step and the next time step is the label, y\n",
    "\n",
    "Using the sliding window, the order of the time series demand data is preserved, while allowing for traditional supervised learning models to be used for time series\n",
    "\n",
    "In our case, we would do a sliding window step of 1, due to forecasting of the next 15 minutes\n",
    "\n",
    "Note that we would be removing the first and last row of the transformed time data, due to not being able to know the previous time step of the first time step (for the first row) and not knowing the next time step for the last row\n"
   ]
  },
  {
   "cell_type": "code",
   "execution_count": 87,
   "metadata": {
    "colab": {
     "base_uri": "https://localhost:8080/",
     "height": 404
    },
    "id": "jusn__jXVVlF",
    "outputId": "461c8d28-30f9-46c6-8287-dc1d6ffad0c3"
   },
   "outputs": [
    {
     "data": {
      "text/html": [
       "<div>\n",
       "<style scoped>\n",
       "    .dataframe tbody tr th:only-of-type {\n",
       "        vertical-align: middle;\n",
       "    }\n",
       "\n",
       "    .dataframe tbody tr th {\n",
       "        vertical-align: top;\n",
       "    }\n",
       "\n",
       "    .dataframe thead th {\n",
       "        text-align: right;\n",
       "    }\n",
       "</style>\n",
       "<table border=\"1\" class=\"dataframe\">\n",
       "  <thead>\n",
       "    <tr style=\"text-align: right;\">\n",
       "      <th></th>\n",
       "      <th>timestamp</th>\n",
       "      <th>demand</th>\n",
       "    </tr>\n",
       "  </thead>\n",
       "  <tbody>\n",
       "    <tr>\n",
       "      <th>0</th>\n",
       "      <td>00:00</td>\n",
       "      <td>0.320478</td>\n",
       "    </tr>\n",
       "    <tr>\n",
       "      <th>1</th>\n",
       "      <td>00:15</td>\n",
       "      <td>0.351964</td>\n",
       "    </tr>\n",
       "    <tr>\n",
       "      <th>2</th>\n",
       "      <td>00:30</td>\n",
       "      <td>0.386225</td>\n",
       "    </tr>\n",
       "    <tr>\n",
       "      <th>3</th>\n",
       "      <td>00:45</td>\n",
       "      <td>0.357434</td>\n",
       "    </tr>\n",
       "    <tr>\n",
       "      <th>4</th>\n",
       "      <td>01:00</td>\n",
       "      <td>0.376079</td>\n",
       "    </tr>\n",
       "    <tr>\n",
       "      <th>...</th>\n",
       "      <td>...</td>\n",
       "      <td>...</td>\n",
       "    </tr>\n",
       "    <tr>\n",
       "      <th>5851</th>\n",
       "      <td>22:45</td>\n",
       "      <td>0.188155</td>\n",
       "    </tr>\n",
       "    <tr>\n",
       "      <th>5852</th>\n",
       "      <td>23:00</td>\n",
       "      <td>0.167299</td>\n",
       "    </tr>\n",
       "    <tr>\n",
       "      <th>5853</th>\n",
       "      <td>23:15</td>\n",
       "      <td>0.181768</td>\n",
       "    </tr>\n",
       "    <tr>\n",
       "      <th>5854</th>\n",
       "      <td>23:30</td>\n",
       "      <td>0.230112</td>\n",
       "    </tr>\n",
       "    <tr>\n",
       "      <th>5855</th>\n",
       "      <td>23:45</td>\n",
       "      <td>0.212988</td>\n",
       "    </tr>\n",
       "  </tbody>\n",
       "</table>\n",
       "<p>5856 rows × 2 columns</p>\n",
       "</div>"
      ],
      "text/plain": [
       "     timestamp    demand\n",
       "0        00:00  0.320478\n",
       "1        00:15  0.351964\n",
       "2        00:30  0.386225\n",
       "3        00:45  0.357434\n",
       "4        01:00  0.376079\n",
       "...        ...       ...\n",
       "5851     22:45  0.188155\n",
       "5852     23:00  0.167299\n",
       "5853     23:15  0.181768\n",
       "5854     23:30  0.230112\n",
       "5855     23:45  0.212988\n",
       "\n",
       "[5856 rows x 2 columns]"
      ]
     },
     "execution_count": 87,
     "metadata": {
      "tags": []
     },
     "output_type": "execute_result"
    }
   ],
   "source": [
    "high_demand_geohash[[\"timestamp\", \"demand\"]]"
   ]
  },
  {
   "cell_type": "code",
   "execution_count": null,
   "metadata": {
    "colab": {
     "base_uri": "https://localhost:8080/"
    },
    "id": "CrU8mTAhtR59",
    "outputId": "ea6c745b-9bf3-4a48-c784-a0e9808252a4"
   },
   "outputs": [
    {
     "data": {
      "text/plain": [
       "1       0.320478\n",
       "2       0.351964\n",
       "3       0.386225\n",
       "4       0.357434\n",
       "5       0.376079\n",
       "          ...   \n",
       "5851    0.190247\n",
       "5852    0.188155\n",
       "5853    0.167299\n",
       "5854    0.181768\n",
       "5855    0.230112\n",
       "Name: X, Length: 5855, dtype: float64"
      ]
     },
     "execution_count": 12,
     "metadata": {
      "tags": []
     },
     "output_type": "execute_result"
    }
   ],
   "source": [
    "X_feature = pd.Series(high_demand_geohash[\"demand\"].shift(), name=\"X\")\n",
    "# Remove the first NaN\n",
    "X_feature = X_feature.drop([0])\n",
    "X_feature"
   ]
  },
  {
   "cell_type": "code",
   "execution_count": null,
   "metadata": {
    "colab": {
     "base_uri": "https://localhost:8080/"
    },
    "id": "4X8OQr0Nv_xn",
    "outputId": "d648f4a3-2f54-41a9-9010-39cfbb67eb96"
   },
   "outputs": [
    {
     "data": {
      "text/plain": [
       "1       0.351964\n",
       "2       0.386225\n",
       "3       0.357434\n",
       "4       0.376079\n",
       "5       0.432797\n",
       "          ...   \n",
       "5851    0.188155\n",
       "5852    0.167299\n",
       "5853    0.181768\n",
       "5854    0.230112\n",
       "5855    0.212988\n",
       "Name: y, Length: 5855, dtype: float64"
      ]
     },
     "execution_count": 13,
     "metadata": {
      "tags": []
     },
     "output_type": "execute_result"
    }
   ],
   "source": [
    "y_label = pd.Series(high_demand_geohash[\"demand\"], name=\"y\")\n",
    "y_label = y_label.drop([0])\n",
    "y_label"
   ]
  },
  {
   "cell_type": "code",
   "execution_count": null,
   "metadata": {
    "colab": {
     "base_uri": "https://localhost:8080/",
     "height": 404
    },
    "id": "cFaiao3KwL-j",
    "outputId": "647df72f-c9e5-43e3-ec69-65c85608846a"
   },
   "outputs": [
    {
     "data": {
      "text/html": [
       "<div>\n",
       "<style scoped>\n",
       "    .dataframe tbody tr th:only-of-type {\n",
       "        vertical-align: middle;\n",
       "    }\n",
       "\n",
       "    .dataframe tbody tr th {\n",
       "        vertical-align: top;\n",
       "    }\n",
       "\n",
       "    .dataframe thead th {\n",
       "        text-align: right;\n",
       "    }\n",
       "</style>\n",
       "<table border=\"1\" class=\"dataframe\">\n",
       "  <thead>\n",
       "    <tr style=\"text-align: right;\">\n",
       "      <th></th>\n",
       "      <th>X</th>\n",
       "      <th>y</th>\n",
       "    </tr>\n",
       "  </thead>\n",
       "  <tbody>\n",
       "    <tr>\n",
       "      <th>1</th>\n",
       "      <td>0.320478</td>\n",
       "      <td>0.351964</td>\n",
       "    </tr>\n",
       "    <tr>\n",
       "      <th>2</th>\n",
       "      <td>0.351964</td>\n",
       "      <td>0.386225</td>\n",
       "    </tr>\n",
       "    <tr>\n",
       "      <th>3</th>\n",
       "      <td>0.386225</td>\n",
       "      <td>0.357434</td>\n",
       "    </tr>\n",
       "    <tr>\n",
       "      <th>4</th>\n",
       "      <td>0.357434</td>\n",
       "      <td>0.376079</td>\n",
       "    </tr>\n",
       "    <tr>\n",
       "      <th>5</th>\n",
       "      <td>0.376079</td>\n",
       "      <td>0.432797</td>\n",
       "    </tr>\n",
       "    <tr>\n",
       "      <th>...</th>\n",
       "      <td>...</td>\n",
       "      <td>...</td>\n",
       "    </tr>\n",
       "    <tr>\n",
       "      <th>5851</th>\n",
       "      <td>0.190247</td>\n",
       "      <td>0.188155</td>\n",
       "    </tr>\n",
       "    <tr>\n",
       "      <th>5852</th>\n",
       "      <td>0.188155</td>\n",
       "      <td>0.167299</td>\n",
       "    </tr>\n",
       "    <tr>\n",
       "      <th>5853</th>\n",
       "      <td>0.167299</td>\n",
       "      <td>0.181768</td>\n",
       "    </tr>\n",
       "    <tr>\n",
       "      <th>5854</th>\n",
       "      <td>0.181768</td>\n",
       "      <td>0.230112</td>\n",
       "    </tr>\n",
       "    <tr>\n",
       "      <th>5855</th>\n",
       "      <td>0.230112</td>\n",
       "      <td>0.212988</td>\n",
       "    </tr>\n",
       "  </tbody>\n",
       "</table>\n",
       "<p>5855 rows × 2 columns</p>\n",
       "</div>"
      ],
      "text/plain": [
       "             X         y\n",
       "1     0.320478  0.351964\n",
       "2     0.351964  0.386225\n",
       "3     0.386225  0.357434\n",
       "4     0.357434  0.376079\n",
       "5     0.376079  0.432797\n",
       "...        ...       ...\n",
       "5851  0.190247  0.188155\n",
       "5852  0.188155  0.167299\n",
       "5853  0.167299  0.181768\n",
       "5854  0.181768  0.230112\n",
       "5855  0.230112  0.212988\n",
       "\n",
       "[5855 rows x 2 columns]"
      ]
     },
     "execution_count": 14,
     "metadata": {
      "tags": []
     },
     "output_type": "execute_result"
    }
   ],
   "source": [
    "restructured_data = pd.concat([X_feature, y_label], axis=1)\n",
    "restructured_data"
   ]
  },
  {
   "cell_type": "code",
   "execution_count": null,
   "metadata": {
    "id": "I9YoAoxEApko"
   },
   "outputs": [],
   "source": [
    "# Split the training data into 80% training, 20% test\n",
    "training = restructured_data.iloc[:4685,:]\n",
    "testing = restructured_data.iloc[4685:,:]"
   ]
  },
  {
   "cell_type": "code",
   "execution_count": null,
   "metadata": {
    "colab": {
     "base_uri": "https://localhost:8080/",
     "height": 404
    },
    "id": "CICwkUa7Bx8y",
    "outputId": "da02f861-235e-4939-c999-48e9d9cb5209"
   },
   "outputs": [
    {
     "data": {
      "text/html": [
       "<div>\n",
       "<style scoped>\n",
       "    .dataframe tbody tr th:only-of-type {\n",
       "        vertical-align: middle;\n",
       "    }\n",
       "\n",
       "    .dataframe tbody tr th {\n",
       "        vertical-align: top;\n",
       "    }\n",
       "\n",
       "    .dataframe thead th {\n",
       "        text-align: right;\n",
       "    }\n",
       "</style>\n",
       "<table border=\"1\" class=\"dataframe\">\n",
       "  <thead>\n",
       "    <tr style=\"text-align: right;\">\n",
       "      <th></th>\n",
       "      <th>X</th>\n",
       "      <th>y</th>\n",
       "    </tr>\n",
       "  </thead>\n",
       "  <tbody>\n",
       "    <tr>\n",
       "      <th>1</th>\n",
       "      <td>0.320478</td>\n",
       "      <td>0.351964</td>\n",
       "    </tr>\n",
       "    <tr>\n",
       "      <th>2</th>\n",
       "      <td>0.351964</td>\n",
       "      <td>0.386225</td>\n",
       "    </tr>\n",
       "    <tr>\n",
       "      <th>3</th>\n",
       "      <td>0.386225</td>\n",
       "      <td>0.357434</td>\n",
       "    </tr>\n",
       "    <tr>\n",
       "      <th>4</th>\n",
       "      <td>0.357434</td>\n",
       "      <td>0.376079</td>\n",
       "    </tr>\n",
       "    <tr>\n",
       "      <th>5</th>\n",
       "      <td>0.376079</td>\n",
       "      <td>0.432797</td>\n",
       "    </tr>\n",
       "    <tr>\n",
       "      <th>...</th>\n",
       "      <td>...</td>\n",
       "      <td>...</td>\n",
       "    </tr>\n",
       "    <tr>\n",
       "      <th>4681</th>\n",
       "      <td>0.277573</td>\n",
       "      <td>0.166008</td>\n",
       "    </tr>\n",
       "    <tr>\n",
       "      <th>4682</th>\n",
       "      <td>0.166008</td>\n",
       "      <td>0.174010</td>\n",
       "    </tr>\n",
       "    <tr>\n",
       "      <th>4683</th>\n",
       "      <td>0.174010</td>\n",
       "      <td>0.217608</td>\n",
       "    </tr>\n",
       "    <tr>\n",
       "      <th>4684</th>\n",
       "      <td>0.217608</td>\n",
       "      <td>0.211948</td>\n",
       "    </tr>\n",
       "    <tr>\n",
       "      <th>4685</th>\n",
       "      <td>0.211948</td>\n",
       "      <td>0.139234</td>\n",
       "    </tr>\n",
       "  </tbody>\n",
       "</table>\n",
       "<p>4685 rows × 2 columns</p>\n",
       "</div>"
      ],
      "text/plain": [
       "             X         y\n",
       "1     0.320478  0.351964\n",
       "2     0.351964  0.386225\n",
       "3     0.386225  0.357434\n",
       "4     0.357434  0.376079\n",
       "5     0.376079  0.432797\n",
       "...        ...       ...\n",
       "4681  0.277573  0.166008\n",
       "4682  0.166008  0.174010\n",
       "4683  0.174010  0.217608\n",
       "4684  0.217608  0.211948\n",
       "4685  0.211948  0.139234\n",
       "\n",
       "[4685 rows x 2 columns]"
      ]
     },
     "execution_count": 16,
     "metadata": {
      "tags": []
     },
     "output_type": "execute_result"
    }
   ],
   "source": [
    "training"
   ]
  },
  {
   "cell_type": "code",
   "execution_count": null,
   "metadata": {
    "colab": {
     "base_uri": "https://localhost:8080/",
     "height": 404
    },
    "id": "6AAta3ZxB0Ok",
    "outputId": "f5444058-5186-4715-b3ca-c6598f43b673"
   },
   "outputs": [
    {
     "data": {
      "text/html": [
       "<div>\n",
       "<style scoped>\n",
       "    .dataframe tbody tr th:only-of-type {\n",
       "        vertical-align: middle;\n",
       "    }\n",
       "\n",
       "    .dataframe tbody tr th {\n",
       "        vertical-align: top;\n",
       "    }\n",
       "\n",
       "    .dataframe thead th {\n",
       "        text-align: right;\n",
       "    }\n",
       "</style>\n",
       "<table border=\"1\" class=\"dataframe\">\n",
       "  <thead>\n",
       "    <tr style=\"text-align: right;\">\n",
       "      <th></th>\n",
       "      <th>X</th>\n",
       "      <th>y</th>\n",
       "    </tr>\n",
       "  </thead>\n",
       "  <tbody>\n",
       "    <tr>\n",
       "      <th>4686</th>\n",
       "      <td>0.139234</td>\n",
       "      <td>0.117363</td>\n",
       "    </tr>\n",
       "    <tr>\n",
       "      <th>4687</th>\n",
       "      <td>0.117363</td>\n",
       "      <td>0.109064</td>\n",
       "    </tr>\n",
       "    <tr>\n",
       "      <th>4688</th>\n",
       "      <td>0.109064</td>\n",
       "      <td>0.186422</td>\n",
       "    </tr>\n",
       "    <tr>\n",
       "      <th>4689</th>\n",
       "      <td>0.186422</td>\n",
       "      <td>0.131396</td>\n",
       "    </tr>\n",
       "    <tr>\n",
       "      <th>4690</th>\n",
       "      <td>0.131396</td>\n",
       "      <td>0.137134</td>\n",
       "    </tr>\n",
       "    <tr>\n",
       "      <th>...</th>\n",
       "      <td>...</td>\n",
       "      <td>...</td>\n",
       "    </tr>\n",
       "    <tr>\n",
       "      <th>5851</th>\n",
       "      <td>0.190247</td>\n",
       "      <td>0.188155</td>\n",
       "    </tr>\n",
       "    <tr>\n",
       "      <th>5852</th>\n",
       "      <td>0.188155</td>\n",
       "      <td>0.167299</td>\n",
       "    </tr>\n",
       "    <tr>\n",
       "      <th>5853</th>\n",
       "      <td>0.167299</td>\n",
       "      <td>0.181768</td>\n",
       "    </tr>\n",
       "    <tr>\n",
       "      <th>5854</th>\n",
       "      <td>0.181768</td>\n",
       "      <td>0.230112</td>\n",
       "    </tr>\n",
       "    <tr>\n",
       "      <th>5855</th>\n",
       "      <td>0.230112</td>\n",
       "      <td>0.212988</td>\n",
       "    </tr>\n",
       "  </tbody>\n",
       "</table>\n",
       "<p>1170 rows × 2 columns</p>\n",
       "</div>"
      ],
      "text/plain": [
       "             X         y\n",
       "4686  0.139234  0.117363\n",
       "4687  0.117363  0.109064\n",
       "4688  0.109064  0.186422\n",
       "4689  0.186422  0.131396\n",
       "4690  0.131396  0.137134\n",
       "...        ...       ...\n",
       "5851  0.190247  0.188155\n",
       "5852  0.188155  0.167299\n",
       "5853  0.167299  0.181768\n",
       "5854  0.181768  0.230112\n",
       "5855  0.230112  0.212988\n",
       "\n",
       "[1170 rows x 2 columns]"
      ]
     },
     "execution_count": 17,
     "metadata": {
      "tags": []
     },
     "output_type": "execute_result"
    }
   ],
   "source": [
    "testing"
   ]
  },
  {
   "cell_type": "code",
   "execution_count": null,
   "metadata": {
    "id": "-d5Mzgee2INw"
   },
   "outputs": [],
   "source": [
    "X_train = training[\"X\"].values.reshape(-1, 1)\n",
    "y_train = training[\"y\"].values\n",
    "\n",
    "X_test = testing[\"X\"].values.reshape(-1, 1)\n",
    "y_test = testing[\"y\"].values"
   ]
  },
  {
   "cell_type": "markdown",
   "metadata": {
    "id": "zRU8tVuqp24A"
   },
   "source": [
    "## Model Training"
   ]
  },
  {
   "cell_type": "markdown",
   "metadata": {
    "id": "1L_g87nDz5P5"
   },
   "source": [
    "Due to the no free lunch theorem, we would have to try an array of regressors to determine which is best for the problem. \n",
    "\n",
    "As such, we would be using:\n",
    "- Support Vector Regressor\n",
    "- K-Nearest Neighbour Regressor\n",
    "- Decision Trees Regressor\n",
    "- Random Forest Regressor\n",
    "- Multi Layer Perceptron or Artificial Neural Network\n",
    "- Linear Regression\n",
    "- Gradient Boosting Regressor (GBR)"
   ]
  },
  {
   "cell_type": "code",
   "execution_count": null,
   "metadata": {
    "id": "3WWhkO9qZISs"
   },
   "outputs": [],
   "source": [
    "# array to store all the different dicts of r2 scores of different models\n",
    "models_r2_scores = []\n",
    "\n",
    "# Getting all the different regressors\n",
    "# SVR\n",
    "from sklearn.svm import SVR\n",
    "svr_model = SVR()\n",
    "\n",
    "# KNN\n",
    "from sklearn.neighbors import KNeighborsRegressor\n",
    "knn_model = KNeighborsRegressor() \n",
    "\n",
    "# Decision Tree Regressor\n",
    "from sklearn import tree\n",
    "decision_tree_model = tree.DecisionTreeRegressor(random_state=1)\n",
    "\n",
    "# Random Forest Regressor\n",
    "from sklearn.ensemble import RandomForestRegressor\n",
    "rf_model = RandomForestRegressor(random_state=1)\n",
    "\n",
    "# MLP\n",
    "from sklearn.neural_network import MLPRegressor\n",
    "mlp_model = MLPRegressor(random_state=1)\n",
    "\n",
    "# Linear Regression\n",
    "from sklearn.linear_model import LinearRegression\n",
    "lr_model = LinearRegression()\n",
    "\n",
    "# Gradient Boosting Regressor\n",
    "from sklearn.ensemble import GradientBoostingRegressor\n",
    "gbr_model = GradientBoostingRegressor(random_state=1)\n",
    "\n",
    "# array to store all the models\n",
    "models = [svr_model, knn_model, decision_tree_model, rf_model, mlp_model, lr_model, gbr_model]\n",
    "\n",
    "# array containing all the names of models in order\n",
    "model_names = [\"SVR\", \"KNN\", \"Decision Tree\", \"Random Forest\", \"MLP\", \"Linear Regression\", \"GBR\"]\n",
    "\n",
    "for i in range(len(models)):\n",
    "  # Train each of the models\n",
    "  models[i].fit(X_train, y_train)\n",
    "  # Generate the name of the model\n",
    "  models_r2_scores.append({\n",
    "    \"regressor\": model_names[i],\n",
    "    \"training\": models[i].score(X_train, y_train),\n",
    "    \"test\": models[i].score(X_test, y_test)\n",
    "  })"
   ]
  },
  {
   "cell_type": "code",
   "execution_count": null,
   "metadata": {
    "colab": {
     "base_uri": "https://localhost:8080/",
     "height": 256
    },
    "id": "MS45qzDsV1Mf",
    "outputId": "0c8fb534-9289-477c-8fa6-84881acd3386"
   },
   "outputs": [
    {
     "data": {
      "text/html": [
       "<div>\n",
       "<style scoped>\n",
       "    .dataframe tbody tr th:only-of-type {\n",
       "        vertical-align: middle;\n",
       "    }\n",
       "\n",
       "    .dataframe tbody tr th {\n",
       "        vertical-align: top;\n",
       "    }\n",
       "\n",
       "    .dataframe thead th {\n",
       "        text-align: right;\n",
       "    }\n",
       "</style>\n",
       "<table border=\"1\" class=\"dataframe\">\n",
       "  <thead>\n",
       "    <tr style=\"text-align: right;\">\n",
       "      <th></th>\n",
       "      <th>regressor</th>\n",
       "      <th>training</th>\n",
       "      <th>test</th>\n",
       "      <th>diff</th>\n",
       "    </tr>\n",
       "  </thead>\n",
       "  <tbody>\n",
       "    <tr>\n",
       "      <th>2</th>\n",
       "      <td>Decision Tree</td>\n",
       "      <td>0.994205</td>\n",
       "      <td>0.958981</td>\n",
       "      <td>0.035224</td>\n",
       "    </tr>\n",
       "    <tr>\n",
       "      <th>3</th>\n",
       "      <td>Random Forest</td>\n",
       "      <td>0.989825</td>\n",
       "      <td>0.969631</td>\n",
       "      <td>0.020194</td>\n",
       "    </tr>\n",
       "    <tr>\n",
       "      <th>1</th>\n",
       "      <td>KNN</td>\n",
       "      <td>0.977169</td>\n",
       "      <td>0.974262</td>\n",
       "      <td>0.002907</td>\n",
       "    </tr>\n",
       "    <tr>\n",
       "      <th>6</th>\n",
       "      <td>GBR</td>\n",
       "      <td>0.975853</td>\n",
       "      <td>0.977575</td>\n",
       "      <td>-0.001721</td>\n",
       "    </tr>\n",
       "    <tr>\n",
       "      <th>5</th>\n",
       "      <td>Linear Regression</td>\n",
       "      <td>0.972135</td>\n",
       "      <td>0.978245</td>\n",
       "      <td>-0.006110</td>\n",
       "    </tr>\n",
       "    <tr>\n",
       "      <th>4</th>\n",
       "      <td>MLP</td>\n",
       "      <td>0.972053</td>\n",
       "      <td>0.978028</td>\n",
       "      <td>-0.005976</td>\n",
       "    </tr>\n",
       "    <tr>\n",
       "      <th>0</th>\n",
       "      <td>SVR</td>\n",
       "      <td>0.924549</td>\n",
       "      <td>0.919645</td>\n",
       "      <td>0.004904</td>\n",
       "    </tr>\n",
       "  </tbody>\n",
       "</table>\n",
       "</div>"
      ],
      "text/plain": [
       "           regressor  training      test      diff\n",
       "2      Decision Tree  0.994205  0.958981  0.035224\n",
       "3      Random Forest  0.989825  0.969631  0.020194\n",
       "1                KNN  0.977169  0.974262  0.002907\n",
       "6                GBR  0.975853  0.977575 -0.001721\n",
       "5  Linear Regression  0.972135  0.978245 -0.006110\n",
       "4                MLP  0.972053  0.978028 -0.005976\n",
       "0                SVR  0.924549  0.919645  0.004904"
      ]
     },
     "execution_count": 20,
     "metadata": {
      "tags": []
     },
     "output_type": "execute_result"
    }
   ],
   "source": [
    "# Display the summary of r2 scores for all the models\n",
    "# dataframe to store the summary of scores\n",
    "summary_scores = pd.DataFrame(models_r2_scores)\n",
    "\n",
    "# Create new column to find difference in r2 scores of models on training set vs test set\n",
    "summary_scores[\"diff\"] = summary_scores[\"training\"] - summary_scores[\"test\"]\n",
    "summary_scores.sort_values([\"training\"], ascending=False)"
   ]
  },
  {
   "cell_type": "markdown",
   "metadata": {
    "id": "rnAT0uvV49vt"
   },
   "source": [
    "All the models seem to be good predictors with above 0.90 training and test accuracies, however the difference between the training and test scores were the smallest for the GBR, which suggest that this model would be the  best generaliser hence we would use that model as our final one"
   ]
  },
  {
   "cell_type": "markdown",
   "metadata": {
    "id": "mGEImN49Cr_y"
   },
   "source": [
    "Let's see the predictions of demands made by the GBR"
   ]
  },
  {
   "cell_type": "code",
   "execution_count": 54,
   "metadata": {
    "id": "uE-bBYob7aLW"
   },
   "outputs": [],
   "source": [
    "# load the saved model\n",
    "import pickle\n",
    "gbr_model = pickle.loads(open(\"./time_series_gbr.pkl\", \"rb\").read())"
   ]
  },
  {
   "cell_type": "code",
   "execution_count": 55,
   "metadata": {
    "id": "LuckXiFqwAT1"
   },
   "outputs": [],
   "source": [
    "# get all the predictions of demand by GBR\n",
    "preds = gbr_model.predict(high_demand_geohash[\"demand\"].values.reshape(-1, 1))"
   ]
  },
  {
   "cell_type": "code",
   "execution_count": 56,
   "metadata": {
    "id": "UTMkJ8xEwocT"
   },
   "outputs": [],
   "source": [
    "# add the predictions to the high demand geohash\n",
    "high_demand_geohash[\"preds\"] = pd.Series(preds).shift()"
   ]
  },
  {
   "cell_type": "code",
   "execution_count": 57,
   "metadata": {
    "colab": {
     "base_uri": "https://localhost:8080/",
     "height": 404
    },
    "id": "wHe1RqgJxdgy",
    "outputId": "2c95c1dd-9635-494d-a303-42b856c17da8"
   },
   "outputs": [
    {
     "data": {
      "text/html": [
       "<div>\n",
       "<style scoped>\n",
       "    .dataframe tbody tr th:only-of-type {\n",
       "        vertical-align: middle;\n",
       "    }\n",
       "\n",
       "    .dataframe tbody tr th {\n",
       "        vertical-align: top;\n",
       "    }\n",
       "\n",
       "    .dataframe thead th {\n",
       "        text-align: right;\n",
       "    }\n",
       "</style>\n",
       "<table border=\"1\" class=\"dataframe\">\n",
       "  <thead>\n",
       "    <tr style=\"text-align: right;\">\n",
       "      <th></th>\n",
       "      <th>geohash6</th>\n",
       "      <th>day</th>\n",
       "      <th>timestamp</th>\n",
       "      <th>demand</th>\n",
       "      <th>lon</th>\n",
       "      <th>lat</th>\n",
       "      <th>preds</th>\n",
       "    </tr>\n",
       "  </thead>\n",
       "  <tbody>\n",
       "    <tr>\n",
       "      <th>0</th>\n",
       "      <td>qp03xx</td>\n",
       "      <td>1</td>\n",
       "      <td>00:00</td>\n",
       "      <td>0.320478</td>\n",
       "      <td>90.686646</td>\n",
       "      <td>-5.320129</td>\n",
       "      <td>NaN</td>\n",
       "    </tr>\n",
       "    <tr>\n",
       "      <th>1</th>\n",
       "      <td>qp03xx</td>\n",
       "      <td>1</td>\n",
       "      <td>00:15</td>\n",
       "      <td>0.351964</td>\n",
       "      <td>90.686646</td>\n",
       "      <td>-5.320129</td>\n",
       "      <td>0.316166</td>\n",
       "    </tr>\n",
       "    <tr>\n",
       "      <th>2</th>\n",
       "      <td>qp03xx</td>\n",
       "      <td>1</td>\n",
       "      <td>00:30</td>\n",
       "      <td>0.386225</td>\n",
       "      <td>90.686646</td>\n",
       "      <td>-5.320129</td>\n",
       "      <td>0.345264</td>\n",
       "    </tr>\n",
       "    <tr>\n",
       "      <th>3</th>\n",
       "      <td>qp03xx</td>\n",
       "      <td>1</td>\n",
       "      <td>00:45</td>\n",
       "      <td>0.357434</td>\n",
       "      <td>90.686646</td>\n",
       "      <td>-5.320129</td>\n",
       "      <td>0.390756</td>\n",
       "    </tr>\n",
       "    <tr>\n",
       "      <th>4</th>\n",
       "      <td>qp03xx</td>\n",
       "      <td>1</td>\n",
       "      <td>01:00</td>\n",
       "      <td>0.376079</td>\n",
       "      <td>90.686646</td>\n",
       "      <td>-5.320129</td>\n",
       "      <td>0.367595</td>\n",
       "    </tr>\n",
       "    <tr>\n",
       "      <th>...</th>\n",
       "      <td>...</td>\n",
       "      <td>...</td>\n",
       "      <td>...</td>\n",
       "      <td>...</td>\n",
       "      <td>...</td>\n",
       "      <td>...</td>\n",
       "      <td>...</td>\n",
       "    </tr>\n",
       "    <tr>\n",
       "      <th>5851</th>\n",
       "      <td>qp03xx</td>\n",
       "      <td>61</td>\n",
       "      <td>22:45</td>\n",
       "      <td>0.188155</td>\n",
       "      <td>90.686646</td>\n",
       "      <td>-5.320129</td>\n",
       "      <td>0.193616</td>\n",
       "    </tr>\n",
       "    <tr>\n",
       "      <th>5852</th>\n",
       "      <td>qp03xx</td>\n",
       "      <td>61</td>\n",
       "      <td>23:00</td>\n",
       "      <td>0.167299</td>\n",
       "      <td>90.686646</td>\n",
       "      <td>-5.320129</td>\n",
       "      <td>0.193616</td>\n",
       "    </tr>\n",
       "    <tr>\n",
       "      <th>5853</th>\n",
       "      <td>qp03xx</td>\n",
       "      <td>61</td>\n",
       "      <td>23:15</td>\n",
       "      <td>0.181768</td>\n",
       "      <td>90.686646</td>\n",
       "      <td>-5.320129</td>\n",
       "      <td>0.170722</td>\n",
       "    </tr>\n",
       "    <tr>\n",
       "      <th>5854</th>\n",
       "      <td>qp03xx</td>\n",
       "      <td>61</td>\n",
       "      <td>23:30</td>\n",
       "      <td>0.230112</td>\n",
       "      <td>90.686646</td>\n",
       "      <td>-5.320129</td>\n",
       "      <td>0.187587</td>\n",
       "    </tr>\n",
       "    <tr>\n",
       "      <th>5855</th>\n",
       "      <td>qp03xx</td>\n",
       "      <td>61</td>\n",
       "      <td>23:45</td>\n",
       "      <td>0.212988</td>\n",
       "      <td>90.686646</td>\n",
       "      <td>-5.320129</td>\n",
       "      <td>0.237032</td>\n",
       "    </tr>\n",
       "  </tbody>\n",
       "</table>\n",
       "<p>5856 rows × 7 columns</p>\n",
       "</div>"
      ],
      "text/plain": [
       "     geohash6  day timestamp    demand        lon       lat     preds\n",
       "0      qp03xx    1     00:00  0.320478  90.686646 -5.320129       NaN\n",
       "1      qp03xx    1     00:15  0.351964  90.686646 -5.320129  0.316166\n",
       "2      qp03xx    1     00:30  0.386225  90.686646 -5.320129  0.345264\n",
       "3      qp03xx    1     00:45  0.357434  90.686646 -5.320129  0.390756\n",
       "4      qp03xx    1     01:00  0.376079  90.686646 -5.320129  0.367595\n",
       "...       ...  ...       ...       ...        ...       ...       ...\n",
       "5851   qp03xx   61     22:45  0.188155  90.686646 -5.320129  0.193616\n",
       "5852   qp03xx   61     23:00  0.167299  90.686646 -5.320129  0.193616\n",
       "5853   qp03xx   61     23:15  0.181768  90.686646 -5.320129  0.170722\n",
       "5854   qp03xx   61     23:30  0.230112  90.686646 -5.320129  0.187587\n",
       "5855   qp03xx   61     23:45  0.212988  90.686646 -5.320129  0.237032\n",
       "\n",
       "[5856 rows x 7 columns]"
      ]
     },
     "execution_count": 57,
     "metadata": {
      "tags": []
     },
     "output_type": "execute_result"
    }
   ],
   "source": [
    "high_demand_geohash"
   ]
  },
  {
   "cell_type": "code",
   "execution_count": 58,
   "metadata": {
    "colab": {
     "base_uri": "https://localhost:8080/",
     "height": 158
    },
    "id": "obBGqatl1U_P",
    "outputId": "efe59fd7-3fd1-4022-ddf5-0e82752f4325"
   },
   "outputs": [
    {
     "data": {
      "image/png": "[encoded data removed]",
      "text/plain": [
       "<Figure size 1440x216 with 1 Axes>"
      ]
     },
     "metadata": {
      "needs_background": "light",
      "tags": []
     },
     "output_type": "display_data"
    }
   ],
   "source": [
    "plt.figure(figsize=(20, 3))\n",
    "ax = sns.lineplot(x=np.arange(0, len(high_demand_geohash)), y=\"demand\", data=high_demand_geohash)\n",
    "# ax.set_xticklabels(ax.get_xticklabels())\n",
    "# adding the title\n",
    "plt.title(\"Actual Demand over time\", fontsize=20)\n",
    "# adding x/y labels\n",
    "plt.xlabel(\"Time\", fontsize=16)\n",
    "plt.ylabel(\"Demand\", fontsize=16)\n",
    "plt.tight_layout()\n",
    "plt.show()"
   ]
  },
  {
   "cell_type": "code",
   "execution_count": 59,
   "metadata": {
    "colab": {
     "base_uri": "https://localhost:8080/",
     "height": 158
    },
    "id": "NiOJaxRD30kg",
    "outputId": "47932415-5ded-4b96-993f-c149c4e5dd2c"
   },
   "outputs": [
    {
     "data": {
      "image/png": "[encoded data removed]",
      "text/plain": [
       "<Figure size 1440x216 with 1 Axes>"
      ]
     },
     "metadata": {
      "needs_background": "light",
      "tags": []
     },
     "output_type": "display_data"
    }
   ],
   "source": [
    "plt.figure(figsize=(20, 3))\n",
    "ax = sns.lineplot(x=np.arange(0, len(high_demand_geohash)), y=\"preds\", data=high_demand_geohash)\n",
    "# ax.set_xticklabels(ax.get_xticklabels())\n",
    "# adding the title\n",
    "plt.title(\"Prediction of Demand over time\", fontsize=20)\n",
    "# adding x/y labels\n",
    "plt.xlabel(\"Time\", fontsize=16)\n",
    "plt.ylabel(\"Demand\", fontsize=16)\n",
    "plt.tight_layout()\n",
    "plt.show()"
   ]
  },
  {
   "cell_type": "markdown",
   "metadata": {
    "id": "Xs2qgo0i9PWY"
   },
   "source": [
    "From the graphs, the GBR seems to predict / forecast all the demand over time almost exactly like the actual demand"
   ]
  },
  {
   "cell_type": "markdown",
   "metadata": {
    "id": "RAVpxk4W_tvv"
   },
   "source": [
    "Let's test the GBR out by giving it the demand of another geohash"
   ]
  },
  {
   "cell_type": "code",
   "execution_count": 60,
   "metadata": {
    "id": "VxBee5-MA8e5"
   },
   "outputs": [],
   "source": [
    "high_demand_geohash_2 = region1[region1[\"geohash6\"] == \"qp03w1\"]\n",
    "\n",
    "# sort the values by day and timestamp\n",
    "high_demand_geohash_2 = high_demand_geohash_2.sort_values([\"day\", \"timestamp\"],ascending=True)"
   ]
  },
  {
   "cell_type": "code",
   "execution_count": 61,
   "metadata": {
    "colab": {
     "base_uri": "https://localhost:8080/",
     "height": 404
    },
    "id": "jRM3YEuzA8e5",
    "outputId": "2e8ad5cf-de15-42e3-d6df-ba6f36932b2c"
   },
   "outputs": [
    {
     "data": {
      "text/html": [
       "<div>\n",
       "<style scoped>\n",
       "    .dataframe tbody tr th:only-of-type {\n",
       "        vertical-align: middle;\n",
       "    }\n",
       "\n",
       "    .dataframe tbody tr th {\n",
       "        vertical-align: top;\n",
       "    }\n",
       "\n",
       "    .dataframe thead th {\n",
       "        text-align: right;\n",
       "    }\n",
       "</style>\n",
       "<table border=\"1\" class=\"dataframe\">\n",
       "  <thead>\n",
       "    <tr style=\"text-align: right;\">\n",
       "      <th></th>\n",
       "      <th>geohash6</th>\n",
       "      <th>day</th>\n",
       "      <th>timestamp</th>\n",
       "      <th>demand</th>\n",
       "      <th>lon</th>\n",
       "      <th>lat</th>\n",
       "    </tr>\n",
       "  </thead>\n",
       "  <tbody>\n",
       "    <tr>\n",
       "      <th>2090685</th>\n",
       "      <td>qp03w1</td>\n",
       "      <td>1</td>\n",
       "      <td>00:00:00</td>\n",
       "      <td>0.047240</td>\n",
       "      <td>90.620728</td>\n",
       "      <td>-5.353088</td>\n",
       "    </tr>\n",
       "    <tr>\n",
       "      <th>2090616</th>\n",
       "      <td>qp03w1</td>\n",
       "      <td>1</td>\n",
       "      <td>00:15:00</td>\n",
       "      <td>0.084070</td>\n",
       "      <td>90.620728</td>\n",
       "      <td>-5.353088</td>\n",
       "    </tr>\n",
       "    <tr>\n",
       "      <th>2090637</th>\n",
       "      <td>qp03w1</td>\n",
       "      <td>1</td>\n",
       "      <td>00:30:00</td>\n",
       "      <td>0.081307</td>\n",
       "      <td>90.620728</td>\n",
       "      <td>-5.353088</td>\n",
       "    </tr>\n",
       "    <tr>\n",
       "      <th>2090648</th>\n",
       "      <td>qp03w1</td>\n",
       "      <td>1</td>\n",
       "      <td>00:45:00</td>\n",
       "      <td>0.074663</td>\n",
       "      <td>90.620728</td>\n",
       "      <td>-5.353088</td>\n",
       "    </tr>\n",
       "    <tr>\n",
       "      <th>2090670</th>\n",
       "      <td>qp03w1</td>\n",
       "      <td>1</td>\n",
       "      <td>01:00:00</td>\n",
       "      <td>0.071727</td>\n",
       "      <td>90.620728</td>\n",
       "      <td>-5.353088</td>\n",
       "    </tr>\n",
       "    <tr>\n",
       "      <th>...</th>\n",
       "      <td>...</td>\n",
       "      <td>...</td>\n",
       "      <td>...</td>\n",
       "      <td>...</td>\n",
       "      <td>...</td>\n",
       "      <td>...</td>\n",
       "    </tr>\n",
       "    <tr>\n",
       "      <th>2096395</th>\n",
       "      <td>qp03w1</td>\n",
       "      <td>61</td>\n",
       "      <td>22:45:00</td>\n",
       "      <td>0.036728</td>\n",
       "      <td>90.620728</td>\n",
       "      <td>-5.353088</td>\n",
       "    </tr>\n",
       "    <tr>\n",
       "      <th>2096427</th>\n",
       "      <td>qp03w1</td>\n",
       "      <td>61</td>\n",
       "      <td>23:00:00</td>\n",
       "      <td>0.047324</td>\n",
       "      <td>90.620728</td>\n",
       "      <td>-5.353088</td>\n",
       "    </tr>\n",
       "    <tr>\n",
       "      <th>2096418</th>\n",
       "      <td>qp03w1</td>\n",
       "      <td>61</td>\n",
       "      <td>23:15:00</td>\n",
       "      <td>0.050498</td>\n",
       "      <td>90.620728</td>\n",
       "      <td>-5.353088</td>\n",
       "    </tr>\n",
       "    <tr>\n",
       "      <th>2096406</th>\n",
       "      <td>qp03w1</td>\n",
       "      <td>61</td>\n",
       "      <td>23:30:00</td>\n",
       "      <td>0.049589</td>\n",
       "      <td>90.620728</td>\n",
       "      <td>-5.353088</td>\n",
       "    </tr>\n",
       "    <tr>\n",
       "      <th>2096365</th>\n",
       "      <td>qp03w1</td>\n",
       "      <td>61</td>\n",
       "      <td>23:45:00</td>\n",
       "      <td>0.043132</td>\n",
       "      <td>90.620728</td>\n",
       "      <td>-5.353088</td>\n",
       "    </tr>\n",
       "  </tbody>\n",
       "</table>\n",
       "<p>5856 rows × 6 columns</p>\n",
       "</div>"
      ],
      "text/plain": [
       "        geohash6  day timestamp    demand        lon       lat\n",
       "2090685   qp03w1    1  00:00:00  0.047240  90.620728 -5.353088\n",
       "2090616   qp03w1    1  00:15:00  0.084070  90.620728 -5.353088\n",
       "2090637   qp03w1    1  00:30:00  0.081307  90.620728 -5.353088\n",
       "2090648   qp03w1    1  00:45:00  0.074663  90.620728 -5.353088\n",
       "2090670   qp03w1    1  01:00:00  0.071727  90.620728 -5.353088\n",
       "...          ...  ...       ...       ...        ...       ...\n",
       "2096395   qp03w1   61  22:45:00  0.036728  90.620728 -5.353088\n",
       "2096427   qp03w1   61  23:00:00  0.047324  90.620728 -5.353088\n",
       "2096418   qp03w1   61  23:15:00  0.050498  90.620728 -5.353088\n",
       "2096406   qp03w1   61  23:30:00  0.049589  90.620728 -5.353088\n",
       "2096365   qp03w1   61  23:45:00  0.043132  90.620728 -5.353088\n",
       "\n",
       "[5856 rows x 6 columns]"
      ]
     },
     "execution_count": 61,
     "metadata": {
      "tags": []
     },
     "output_type": "execute_result"
    }
   ],
   "source": [
    "high_demand_geohash_2"
   ]
  },
  {
   "cell_type": "code",
   "execution_count": 62,
   "metadata": {
    "colab": {
     "base_uri": "https://localhost:8080/",
     "height": 404
    },
    "id": "sMJboXcAA8e7",
    "outputId": "8a8d8852-4b66-45a2-a025-5e51a7bf360c"
   },
   "outputs": [
    {
     "data": {
      "text/html": [
       "<div>\n",
       "<style scoped>\n",
       "    .dataframe tbody tr th:only-of-type {\n",
       "        vertical-align: middle;\n",
       "    }\n",
       "\n",
       "    .dataframe tbody tr th {\n",
       "        vertical-align: top;\n",
       "    }\n",
       "\n",
       "    .dataframe thead th {\n",
       "        text-align: right;\n",
       "    }\n",
       "</style>\n",
       "<table border=\"1\" class=\"dataframe\">\n",
       "  <thead>\n",
       "    <tr style=\"text-align: right;\">\n",
       "      <th></th>\n",
       "      <th>geohash6</th>\n",
       "      <th>day</th>\n",
       "      <th>timestamp</th>\n",
       "      <th>demand</th>\n",
       "      <th>lon</th>\n",
       "      <th>lat</th>\n",
       "    </tr>\n",
       "  </thead>\n",
       "  <tbody>\n",
       "    <tr>\n",
       "      <th>0</th>\n",
       "      <td>qp03w1</td>\n",
       "      <td>1</td>\n",
       "      <td>00:00</td>\n",
       "      <td>0.047240</td>\n",
       "      <td>90.620728</td>\n",
       "      <td>-5.353088</td>\n",
       "    </tr>\n",
       "    <tr>\n",
       "      <th>1</th>\n",
       "      <td>qp03w1</td>\n",
       "      <td>1</td>\n",
       "      <td>00:15</td>\n",
       "      <td>0.084070</td>\n",
       "      <td>90.620728</td>\n",
       "      <td>-5.353088</td>\n",
       "    </tr>\n",
       "    <tr>\n",
       "      <th>2</th>\n",
       "      <td>qp03w1</td>\n",
       "      <td>1</td>\n",
       "      <td>00:30</td>\n",
       "      <td>0.081307</td>\n",
       "      <td>90.620728</td>\n",
       "      <td>-5.353088</td>\n",
       "    </tr>\n",
       "    <tr>\n",
       "      <th>3</th>\n",
       "      <td>qp03w1</td>\n",
       "      <td>1</td>\n",
       "      <td>00:45</td>\n",
       "      <td>0.074663</td>\n",
       "      <td>90.620728</td>\n",
       "      <td>-5.353088</td>\n",
       "    </tr>\n",
       "    <tr>\n",
       "      <th>4</th>\n",
       "      <td>qp03w1</td>\n",
       "      <td>1</td>\n",
       "      <td>01:00</td>\n",
       "      <td>0.071727</td>\n",
       "      <td>90.620728</td>\n",
       "      <td>-5.353088</td>\n",
       "    </tr>\n",
       "    <tr>\n",
       "      <th>...</th>\n",
       "      <td>...</td>\n",
       "      <td>...</td>\n",
       "      <td>...</td>\n",
       "      <td>...</td>\n",
       "      <td>...</td>\n",
       "      <td>...</td>\n",
       "    </tr>\n",
       "    <tr>\n",
       "      <th>5851</th>\n",
       "      <td>qp03w1</td>\n",
       "      <td>61</td>\n",
       "      <td>22:45</td>\n",
       "      <td>0.036728</td>\n",
       "      <td>90.620728</td>\n",
       "      <td>-5.353088</td>\n",
       "    </tr>\n",
       "    <tr>\n",
       "      <th>5852</th>\n",
       "      <td>qp03w1</td>\n",
       "      <td>61</td>\n",
       "      <td>23:00</td>\n",
       "      <td>0.047324</td>\n",
       "      <td>90.620728</td>\n",
       "      <td>-5.353088</td>\n",
       "    </tr>\n",
       "    <tr>\n",
       "      <th>5853</th>\n",
       "      <td>qp03w1</td>\n",
       "      <td>61</td>\n",
       "      <td>23:15</td>\n",
       "      <td>0.050498</td>\n",
       "      <td>90.620728</td>\n",
       "      <td>-5.353088</td>\n",
       "    </tr>\n",
       "    <tr>\n",
       "      <th>5854</th>\n",
       "      <td>qp03w1</td>\n",
       "      <td>61</td>\n",
       "      <td>23:30</td>\n",
       "      <td>0.049589</td>\n",
       "      <td>90.620728</td>\n",
       "      <td>-5.353088</td>\n",
       "    </tr>\n",
       "    <tr>\n",
       "      <th>5855</th>\n",
       "      <td>qp03w1</td>\n",
       "      <td>61</td>\n",
       "      <td>23:45</td>\n",
       "      <td>0.043132</td>\n",
       "      <td>90.620728</td>\n",
       "      <td>-5.353088</td>\n",
       "    </tr>\n",
       "  </tbody>\n",
       "</table>\n",
       "<p>5856 rows × 6 columns</p>\n",
       "</div>"
      ],
      "text/plain": [
       "     geohash6  day timestamp    demand        lon       lat\n",
       "0      qp03w1    1     00:00  0.047240  90.620728 -5.353088\n",
       "1      qp03w1    1     00:15  0.084070  90.620728 -5.353088\n",
       "2      qp03w1    1     00:30  0.081307  90.620728 -5.353088\n",
       "3      qp03w1    1     00:45  0.074663  90.620728 -5.353088\n",
       "4      qp03w1    1     01:00  0.071727  90.620728 -5.353088\n",
       "...       ...  ...       ...       ...        ...       ...\n",
       "5851   qp03w1   61     22:45  0.036728  90.620728 -5.353088\n",
       "5852   qp03w1   61     23:00  0.047324  90.620728 -5.353088\n",
       "5853   qp03w1   61     23:15  0.050498  90.620728 -5.353088\n",
       "5854   qp03w1   61     23:30  0.049589  90.620728 -5.353088\n",
       "5855   qp03w1   61     23:45  0.043132  90.620728 -5.353088\n",
       "\n",
       "[5856 rows x 6 columns]"
      ]
     },
     "execution_count": 62,
     "metadata": {
      "tags": []
     },
     "output_type": "execute_result"
    }
   ],
   "source": [
    "high_demand_geohash_2[\"timestamp\"] = high_demand_geohash_2[\"timestamp\"].apply(lambda x: x.strftime('%H:%M'))\n",
    "high_demand_geohash_2.index = np.arange(0, len(high_demand_geohash_2))\n",
    "high_demand_geohash_2"
   ]
  },
  {
   "cell_type": "code",
   "execution_count": 63,
   "metadata": {
    "id": "pYhUqcKfA8e8"
   },
   "outputs": [],
   "source": [
    "# get all the predictions of demand by GBR\n",
    "preds_2 = gbr_model.predict(high_demand_geohash_2[\"demand\"].values.reshape(-1, 1))"
   ]
  },
  {
   "cell_type": "code",
   "execution_count": 64,
   "metadata": {
    "id": "qjLx0tDVA8e8"
   },
   "outputs": [],
   "source": [
    "# add the predictions to the high demand geohash\n",
    "high_demand_geohash_2[\"preds\"] = pd.Series(preds_2).shift()"
   ]
  },
  {
   "cell_type": "code",
   "execution_count": 65,
   "metadata": {
    "colab": {
     "base_uri": "https://localhost:8080/",
     "height": 404
    },
    "id": "9bxP6EjyA8e8",
    "outputId": "3d1abefe-b189-44d8-976e-6cdef42bc91a"
   },
   "outputs": [
    {
     "data": {
      "text/html": [
       "<div>\n",
       "<style scoped>\n",
       "    .dataframe tbody tr th:only-of-type {\n",
       "        vertical-align: middle;\n",
       "    }\n",
       "\n",
       "    .dataframe tbody tr th {\n",
       "        vertical-align: top;\n",
       "    }\n",
       "\n",
       "    .dataframe thead th {\n",
       "        text-align: right;\n",
       "    }\n",
       "</style>\n",
       "<table border=\"1\" class=\"dataframe\">\n",
       "  <thead>\n",
       "    <tr style=\"text-align: right;\">\n",
       "      <th></th>\n",
       "      <th>geohash6</th>\n",
       "      <th>day</th>\n",
       "      <th>timestamp</th>\n",
       "      <th>demand</th>\n",
       "      <th>lon</th>\n",
       "      <th>lat</th>\n",
       "      <th>preds</th>\n",
       "    </tr>\n",
       "  </thead>\n",
       "  <tbody>\n",
       "    <tr>\n",
       "      <th>0</th>\n",
       "      <td>qp03w1</td>\n",
       "      <td>1</td>\n",
       "      <td>00:00</td>\n",
       "      <td>0.047240</td>\n",
       "      <td>90.620728</td>\n",
       "      <td>-5.353088</td>\n",
       "      <td>NaN</td>\n",
       "    </tr>\n",
       "    <tr>\n",
       "      <th>1</th>\n",
       "      <td>qp03w1</td>\n",
       "      <td>1</td>\n",
       "      <td>00:15</td>\n",
       "      <td>0.084070</td>\n",
       "      <td>90.620728</td>\n",
       "      <td>-5.353088</td>\n",
       "      <td>0.051142</td>\n",
       "    </tr>\n",
       "    <tr>\n",
       "      <th>2</th>\n",
       "      <td>qp03w1</td>\n",
       "      <td>1</td>\n",
       "      <td>00:30</td>\n",
       "      <td>0.081307</td>\n",
       "      <td>90.620728</td>\n",
       "      <td>-5.353088</td>\n",
       "      <td>0.088871</td>\n",
       "    </tr>\n",
       "    <tr>\n",
       "      <th>3</th>\n",
       "      <td>qp03w1</td>\n",
       "      <td>1</td>\n",
       "      <td>00:45</td>\n",
       "      <td>0.074663</td>\n",
       "      <td>90.620728</td>\n",
       "      <td>-5.353088</td>\n",
       "      <td>0.088080</td>\n",
       "    </tr>\n",
       "    <tr>\n",
       "      <th>4</th>\n",
       "      <td>qp03w1</td>\n",
       "      <td>1</td>\n",
       "      <td>01:00</td>\n",
       "      <td>0.071727</td>\n",
       "      <td>90.620728</td>\n",
       "      <td>-5.353088</td>\n",
       "      <td>0.081531</td>\n",
       "    </tr>\n",
       "    <tr>\n",
       "      <th>...</th>\n",
       "      <td>...</td>\n",
       "      <td>...</td>\n",
       "      <td>...</td>\n",
       "      <td>...</td>\n",
       "      <td>...</td>\n",
       "      <td>...</td>\n",
       "      <td>...</td>\n",
       "    </tr>\n",
       "    <tr>\n",
       "      <th>5851</th>\n",
       "      <td>qp03w1</td>\n",
       "      <td>61</td>\n",
       "      <td>22:45</td>\n",
       "      <td>0.036728</td>\n",
       "      <td>90.620728</td>\n",
       "      <td>-5.353088</td>\n",
       "      <td>0.043379</td>\n",
       "    </tr>\n",
       "    <tr>\n",
       "      <th>5852</th>\n",
       "      <td>qp03w1</td>\n",
       "      <td>61</td>\n",
       "      <td>23:00</td>\n",
       "      <td>0.047324</td>\n",
       "      <td>90.620728</td>\n",
       "      <td>-5.353088</td>\n",
       "      <td>0.052285</td>\n",
       "    </tr>\n",
       "    <tr>\n",
       "      <th>5853</th>\n",
       "      <td>qp03w1</td>\n",
       "      <td>61</td>\n",
       "      <td>23:15</td>\n",
       "      <td>0.050498</td>\n",
       "      <td>90.620728</td>\n",
       "      <td>-5.353088</td>\n",
       "      <td>0.051142</td>\n",
       "    </tr>\n",
       "    <tr>\n",
       "      <th>5854</th>\n",
       "      <td>qp03w1</td>\n",
       "      <td>61</td>\n",
       "      <td>23:30</td>\n",
       "      <td>0.049589</td>\n",
       "      <td>90.620728</td>\n",
       "      <td>-5.353088</td>\n",
       "      <td>0.063476</td>\n",
       "    </tr>\n",
       "    <tr>\n",
       "      <th>5855</th>\n",
       "      <td>qp03w1</td>\n",
       "      <td>61</td>\n",
       "      <td>23:45</td>\n",
       "      <td>0.043132</td>\n",
       "      <td>90.620728</td>\n",
       "      <td>-5.353088</td>\n",
       "      <td>0.063476</td>\n",
       "    </tr>\n",
       "  </tbody>\n",
       "</table>\n",
       "<p>5856 rows × 7 columns</p>\n",
       "</div>"
      ],
      "text/plain": [
       "     geohash6  day timestamp    demand        lon       lat     preds\n",
       "0      qp03w1    1     00:00  0.047240  90.620728 -5.353088       NaN\n",
       "1      qp03w1    1     00:15  0.084070  90.620728 -5.353088  0.051142\n",
       "2      qp03w1    1     00:30  0.081307  90.620728 -5.353088  0.088871\n",
       "3      qp03w1    1     00:45  0.074663  90.620728 -5.353088  0.088080\n",
       "4      qp03w1    1     01:00  0.071727  90.620728 -5.353088  0.081531\n",
       "...       ...  ...       ...       ...        ...       ...       ...\n",
       "5851   qp03w1   61     22:45  0.036728  90.620728 -5.353088  0.043379\n",
       "5852   qp03w1   61     23:00  0.047324  90.620728 -5.353088  0.052285\n",
       "5853   qp03w1   61     23:15  0.050498  90.620728 -5.353088  0.051142\n",
       "5854   qp03w1   61     23:30  0.049589  90.620728 -5.353088  0.063476\n",
       "5855   qp03w1   61     23:45  0.043132  90.620728 -5.353088  0.063476\n",
       "\n",
       "[5856 rows x 7 columns]"
      ]
     },
     "execution_count": 65,
     "metadata": {
      "tags": []
     },
     "output_type": "execute_result"
    }
   ],
   "source": [
    "high_demand_geohash_2"
   ]
  },
  {
   "cell_type": "code",
   "execution_count": 88,
   "metadata": {
    "colab": {
     "base_uri": "https://localhost:8080/",
     "height": 257
    },
    "id": "EzjylylfA8e8",
    "outputId": "47459a6d-b8b3-4093-b997-1494e3d5002a"
   },
   "outputs": [
    {
     "data": {
      "image/png": "[encoded data removed]",
      "text/plain": [
       "<Figure size 1440x360 with 1 Axes>"
      ]
     },
     "metadata": {
      "needs_background": "light",
      "tags": []
     },
     "output_type": "display_data"
    }
   ],
   "source": [
    "plt.figure(figsize=(20, 5))\n",
    "ax = sns.lineplot(x=np.arange(0, len(high_demand_geohash_2)), y=\"demand\", data=high_demand_geohash_2)\n",
    "# adding the title\n",
    "plt.title(\"Actual Demand over time\", fontsize=20)\n",
    "# adding x/y labels\n",
    "plt.xlabel(\"Time\", fontsize=16)\n",
    "plt.ylabel(\"Demand\", fontsize=16)\n",
    "plt.tight_layout()\n",
    "plt.show()"
   ]
  },
  {
   "cell_type": "code",
   "execution_count": 67,
   "metadata": {
    "colab": {
     "base_uri": "https://localhost:8080/",
     "height": 257
    },
    "id": "h1qRqMebA8e8",
    "outputId": "cd2295b4-81b0-4768-fef1-0aff3e53650d"
   },
   "outputs": [
    {
     "data": {
      "image/png": "[encoded data removed]",
      "text/plain": [
       "<Figure size 1440x360 with 1 Axes>"
      ]
     },
     "metadata": {
      "needs_background": "light",
      "tags": []
     },
     "output_type": "display_data"
    }
   ],
   "source": [
    "plt.figure(figsize=(20, 5))\n",
    "ax = sns.lineplot(x=np.arange(0, len(high_demand_geohash_2)), y=\"preds\", data=high_demand_geohash_2)\n",
    "# adding the title\n",
    "plt.title(\"Prediction of Demand over time\", fontsize=20)\n",
    "# adding x/y labels\n",
    "plt.xlabel(\"Time\", fontsize=16)\n",
    "plt.ylabel(\"Demand\", fontsize=16)\n",
    "plt.tight_layout()\n",
    "plt.show()"
   ]
  },
  {
   "cell_type": "markdown",
   "metadata": {
    "id": "6nVXkyFVrqa1"
   },
   "source": [
    "Again, the GBR seems to be accurately forecasting the time series of this geohash accurately. Let's see how the model would fare on a geohash with lower demand"
   ]
  },
  {
   "cell_type": "code",
   "execution_count": 68,
   "metadata": {
    "id": "8AldS6mfIHWU"
   },
   "outputs": [],
   "source": [
    "low_demand_geohash = training_data[training_data[\"geohash6\"] == \"qp03qr\"]"
   ]
  },
  {
   "cell_type": "code",
   "execution_count": 69,
   "metadata": {
    "colab": {
     "base_uri": "https://localhost:8080/",
     "height": 404
    },
    "id": "JA_rqw8_IHWV",
    "outputId": "c7c39811-b6eb-4c11-a15c-4c6ba5607f55"
   },
   "outputs": [
    {
     "data": {
      "text/html": [
       "<div>\n",
       "<style scoped>\n",
       "    .dataframe tbody tr th:only-of-type {\n",
       "        vertical-align: middle;\n",
       "    }\n",
       "\n",
       "    .dataframe tbody tr th {\n",
       "        vertical-align: top;\n",
       "    }\n",
       "\n",
       "    .dataframe thead th {\n",
       "        text-align: right;\n",
       "    }\n",
       "</style>\n",
       "<table border=\"1\" class=\"dataframe\">\n",
       "  <thead>\n",
       "    <tr style=\"text-align: right;\">\n",
       "      <th></th>\n",
       "      <th>geohash6</th>\n",
       "      <th>day</th>\n",
       "      <th>timestamp</th>\n",
       "      <th>demand</th>\n",
       "      <th>lon</th>\n",
       "      <th>lat</th>\n",
       "    </tr>\n",
       "  </thead>\n",
       "  <tbody>\n",
       "    <tr>\n",
       "      <th>4772640</th>\n",
       "      <td>qp03qr</td>\n",
       "      <td>1</td>\n",
       "      <td>20:0</td>\n",
       "      <td>0.000000</td>\n",
       "      <td>90.631714</td>\n",
       "      <td>-5.364075</td>\n",
       "    </tr>\n",
       "    <tr>\n",
       "      <th>4772641</th>\n",
       "      <td>qp03qr</td>\n",
       "      <td>1</td>\n",
       "      <td>14:30</td>\n",
       "      <td>0.010191</td>\n",
       "      <td>90.631714</td>\n",
       "      <td>-5.364075</td>\n",
       "    </tr>\n",
       "    <tr>\n",
       "      <th>4772642</th>\n",
       "      <td>qp03qr</td>\n",
       "      <td>1</td>\n",
       "      <td>6:15</td>\n",
       "      <td>0.015597</td>\n",
       "      <td>90.631714</td>\n",
       "      <td>-5.364075</td>\n",
       "    </tr>\n",
       "    <tr>\n",
       "      <th>4772643</th>\n",
       "      <td>qp03qr</td>\n",
       "      <td>1</td>\n",
       "      <td>5:0</td>\n",
       "      <td>0.010706</td>\n",
       "      <td>90.631714</td>\n",
       "      <td>-5.364075</td>\n",
       "    </tr>\n",
       "    <tr>\n",
       "      <th>4772644</th>\n",
       "      <td>qp03qr</td>\n",
       "      <td>1</td>\n",
       "      <td>4:0</td>\n",
       "      <td>0.013161</td>\n",
       "      <td>90.631714</td>\n",
       "      <td>-5.364075</td>\n",
       "    </tr>\n",
       "    <tr>\n",
       "      <th>...</th>\n",
       "      <td>...</td>\n",
       "      <td>...</td>\n",
       "      <td>...</td>\n",
       "      <td>...</td>\n",
       "      <td>...</td>\n",
       "      <td>...</td>\n",
       "    </tr>\n",
       "    <tr>\n",
       "      <th>4778491</th>\n",
       "      <td>qp03qr</td>\n",
       "      <td>61</td>\n",
       "      <td>19:45</td>\n",
       "      <td>0.000000</td>\n",
       "      <td>90.631714</td>\n",
       "      <td>-5.364075</td>\n",
       "    </tr>\n",
       "    <tr>\n",
       "      <th>4778492</th>\n",
       "      <td>qp03qr</td>\n",
       "      <td>61</td>\n",
       "      <td>19:0</td>\n",
       "      <td>0.000000</td>\n",
       "      <td>90.631714</td>\n",
       "      <td>-5.364075</td>\n",
       "    </tr>\n",
       "    <tr>\n",
       "      <th>4778493</th>\n",
       "      <td>qp03qr</td>\n",
       "      <td>61</td>\n",
       "      <td>0:0</td>\n",
       "      <td>0.008734</td>\n",
       "      <td>90.631714</td>\n",
       "      <td>-5.364075</td>\n",
       "    </tr>\n",
       "    <tr>\n",
       "      <th>4778494</th>\n",
       "      <td>qp03qr</td>\n",
       "      <td>61</td>\n",
       "      <td>17:30</td>\n",
       "      <td>0.000000</td>\n",
       "      <td>90.631714</td>\n",
       "      <td>-5.364075</td>\n",
       "    </tr>\n",
       "    <tr>\n",
       "      <th>4778495</th>\n",
       "      <td>qp03qr</td>\n",
       "      <td>61</td>\n",
       "      <td>20:15</td>\n",
       "      <td>0.000000</td>\n",
       "      <td>90.631714</td>\n",
       "      <td>-5.364075</td>\n",
       "    </tr>\n",
       "  </tbody>\n",
       "</table>\n",
       "<p>5856 rows × 6 columns</p>\n",
       "</div>"
      ],
      "text/plain": [
       "        geohash6  day timestamp    demand        lon       lat\n",
       "4772640   qp03qr    1      20:0  0.000000  90.631714 -5.364075\n",
       "4772641   qp03qr    1     14:30  0.010191  90.631714 -5.364075\n",
       "4772642   qp03qr    1      6:15  0.015597  90.631714 -5.364075\n",
       "4772643   qp03qr    1       5:0  0.010706  90.631714 -5.364075\n",
       "4772644   qp03qr    1       4:0  0.013161  90.631714 -5.364075\n",
       "...          ...  ...       ...       ...        ...       ...\n",
       "4778491   qp03qr   61     19:45  0.000000  90.631714 -5.364075\n",
       "4778492   qp03qr   61      19:0  0.000000  90.631714 -5.364075\n",
       "4778493   qp03qr   61       0:0  0.008734  90.631714 -5.364075\n",
       "4778494   qp03qr   61     17:30  0.000000  90.631714 -5.364075\n",
       "4778495   qp03qr   61     20:15  0.000000  90.631714 -5.364075\n",
       "\n",
       "[5856 rows x 6 columns]"
      ]
     },
     "execution_count": 69,
     "metadata": {
      "tags": []
     },
     "output_type": "execute_result"
    }
   ],
   "source": [
    "low_demand_geohash"
   ]
  },
  {
   "cell_type": "code",
   "execution_count": 72,
   "metadata": {
    "colab": {
     "base_uri": "https://localhost:8080/",
     "height": 404
    },
    "id": "ujgPMccRcfsZ",
    "outputId": "3229a432-9e3d-48c7-d029-a9af59dbd995"
   },
   "outputs": [
    {
     "data": {
      "text/html": [
       "<div>\n",
       "<style scoped>\n",
       "    .dataframe tbody tr th:only-of-type {\n",
       "        vertical-align: middle;\n",
       "    }\n",
       "\n",
       "    .dataframe tbody tr th {\n",
       "        vertical-align: top;\n",
       "    }\n",
       "\n",
       "    .dataframe thead th {\n",
       "        text-align: right;\n",
       "    }\n",
       "</style>\n",
       "<table border=\"1\" class=\"dataframe\">\n",
       "  <thead>\n",
       "    <tr style=\"text-align: right;\">\n",
       "      <th></th>\n",
       "      <th>geohash6</th>\n",
       "      <th>day</th>\n",
       "      <th>timestamp</th>\n",
       "      <th>demand</th>\n",
       "      <th>lon</th>\n",
       "      <th>lat</th>\n",
       "    </tr>\n",
       "  </thead>\n",
       "  <tbody>\n",
       "    <tr>\n",
       "      <th>4772733</th>\n",
       "      <td>qp03qr</td>\n",
       "      <td>1</td>\n",
       "      <td>00:00:00</td>\n",
       "      <td>0.000000</td>\n",
       "      <td>90.631714</td>\n",
       "      <td>-5.364075</td>\n",
       "    </tr>\n",
       "    <tr>\n",
       "      <th>4772664</th>\n",
       "      <td>qp03qr</td>\n",
       "      <td>1</td>\n",
       "      <td>00:15:00</td>\n",
       "      <td>0.000000</td>\n",
       "      <td>90.631714</td>\n",
       "      <td>-5.364075</td>\n",
       "    </tr>\n",
       "    <tr>\n",
       "      <th>4772685</th>\n",
       "      <td>qp03qr</td>\n",
       "      <td>1</td>\n",
       "      <td>00:30:00</td>\n",
       "      <td>0.000000</td>\n",
       "      <td>90.631714</td>\n",
       "      <td>-5.364075</td>\n",
       "    </tr>\n",
       "    <tr>\n",
       "      <th>4772696</th>\n",
       "      <td>qp03qr</td>\n",
       "      <td>1</td>\n",
       "      <td>00:45:00</td>\n",
       "      <td>0.016894</td>\n",
       "      <td>90.631714</td>\n",
       "      <td>-5.364075</td>\n",
       "    </tr>\n",
       "    <tr>\n",
       "      <th>4772655</th>\n",
       "      <td>qp03qr</td>\n",
       "      <td>1</td>\n",
       "      <td>10:00:00</td>\n",
       "      <td>0.000000</td>\n",
       "      <td>90.631714</td>\n",
       "      <td>-5.364075</td>\n",
       "    </tr>\n",
       "    <tr>\n",
       "      <th>...</th>\n",
       "      <td>...</td>\n",
       "      <td>...</td>\n",
       "      <td>...</td>\n",
       "      <td>...</td>\n",
       "      <td>...</td>\n",
       "      <td>...</td>\n",
       "    </tr>\n",
       "    <tr>\n",
       "      <th>4778465</th>\n",
       "      <td>qp03qr</td>\n",
       "      <td>61</td>\n",
       "      <td>08:45:00</td>\n",
       "      <td>0.017994</td>\n",
       "      <td>90.631714</td>\n",
       "      <td>-5.364075</td>\n",
       "    </tr>\n",
       "    <tr>\n",
       "      <th>4778423</th>\n",
       "      <td>qp03qr</td>\n",
       "      <td>61</td>\n",
       "      <td>09:00:00</td>\n",
       "      <td>0.029963</td>\n",
       "      <td>90.631714</td>\n",
       "      <td>-5.364075</td>\n",
       "    </tr>\n",
       "    <tr>\n",
       "      <th>4778409</th>\n",
       "      <td>qp03qr</td>\n",
       "      <td>61</td>\n",
       "      <td>09:15:00</td>\n",
       "      <td>0.019211</td>\n",
       "      <td>90.631714</td>\n",
       "      <td>-5.364075</td>\n",
       "    </tr>\n",
       "    <tr>\n",
       "      <th>4778430</th>\n",
       "      <td>qp03qr</td>\n",
       "      <td>61</td>\n",
       "      <td>09:30:00</td>\n",
       "      <td>0.003758</td>\n",
       "      <td>90.631714</td>\n",
       "      <td>-5.364075</td>\n",
       "    </tr>\n",
       "    <tr>\n",
       "      <th>4778449</th>\n",
       "      <td>qp03qr</td>\n",
       "      <td>61</td>\n",
       "      <td>09:45:00</td>\n",
       "      <td>0.014477</td>\n",
       "      <td>90.631714</td>\n",
       "      <td>-5.364075</td>\n",
       "    </tr>\n",
       "  </tbody>\n",
       "</table>\n",
       "<p>5856 rows × 6 columns</p>\n",
       "</div>"
      ],
      "text/plain": [
       "        geohash6  day timestamp    demand        lon       lat\n",
       "4772733   qp03qr    1  00:00:00  0.000000  90.631714 -5.364075\n",
       "4772664   qp03qr    1  00:15:00  0.000000  90.631714 -5.364075\n",
       "4772685   qp03qr    1  00:30:00  0.000000  90.631714 -5.364075\n",
       "4772696   qp03qr    1  00:45:00  0.016894  90.631714 -5.364075\n",
       "4772655   qp03qr    1  10:00:00  0.000000  90.631714 -5.364075\n",
       "...          ...  ...       ...       ...        ...       ...\n",
       "4778465   qp03qr   61  08:45:00  0.017994  90.631714 -5.364075\n",
       "4778423   qp03qr   61  09:00:00  0.029963  90.631714 -5.364075\n",
       "4778409   qp03qr   61  09:15:00  0.019211  90.631714 -5.364075\n",
       "4778430   qp03qr   61  09:30:00  0.003758  90.631714 -5.364075\n",
       "4778449   qp03qr   61  09:45:00  0.014477  90.631714 -5.364075\n",
       "\n",
       "[5856 rows x 6 columns]"
      ]
     },
     "execution_count": 72,
     "metadata": {
      "tags": []
     },
     "output_type": "execute_result"
    }
   ],
   "source": [
    "low_demand_geohash[\"timestamp\"] =  pd.to_datetime(low_demand_geohash[\"timestamp\"], format='%H:%M').dt.time\n",
    "\n",
    "low_demand_geohash"
   ]
  },
  {
   "cell_type": "code",
   "execution_count": 73,
   "metadata": {
    "id": "sPyKrmbCbdmH"
   },
   "outputs": [],
   "source": [
    "# sort the values by day and timestamp\n",
    "low_demand_geohash = low_demand_geohash.sort_values([\"day\", \"timestamp\"],ascending=True)"
   ]
  },
  {
   "cell_type": "code",
   "execution_count": 74,
   "metadata": {
    "colab": {
     "base_uri": "https://localhost:8080/",
     "height": 404
    },
    "id": "uZ9WYEswIHWW",
    "outputId": "0356bea2-f135-4d6d-8794-332f35d4bcf4"
   },
   "outputs": [
    {
     "data": {
      "text/html": [
       "<div>\n",
       "<style scoped>\n",
       "    .dataframe tbody tr th:only-of-type {\n",
       "        vertical-align: middle;\n",
       "    }\n",
       "\n",
       "    .dataframe tbody tr th {\n",
       "        vertical-align: top;\n",
       "    }\n",
       "\n",
       "    .dataframe thead th {\n",
       "        text-align: right;\n",
       "    }\n",
       "</style>\n",
       "<table border=\"1\" class=\"dataframe\">\n",
       "  <thead>\n",
       "    <tr style=\"text-align: right;\">\n",
       "      <th></th>\n",
       "      <th>geohash6</th>\n",
       "      <th>day</th>\n",
       "      <th>timestamp</th>\n",
       "      <th>demand</th>\n",
       "      <th>lon</th>\n",
       "      <th>lat</th>\n",
       "    </tr>\n",
       "  </thead>\n",
       "  <tbody>\n",
       "    <tr>\n",
       "      <th>0</th>\n",
       "      <td>qp03qr</td>\n",
       "      <td>1</td>\n",
       "      <td>00:00</td>\n",
       "      <td>0.000000</td>\n",
       "      <td>90.631714</td>\n",
       "      <td>-5.364075</td>\n",
       "    </tr>\n",
       "    <tr>\n",
       "      <th>1</th>\n",
       "      <td>qp03qr</td>\n",
       "      <td>1</td>\n",
       "      <td>00:15</td>\n",
       "      <td>0.000000</td>\n",
       "      <td>90.631714</td>\n",
       "      <td>-5.364075</td>\n",
       "    </tr>\n",
       "    <tr>\n",
       "      <th>2</th>\n",
       "      <td>qp03qr</td>\n",
       "      <td>1</td>\n",
       "      <td>00:30</td>\n",
       "      <td>0.000000</td>\n",
       "      <td>90.631714</td>\n",
       "      <td>-5.364075</td>\n",
       "    </tr>\n",
       "    <tr>\n",
       "      <th>3</th>\n",
       "      <td>qp03qr</td>\n",
       "      <td>1</td>\n",
       "      <td>00:45</td>\n",
       "      <td>0.016894</td>\n",
       "      <td>90.631714</td>\n",
       "      <td>-5.364075</td>\n",
       "    </tr>\n",
       "    <tr>\n",
       "      <th>4</th>\n",
       "      <td>qp03qr</td>\n",
       "      <td>1</td>\n",
       "      <td>01:00</td>\n",
       "      <td>0.012177</td>\n",
       "      <td>90.631714</td>\n",
       "      <td>-5.364075</td>\n",
       "    </tr>\n",
       "    <tr>\n",
       "      <th>...</th>\n",
       "      <td>...</td>\n",
       "      <td>...</td>\n",
       "      <td>...</td>\n",
       "      <td>...</td>\n",
       "      <td>...</td>\n",
       "      <td>...</td>\n",
       "    </tr>\n",
       "    <tr>\n",
       "      <th>5851</th>\n",
       "      <td>qp03qr</td>\n",
       "      <td>61</td>\n",
       "      <td>22:45</td>\n",
       "      <td>0.000000</td>\n",
       "      <td>90.631714</td>\n",
       "      <td>-5.364075</td>\n",
       "    </tr>\n",
       "    <tr>\n",
       "      <th>5852</th>\n",
       "      <td>qp03qr</td>\n",
       "      <td>61</td>\n",
       "      <td>23:00</td>\n",
       "      <td>0.000000</td>\n",
       "      <td>90.631714</td>\n",
       "      <td>-5.364075</td>\n",
       "    </tr>\n",
       "    <tr>\n",
       "      <th>5853</th>\n",
       "      <td>qp03qr</td>\n",
       "      <td>61</td>\n",
       "      <td>23:15</td>\n",
       "      <td>0.000000</td>\n",
       "      <td>90.631714</td>\n",
       "      <td>-5.364075</td>\n",
       "    </tr>\n",
       "    <tr>\n",
       "      <th>5854</th>\n",
       "      <td>qp03qr</td>\n",
       "      <td>61</td>\n",
       "      <td>23:30</td>\n",
       "      <td>0.000000</td>\n",
       "      <td>90.631714</td>\n",
       "      <td>-5.364075</td>\n",
       "    </tr>\n",
       "    <tr>\n",
       "      <th>5855</th>\n",
       "      <td>qp03qr</td>\n",
       "      <td>61</td>\n",
       "      <td>23:45</td>\n",
       "      <td>0.000000</td>\n",
       "      <td>90.631714</td>\n",
       "      <td>-5.364075</td>\n",
       "    </tr>\n",
       "  </tbody>\n",
       "</table>\n",
       "<p>5856 rows × 6 columns</p>\n",
       "</div>"
      ],
      "text/plain": [
       "     geohash6  day timestamp    demand        lon       lat\n",
       "0      qp03qr    1     00:00  0.000000  90.631714 -5.364075\n",
       "1      qp03qr    1     00:15  0.000000  90.631714 -5.364075\n",
       "2      qp03qr    1     00:30  0.000000  90.631714 -5.364075\n",
       "3      qp03qr    1     00:45  0.016894  90.631714 -5.364075\n",
       "4      qp03qr    1     01:00  0.012177  90.631714 -5.364075\n",
       "...       ...  ...       ...       ...        ...       ...\n",
       "5851   qp03qr   61     22:45  0.000000  90.631714 -5.364075\n",
       "5852   qp03qr   61     23:00  0.000000  90.631714 -5.364075\n",
       "5853   qp03qr   61     23:15  0.000000  90.631714 -5.364075\n",
       "5854   qp03qr   61     23:30  0.000000  90.631714 -5.364075\n",
       "5855   qp03qr   61     23:45  0.000000  90.631714 -5.364075\n",
       "\n",
       "[5856 rows x 6 columns]"
      ]
     },
     "execution_count": 74,
     "metadata": {
      "tags": []
     },
     "output_type": "execute_result"
    }
   ],
   "source": [
    "low_demand_geohash[\"timestamp\"] = low_demand_geohash[\"timestamp\"].apply(lambda x: x.strftime('%H:%M'))\n",
    "low_demand_geohash.index = np.arange(0, len(low_demand_geohash))\n",
    "low_demand_geohash"
   ]
  },
  {
   "cell_type": "code",
   "execution_count": 75,
   "metadata": {
    "id": "IFXf7Lb6IHWW"
   },
   "outputs": [],
   "source": [
    "# get all the predictions of demand by GBR\n",
    "preds_3 = gbr_model.predict(low_demand_geohash[\"demand\"].values.reshape(-1, 1))"
   ]
  },
  {
   "cell_type": "code",
   "execution_count": 76,
   "metadata": {
    "id": "9J9ovwcfIHWW"
   },
   "outputs": [],
   "source": [
    "# add the predictions to the high demand geohash\n",
    "low_demand_geohash[\"preds\"] = pd.Series(preds_3).shift()"
   ]
  },
  {
   "cell_type": "code",
   "execution_count": 41,
   "metadata": {
    "colab": {
     "base_uri": "https://localhost:8080/",
     "height": 404
    },
    "id": "ErkuFe82IHWW",
    "outputId": "228190ea-76a7-4522-a17f-fb629b1baec4"
   },
   "outputs": [
    {
     "data": {
      "text/html": [
       "<div>\n",
       "<style scoped>\n",
       "    .dataframe tbody tr th:only-of-type {\n",
       "        vertical-align: middle;\n",
       "    }\n",
       "\n",
       "    .dataframe tbody tr th {\n",
       "        vertical-align: top;\n",
       "    }\n",
       "\n",
       "    .dataframe thead th {\n",
       "        text-align: right;\n",
       "    }\n",
       "</style>\n",
       "<table border=\"1\" class=\"dataframe\">\n",
       "  <thead>\n",
       "    <tr style=\"text-align: right;\">\n",
       "      <th></th>\n",
       "      <th>geohash6</th>\n",
       "      <th>day</th>\n",
       "      <th>timestamp</th>\n",
       "      <th>demand</th>\n",
       "      <th>lon</th>\n",
       "      <th>lat</th>\n",
       "      <th>preds</th>\n",
       "    </tr>\n",
       "  </thead>\n",
       "  <tbody>\n",
       "    <tr>\n",
       "      <th>0</th>\n",
       "      <td>qp03qr</td>\n",
       "      <td>1</td>\n",
       "      <td>00:00</td>\n",
       "      <td>0.000000</td>\n",
       "      <td>90.631714</td>\n",
       "      <td>-5.364075</td>\n",
       "      <td>NaN</td>\n",
       "    </tr>\n",
       "    <tr>\n",
       "      <th>1</th>\n",
       "      <td>qp03qr</td>\n",
       "      <td>1</td>\n",
       "      <td>00:15</td>\n",
       "      <td>0.000000</td>\n",
       "      <td>90.631714</td>\n",
       "      <td>-5.364075</td>\n",
       "      <td>0.142558</td>\n",
       "    </tr>\n",
       "    <tr>\n",
       "      <th>2</th>\n",
       "      <td>qp03qr</td>\n",
       "      <td>1</td>\n",
       "      <td>00:30</td>\n",
       "      <td>0.000000</td>\n",
       "      <td>90.631714</td>\n",
       "      <td>-5.364075</td>\n",
       "      <td>0.142558</td>\n",
       "    </tr>\n",
       "    <tr>\n",
       "      <th>3</th>\n",
       "      <td>qp03qr</td>\n",
       "      <td>1</td>\n",
       "      <td>00:45</td>\n",
       "      <td>0.016894</td>\n",
       "      <td>90.631714</td>\n",
       "      <td>-5.364075</td>\n",
       "      <td>0.142558</td>\n",
       "    </tr>\n",
       "    <tr>\n",
       "      <th>4</th>\n",
       "      <td>qp03qr</td>\n",
       "      <td>1</td>\n",
       "      <td>01:00</td>\n",
       "      <td>0.012177</td>\n",
       "      <td>90.631714</td>\n",
       "      <td>-5.364075</td>\n",
       "      <td>0.026936</td>\n",
       "    </tr>\n",
       "    <tr>\n",
       "      <th>...</th>\n",
       "      <td>...</td>\n",
       "      <td>...</td>\n",
       "      <td>...</td>\n",
       "      <td>...</td>\n",
       "      <td>...</td>\n",
       "      <td>...</td>\n",
       "      <td>...</td>\n",
       "    </tr>\n",
       "    <tr>\n",
       "      <th>5851</th>\n",
       "      <td>qp03qr</td>\n",
       "      <td>61</td>\n",
       "      <td>22:45</td>\n",
       "      <td>0.000000</td>\n",
       "      <td>90.631714</td>\n",
       "      <td>-5.364075</td>\n",
       "      <td>0.142558</td>\n",
       "    </tr>\n",
       "    <tr>\n",
       "      <th>5852</th>\n",
       "      <td>qp03qr</td>\n",
       "      <td>61</td>\n",
       "      <td>23:00</td>\n",
       "      <td>0.000000</td>\n",
       "      <td>90.631714</td>\n",
       "      <td>-5.364075</td>\n",
       "      <td>0.142558</td>\n",
       "    </tr>\n",
       "    <tr>\n",
       "      <th>5853</th>\n",
       "      <td>qp03qr</td>\n",
       "      <td>61</td>\n",
       "      <td>23:15</td>\n",
       "      <td>0.000000</td>\n",
       "      <td>90.631714</td>\n",
       "      <td>-5.364075</td>\n",
       "      <td>0.142558</td>\n",
       "    </tr>\n",
       "    <tr>\n",
       "      <th>5854</th>\n",
       "      <td>qp03qr</td>\n",
       "      <td>61</td>\n",
       "      <td>23:30</td>\n",
       "      <td>0.000000</td>\n",
       "      <td>90.631714</td>\n",
       "      <td>-5.364075</td>\n",
       "      <td>0.142558</td>\n",
       "    </tr>\n",
       "    <tr>\n",
       "      <th>5855</th>\n",
       "      <td>qp03qr</td>\n",
       "      <td>61</td>\n",
       "      <td>23:45</td>\n",
       "      <td>0.000000</td>\n",
       "      <td>90.631714</td>\n",
       "      <td>-5.364075</td>\n",
       "      <td>0.142558</td>\n",
       "    </tr>\n",
       "  </tbody>\n",
       "</table>\n",
       "<p>5856 rows × 7 columns</p>\n",
       "</div>"
      ],
      "text/plain": [
       "     geohash6  day timestamp    demand        lon       lat     preds\n",
       "0      qp03qr    1     00:00  0.000000  90.631714 -5.364075       NaN\n",
       "1      qp03qr    1     00:15  0.000000  90.631714 -5.364075  0.142558\n",
       "2      qp03qr    1     00:30  0.000000  90.631714 -5.364075  0.142558\n",
       "3      qp03qr    1     00:45  0.016894  90.631714 -5.364075  0.142558\n",
       "4      qp03qr    1     01:00  0.012177  90.631714 -5.364075  0.026936\n",
       "...       ...  ...       ...       ...        ...       ...       ...\n",
       "5851   qp03qr   61     22:45  0.000000  90.631714 -5.364075  0.142558\n",
       "5852   qp03qr   61     23:00  0.000000  90.631714 -5.364075  0.142558\n",
       "5853   qp03qr   61     23:15  0.000000  90.631714 -5.364075  0.142558\n",
       "5854   qp03qr   61     23:30  0.000000  90.631714 -5.364075  0.142558\n",
       "5855   qp03qr   61     23:45  0.000000  90.631714 -5.364075  0.142558\n",
       "\n",
       "[5856 rows x 7 columns]"
      ]
     },
     "execution_count": 41,
     "metadata": {
      "tags": []
     },
     "output_type": "execute_result"
    }
   ],
   "source": [
    "low_demand_geohash"
   ]
  },
  {
   "cell_type": "code",
   "execution_count": 77,
   "metadata": {
    "colab": {
     "base_uri": "https://localhost:8080/",
     "height": 257
    },
    "id": "kJ5H3TZVIHWW",
    "outputId": "fc744162-ebbc-4768-effb-2c25257979c6"
   },
   "outputs": [
    {
     "data": {
      "image/png": "[encoded data removed]",
      "text/plain": [
       "<Figure size 1440x360 with 1 Axes>"
      ]
     },
     "metadata": {
      "needs_background": "light",
      "tags": []
     },
     "output_type": "display_data"
    }
   ],
   "source": [
    "plt.figure(figsize=(20, 5))\n",
    "ax = sns.lineplot(x=np.arange(0, len(low_demand_geohash)), y=\"demand\", data=low_demand_geohash)\n",
    "# adding the title\n",
    "plt.title(\"Actual Demand over time\", fontsize=20)\n",
    "# adding x/y labels\n",
    "plt.xlabel(\"Time\", fontsize=16)\n",
    "plt.ylabel(\"Demand\", fontsize=16)\n",
    "plt.tight_layout()\n",
    "plt.show()"
   ]
  },
  {
   "cell_type": "code",
   "execution_count": 78,
   "metadata": {
    "colab": {
     "base_uri": "https://localhost:8080/",
     "height": 257
    },
    "id": "q4RoIjN8IHWW",
    "outputId": "88dde3aa-063d-4ebc-992a-c636cb89c666"
   },
   "outputs": [
    {
     "data": {
      "image/png": "[encoded data removed]",
      "text/plain": [
       "<Figure size 1440x360 with 1 Axes>"
      ]
     },
     "metadata": {
      "needs_background": "light",
      "tags": []
     },
     "output_type": "display_data"
    }
   ],
   "source": [
    "plt.figure(figsize=(20, 5))\n",
    "ax = sns.lineplot(x=np.arange(0, len(low_demand_geohash)), y=\"preds\", data=low_demand_geohash)\n",
    "# adding the title\n",
    "plt.title(\"Prediction of Demand over time\", fontsize=20)\n",
    "# adding x/y labels\n",
    "plt.xlabel(\"Time\", fontsize=16)\n",
    "plt.ylabel(\"Demand\", fontsize=16)\n",
    "plt.tight_layout()\n",
    "plt.show()"
   ]
  },
  {
   "cell_type": "markdown",
   "metadata": {
    "id": "e-7yDR12uiab"
   },
   "source": [
    "Now we can see that the model is not able to forecast geohashes for low demand that accurately, as seen from the regions significantly lower demand forecasted for the actual regions low demand."
   ]
  },
  {
   "cell_type": "markdown",
   "metadata": {
    "id": "d-tCt90ZH6lD"
   },
   "source": [
    "## Evaluation"
   ]
  },
  {
   "cell_type": "markdown",
   "metadata": {
    "id": "jtPdQr9cIpNv"
   },
   "source": [
    "Let' use some metrics to evaluate the performance of the model"
   ]
  },
  {
   "cell_type": "markdown",
   "metadata": {
    "id": "X8uAFAsfOwBI"
   },
   "source": [
    "First, we would use RMSE"
   ]
  },
  {
   "cell_type": "code",
   "execution_count": 79,
   "metadata": {
    "colab": {
     "base_uri": "https://localhost:8080/"
    },
    "id": "eI9QB6fqVEFo",
    "outputId": "96287c0a-ba2e-4bc3-b6d8-6e2338b11f13"
   },
   "outputs": [
    {
     "name": "stdout",
     "output_type": "stream",
     "text": [
      "Root Mean Square Error of GBR on training set: 0.05766612487373278\n",
      "Root Mean Square Error of GBR on test set: 0.050886765165090574\n"
     ]
    }
   ],
   "source": [
    "from sklearn.metrics import mean_squared_error\n",
    "\n",
    "# RMSE of the Gradient Boosting Regressor on the training set\n",
    "rmse_train = mean_squared_error(y_train, gbr_model.predict(X_train), squared=False)\n",
    "\n",
    "# RMSE of the Gradient Boosting Regressor on the test set\n",
    "rmse_test = mean_squared_error(y_test, gbr_model.predict(X_test), squared=False)\n",
    "\n",
    "# print out all the respective RMSE\n",
    "print(f\"Root Mean Square Error of GBR on training set: {rmse_train}\")\n",
    "print(f\"Root Mean Square Error of GBR on test set: {rmse_test}\")"
   ]
  },
  {
   "cell_type": "code",
   "execution_count": 80,
   "metadata": {
    "colab": {
     "base_uri": "https://localhost:8080/"
    },
    "id": "4oH8sx89Wpye",
    "outputId": "bb31a97f-201b-45ab-dc29-08b1f15819d9"
   },
   "outputs": [
    {
     "data": {
      "text/plain": [
       "count    5856.000000\n",
       "mean        0.751653\n",
       "std         0.327006\n",
       "min         0.000000\n",
       "25%         0.445603\n",
       "50%         1.000000\n",
       "75%         1.000000\n",
       "max         1.000000\n",
       "Name: demand, dtype: float64"
      ]
     },
     "execution_count": 80,
     "metadata": {
      "tags": []
     },
     "output_type": "execute_result"
    }
   ],
   "source": [
    "high_demand_geohash[\"demand\"].describe()"
   ]
  },
  {
   "cell_type": "markdown",
   "metadata": {
    "id": "6oNsYDQNWMes"
   },
   "source": [
    "The value of the RMSE of 0.054 on the training set and 0.057 on the test set is very small, when comparing those RMSE values to the standard deviation of the demand of the geohash, which is 0.25. \n",
    "\n",
    "This shows that the demands predicted do not deviate much from the actual demands. Hence this shows that the model is forecasting demand accurately with low amount of errors"
   ]
  },
  {
   "cell_type": "markdown",
   "metadata": {
    "id": "Cfr9cchGUMEx"
   },
   "source": [
    "Second, let's see the residual plot"
   ]
  },
  {
   "cell_type": "code",
   "execution_count": 81,
   "metadata": {
    "colab": {
     "base_uri": "https://localhost:8080/"
    },
    "id": "5BNzsRPoIuHR",
    "outputId": "7403d195-11fd-41cd-d12a-2c22662a82a6"
   },
   "outputs": [
    {
     "data": {
      "text/plain": [
       "array([-0.02763112, -0.00797609,  0.07287157, ...,  0.01104608,\n",
       "        0.04252573, -0.02404413])"
      ]
     },
     "execution_count": 81,
     "metadata": {
      "tags": []
     },
     "output_type": "execute_result"
    }
   ],
   "source": [
    "# get all the predictions\n",
    "y_hat = gbr_model.predict(X_test)\n",
    "# get all the residuals\n",
    "residuals = y_test - y_hat\n",
    "residuals"
   ]
  },
  {
   "cell_type": "code",
   "execution_count": 82,
   "metadata": {
    "colab": {
     "base_uri": "https://localhost:8080/",
     "height": 369
    },
    "id": "bCuZBw5lUTYT",
    "outputId": "6879d729-5e67-41a3-881a-213472905b69"
   },
   "outputs": [
    {
     "data": {
      "image/png": "[encoded data removed]",
      "text/plain": [
       "<Figure size 720x360 with 1 Axes>"
      ]
     },
     "metadata": {
      "needs_background": "light",
      "tags": []
     },
     "output_type": "display_data"
    }
   ],
   "source": [
    "# plot the residual plot\n",
    "plt.figure(figsize=(10, 5))\n",
    "plt.scatter(x=y_hat, y=residuals)\n",
    "plt.axhline(y=0)\n",
    "# adding the title\n",
    "plt.title(\"Residual plot\", fontsize=20)\n",
    "# adding x/y labels\n",
    "plt.xlabel(\"Predicted values of demand\", fontsize=16)\n",
    "plt.ylabel(\"Residuals\", fontsize=16)\n",
    "plt.tight_layout()\n",
    "plt.show()"
   ]
  },
  {
   "cell_type": "markdown",
   "metadata": {
    "id": "mZcr17xn_vTY"
   },
   "source": [
    "Taking into account that the demand is a value between 0 and 1, \n",
    "\n",
    "From the residual plot above,\n",
    "\n",
    "- the data points in the residual plot are symmetrically distributed, tending to cluster towards the middle of the plot.\n",
    "\n",
    "- the data points are clustered around where y = 0, most of the residuals are within the range of -0.1 to 0.1. \n",
    "\n",
    "- there does not seem to have any clear patterns in the plot\n",
    "\n",
    "- the majority of the predicted values for demand by the GBR is close to the actual demand, as most of the residuals are quite close to 0\n",
    "\n",
    "The GBR model prediction errors are quite minimal"
   ]
  },
  {
   "cell_type": "markdown",
   "metadata": {
    "id": "yhw-TU4JKbvX"
   },
   "source": [
    "## Forecast the travel demand for next 15min / 1hour and predict areas with high travel demand"
   ]
  },
  {
   "cell_type": "markdown",
   "metadata": {
    "id": "mIka_K6f9JuD"
   },
   "source": [
    "In order to do forecasting of the travel demand, the GBR model can be given the demand of the current time and it will output the demand of the next 15 minutes.\n",
    "\n",
    "The demand given (input) must be a 2-dimensional numpy array. \n",
    "\n",
    "The output would be a numpy array containing the predicted demand for next 15 minutes"
   ]
  },
  {
   "cell_type": "code",
   "execution_count": 83,
   "metadata": {
    "colab": {
     "base_uri": "https://localhost:8080/"
    },
    "id": "MLyo8QEKB8hu",
    "outputId": "afc801f5-6119-47a6-ebc4-9fe43cd4178d"
   },
   "outputs": [
    {
     "data": {
      "text/plain": [
       "array([[0.32047768],\n",
       "       [0.35196357],\n",
       "       [0.38622463],\n",
       "       ...,\n",
       "       [0.18176804],\n",
       "       [0.23011244],\n",
       "       [0.21298804]])"
      ]
     },
     "execution_count": 83,
     "metadata": {
      "tags": []
     },
     "output_type": "execute_result"
    }
   ],
   "source": [
    "# Example input\n",
    "inputs = high_demand_geohash[\"demand\"].values.reshape(-1, 1)\n",
    "inputs"
   ]
  },
  {
   "cell_type": "code",
   "execution_count": 85,
   "metadata": {
    "colab": {
     "base_uri": "https://localhost:8080/"
    },
    "id": "rmeN6d7dB6DA",
    "outputId": "aab3106e-587b-4d93-f1e7-100dd98af68d"
   },
   "outputs": [
    {
     "data": {
      "text/plain": [
       "array([0.316166  , 0.34526377, 0.39075649, ..., 0.18758671, 0.23703218,\n",
       "       0.21529425])"
      ]
     },
     "execution_count": 85,
     "metadata": {
      "tags": []
     },
     "output_type": "execute_result"
    }
   ],
   "source": [
    "# Example output\n",
    "preds = gbr_model.predict(inputs)\n",
    "preds"
   ]
  },
  {
   "cell_type": "markdown",
   "metadata": {
    "id": "7PgvP27Mh5un"
   },
   "source": [
    "## Saving the model"
   ]
  },
  {
   "cell_type": "code",
   "execution_count": null,
   "metadata": {
    "colab": {
     "base_uri": "https://localhost:8080/"
    },
    "id": "DwjHlGyHmkaM",
    "outputId": "0e91e29d-93f9-409f-f6a2-a6702d0285c1"
   },
   "outputs": [
    {
     "name": "stdout",
     "output_type": "stream",
     "text": [
      "/content/drive/My Drive/SP_Stuff/Grab_Data_Sci_Challenge\n"
     ]
    }
   ],
   "source": [
    "!pwd"
   ]
  },
  {
   "cell_type": "code",
   "execution_count": null,
   "metadata": {
    "id": "kfdwMqJ-Ot2H"
   },
   "outputs": [],
   "source": [
    "import pickle\n",
    "# write the face predictor to disk\n",
    "dir_path = \"./time_series_gbr.pkl\"\n",
    "\n",
    "f = open(dir_path, \"wb\")\n",
    "f.write(pickle.dumps(gbr_model))\n",
    "f.close()\n"
   ]
  },
  {
   "cell_type": "code",
   "execution_count": null,
   "metadata": {
    "colab": {
     "base_uri": "https://localhost:8080/"
    },
    "id": "Q3XRV0gynLfN",
    "outputId": "6feabb6c-bb46-4cd7-bca0-f56c44386060"
   },
   "outputs": [
    {
     "name": "stdout",
     "output_type": "stream",
     "text": [
      "Grab_Data_Sci_Challenge.ipynb  time_series_gbr.pkl  training_filled.csv\n"
     ]
    }
   ],
   "source": [
    "!ls"
   ]
  }
 ],
 "metadata": {
  "colab": {
   "collapsed_sections": [],
   "name": "Grab_Traffic_Management_ML_Models.ipynb",
   "provenance": []
  },
  "kernelspec": {
   "display_name": "Python 3",
   "language": "python",
   "name": "python3"
  },
  "language_info": {
   "codemirror_mode": {
    "name": "ipython",
    "version": 3
   },
   "file_extension": ".py",
   "mimetype": "text/x-python",
   "name": "python",
   "nbconvert_exporter": "python",
   "pygments_lexer": "ipython3",
   "version": "3.8.5"
  }
 },
 "nbformat": 4,
 "nbformat_minor": 1
}
