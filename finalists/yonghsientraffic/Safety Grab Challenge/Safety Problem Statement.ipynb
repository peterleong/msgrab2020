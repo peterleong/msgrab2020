{
 "cells": [
  {
   "cell_type": "markdown",
   "metadata": {
    "id": "WdHqiVhwtVfv"
   },
   "source": [
    "# **Done by:** \n",
    "\n",
    "P1935433, Kok Yong Hsien, DIT/FT/ 2B/12 (Leader)\n",
    "\n",
    "P1935970 Cheok Zi Hin, DIT/FT/ 2B/12\n",
    "\n",
    "P1936207, Emily Lim Xiang Qin, DIT/FT/ 2B/13"
   ]
  },
  {
   "cell_type": "markdown",
   "metadata": {
    "id": "-Xuw828HVG9p"
   },
   "source": [
    "# Import necessary libraries\n"
   ]
  },
  {
   "cell_type": "code",
   "execution_count": 1,
   "metadata": {
    "id": "uzOrb-qmI0tu"
   },
   "outputs": [],
   "source": [
    "import pandas as pd\n",
    "import numpy as np\n",
    "import matplotlib.pyplot as plt\n",
    "import tensorflow as tf"
   ]
  },
  {
   "cell_type": "code",
   "execution_count": 2,
   "metadata": {
    "id": "5At4UF5XKW07"
   },
   "outputs": [],
   "source": [
    "safety = pd.read_csv('Safety_DataSet_Aggregated.csv')"
   ]
  },
  {
   "cell_type": "markdown",
   "metadata": {
    "id": "Dv7n445pVMQ_"
   },
   "source": [
    "# EDA"
   ]
  },
  {
   "cell_type": "code",
   "execution_count": 3,
   "metadata": {
    "colab": {
     "base_uri": "https://localhost:8080/"
    },
    "id": "t8l0N9ge-hLG",
    "outputId": "29164d37-8545-45ad-9a3e-3bb51dc82a15"
   },
   "outputs": [
    {
     "data": {
      "text/plain": [
       "bookingID           int64\n",
       "Accuracy          float64\n",
       "Bearing           float64\n",
       "acceleration_x    float64\n",
       "acceleration_y    float64\n",
       "acceleration_z    float64\n",
       "gyro_x            float64\n",
       "gyro_y            float64\n",
       "gyro_z            float64\n",
       "second            float64\n",
       "Speed             float64\n",
       "label             float64\n",
       "dtype: object"
      ]
     },
     "execution_count": 3,
     "metadata": {
      "tags": []
     },
     "output_type": "execute_result"
    }
   ],
   "source": [
    "safety.dtypes"
   ]
  },
  {
   "cell_type": "code",
   "execution_count": 4,
   "metadata": {
    "colab": {
     "base_uri": "https://localhost:8080/"
    },
    "id": "sUYQyLkx-hpt",
    "outputId": "173c7b12-4029-4983-dd03-e073a39d3929"
   },
   "outputs": [
    {
     "data": {
      "text/plain": [
       "bookingID         0\n",
       "Accuracy          0\n",
       "Bearing           0\n",
       "acceleration_x    0\n",
       "acceleration_y    0\n",
       "acceleration_z    1\n",
       "gyro_x            1\n",
       "gyro_y            1\n",
       "gyro_z            1\n",
       "second            1\n",
       "Speed             1\n",
       "label             1\n",
       "dtype: int64"
      ]
     },
     "execution_count": 4,
     "metadata": {
      "tags": []
     },
     "output_type": "execute_result"
    }
   ],
   "source": [
    "safety.isnull().sum()"
   ]
  },
  {
   "cell_type": "code",
   "execution_count": 5,
   "metadata": {
    "id": "cQeoO2rWKW3C"
   },
   "outputs": [],
   "source": [
    "safety = safety.ffill()"
   ]
  },
  {
   "cell_type": "code",
   "execution_count": 6,
   "metadata": {
    "colab": {
     "base_uri": "https://localhost:8080/",
     "height": 419
    },
    "id": "bag7V_Tv98pQ",
    "outputId": "6c76983b-3af7-410d-d1f7-66fbb5f4e26e"
   },
   "outputs": [
    {
     "data": {
      "text/html": [
       "<div>\n",
       "<style scoped>\n",
       "    .dataframe tbody tr th:only-of-type {\n",
       "        vertical-align: middle;\n",
       "    }\n",
       "\n",
       "    .dataframe tbody tr th {\n",
       "        vertical-align: top;\n",
       "    }\n",
       "\n",
       "    .dataframe thead th {\n",
       "        text-align: right;\n",
       "    }\n",
       "</style>\n",
       "<table border=\"1\" class=\"dataframe\">\n",
       "  <thead>\n",
       "    <tr style=\"text-align: right;\">\n",
       "      <th></th>\n",
       "      <th>bookingID</th>\n",
       "      <th>Accuracy</th>\n",
       "      <th>Bearing</th>\n",
       "      <th>acceleration_x</th>\n",
       "      <th>acceleration_y</th>\n",
       "      <th>acceleration_z</th>\n",
       "      <th>gyro_x</th>\n",
       "      <th>gyro_y</th>\n",
       "      <th>gyro_z</th>\n",
       "      <th>second</th>\n",
       "      <th>Speed</th>\n",
       "      <th>label</th>\n",
       "    </tr>\n",
       "  </thead>\n",
       "  <tbody>\n",
       "    <tr>\n",
       "      <th>0</th>\n",
       "      <td>0</td>\n",
       "      <td>12.0</td>\n",
       "      <td>143.298294</td>\n",
       "      <td>0.818112</td>\n",
       "      <td>-9.941461</td>\n",
       "      <td>-2.014999</td>\n",
       "      <td>-0.016245</td>\n",
       "      <td>-0.094040</td>\n",
       "      <td>0.070732</td>\n",
       "      <td>0.0</td>\n",
       "      <td>3.442991</td>\n",
       "      <td>0.0</td>\n",
       "    </tr>\n",
       "    <tr>\n",
       "      <th>1</th>\n",
       "      <td>0</td>\n",
       "      <td>8.0</td>\n",
       "      <td>143.298294</td>\n",
       "      <td>0.546405</td>\n",
       "      <td>-9.835590</td>\n",
       "      <td>-2.038925</td>\n",
       "      <td>-0.047092</td>\n",
       "      <td>-0.078874</td>\n",
       "      <td>0.043187</td>\n",
       "      <td>1.0</td>\n",
       "      <td>0.228454</td>\n",
       "      <td>0.0</td>\n",
       "    </tr>\n",
       "    <tr>\n",
       "      <th>2</th>\n",
       "      <td>0</td>\n",
       "      <td>8.0</td>\n",
       "      <td>143.298294</td>\n",
       "      <td>-1.706207</td>\n",
       "      <td>-9.270792</td>\n",
       "      <td>-1.209448</td>\n",
       "      <td>-0.028965</td>\n",
       "      <td>-0.032652</td>\n",
       "      <td>0.015390</td>\n",
       "      <td>2.0</td>\n",
       "      <td>0.228454</td>\n",
       "      <td>0.0</td>\n",
       "    </tr>\n",
       "    <tr>\n",
       "      <th>3</th>\n",
       "      <td>0</td>\n",
       "      <td>8.0</td>\n",
       "      <td>143.298294</td>\n",
       "      <td>-1.416705</td>\n",
       "      <td>-9.548032</td>\n",
       "      <td>-1.860977</td>\n",
       "      <td>-0.022413</td>\n",
       "      <td>0.005049</td>\n",
       "      <td>-0.025753</td>\n",
       "      <td>3.0</td>\n",
       "      <td>0.228454</td>\n",
       "      <td>0.0</td>\n",
       "    </tr>\n",
       "    <tr>\n",
       "      <th>4</th>\n",
       "      <td>0</td>\n",
       "      <td>8.0</td>\n",
       "      <td>143.298294</td>\n",
       "      <td>-0.598145</td>\n",
       "      <td>-9.853534</td>\n",
       "      <td>-1.378574</td>\n",
       "      <td>-0.014297</td>\n",
       "      <td>-0.046206</td>\n",
       "      <td>0.021902</td>\n",
       "      <td>4.0</td>\n",
       "      <td>0.228454</td>\n",
       "      <td>0.0</td>\n",
       "    </tr>\n",
       "    <tr>\n",
       "      <th>...</th>\n",
       "      <td>...</td>\n",
       "      <td>...</td>\n",
       "      <td>...</td>\n",
       "      <td>...</td>\n",
       "      <td>...</td>\n",
       "      <td>...</td>\n",
       "      <td>...</td>\n",
       "      <td>...</td>\n",
       "      <td>...</td>\n",
       "      <td>...</td>\n",
       "      <td>...</td>\n",
       "      <td>...</td>\n",
       "    </tr>\n",
       "    <tr>\n",
       "      <th>6533872</th>\n",
       "      <td>644245094404</td>\n",
       "      <td>3.9</td>\n",
       "      <td>32.000000</td>\n",
       "      <td>-0.306467</td>\n",
       "      <td>10.467770</td>\n",
       "      <td>1.778946</td>\n",
       "      <td>-0.012771</td>\n",
       "      <td>0.064109</td>\n",
       "      <td>-0.020692</td>\n",
       "      <td>268.0</td>\n",
       "      <td>13.215492</td>\n",
       "      <td>0.0</td>\n",
       "    </tr>\n",
       "    <tr>\n",
       "      <th>6533873</th>\n",
       "      <td>644245094404</td>\n",
       "      <td>3.9</td>\n",
       "      <td>31.000000</td>\n",
       "      <td>0.081405</td>\n",
       "      <td>10.745505</td>\n",
       "      <td>1.101366</td>\n",
       "      <td>-0.007884</td>\n",
       "      <td>0.014629</td>\n",
       "      <td>0.010462</td>\n",
       "      <td>269.0</td>\n",
       "      <td>13.377270</td>\n",
       "      <td>0.0</td>\n",
       "    </tr>\n",
       "    <tr>\n",
       "      <th>6533874</th>\n",
       "      <td>644245094404</td>\n",
       "      <td>3.9</td>\n",
       "      <td>31.000000</td>\n",
       "      <td>0.466884</td>\n",
       "      <td>8.827691</td>\n",
       "      <td>1.817254</td>\n",
       "      <td>0.004333</td>\n",
       "      <td>0.007909</td>\n",
       "      <td>0.058720</td>\n",
       "      <td>270.0</td>\n",
       "      <td>13.647820</td>\n",
       "      <td>0.0</td>\n",
       "    </tr>\n",
       "    <tr>\n",
       "      <th>6533875</th>\n",
       "      <td>644245094404</td>\n",
       "      <td>3.9</td>\n",
       "      <td>31.000000</td>\n",
       "      <td>-0.031126</td>\n",
       "      <td>10.783813</td>\n",
       "      <td>2.288927</td>\n",
       "      <td>0.065419</td>\n",
       "      <td>0.013407</td>\n",
       "      <td>-0.065286</td>\n",
       "      <td>271.0</td>\n",
       "      <td>13.988210</td>\n",
       "      <td>0.0</td>\n",
       "    </tr>\n",
       "    <tr>\n",
       "      <th>6533876</th>\n",
       "      <td>644245094404</td>\n",
       "      <td>3.9</td>\n",
       "      <td>31.000000</td>\n",
       "      <td>1.549096</td>\n",
       "      <td>9.000000</td>\n",
       "      <td>2.288927</td>\n",
       "      <td>0.065419</td>\n",
       "      <td>0.013407</td>\n",
       "      <td>-0.065286</td>\n",
       "      <td>271.0</td>\n",
       "      <td>13.988210</td>\n",
       "      <td>0.0</td>\n",
       "    </tr>\n",
       "  </tbody>\n",
       "</table>\n",
       "<p>6533877 rows × 12 columns</p>\n",
       "</div>"
      ],
      "text/plain": [
       "            bookingID  Accuracy     Bearing  ...  second      Speed  label\n",
       "0                   0      12.0  143.298294  ...     0.0   3.442991    0.0\n",
       "1                   0       8.0  143.298294  ...     1.0   0.228454    0.0\n",
       "2                   0       8.0  143.298294  ...     2.0   0.228454    0.0\n",
       "3                   0       8.0  143.298294  ...     3.0   0.228454    0.0\n",
       "4                   0       8.0  143.298294  ...     4.0   0.228454    0.0\n",
       "...               ...       ...         ...  ...     ...        ...    ...\n",
       "6533872  644245094404       3.9   32.000000  ...   268.0  13.215492    0.0\n",
       "6533873  644245094404       3.9   31.000000  ...   269.0  13.377270    0.0\n",
       "6533874  644245094404       3.9   31.000000  ...   270.0  13.647820    0.0\n",
       "6533875  644245094404       3.9   31.000000  ...   271.0  13.988210    0.0\n",
       "6533876  644245094404       3.9   31.000000  ...   271.0  13.988210    0.0\n",
       "\n",
       "[6533877 rows x 12 columns]"
      ]
     },
     "execution_count": 6,
     "metadata": {
      "tags": []
     },
     "output_type": "execute_result"
    }
   ],
   "source": [
    "safety"
   ]
  },
  {
   "cell_type": "code",
   "execution_count": 7,
   "metadata": {
    "colab": {
     "base_uri": "https://localhost:8080/",
     "height": 297
    },
    "id": "NZLs2pDS40Jf",
    "outputId": "2f5756ff-fdef-40f3-afbd-72a7371e040c"
   },
   "outputs": [
    {
     "data": {
      "text/html": [
       "<div>\n",
       "<style scoped>\n",
       "    .dataframe tbody tr th:only-of-type {\n",
       "        vertical-align: middle;\n",
       "    }\n",
       "\n",
       "    .dataframe tbody tr th {\n",
       "        vertical-align: top;\n",
       "    }\n",
       "\n",
       "    .dataframe thead th {\n",
       "        text-align: right;\n",
       "    }\n",
       "</style>\n",
       "<table border=\"1\" class=\"dataframe\">\n",
       "  <thead>\n",
       "    <tr style=\"text-align: right;\">\n",
       "      <th></th>\n",
       "      <th>bookingID</th>\n",
       "      <th>Accuracy</th>\n",
       "      <th>Bearing</th>\n",
       "      <th>acceleration_x</th>\n",
       "      <th>acceleration_y</th>\n",
       "      <th>acceleration_z</th>\n",
       "      <th>gyro_x</th>\n",
       "      <th>gyro_y</th>\n",
       "      <th>gyro_z</th>\n",
       "      <th>second</th>\n",
       "      <th>Speed</th>\n",
       "      <th>label</th>\n",
       "    </tr>\n",
       "  </thead>\n",
       "  <tbody>\n",
       "    <tr>\n",
       "      <th>count</th>\n",
       "      <td>1004.0</td>\n",
       "      <td>1004.000000</td>\n",
       "      <td>1004.000000</td>\n",
       "      <td>1004.000000</td>\n",
       "      <td>1004.000000</td>\n",
       "      <td>1004.000000</td>\n",
       "      <td>1004.000000</td>\n",
       "      <td>1004.000000</td>\n",
       "      <td>1004.000000</td>\n",
       "      <td>1004.000000</td>\n",
       "      <td>1004.000000</td>\n",
       "      <td>1004.0</td>\n",
       "    </tr>\n",
       "    <tr>\n",
       "      <th>mean</th>\n",
       "      <td>0.0</td>\n",
       "      <td>10.165339</td>\n",
       "      <td>176.526099</td>\n",
       "      <td>-0.711264</td>\n",
       "      <td>-9.613822</td>\n",
       "      <td>-1.619658</td>\n",
       "      <td>0.003328</td>\n",
       "      <td>-0.006118</td>\n",
       "      <td>-0.004188</td>\n",
       "      <td>903.526892</td>\n",
       "      <td>8.994822</td>\n",
       "      <td>0.0</td>\n",
       "    </tr>\n",
       "    <tr>\n",
       "      <th>std</th>\n",
       "      <td>0.0</td>\n",
       "      <td>3.855898</td>\n",
       "      <td>129.231351</td>\n",
       "      <td>0.928022</td>\n",
       "      <td>0.639934</td>\n",
       "      <td>1.141266</td>\n",
       "      <td>0.065954</td>\n",
       "      <td>0.100225</td>\n",
       "      <td>0.063685</td>\n",
       "      <td>533.745097</td>\n",
       "      <td>7.199919</td>\n",
       "      <td>0.0</td>\n",
       "    </tr>\n",
       "    <tr>\n",
       "      <th>min</th>\n",
       "      <td>0.0</td>\n",
       "      <td>4.000000</td>\n",
       "      <td>0.037464</td>\n",
       "      <td>-4.692294</td>\n",
       "      <td>-12.764703</td>\n",
       "      <td>-6.251807</td>\n",
       "      <td>-0.392537</td>\n",
       "      <td>-0.609930</td>\n",
       "      <td>-0.731892</td>\n",
       "      <td>0.000000</td>\n",
       "      <td>-1.000000</td>\n",
       "      <td>0.0</td>\n",
       "    </tr>\n",
       "    <tr>\n",
       "      <th>25%</th>\n",
       "      <td>0.0</td>\n",
       "      <td>8.000000</td>\n",
       "      <td>38.211140</td>\n",
       "      <td>-1.185149</td>\n",
       "      <td>-9.903928</td>\n",
       "      <td>-2.250407</td>\n",
       "      <td>-0.027289</td>\n",
       "      <td>-0.046174</td>\n",
       "      <td>-0.029892</td>\n",
       "      <td>250.750000</td>\n",
       "      <td>1.490348</td>\n",
       "      <td>0.0</td>\n",
       "    </tr>\n",
       "    <tr>\n",
       "      <th>50%</th>\n",
       "      <td>0.0</td>\n",
       "      <td>8.000000</td>\n",
       "      <td>144.299423</td>\n",
       "      <td>-0.725250</td>\n",
       "      <td>-9.622127</td>\n",
       "      <td>-1.607663</td>\n",
       "      <td>0.002575</td>\n",
       "      <td>-0.002239</td>\n",
       "      <td>-0.003522</td>\n",
       "      <td>1087.500000</td>\n",
       "      <td>8.503366</td>\n",
       "      <td>0.0</td>\n",
       "    </tr>\n",
       "    <tr>\n",
       "      <th>75%</th>\n",
       "      <td>0.0</td>\n",
       "      <td>12.000000</td>\n",
       "      <td>312.013893</td>\n",
       "      <td>-0.299371</td>\n",
       "      <td>-9.344438</td>\n",
       "      <td>-1.033743</td>\n",
       "      <td>0.033239</td>\n",
       "      <td>0.032769</td>\n",
       "      <td>0.020893</td>\n",
       "      <td>1338.250000</td>\n",
       "      <td>15.645498</td>\n",
       "      <td>0.0</td>\n",
       "    </tr>\n",
       "    <tr>\n",
       "      <th>max</th>\n",
       "      <td>0.0</td>\n",
       "      <td>48.000000</td>\n",
       "      <td>359.979767</td>\n",
       "      <td>4.782614</td>\n",
       "      <td>-6.119916</td>\n",
       "      <td>2.318857</td>\n",
       "      <td>0.438371</td>\n",
       "      <td>0.469724</td>\n",
       "      <td>0.372807</td>\n",
       "      <td>1589.000000</td>\n",
       "      <td>22.946083</td>\n",
       "      <td>0.0</td>\n",
       "    </tr>\n",
       "  </tbody>\n",
       "</table>\n",
       "</div>"
      ],
      "text/plain": [
       "       bookingID     Accuracy      Bearing  ...       second        Speed   label\n",
       "count     1004.0  1004.000000  1004.000000  ...  1004.000000  1004.000000  1004.0\n",
       "mean         0.0    10.165339   176.526099  ...   903.526892     8.994822     0.0\n",
       "std          0.0     3.855898   129.231351  ...   533.745097     7.199919     0.0\n",
       "min          0.0     4.000000     0.037464  ...     0.000000    -1.000000     0.0\n",
       "25%          0.0     8.000000    38.211140  ...   250.750000     1.490348     0.0\n",
       "50%          0.0     8.000000   144.299423  ...  1087.500000     8.503366     0.0\n",
       "75%          0.0    12.000000   312.013893  ...  1338.250000    15.645498     0.0\n",
       "max          0.0    48.000000   359.979767  ...  1589.000000    22.946083     0.0\n",
       "\n",
       "[8 rows x 12 columns]"
      ]
     },
     "execution_count": 7,
     "metadata": {
      "tags": []
     },
     "output_type": "execute_result"
    }
   ],
   "source": [
    "safety[safety['bookingID'] == 0].describe()"
   ]
  },
  {
   "cell_type": "markdown",
   "metadata": {
    "id": "AnSeM_OjVVXD"
   },
   "source": [
    "# Feature Engineering"
   ]
  },
  {
   "cell_type": "markdown",
   "metadata": {
    "id": "JFghKnD7Vjx1"
   },
   "source": [
    "## Feature distance"
   ]
  },
  {
   "cell_type": "code",
   "execution_count": 8,
   "metadata": {
    "id": "W-Nup9CpWFNK"
   },
   "outputs": [],
   "source": [
    "speed = safety['Speed']\n",
    "second = safety['second']"
   ]
  },
  {
   "cell_type": "code",
   "execution_count": 9,
   "metadata": {
    "colab": {
     "base_uri": "https://localhost:8080/"
    },
    "id": "pQOsEE7HWFAl",
    "outputId": "6060a1a3-62e1-40ad-e880-050964a619e2"
   },
   "outputs": [
    {
     "data": {
      "text/plain": [
       "0             0.000000\n",
       "1             0.228454\n",
       "2             0.456909\n",
       "3             0.685363\n",
       "4             0.913818\n",
       "              ...     \n",
       "6533872    3541.751856\n",
       "6533873    3598.485630\n",
       "6533874    3684.911265\n",
       "6533875    3790.804910\n",
       "6533876    3790.804910\n",
       "Length: 6533877, dtype: float64"
      ]
     },
     "execution_count": 9,
     "metadata": {
      "tags": []
     },
     "output_type": "execute_result"
    }
   ],
   "source": [
    "distance = speed * second\n",
    "distance"
   ]
  },
  {
   "cell_type": "code",
   "execution_count": 10,
   "metadata": {
    "id": "iv6-wpw4WwMq"
   },
   "outputs": [],
   "source": [
    "safety['distance'] = distance"
   ]
  },
  {
   "cell_type": "markdown",
   "metadata": {
    "id": "E8B0DShhVjuy"
   },
   "source": [
    "##  Feature speed"
   ]
  },
  {
   "cell_type": "code",
   "execution_count": 11,
   "metadata": {
    "id": "x7BIntVcWF5V"
   },
   "outputs": [],
   "source": [
    "safety_acceleration_x = safety['acceleration_x']\n",
    "safety_acceleration_y = safety['acceleration_y']\n",
    "safety_acceleration_z = safety['acceleration_z']"
   ]
  },
  {
   "cell_type": "code",
   "execution_count": 12,
   "metadata": {
    "id": "RrOPcEFcWF0y"
   },
   "outputs": [],
   "source": [
    "speed_x = safety_acceleration_x * second\n",
    "speed_y = safety_acceleration_y * second\n",
    "speed_z = safety_acceleration_z * second"
   ]
  },
  {
   "cell_type": "code",
   "execution_count": 13,
   "metadata": {
    "id": "M3PTHAE_W4sv"
   },
   "outputs": [],
   "source": [
    "safety['speed_x'] = speed_x\n",
    "safety['speed_y'] = speed_y\n",
    "safety['speed_z'] = speed_z"
   ]
  },
  {
   "cell_type": "markdown",
   "metadata": {
    "id": "auy9ZjDXVjru"
   },
   "source": [
    "## Feature radian"
   ]
  },
  {
   "cell_type": "code",
   "execution_count": 14,
   "metadata": {
    "id": "USuRAYqiWGiH"
   },
   "outputs": [],
   "source": [
    "safety_gyro_x = safety['gyro_x']\n",
    "safety_gyro_y = safety['gyro_y']\n",
    "safety_gyro_z = safety['gyro_z']"
   ]
  },
  {
   "cell_type": "code",
   "execution_count": 15,
   "metadata": {
    "id": "IBhOpaQlWGfo"
   },
   "outputs": [],
   "source": [
    "radian_x = safety_gyro_x * second\n",
    "radian_y = safety_gyro_y * second\n",
    "radian_z = safety_gyro_z * second"
   ]
  },
  {
   "cell_type": "code",
   "execution_count": 16,
   "metadata": {
    "id": "WMAEnDTuXhEV"
   },
   "outputs": [],
   "source": [
    "safety['radian_x'] = radian_x\n",
    "safety['radian_y'] = radian_y\n",
    "safety['radian_z'] = radian_z"
   ]
  },
  {
   "cell_type": "markdown",
   "metadata": {
    "id": "VZfqXEsdVjgx"
   },
   "source": [
    "## Making axis interaction"
   ]
  },
  {
   "cell_type": "code",
   "execution_count": 17,
   "metadata": {
    "id": "G_7ZShaVWH-B"
   },
   "outputs": [],
   "source": [
    "acc_gyro_x = safety_acceleration_x * safety_gyro_x\n",
    "acc_gyro_y = safety_acceleration_y * safety_gyro_y\n",
    "acc_gyro_z = safety_acceleration_z * safety_gyro_z"
   ]
  },
  {
   "cell_type": "code",
   "execution_count": 18,
   "metadata": {
    "id": "yVVRNn-IWH7E"
   },
   "outputs": [],
   "source": [
    "safety['acc_gyro_x'] = acc_gyro_x\n",
    "safety['acc_gyro_y'] = acc_gyro_y\n",
    "safety['acc_gyro_z'] = acc_gyro_z"
   ]
  },
  {
   "cell_type": "markdown",
   "metadata": {
    "id": "vFs2mKbKVZXl"
   },
   "source": [
    "## Transform the accelerometer data"
   ]
  },
  {
   "cell_type": "code",
   "execution_count": 19,
   "metadata": {
    "id": "0YsOWLWt6-tQ"
   },
   "outputs": [],
   "source": [
    "acceleration_magnitude = safety_acceleration_x**2 + safety_acceleration_y**2 + safety_acceleration_z**2"
   ]
  },
  {
   "cell_type": "code",
   "execution_count": 20,
   "metadata": {
    "id": "l12rMD_L_0gU"
   },
   "outputs": [],
   "source": [
    "acceleration_magnitude = np.sqrt(acceleration_magnitude)"
   ]
  },
  {
   "cell_type": "code",
   "execution_count": 21,
   "metadata": {
    "id": "AceN-5mw_0rL"
   },
   "outputs": [],
   "source": [
    "safety['acceleration_magnitude'] = acceleration_magnitude"
   ]
  },
  {
   "cell_type": "markdown",
   "metadata": {
    "id": "EXMgsRNAV59C"
   },
   "source": [
    "## Transform the gyroscope data"
   ]
  },
  {
   "cell_type": "code",
   "execution_count": 22,
   "metadata": {
    "id": "GF05c9_jWJxy"
   },
   "outputs": [],
   "source": [
    "gyro_magnitude = safety_gyro_x**2 + safety_gyro_y**2 + safety_gyro_z**2"
   ]
  },
  {
   "cell_type": "code",
   "execution_count": 23,
   "metadata": {
    "id": "9nFuV7ypWJui"
   },
   "outputs": [],
   "source": [
    "gyro_magnitude = np.sqrt(gyro_magnitude)"
   ]
  },
  {
   "cell_type": "code",
   "execution_count": 24,
   "metadata": {
    "id": "_R1knQenYZ7D"
   },
   "outputs": [],
   "source": [
    "safety['gyro_magnitude'] = gyro_magnitude"
   ]
  },
  {
   "cell_type": "code",
   "execution_count": 25,
   "metadata": {
    "colab": {
     "base_uri": "https://localhost:8080/"
    },
    "id": "LqQDm1e2CfGj",
    "outputId": "ce3680da-061d-4003-da48-f319f57ed0df"
   },
   "outputs": [
    {
     "data": {
      "text/plain": [
       "(6533877, 24)"
      ]
     },
     "execution_count": 25,
     "metadata": {
      "tags": []
     },
     "output_type": "execute_result"
    }
   ],
   "source": [
    "safety.shape"
   ]
  },
  {
   "cell_type": "markdown",
   "metadata": {
    "id": "C5KIr471ZweZ"
   },
   "source": [
    "# Model Building"
   ]
  },
  {
   "cell_type": "code",
   "execution_count": 26,
   "metadata": {
    "id": "AERDYdFINbgz"
   },
   "outputs": [],
   "source": [
    "grouped_safety = safety.groupby(by = 'bookingID',as_index=False).mean()"
   ]
  },
  {
   "cell_type": "code",
   "execution_count": 27,
   "metadata": {
    "colab": {
     "base_uri": "https://localhost:8080/"
    },
    "id": "wWVlentVJjm2",
    "outputId": "def0f26a-374a-4b61-afdc-bed9172ebd97"
   },
   "outputs": [
    {
     "data": {
      "text/plain": [
       "bookingID                 6253\n",
       "Accuracy                  6253\n",
       "Bearing                   6253\n",
       "acceleration_x            6253\n",
       "acceleration_y            6253\n",
       "acceleration_z            6253\n",
       "gyro_x                    6253\n",
       "gyro_y                    6253\n",
       "gyro_z                    6253\n",
       "second                    6253\n",
       "Speed                     6253\n",
       "label                     6253\n",
       "distance                  6253\n",
       "speed_x                   6253\n",
       "speed_y                   6253\n",
       "speed_z                   6253\n",
       "radian_x                  6253\n",
       "radian_y                  6253\n",
       "radian_z                  6253\n",
       "acc_gyro_x                6253\n",
       "acc_gyro_y                6253\n",
       "acc_gyro_z                6253\n",
       "acceleration_magnitude    6253\n",
       "gyro_magnitude            6253\n",
       "dtype: int64"
      ]
     },
     "execution_count": 27,
     "metadata": {
      "tags": []
     },
     "output_type": "execute_result"
    }
   ],
   "source": [
    "grouped_safety[grouped_safety['label'] == 0].count()"
   ]
  },
  {
   "cell_type": "code",
   "execution_count": 28,
   "metadata": {
    "colab": {
     "base_uri": "https://localhost:8080/"
    },
    "id": "lvPnoI_zJjkE",
    "outputId": "ab5c417c-a6c9-485a-c6f3-201a2c2a13b2"
   },
   "outputs": [
    {
     "data": {
      "text/plain": [
       "bookingID                 1883\n",
       "Accuracy                  1883\n",
       "Bearing                   1883\n",
       "acceleration_x            1883\n",
       "acceleration_y            1883\n",
       "acceleration_z            1883\n",
       "gyro_x                    1883\n",
       "gyro_y                    1883\n",
       "gyro_z                    1883\n",
       "second                    1883\n",
       "Speed                     1883\n",
       "label                     1883\n",
       "distance                  1883\n",
       "speed_x                   1883\n",
       "speed_y                   1883\n",
       "speed_z                   1883\n",
       "radian_x                  1883\n",
       "radian_y                  1883\n",
       "radian_z                  1883\n",
       "acc_gyro_x                1883\n",
       "acc_gyro_y                1883\n",
       "acc_gyro_z                1883\n",
       "acceleration_magnitude    1883\n",
       "gyro_magnitude            1883\n",
       "dtype: int64"
      ]
     },
     "execution_count": 28,
     "metadata": {
      "tags": []
     },
     "output_type": "execute_result"
    }
   ],
   "source": [
    "grouped_safety[grouped_safety['label'] == 1].count()"
   ]
  },
  {
   "cell_type": "code",
   "execution_count": 29,
   "metadata": {
    "colab": {
     "base_uri": "https://localhost:8080/",
     "height": 439
    },
    "id": "Ej0scAFUCfE9",
    "outputId": "759fdaf2-9c66-497b-af95-42a2ea005162"
   },
   "outputs": [
    {
     "data": {
      "text/html": [
       "<div>\n",
       "<style scoped>\n",
       "    .dataframe tbody tr th:only-of-type {\n",
       "        vertical-align: middle;\n",
       "    }\n",
       "\n",
       "    .dataframe tbody tr th {\n",
       "        vertical-align: top;\n",
       "    }\n",
       "\n",
       "    .dataframe thead th {\n",
       "        text-align: right;\n",
       "    }\n",
       "</style>\n",
       "<table border=\"1\" class=\"dataframe\">\n",
       "  <thead>\n",
       "    <tr style=\"text-align: right;\">\n",
       "      <th></th>\n",
       "      <th>bookingID</th>\n",
       "      <th>Accuracy</th>\n",
       "      <th>Bearing</th>\n",
       "      <th>acceleration_x</th>\n",
       "      <th>acceleration_y</th>\n",
       "      <th>acceleration_z</th>\n",
       "      <th>gyro_x</th>\n",
       "      <th>gyro_y</th>\n",
       "      <th>gyro_z</th>\n",
       "      <th>second</th>\n",
       "      <th>Speed</th>\n",
       "      <th>distance</th>\n",
       "      <th>speed_x</th>\n",
       "      <th>speed_y</th>\n",
       "      <th>speed_z</th>\n",
       "      <th>radian_x</th>\n",
       "      <th>radian_y</th>\n",
       "      <th>radian_z</th>\n",
       "      <th>acc_gyro_x</th>\n",
       "      <th>acc_gyro_y</th>\n",
       "      <th>acc_gyro_z</th>\n",
       "      <th>acceleration_magnitude</th>\n",
       "      <th>gyro_magnitude</th>\n",
       "    </tr>\n",
       "  </thead>\n",
       "  <tbody>\n",
       "    <tr>\n",
       "      <th>0</th>\n",
       "      <td>0</td>\n",
       "      <td>10.165339</td>\n",
       "      <td>176.526099</td>\n",
       "      <td>-0.711264</td>\n",
       "      <td>-9.613822</td>\n",
       "      <td>-1.619658</td>\n",
       "      <td>0.003328</td>\n",
       "      <td>-0.006118</td>\n",
       "      <td>-0.004188</td>\n",
       "      <td>903.526892</td>\n",
       "      <td>8.994822</td>\n",
       "      <td>11046.251930</td>\n",
       "      <td>-649.397432</td>\n",
       "      <td>-8685.711305</td>\n",
       "      <td>-1474.337306</td>\n",
       "      <td>3.117746</td>\n",
       "      <td>-3.763111</td>\n",
       "      <td>-4.408486</td>\n",
       "      <td>-0.011891</td>\n",
       "      <td>0.067631</td>\n",
       "      <td>0.001921</td>\n",
       "      <td>9.886164</td>\n",
       "      <td>0.100772</td>\n",
       "    </tr>\n",
       "    <tr>\n",
       "      <th>1</th>\n",
       "      <td>1</td>\n",
       "      <td>3.718763</td>\n",
       "      <td>124.198590</td>\n",
       "      <td>-0.525406</td>\n",
       "      <td>9.532086</td>\n",
       "      <td>-2.198999</td>\n",
       "      <td>-0.002467</td>\n",
       "      <td>-0.007540</td>\n",
       "      <td>0.000405</td>\n",
       "      <td>581.175088</td>\n",
       "      <td>7.881588</td>\n",
       "      <td>5521.932267</td>\n",
       "      <td>-296.255476</td>\n",
       "      <td>5530.225067</td>\n",
       "      <td>-1290.127486</td>\n",
       "      <td>-1.574245</td>\n",
       "      <td>-3.680678</td>\n",
       "      <td>0.115987</td>\n",
       "      <td>0.002711</td>\n",
       "      <td>-0.070063</td>\n",
       "      <td>-0.001414</td>\n",
       "      <td>9.862507</td>\n",
       "      <td>0.066187</td>\n",
       "    </tr>\n",
       "    <tr>\n",
       "      <th>2</th>\n",
       "      <td>2</td>\n",
       "      <td>3.930626</td>\n",
       "      <td>173.794872</td>\n",
       "      <td>0.306786</td>\n",
       "      <td>9.843183</td>\n",
       "      <td>0.139347</td>\n",
       "      <td>0.006458</td>\n",
       "      <td>-0.012861</td>\n",
       "      <td>0.002597</td>\n",
       "      <td>339.441026</td>\n",
       "      <td>3.157213</td>\n",
       "      <td>853.485445</td>\n",
       "      <td>166.995474</td>\n",
       "      <td>3322.604563</td>\n",
       "      <td>105.561403</td>\n",
       "      <td>1.900514</td>\n",
       "      <td>-4.632578</td>\n",
       "      <td>-0.086165</td>\n",
       "      <td>-0.000493</td>\n",
       "      <td>-0.124528</td>\n",
       "      <td>-0.003984</td>\n",
       "      <td>9.929590</td>\n",
       "      <td>0.097433</td>\n",
       "    </tr>\n",
       "    <tr>\n",
       "      <th>3</th>\n",
       "      <td>4</td>\n",
       "      <td>10.000000</td>\n",
       "      <td>151.807013</td>\n",
       "      <td>-0.365117</td>\n",
       "      <td>-9.406439</td>\n",
       "      <td>-2.613639</td>\n",
       "      <td>-0.022884</td>\n",
       "      <td>0.023232</td>\n",
       "      <td>-0.000376</td>\n",
       "      <td>547.495430</td>\n",
       "      <td>6.150996</td>\n",
       "      <td>3945.859300</td>\n",
       "      <td>-186.771902</td>\n",
       "      <td>-5164.378666</td>\n",
       "      <td>-1403.165916</td>\n",
       "      <td>-12.736610</td>\n",
       "      <td>17.321556</td>\n",
       "      <td>1.521071</td>\n",
       "      <td>0.010705</td>\n",
       "      <td>-0.224052</td>\n",
       "      <td>0.000394</td>\n",
       "      <td>9.813434</td>\n",
       "      <td>0.108875</td>\n",
       "    </tr>\n",
       "    <tr>\n",
       "      <th>4</th>\n",
       "      <td>6</td>\n",
       "      <td>4.586721</td>\n",
       "      <td>197.812785</td>\n",
       "      <td>0.490616</td>\n",
       "      <td>9.538043</td>\n",
       "      <td>2.355059</td>\n",
       "      <td>0.003877</td>\n",
       "      <td>0.000436</td>\n",
       "      <td>0.002930</td>\n",
       "      <td>547.000000</td>\n",
       "      <td>4.628921</td>\n",
       "      <td>3158.152397</td>\n",
       "      <td>293.796925</td>\n",
       "      <td>5215.909839</td>\n",
       "      <td>1286.210423</td>\n",
       "      <td>2.599539</td>\n",
       "      <td>0.593328</td>\n",
       "      <td>2.399600</td>\n",
       "      <td>0.002100</td>\n",
       "      <td>0.007564</td>\n",
       "      <td>0.005758</td>\n",
       "      <td>9.918090</td>\n",
       "      <td>0.089589</td>\n",
       "    </tr>\n",
       "    <tr>\n",
       "      <th>...</th>\n",
       "      <td>...</td>\n",
       "      <td>...</td>\n",
       "      <td>...</td>\n",
       "      <td>...</td>\n",
       "      <td>...</td>\n",
       "      <td>...</td>\n",
       "      <td>...</td>\n",
       "      <td>...</td>\n",
       "      <td>...</td>\n",
       "      <td>...</td>\n",
       "      <td>...</td>\n",
       "      <td>...</td>\n",
       "      <td>...</td>\n",
       "      <td>...</td>\n",
       "      <td>...</td>\n",
       "      <td>...</td>\n",
       "      <td>...</td>\n",
       "      <td>...</td>\n",
       "      <td>...</td>\n",
       "      <td>...</td>\n",
       "      <td>...</td>\n",
       "      <td>...</td>\n",
       "      <td>...</td>\n",
       "    </tr>\n",
       "    <tr>\n",
       "      <th>8139</th>\n",
       "      <td>635655159970</td>\n",
       "      <td>3.892344</td>\n",
       "      <td>140.297398</td>\n",
       "      <td>0.326105</td>\n",
       "      <td>9.598309</td>\n",
       "      <td>2.191064</td>\n",
       "      <td>-0.004107</td>\n",
       "      <td>-0.002336</td>\n",
       "      <td>-0.001307</td>\n",
       "      <td>526.724907</td>\n",
       "      <td>12.920234</td>\n",
       "      <td>8889.756058</td>\n",
       "      <td>183.216752</td>\n",
       "      <td>5062.114619</td>\n",
       "      <td>1146.648767</td>\n",
       "      <td>-3.820055</td>\n",
       "      <td>-0.596761</td>\n",
       "      <td>-0.501094</td>\n",
       "      <td>-0.011113</td>\n",
       "      <td>-0.024755</td>\n",
       "      <td>-0.009894</td>\n",
       "      <td>9.937882</td>\n",
       "      <td>0.130525</td>\n",
       "    </tr>\n",
       "    <tr>\n",
       "      <th>8140</th>\n",
       "      <td>635655159971</td>\n",
       "      <td>9.197392</td>\n",
       "      <td>206.606686</td>\n",
       "      <td>-1.223344</td>\n",
       "      <td>9.518680</td>\n",
       "      <td>-2.672515</td>\n",
       "      <td>-0.014633</td>\n",
       "      <td>-0.005800</td>\n",
       "      <td>-0.025334</td>\n",
       "      <td>571.878073</td>\n",
       "      <td>9.478112</td>\n",
       "      <td>7908.608466</td>\n",
       "      <td>-720.926864</td>\n",
       "      <td>5453.798327</td>\n",
       "      <td>-1550.879710</td>\n",
       "      <td>-8.017773</td>\n",
       "      <td>-5.796650</td>\n",
       "      <td>-14.643691</td>\n",
       "      <td>0.015261</td>\n",
       "      <td>-0.054585</td>\n",
       "      <td>0.068222</td>\n",
       "      <td>10.022862</td>\n",
       "      <td>0.155660</td>\n",
       "    </tr>\n",
       "    <tr>\n",
       "      <th>8141</th>\n",
       "      <td>644245094400</td>\n",
       "      <td>4.407753</td>\n",
       "      <td>134.405889</td>\n",
       "      <td>-3.200973</td>\n",
       "      <td>7.366686</td>\n",
       "      <td>4.064176</td>\n",
       "      <td>0.043626</td>\n",
       "      <td>-0.037832</td>\n",
       "      <td>-0.023008</td>\n",
       "      <td>485.582545</td>\n",
       "      <td>8.421009</td>\n",
       "      <td>5218.333176</td>\n",
       "      <td>-2284.889241</td>\n",
       "      <td>3291.074328</td>\n",
       "      <td>1510.036674</td>\n",
       "      <td>37.870827</td>\n",
       "      <td>-26.732559</td>\n",
       "      <td>-16.338340</td>\n",
       "      <td>-0.456219</td>\n",
       "      <td>-0.215260</td>\n",
       "      <td>-0.086213</td>\n",
       "      <td>9.915128</td>\n",
       "      <td>0.290968</td>\n",
       "    </tr>\n",
       "    <tr>\n",
       "      <th>8142</th>\n",
       "      <td>644245094401</td>\n",
       "      <td>6.901443</td>\n",
       "      <td>171.840000</td>\n",
       "      <td>0.274707</td>\n",
       "      <td>8.726816</td>\n",
       "      <td>4.341636</td>\n",
       "      <td>-0.036109</td>\n",
       "      <td>-0.189896</td>\n",
       "      <td>-0.091221</td>\n",
       "      <td>189.400000</td>\n",
       "      <td>8.029307</td>\n",
       "      <td>1341.474240</td>\n",
       "      <td>68.398869</td>\n",
       "      <td>1649.123435</td>\n",
       "      <td>826.952277</td>\n",
       "      <td>-5.509963</td>\n",
       "      <td>-35.847701</td>\n",
       "      <td>-14.451565</td>\n",
       "      <td>-0.041584</td>\n",
       "      <td>-1.630959</td>\n",
       "      <td>-0.411285</td>\n",
       "      <td>9.819511</td>\n",
       "      <td>0.695246</td>\n",
       "    </tr>\n",
       "    <tr>\n",
       "      <th>8143</th>\n",
       "      <td>644245094404</td>\n",
       "      <td>4.056629</td>\n",
       "      <td>83.316176</td>\n",
       "      <td>0.527445</td>\n",
       "      <td>9.602063</td>\n",
       "      <td>1.535153</td>\n",
       "      <td>0.003450</td>\n",
       "      <td>0.003919</td>\n",
       "      <td>-0.004774</td>\n",
       "      <td>135.742647</td>\n",
       "      <td>16.491105</td>\n",
       "      <td>1935.123751</td>\n",
       "      <td>68.087771</td>\n",
       "      <td>1298.471625</td>\n",
       "      <td>201.046859</td>\n",
       "      <td>0.578987</td>\n",
       "      <td>0.495915</td>\n",
       "      <td>-1.106378</td>\n",
       "      <td>0.002770</td>\n",
       "      <td>0.042208</td>\n",
       "      <td>-0.007535</td>\n",
       "      <td>9.825351</td>\n",
       "      <td>0.048757</td>\n",
       "    </tr>\n",
       "  </tbody>\n",
       "</table>\n",
       "<p>8144 rows × 23 columns</p>\n",
       "</div>"
      ],
      "text/plain": [
       "         bookingID   Accuracy  ...  acceleration_magnitude  gyro_magnitude\n",
       "0                0  10.165339  ...                9.886164        0.100772\n",
       "1                1   3.718763  ...                9.862507        0.066187\n",
       "2                2   3.930626  ...                9.929590        0.097433\n",
       "3                4  10.000000  ...                9.813434        0.108875\n",
       "4                6   4.586721  ...                9.918090        0.089589\n",
       "...            ...        ...  ...                     ...             ...\n",
       "8139  635655159970   3.892344  ...                9.937882        0.130525\n",
       "8140  635655159971   9.197392  ...               10.022862        0.155660\n",
       "8141  644245094400   4.407753  ...                9.915128        0.290968\n",
       "8142  644245094401   6.901443  ...                9.819511        0.695246\n",
       "8143  644245094404   4.056629  ...                9.825351        0.048757\n",
       "\n",
       "[8144 rows x 23 columns]"
      ]
     },
     "execution_count": 29,
     "metadata": {
      "tags": []
     },
     "output_type": "execute_result"
    }
   ],
   "source": [
    "X = grouped_safety.drop(['label'], axis = 1)\n",
    "X"
   ]
  },
  {
   "cell_type": "code",
   "execution_count": 30,
   "metadata": {
    "colab": {
     "base_uri": "https://localhost:8080/"
    },
    "id": "cCwq1G_YCfBp",
    "outputId": "ef4b71fc-5170-4d68-f8f1-c729cab0aa74"
   },
   "outputs": [
    {
     "data": {
      "text/plain": [
       "0       0\n",
       "1       1\n",
       "2       1\n",
       "3       1\n",
       "4       0\n",
       "       ..\n",
       "8139    0\n",
       "8140    0\n",
       "8141    0\n",
       "8142    0\n",
       "8143    0\n",
       "Name: label, Length: 8144, dtype: int64"
      ]
     },
     "execution_count": 30,
     "metadata": {
      "tags": []
     },
     "output_type": "execute_result"
    }
   ],
   "source": [
    "y = grouped_safety['label']\n",
    "y = y.astype('int')\n",
    "y"
   ]
  },
  {
   "cell_type": "code",
   "execution_count": 31,
   "metadata": {
    "id": "Xk3xIGG8Okg-"
   },
   "outputs": [],
   "source": [
    "from sklearn.model_selection import train_test_split\n",
    "X_train , X_test, y_train, y_test = train_test_split(\n",
    "    X , y  , test_size = 0.3, random_state = 38\n",
    ")"
   ]
  },
  {
   "cell_type": "code",
   "execution_count": 32,
   "metadata": {
    "colab": {
     "base_uri": "https://localhost:8080/"
    },
    "id": "Vdt1_1HCOpTM",
    "outputId": "fbdb0efe-5110-4ab1-9dcb-9b6e0463b70f"
   },
   "outputs": [
    {
     "name": "stdout",
     "output_type": "stream",
     "text": [
      "X_train (5700, 23)\n",
      "y_train (5700,)\n",
      "X_test (2444, 23)\n",
      "y_test (2444,)\n"
     ]
    }
   ],
   "source": [
    "print(\"X_train\", X_train.shape)\n",
    "print(\"y_train\", y_train.shape)\n",
    "print(\"X_test\", X_test.shape)\n",
    "print(\"y_test\", y_test.shape)"
   ]
  },
  {
   "cell_type": "code",
   "execution_count": 33,
   "metadata": {
    "id": "HdEA61MSPIz8"
   },
   "outputs": [],
   "source": [
    "from sklearn.preprocessing import StandardScaler\n",
    "scaler = StandardScaler()\n",
    "X_train = scaler.fit_transform(X_train)\n",
    "X_test = scaler.fit_transform(X_test)"
   ]
  },
  {
   "cell_type": "code",
   "execution_count": 34,
   "metadata": {
    "colab": {
     "base_uri": "https://localhost:8080/"
    },
    "id": "pVwGTKfBPIxv",
    "outputId": "7e1829f8-1fec-409c-d0fd-3a5da68209a0"
   },
   "outputs": [
    {
     "name": "stdout",
     "output_type": "stream",
     "text": [
      "X_train (5700, 23)\n",
      "y_train (5700,)\n",
      "X_test (2444, 23)\n",
      "y_test (2444,)\n"
     ]
    }
   ],
   "source": [
    "print(\"X_train\", X_train.shape)\n",
    "print(\"y_train\", y_train.shape)\n",
    "print(\"X_test\", X_test.shape)\n",
    "print(\"y_test\", y_test.shape)"
   ]
  },
  {
   "cell_type": "code",
   "execution_count": 35,
   "metadata": {
    "colab": {
     "base_uri": "https://localhost:8080/"
    },
    "id": "cBf66qgKPIv3",
    "outputId": "72ccd3c2-fd82-4373-e424-3e4a9f0c8008"
   },
   "outputs": [
    {
     "name": "stdout",
     "output_type": "stream",
     "text": [
      "Model: \"sequential\"\n",
      "_________________________________________________________________\n",
      "Layer (type)                 Output Shape              Param #   \n",
      "=================================================================\n",
      "dense (Dense)                (None, 100)               2400      \n",
      "_________________________________________________________________\n",
      "dense_1 (Dense)              (None, 20)                2020      \n",
      "_________________________________________________________________\n",
      "dense_2 (Dense)              (None, 1)                 21        \n",
      "=================================================================\n",
      "Total params: 4,441\n",
      "Trainable params: 4,441\n",
      "Non-trainable params: 0\n",
      "_________________________________________________________________\n",
      "None\n",
      "Epoch 1/25\n",
      "1/1 - 0s - loss: 0.6856 - accuracy: 0.5563 - val_loss: 0.6739 - val_accuracy: 0.6162\n",
      "Epoch 2/25\n",
      "1/1 - 0s - loss: 0.6724 - accuracy: 0.6144 - val_loss: 0.6611 - val_accuracy: 0.6559\n",
      "Epoch 3/25\n",
      "1/1 - 0s - loss: 0.6601 - accuracy: 0.6628 - val_loss: 0.6494 - val_accuracy: 0.6907\n",
      "Epoch 4/25\n",
      "1/1 - 0s - loss: 0.6487 - accuracy: 0.7037 - val_loss: 0.6387 - val_accuracy: 0.7160\n",
      "Epoch 5/25\n",
      "1/1 - 0s - loss: 0.6381 - accuracy: 0.7332 - val_loss: 0.6290 - val_accuracy: 0.7353\n",
      "Epoch 6/25\n",
      "1/1 - 0s - loss: 0.6283 - accuracy: 0.7521 - val_loss: 0.6202 - val_accuracy: 0.7488\n",
      "Epoch 7/25\n",
      "1/1 - 0s - loss: 0.6193 - accuracy: 0.7604 - val_loss: 0.6123 - val_accuracy: 0.7557\n",
      "Epoch 8/25\n",
      "1/1 - 0s - loss: 0.6110 - accuracy: 0.7653 - val_loss: 0.6052 - val_accuracy: 0.7598\n",
      "Epoch 9/25\n",
      "1/1 - 0s - loss: 0.6034 - accuracy: 0.7665 - val_loss: 0.5988 - val_accuracy: 0.7619\n",
      "Epoch 10/25\n",
      "1/1 - 0s - loss: 0.5963 - accuracy: 0.7684 - val_loss: 0.5930 - val_accuracy: 0.7631\n",
      "Epoch 11/25\n",
      "1/1 - 0s - loss: 0.5898 - accuracy: 0.7691 - val_loss: 0.5878 - val_accuracy: 0.7631\n",
      "Epoch 12/25\n",
      "1/1 - 0s - loss: 0.5837 - accuracy: 0.7695 - val_loss: 0.5831 - val_accuracy: 0.7631\n",
      "Epoch 13/25\n",
      "1/1 - 0s - loss: 0.5779 - accuracy: 0.7695 - val_loss: 0.5787 - val_accuracy: 0.7639\n",
      "Epoch 14/25\n",
      "1/1 - 0s - loss: 0.5726 - accuracy: 0.7698 - val_loss: 0.5747 - val_accuracy: 0.7639\n",
      "Epoch 15/25\n",
      "1/1 - 0s - loss: 0.5675 - accuracy: 0.7698 - val_loss: 0.5709 - val_accuracy: 0.7643\n",
      "Epoch 16/25\n",
      "1/1 - 0s - loss: 0.5627 - accuracy: 0.7700 - val_loss: 0.5673 - val_accuracy: 0.7643\n",
      "Epoch 17/25\n",
      "1/1 - 0s - loss: 0.5582 - accuracy: 0.7702 - val_loss: 0.5639 - val_accuracy: 0.7647\n",
      "Epoch 18/25\n",
      "1/1 - 0s - loss: 0.5538 - accuracy: 0.7702 - val_loss: 0.5607 - val_accuracy: 0.7647\n",
      "Epoch 19/25\n",
      "1/1 - 0s - loss: 0.5496 - accuracy: 0.7702 - val_loss: 0.5576 - val_accuracy: 0.7651\n",
      "Epoch 20/25\n",
      "1/1 - 0s - loss: 0.5456 - accuracy: 0.7702 - val_loss: 0.5546 - val_accuracy: 0.7655\n",
      "Epoch 21/25\n",
      "1/1 - 0s - loss: 0.5417 - accuracy: 0.7707 - val_loss: 0.5517 - val_accuracy: 0.7660\n",
      "Epoch 22/25\n",
      "1/1 - 0s - loss: 0.5379 - accuracy: 0.7707 - val_loss: 0.5488 - val_accuracy: 0.7664\n",
      "Epoch 23/25\n",
      "1/1 - 0s - loss: 0.5343 - accuracy: 0.7711 - val_loss: 0.5460 - val_accuracy: 0.7672\n",
      "Epoch 24/25\n",
      "1/1 - 0s - loss: 0.5308 - accuracy: 0.7712 - val_loss: 0.5433 - val_accuracy: 0.7668\n",
      "Epoch 25/25\n",
      "1/1 - 0s - loss: 0.5274 - accuracy: 0.7714 - val_loss: 0.5406 - val_accuracy: 0.7655\n",
      "Baseline Error: 23.45%\n",
      "\n",
      "accuracy: 76.55%\n"
     ]
    }
   ],
   "source": [
    "from tensorflow.keras.models import Sequential\n",
    "from tensorflow.keras.layers import Dense\n",
    "from tensorflow.keras.layers import Dropout\n",
    "from tensorflow.keras.callbacks import EarlyStopping\n",
    "\n",
    "# build the model\n",
    "# create model\n",
    "model = Sequential()\n",
    "model.add(Dense(100, input_dim=23, activation='relu'))\n",
    "model.add(Dense(20,activation='relu'))\n",
    "\n",
    "# add output layer\n",
    "model.add(Dense(1, activation='sigmoid'))\n",
    "\n",
    "# Compile model\n",
    "model.compile(loss='binary_crossentropy', \n",
    "              optimizer='adam', metrics=['accuracy'])\n",
    "\n",
    "print(model.summary())\n",
    "\n",
    "callback = EarlyStopping(monitor='val_loss', patience = 10, verbose = 2)\n",
    "\n",
    "# Fit the model\n",
    "history = model.fit(X_train, y_train, validation_data=(X_test, y_test), \n",
    "          epochs=25, batch_size=10000,callbacks=[callback], verbose=2)\n",
    "\n",
    "# Final evaluation of the model\n",
    "scores = model.evaluate(X_test, y_test, verbose=0)\n",
    "print(\"Baseline Error: %.2f%%\" % (100-scores[1]*100))\n",
    "print(\"\\n%s: %.2f%%\" % (model.metrics_names[1], scores[1]*100))\n"
   ]
  },
  {
   "cell_type": "code",
   "execution_count": 36,
   "metadata": {
    "colab": {
     "base_uri": "https://localhost:8080/",
     "height": 295
    },
    "id": "wQOreS71PItu",
    "outputId": "d5d2328b-5081-403c-dab2-19cf494f7c37"
   },
   "outputs": [
    {
     "data": {
      "image/png": "[encoded data removed]",
      "text/plain": [
       "<Figure size 432x288 with 1 Axes>"
      ]
     },
     "metadata": {
      "needs_background": "light",
      "tags": []
     },
     "output_type": "display_data"
    }
   ],
   "source": [
    "# Plot history: Accuracy\n",
    "# plt.ylim(0.8, 1.05)\n",
    "plt.plot(history.history['accuracy'], label='Accuracy (training data)')\n",
    "plt.plot(history.history['val_accuracy'], label='Accuracy (validation data)')\n",
    "plt.title('MLP model accuracy')\n",
    "plt.ylabel('Accuracy')\n",
    "plt.xlabel('No. epoch')\n",
    "plt.legend(loc=\"lower right\")\n",
    "plt.show()"
   ]
  },
  {
   "cell_type": "code",
   "execution_count": 37,
   "metadata": {
    "colab": {
     "base_uri": "https://localhost:8080/",
     "height": 295
    },
    "id": "dAf5tn7-PIpP",
    "outputId": "e6fb74ed-ad5d-412e-c99b-d2fb76f765f3"
   },
   "outputs": [
    {
     "data": {
      "image/png": "[encoded data removed]",
      "text/plain": [
       "<Figure size 432x288 with 1 Axes>"
      ]
     },
     "metadata": {
      "needs_background": "light",
      "tags": []
     },
     "output_type": "display_data"
    }
   ],
   "source": [
    "# Plot history: Loss\n",
    "# plt.ylim(-0.05, 0.6)\n",
    "plt.plot(history.history['loss'], label='Crossentropy loss (training data)')\n",
    "plt.plot(history.history['val_loss'], label='Crossentropy loss (validation data)')\n",
    "plt.title('MLP model loss')\n",
    "plt.ylabel('Crossentropy loss')\n",
    "plt.xlabel('No. epoch')\n",
    "plt.legend(loc=\"upper right\")\n",
    "plt.show()"
   ]
  },
  {
   "cell_type": "code",
   "execution_count": 37,
   "metadata": {
    "id": "kZH4FeksJIMY"
   },
   "outputs": [],
   "source": []
  },
  {
   "cell_type": "code",
   "execution_count": 37,
   "metadata": {
    "id": "6E2xjfQWJIK2"
   },
   "outputs": [],
   "source": []
  },
  {
   "cell_type": "code",
   "execution_count": 37,
   "metadata": {
    "id": "ddMHVY_kJIJl"
   },
   "outputs": [],
   "source": []
  },
  {
   "cell_type": "code",
   "execution_count": 37,
   "metadata": {
    "id": "hIsn_pZWJIF1"
   },
   "outputs": [],
   "source": []
  },
  {
   "cell_type": "code",
   "execution_count": 37,
   "metadata": {
    "id": "3v0ojOkDJIDu"
   },
   "outputs": [],
   "source": []
  },
  {
   "cell_type": "code",
   "execution_count": 37,
   "metadata": {
    "id": "dyVTaC-_JIA4"
   },
   "outputs": [],
   "source": []
  },
  {
   "cell_type": "code",
   "execution_count": 37,
   "metadata": {
    "id": "Lk9IuU9gJH-b"
   },
   "outputs": [],
   "source": []
  }
 ],
 "metadata": {
  "accelerator": "GPU",
  "colab": {
   "collapsed_sections": [],
   "name": "safety.ipynb",
   "provenance": [],
   "toc_visible": true
  },
  "kernelspec": {
   "display_name": "Python 3",
   "language": "python",
   "name": "python3"
  },
  "language_info": {
   "codemirror_mode": {
    "name": "ipython",
    "version": 3
   },
   "file_extension": ".py",
   "mimetype": "text/x-python",
   "name": "python",
   "nbconvert_exporter": "python",
   "pygments_lexer": "ipython3",
   "version": "3.7.7"
  }
 },
 "nbformat": 4,
 "nbformat_minor": 1
}
