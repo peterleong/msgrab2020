{
  "nbformat": 4,
  "nbformat_minor": 0,
  "metadata": {
    "kernelspec": {
      "display_name": "Python 3",
      "language": "python",
      "name": "python3"
    },
    "language_info": {
      "codemirror_mode": {
        "name": "ipython",
        "version": 3
      },
      "file_extension": ".py",
      "mimetype": "text/x-python",
      "name": "python",
      "nbconvert_exporter": "python",
      "pygments_lexer": "ipython3",
      "version": "3.8.3"
    },
    "colab": {
      "name": "Safety.ipynb",
      "provenance": []
    }
  },
  "cells": [
    {
      "cell_type": "code",
      "metadata": {
        "id": "FZ4e_AvQ2_CJ"
      },
      "source": [
        "# Suppress Future Warnings\n",
        "import warnings\n",
        "#warnings.simplefilter(action='ignore', category=FutureWarning)\n",
        "warnings.filterwarnings('ignore')"
      ],
      "execution_count": null,
      "outputs": []
    },
    {
      "cell_type": "markdown",
      "metadata": {
        "id": "z7SOtxrN2_CJ"
      },
      "source": [
        "# Data Importing"
      ]
    },
    {
      "cell_type": "code",
      "metadata": {
        "id": "Ccgw_7h82_CJ",
        "outputId": "491c16bb-824a-4bdf-8eaf-8baf0f611788"
      },
      "source": [
        "import sklearn\n",
        "from sklearn import datasets \n",
        "import numpy as np\n",
        "import pandas as pd\n",
        "from matplotlib import pyplot as plt\n",
        "import seaborn as sns\n",
        "import platform\n",
        "import os\n",
        "%matplotlib inline\n",
        "\n",
        "#show the versions of the libraries that are currently in use\n",
        "message=\"        Versions        \"\n",
        "print(\"*\"*len(message))\n",
        "print(message)\n",
        "print(\"*\"*len(message))\n",
        "print(\"Scikit-learn version={}\".format(sklearn.__version__))\n",
        "print(\"Numpy version={}\".format(np.__version__))\n",
        "print(\"Pandas version={}\".format(pd.__version__))\n",
        "print(\"Seaborn version={}\".format(sns.__version__))\n",
        "print(\"Python version={}\".format(platform.python_version()))"
      ],
      "execution_count": null,
      "outputs": [
        {
          "output_type": "stream",
          "text": [
            "************************\n",
            "        Versions        \n",
            "************************\n",
            "Scikit-learn version=0.23.1\n",
            "Numpy version=1.18.5\n",
            "Pandas version=1.0.5\n",
            "Seaborn version=0.10.1\n",
            "Python version=3.8.3\n"
          ],
          "name": "stdout"
        }
      ]
    },
    {
      "cell_type": "code",
      "metadata": {
        "id": "cGO7DrWz2_CK",
        "outputId": "3100c4d3-1d47-49cb-8cfa-79a1429afdf1"
      },
      "source": [
        "#Import train data \n",
        "#os.chdir('D:\\GRAB - Safety')\n",
        "\n",
        "train_df = pd.read_csv(\"Safety_DataSet_Aggregated.csv\")\n",
        "train_df.head()"
      ],
      "execution_count": null,
      "outputs": [
        {
          "output_type": "execute_result",
          "data": {
            "text/html": [
              "<div>\n",
              "<style scoped>\n",
              "    .dataframe tbody tr th:only-of-type {\n",
              "        vertical-align: middle;\n",
              "    }\n",
              "\n",
              "    .dataframe tbody tr th {\n",
              "        vertical-align: top;\n",
              "    }\n",
              "\n",
              "    .dataframe thead th {\n",
              "        text-align: right;\n",
              "    }\n",
              "</style>\n",
              "<table border=\"1\" class=\"dataframe\">\n",
              "  <thead>\n",
              "    <tr style=\"text-align: right;\">\n",
              "      <th></th>\n",
              "      <th>bookingID</th>\n",
              "      <th>Accuracy</th>\n",
              "      <th>Bearing</th>\n",
              "      <th>acceleration_x</th>\n",
              "      <th>acceleration_y</th>\n",
              "      <th>acceleration_z</th>\n",
              "      <th>gyro_x</th>\n",
              "      <th>gyro_y</th>\n",
              "      <th>gyro_z</th>\n",
              "      <th>second</th>\n",
              "      <th>Speed</th>\n",
              "      <th>label</th>\n",
              "    </tr>\n",
              "  </thead>\n",
              "  <tbody>\n",
              "    <tr>\n",
              "      <th>0</th>\n",
              "      <td>0</td>\n",
              "      <td>12.0</td>\n",
              "      <td>143.298294</td>\n",
              "      <td>0.818112</td>\n",
              "      <td>-9.941461</td>\n",
              "      <td>-2.014999</td>\n",
              "      <td>-0.016245</td>\n",
              "      <td>-0.094040</td>\n",
              "      <td>0.070732</td>\n",
              "      <td>0.0</td>\n",
              "      <td>3.442991</td>\n",
              "      <td>0</td>\n",
              "    </tr>\n",
              "    <tr>\n",
              "      <th>1</th>\n",
              "      <td>0</td>\n",
              "      <td>8.0</td>\n",
              "      <td>143.298294</td>\n",
              "      <td>0.546405</td>\n",
              "      <td>-9.835590</td>\n",
              "      <td>-2.038925</td>\n",
              "      <td>-0.047092</td>\n",
              "      <td>-0.078874</td>\n",
              "      <td>0.043187</td>\n",
              "      <td>1.0</td>\n",
              "      <td>0.228454</td>\n",
              "      <td>0</td>\n",
              "    </tr>\n",
              "    <tr>\n",
              "      <th>2</th>\n",
              "      <td>0</td>\n",
              "      <td>8.0</td>\n",
              "      <td>143.298294</td>\n",
              "      <td>-1.706207</td>\n",
              "      <td>-9.270792</td>\n",
              "      <td>-1.209448</td>\n",
              "      <td>-0.028965</td>\n",
              "      <td>-0.032652</td>\n",
              "      <td>0.015390</td>\n",
              "      <td>2.0</td>\n",
              "      <td>0.228454</td>\n",
              "      <td>0</td>\n",
              "    </tr>\n",
              "    <tr>\n",
              "      <th>3</th>\n",
              "      <td>0</td>\n",
              "      <td>8.0</td>\n",
              "      <td>143.298294</td>\n",
              "      <td>-1.416705</td>\n",
              "      <td>-9.548032</td>\n",
              "      <td>-1.860977</td>\n",
              "      <td>-0.022413</td>\n",
              "      <td>0.005049</td>\n",
              "      <td>-0.025753</td>\n",
              "      <td>3.0</td>\n",
              "      <td>0.228454</td>\n",
              "      <td>0</td>\n",
              "    </tr>\n",
              "    <tr>\n",
              "      <th>4</th>\n",
              "      <td>0</td>\n",
              "      <td>8.0</td>\n",
              "      <td>143.298294</td>\n",
              "      <td>-0.598145</td>\n",
              "      <td>-9.853534</td>\n",
              "      <td>-1.378574</td>\n",
              "      <td>-0.014297</td>\n",
              "      <td>-0.046206</td>\n",
              "      <td>0.021902</td>\n",
              "      <td>4.0</td>\n",
              "      <td>0.228454</td>\n",
              "      <td>0</td>\n",
              "    </tr>\n",
              "  </tbody>\n",
              "</table>\n",
              "</div>"
            ],
            "text/plain": [
              "   bookingID  Accuracy     Bearing  acceleration_x  acceleration_y  \\\n",
              "0          0      12.0  143.298294        0.818112       -9.941461   \n",
              "1          0       8.0  143.298294        0.546405       -9.835590   \n",
              "2          0       8.0  143.298294       -1.706207       -9.270792   \n",
              "3          0       8.0  143.298294       -1.416705       -9.548032   \n",
              "4          0       8.0  143.298294       -0.598145       -9.853534   \n",
              "\n",
              "   acceleration_z    gyro_x    gyro_y    gyro_z  second     Speed  label  \n",
              "0       -2.014999 -0.016245 -0.094040  0.070732     0.0  3.442991      0  \n",
              "1       -2.038925 -0.047092 -0.078874  0.043187     1.0  0.228454      0  \n",
              "2       -1.209448 -0.028965 -0.032652  0.015390     2.0  0.228454      0  \n",
              "3       -1.860977 -0.022413  0.005049 -0.025753     3.0  0.228454      0  \n",
              "4       -1.378574 -0.014297 -0.046206  0.021902     4.0  0.228454      0  "
            ]
          },
          "metadata": {
            "tags": []
          },
          "execution_count": 4
        }
      ]
    },
    {
      "cell_type": "markdown",
      "metadata": {
        "id": "ySEzX8992_CL"
      },
      "source": [
        "# Exploratory Data Analysis"
      ]
    },
    {
      "cell_type": "code",
      "metadata": {
        "id": "W1KtbTVc2_CL",
        "outputId": "e5b26442-e4c3-4f58-828b-1b985ebe6b13"
      },
      "source": [
        "#Showing all the information about the dataset\n",
        "\n",
        "msg=\"Information of the Train Dataset\"\n",
        "print(\"*\"*len(msg))\n",
        "print(msg)\n",
        "print(\"*\"*len(msg))\n",
        "print(train_df.info())\n",
        "print()\n",
        "\n",
        "msg=\"Columns in the Train Dataset\"\n",
        "print(\"*\"*len(msg))\n",
        "print(msg)\n",
        "print(\"*\"*len(msg))\n",
        "print(train_df.columns)\n",
        "print()\n",
        "\n",
        "msg=\"Shape of the Train Dataset\"\n",
        "print(\"*\"*len(msg))\n",
        "print(msg)\n",
        "print(\"*\"*len(msg))\n",
        "print(train_df.shape)\n",
        "print()\n",
        "\n",
        "msg=\"Descriptive statistical summary of the train dataset is shown below: \"\n",
        "print(\"*\"*len(msg))\n",
        "print(msg)\n",
        "print(\"*\"*len(msg))\n",
        "train_df.describe()"
      ],
      "execution_count": null,
      "outputs": [
        {
          "output_type": "stream",
          "text": [
            "********************************\n",
            "Information of the Train Dataset\n",
            "********************************\n",
            "<class 'pandas.core.frame.DataFrame'>\n",
            "RangeIndex: 16154418 entries, 0 to 16154417\n",
            "Data columns (total 12 columns):\n",
            " #   Column          Dtype  \n",
            "---  ------          -----  \n",
            " 0   bookingID       int64  \n",
            " 1   Accuracy        float64\n",
            " 2   Bearing         float64\n",
            " 3   acceleration_x  float64\n",
            " 4   acceleration_y  float64\n",
            " 5   acceleration_z  float64\n",
            " 6   gyro_x          float64\n",
            " 7   gyro_y          float64\n",
            " 8   gyro_z          float64\n",
            " 9   second          float64\n",
            " 10  Speed           float64\n",
            " 11  label           int64  \n",
            "dtypes: float64(10), int64(2)\n",
            "memory usage: 1.4 GB\n",
            "None\n",
            "\n",
            "****************************\n",
            "Columns in the Train Dataset\n",
            "****************************\n",
            "Index(['bookingID', 'Accuracy', 'Bearing', 'acceleration_x', 'acceleration_y',\n",
            "       'acceleration_z', 'gyro_x', 'gyro_y', 'gyro_z', 'second', 'Speed',\n",
            "       'label'],\n",
            "      dtype='object')\n",
            "\n",
            "**************************\n",
            "Shape of the Train Dataset\n",
            "**************************\n",
            "(16154418, 12)\n",
            "\n",
            "*********************************************************************\n",
            "Descriptive statistical summary of the train dataset is shown below: \n",
            "*********************************************************************\n"
          ],
          "name": "stdout"
        },
        {
          "output_type": "execute_result",
          "data": {
            "text/html": [
              "<div>\n",
              "<style scoped>\n",
              "    .dataframe tbody tr th:only-of-type {\n",
              "        vertical-align: middle;\n",
              "    }\n",
              "\n",
              "    .dataframe tbody tr th {\n",
              "        vertical-align: top;\n",
              "    }\n",
              "\n",
              "    .dataframe thead th {\n",
              "        text-align: right;\n",
              "    }\n",
              "</style>\n",
              "<table border=\"1\" class=\"dataframe\">\n",
              "  <thead>\n",
              "    <tr style=\"text-align: right;\">\n",
              "      <th></th>\n",
              "      <th>bookingID</th>\n",
              "      <th>Accuracy</th>\n",
              "      <th>Bearing</th>\n",
              "      <th>acceleration_x</th>\n",
              "      <th>acceleration_y</th>\n",
              "      <th>acceleration_z</th>\n",
              "      <th>gyro_x</th>\n",
              "      <th>gyro_y</th>\n",
              "      <th>gyro_z</th>\n",
              "      <th>second</th>\n",
              "      <th>Speed</th>\n",
              "      <th>label</th>\n",
              "    </tr>\n",
              "  </thead>\n",
              "  <tbody>\n",
              "    <tr>\n",
              "      <th>count</th>\n",
              "      <td>1.615442e+07</td>\n",
              "      <td>1.615442e+07</td>\n",
              "      <td>1.615442e+07</td>\n",
              "      <td>1.615442e+07</td>\n",
              "      <td>1.615442e+07</td>\n",
              "      <td>1.615442e+07</td>\n",
              "      <td>1.615442e+07</td>\n",
              "      <td>1.615442e+07</td>\n",
              "      <td>1.615442e+07</td>\n",
              "      <td>1.615442e+07</td>\n",
              "      <td>1.615442e+07</td>\n",
              "      <td>1.615442e+07</td>\n",
              "    </tr>\n",
              "    <tr>\n",
              "      <th>mean</th>\n",
              "      <td>8.185295e+11</td>\n",
              "      <td>1.160744e+01</td>\n",
              "      <td>1.689771e+02</td>\n",
              "      <td>6.931060e-02</td>\n",
              "      <td>4.464359e+00</td>\n",
              "      <td>8.927299e-01</td>\n",
              "      <td>-1.713431e-03</td>\n",
              "      <td>2.663392e-04</td>\n",
              "      <td>-2.538211e-04</td>\n",
              "      <td>3.799905e+03</td>\n",
              "      <td>9.006626e+00</td>\n",
              "      <td>3.057288e-01</td>\n",
              "    </tr>\n",
              "    <tr>\n",
              "      <th>std</th>\n",
              "      <td>4.953377e+11</td>\n",
              "      <td>8.686924e+01</td>\n",
              "      <td>1.072962e+02</td>\n",
              "      <td>1.423701e+00</td>\n",
              "      <td>8.132821e+00</td>\n",
              "      <td>3.252890e+00</td>\n",
              "      <td>1.445047e-01</td>\n",
              "      <td>3.398832e-01</td>\n",
              "      <td>1.480109e-01</td>\n",
              "      <td>1.435848e+06</td>\n",
              "      <td>8.106292e+00</td>\n",
              "      <td>4.607154e-01</td>\n",
              "    </tr>\n",
              "    <tr>\n",
              "      <th>min</th>\n",
              "      <td>0.000000e+00</td>\n",
              "      <td>7.500000e-01</td>\n",
              "      <td>0.000000e+00</td>\n",
              "      <td>-7.841969e+01</td>\n",
              "      <td>-7.299412e+01</td>\n",
              "      <td>-7.844842e+01</td>\n",
              "      <td>-4.845575e+01</td>\n",
              "      <td>-7.488861e+01</td>\n",
              "      <td>-5.355445e+01</td>\n",
              "      <td>0.000000e+00</td>\n",
              "      <td>-2.000000e+00</td>\n",
              "      <td>0.000000e+00</td>\n",
              "    </tr>\n",
              "    <tr>\n",
              "      <th>25%</th>\n",
              "      <td>3.779571e+11</td>\n",
              "      <td>3.900000e+00</td>\n",
              "      <td>7.800000e+01</td>\n",
              "      <td>-5.078247e-01</td>\n",
              "      <td>-2.113992e+00</td>\n",
              "      <td>-9.337672e-01</td>\n",
              "      <td>-2.678341e-02</td>\n",
              "      <td>-2.994671e-02</td>\n",
              "      <td>-1.875904e-02</td>\n",
              "      <td>2.410000e+02</td>\n",
              "      <td>1.020000e+00</td>\n",
              "      <td>0.000000e+00</td>\n",
              "    </tr>\n",
              "    <tr>\n",
              "      <th>50%</th>\n",
              "      <td>8.074539e+11</td>\n",
              "      <td>4.255000e+00</td>\n",
              "      <td>1.689621e+02</td>\n",
              "      <td>6.159973e-02</td>\n",
              "      <td>9.081207e+00</td>\n",
              "      <td>7.740933e-01</td>\n",
              "      <td>-6.442187e-04</td>\n",
              "      <td>2.620612e-04</td>\n",
              "      <td>-3.490659e-05</td>\n",
              "      <td>5.200000e+02</td>\n",
              "      <td>7.530000e+00</td>\n",
              "      <td>0.000000e+00</td>\n",
              "    </tr>\n",
              "    <tr>\n",
              "      <th>75%</th>\n",
              "      <td>1.254130e+12</td>\n",
              "      <td>8.000000e+00</td>\n",
              "      <td>2.630000e+02</td>\n",
              "      <td>6.353790e-01</td>\n",
              "      <td>9.709685e+00</td>\n",
              "      <td>2.749072e+00</td>\n",
              "      <td>2.330015e-02</td>\n",
              "      <td>3.141785e-02</td>\n",
              "      <td>1.823433e-02</td>\n",
              "      <td>8.630000e+02</td>\n",
              "      <td>1.548000e+01</td>\n",
              "      <td>1.000000e+00</td>\n",
              "    </tr>\n",
              "    <tr>\n",
              "      <th>max</th>\n",
              "      <td>1.709397e+12</td>\n",
              "      <td>6.070101e+03</td>\n",
              "      <td>3.599995e+02</td>\n",
              "      <td>6.687346e+01</td>\n",
              "      <td>7.505589e+01</td>\n",
              "      <td>7.805576e+01</td>\n",
              "      <td>3.983975e+01</td>\n",
              "      <td>8.031496e+01</td>\n",
              "      <td>6.630078e+01</td>\n",
              "      <td>1.495797e+09</td>\n",
              "      <td>1.480186e+02</td>\n",
              "      <td>1.000000e+00</td>\n",
              "    </tr>\n",
              "  </tbody>\n",
              "</table>\n",
              "</div>"
            ],
            "text/plain": [
              "          bookingID      Accuracy       Bearing  acceleration_x  \\\n",
              "count  1.615442e+07  1.615442e+07  1.615442e+07    1.615442e+07   \n",
              "mean   8.185295e+11  1.160744e+01  1.689771e+02    6.931060e-02   \n",
              "std    4.953377e+11  8.686924e+01  1.072962e+02    1.423701e+00   \n",
              "min    0.000000e+00  7.500000e-01  0.000000e+00   -7.841969e+01   \n",
              "25%    3.779571e+11  3.900000e+00  7.800000e+01   -5.078247e-01   \n",
              "50%    8.074539e+11  4.255000e+00  1.689621e+02    6.159973e-02   \n",
              "75%    1.254130e+12  8.000000e+00  2.630000e+02    6.353790e-01   \n",
              "max    1.709397e+12  6.070101e+03  3.599995e+02    6.687346e+01   \n",
              "\n",
              "       acceleration_y  acceleration_z        gyro_x        gyro_y  \\\n",
              "count    1.615442e+07    1.615442e+07  1.615442e+07  1.615442e+07   \n",
              "mean     4.464359e+00    8.927299e-01 -1.713431e-03  2.663392e-04   \n",
              "std      8.132821e+00    3.252890e+00  1.445047e-01  3.398832e-01   \n",
              "min     -7.299412e+01   -7.844842e+01 -4.845575e+01 -7.488861e+01   \n",
              "25%     -2.113992e+00   -9.337672e-01 -2.678341e-02 -2.994671e-02   \n",
              "50%      9.081207e+00    7.740933e-01 -6.442187e-04  2.620612e-04   \n",
              "75%      9.709685e+00    2.749072e+00  2.330015e-02  3.141785e-02   \n",
              "max      7.505589e+01    7.805576e+01  3.983975e+01  8.031496e+01   \n",
              "\n",
              "             gyro_z        second         Speed         label  \n",
              "count  1.615442e+07  1.615442e+07  1.615442e+07  1.615442e+07  \n",
              "mean  -2.538211e-04  3.799905e+03  9.006626e+00  3.057288e-01  \n",
              "std    1.480109e-01  1.435848e+06  8.106292e+00  4.607154e-01  \n",
              "min   -5.355445e+01  0.000000e+00 -2.000000e+00  0.000000e+00  \n",
              "25%   -1.875904e-02  2.410000e+02  1.020000e+00  0.000000e+00  \n",
              "50%   -3.490659e-05  5.200000e+02  7.530000e+00  0.000000e+00  \n",
              "75%    1.823433e-02  8.630000e+02  1.548000e+01  1.000000e+00  \n",
              "max    6.630078e+01  1.495797e+09  1.480186e+02  1.000000e+00  "
            ]
          },
          "metadata": {
            "tags": []
          },
          "execution_count": 5
        }
      ]
    },
    {
      "cell_type": "code",
      "metadata": {
        "id": "ooDF8rPo2_CL",
        "outputId": "6e3c4a4e-1f26-4e42-c383-597192f7f40e"
      },
      "source": [
        "#List out the missing values \n",
        "\n",
        "df_train.isnull().sum()"
      ],
      "execution_count": null,
      "outputs": [
        {
          "output_type": "execute_result",
          "data": {
            "text/plain": [
              "bookingID         0\n",
              "Accuracy          0\n",
              "Bearing           0\n",
              "acceleration_x    0\n",
              "acceleration_y    0\n",
              "acceleration_z    0\n",
              "gyro_x            0\n",
              "gyro_y            0\n",
              "gyro_z            0\n",
              "second            0\n",
              "Speed             0\n",
              "label             0\n",
              "dtype: int64"
            ]
          },
          "metadata": {
            "tags": []
          },
          "execution_count": 5
        }
      ]
    },
    {
      "cell_type": "code",
      "metadata": {
        "id": "pT0lFDqc2_CL",
        "outputId": "0957d0c1-9773-462d-d3c4-88771a8d56ea"
      },
      "source": [
        "#heatmap (correlation analysis) -overview \n",
        "plt.figure(figsize=(15,15))\n",
        "sns.heatmap(df_train.corr(),annot=True,cmap='coolwarm')"
      ],
      "execution_count": null,
      "outputs": [
        {
          "output_type": "execute_result",
          "data": {
            "text/plain": [
              "<matplotlib.axes._subplots.AxesSubplot at 0x17f02f74748>"
            ]
          },
          "metadata": {
            "tags": []
          },
          "execution_count": 6
        },
        {
          "output_type": "display_data",
          "data": {
            "image/png": "[encoded data removed]",
            "text/plain": [
              "<Figure size 1080x1080 with 2 Axes>"
            ]
          },
          "metadata": {
            "tags": [],
            "needs_background": "light"
          }
        }
      ]
    },
    {
      "cell_type": "code",
      "metadata": {
        "id": "W6cb3aNd2_CL",
        "outputId": "56671ec2-61f5-4d2b-b2f7-552aaa82d2e6"
      },
      "source": [
        "# Seperated the columns into catergorical variables and numerical variables\n",
        "\n",
        "num_vars=list(df_train.columns[df_train.dtypes != \"object\"])\n",
        "cat_vars=list(df_train.columns[df_train.dtypes == \"object\"])\n",
        "print(\"Categorical Variables: \",cat_vars)\n",
        "print(\"Numerical Variables: \",num_vars)"
      ],
      "execution_count": null,
      "outputs": [
        {
          "output_type": "stream",
          "text": [
            "Categorical Variables:  []\n",
            "Numerical Variables:  ['bookingID', 'Accuracy', 'Bearing', 'acceleration_x', 'acceleration_y', 'acceleration_z', 'gyro_x', 'gyro_y', 'gyro_z', 'second', 'Speed', 'label']\n"
          ],
          "name": "stdout"
        }
      ]
    },
    {
      "cell_type": "code",
      "metadata": {
        "id": "5kNd57o_2_CM",
        "outputId": "06795e5a-2f47-4037-bc19-644937322774"
      },
      "source": [
        "# Type of Driving Trip\n",
        "\n",
        "train_s=train_df['label'].value_counts()[[0]].sum()\n",
        "train_d=train_df['label'].value_counts()[[1]].sum()\n",
        "\n",
        "train_l=[train_s,train_d]\n",
        "train_tag=['Normal','Dangerous']\n",
        "\n",
        "plt.pie(train_l,labels=train_tag,startangle=90,autopct='%.1f%%')\n",
        "plt.title('Percentage of Type of Driving Trip')\n",
        "\n",
        "plt.show()"
      ],
      "execution_count": null,
      "outputs": [
        {
          "output_type": "display_data",
          "data": {
            "image/png": "[encoded data removed]",
            "text/plain": [
              "<Figure size 432x288 with 1 Axes>"
            ]
          },
          "metadata": {
            "tags": []
          }
        }
      ]
    },
    {
      "cell_type": "code",
      "metadata": {
        "id": "bL1NHCR62_CM",
        "outputId": "37b43ebc-66db-4ef0-c4fd-bfc1f926e5a0"
      },
      "source": [
        "#Show the Distrubution of the speed \n",
        "\n",
        "plt.hist(df_train['Speed'], bins=29,color='teal')\n",
        "plt.ylabel('Count')\n",
        "plt.title('Speed of the Vechicle')"
      ],
      "execution_count": null,
      "outputs": [
        {
          "output_type": "execute_result",
          "data": {
            "text/plain": [
              "Text(0.5, 1.0, 'Speed of the Vechicle')"
            ]
          },
          "metadata": {
            "tags": []
          },
          "execution_count": 11
        },
        {
          "output_type": "display_data",
          "data": {
            "image/png": "[encoded data removed]",
            "text/plain": [
              "<Figure size 432x288 with 1 Axes>"
            ]
          },
          "metadata": {
            "tags": [],
            "needs_background": "light"
          }
        }
      ]
    },
    {
      "cell_type": "code",
      "metadata": {
        "id": "w5KQ_k7A2_CM",
        "outputId": "c337ede5-ad09-4c0a-8727-a6d915288903"
      },
      "source": [
        "fig = plt.figure() # create figure\n",
        "\n",
        "ax0 = fig.add_subplot(1, 2, 1) # add subplot 1 (1 row, 2 columns, first plot)\n",
        "ax1 = fig.add_subplot(1, 2, 2) # add subplot 2 (1 row, 2 columns, second plot)\n",
        "box0 = df_train[['acceleration_x','acceleration_y','acceleration_z']]\n",
        "box1 = df_train[['gyro_x','gyro_y','gyro_z']]\n",
        "\n",
        "box0.plot(kind='box', figsize=(20, 6), ax=ax0) # add to subplot 1\n",
        "box1.plot(kind='box', figsize=(20, 6), ax=ax1) # add to subplot 2\n",
        "\n",
        "plt.show()"
      ],
      "execution_count": null,
      "outputs": [
        {
          "output_type": "display_data",
          "data": {
            "image/png": "[encoded data removed]",
            "text/plain": [
              "<Figure size 1440x432 with 2 Axes>"
            ]
          },
          "metadata": {
            "tags": [],
            "needs_background": "light"
          }
        }
      ]
    },
    {
      "cell_type": "markdown",
      "metadata": {
        "id": "mCzxXAC72_CM"
      },
      "source": [
        "# Data Preperation"
      ]
    },
    {
      "cell_type": "markdown",
      "metadata": {
        "id": "Gkvwzdhb2_CM"
      },
      "source": [
        "## Data Cleansing"
      ]
    },
    {
      "cell_type": "code",
      "metadata": {
        "id": "_ZccebPD2_CM"
      },
      "source": [
        "# remove seconds more than 86400 seconds(24hr)\n",
        "\n",
        "overloaded_seconds = train_df.loc[train_df['second'] > 86400].index\n",
        "train_df.drop(overloaded_seconds, inplace = True)"
      ],
      "execution_count": null,
      "outputs": []
    },
    {
      "cell_type": "code",
      "metadata": {
        "id": "lwaAPcZy2_CM"
      },
      "source": [
        "# remove speed less than 0\n",
        "\n",
        "under_speed = train_df.loc[train_df['Speed'] < 0].index\n",
        "train_df.drop(under_speed, inplace = True)"
      ],
      "execution_count": null,
      "outputs": []
    },
    {
      "cell_type": "markdown",
      "metadata": {
        "id": "x5S5Gne-2_CM"
      },
      "source": [
        "## Feature Engineering"
      ]
    },
    {
      "cell_type": "code",
      "metadata": {
        "id": "JTSpNVHD2_CM",
        "outputId": "35eb67fc-60b6-450d-9f34-da5adc76da8e"
      },
      "source": [
        "# speed > 25m/s (singapore's speed limit 90km/hr) \n",
        "\n",
        "train_df['speed_limit'] = train_df['Speed']\n",
        "train_df.loc[train_df['Speed'] > 25, 'speed_limit'] = 'speeding'\n",
        "train_df.loc[train_df['Speed'] < 25, 'speed_limit'] = 'under control'\n",
        "\n",
        "train_df.head()"
      ],
      "execution_count": null,
      "outputs": [
        {
          "output_type": "execute_result",
          "data": {
            "text/html": [
              "<div>\n",
              "<style scoped>\n",
              "    .dataframe tbody tr th:only-of-type {\n",
              "        vertical-align: middle;\n",
              "    }\n",
              "\n",
              "    .dataframe tbody tr th {\n",
              "        vertical-align: top;\n",
              "    }\n",
              "\n",
              "    .dataframe thead th {\n",
              "        text-align: right;\n",
              "    }\n",
              "</style>\n",
              "<table border=\"1\" class=\"dataframe\">\n",
              "  <thead>\n",
              "    <tr style=\"text-align: right;\">\n",
              "      <th></th>\n",
              "      <th>bookingID</th>\n",
              "      <th>Accuracy</th>\n",
              "      <th>Bearing</th>\n",
              "      <th>acceleration_x</th>\n",
              "      <th>acceleration_y</th>\n",
              "      <th>acceleration_z</th>\n",
              "      <th>gyro_x</th>\n",
              "      <th>gyro_y</th>\n",
              "      <th>gyro_z</th>\n",
              "      <th>second</th>\n",
              "      <th>Speed</th>\n",
              "      <th>label</th>\n",
              "      <th>speed_limit</th>\n",
              "    </tr>\n",
              "  </thead>\n",
              "  <tbody>\n",
              "    <tr>\n",
              "      <th>0</th>\n",
              "      <td>0</td>\n",
              "      <td>12.0</td>\n",
              "      <td>143.298294</td>\n",
              "      <td>0.818112</td>\n",
              "      <td>-9.941461</td>\n",
              "      <td>-2.014999</td>\n",
              "      <td>-0.016245</td>\n",
              "      <td>-0.094040</td>\n",
              "      <td>0.070732</td>\n",
              "      <td>0.0</td>\n",
              "      <td>3.442991</td>\n",
              "      <td>0</td>\n",
              "      <td>under control</td>\n",
              "    </tr>\n",
              "    <tr>\n",
              "      <th>1</th>\n",
              "      <td>0</td>\n",
              "      <td>8.0</td>\n",
              "      <td>143.298294</td>\n",
              "      <td>0.546405</td>\n",
              "      <td>-9.835590</td>\n",
              "      <td>-2.038925</td>\n",
              "      <td>-0.047092</td>\n",
              "      <td>-0.078874</td>\n",
              "      <td>0.043187</td>\n",
              "      <td>1.0</td>\n",
              "      <td>0.228454</td>\n",
              "      <td>0</td>\n",
              "      <td>under control</td>\n",
              "    </tr>\n",
              "    <tr>\n",
              "      <th>2</th>\n",
              "      <td>0</td>\n",
              "      <td>8.0</td>\n",
              "      <td>143.298294</td>\n",
              "      <td>-1.706207</td>\n",
              "      <td>-9.270792</td>\n",
              "      <td>-1.209448</td>\n",
              "      <td>-0.028965</td>\n",
              "      <td>-0.032652</td>\n",
              "      <td>0.015390</td>\n",
              "      <td>2.0</td>\n",
              "      <td>0.228454</td>\n",
              "      <td>0</td>\n",
              "      <td>under control</td>\n",
              "    </tr>\n",
              "    <tr>\n",
              "      <th>3</th>\n",
              "      <td>0</td>\n",
              "      <td>8.0</td>\n",
              "      <td>143.298294</td>\n",
              "      <td>-1.416705</td>\n",
              "      <td>-9.548032</td>\n",
              "      <td>-1.860977</td>\n",
              "      <td>-0.022413</td>\n",
              "      <td>0.005049</td>\n",
              "      <td>-0.025753</td>\n",
              "      <td>3.0</td>\n",
              "      <td>0.228454</td>\n",
              "      <td>0</td>\n",
              "      <td>under control</td>\n",
              "    </tr>\n",
              "    <tr>\n",
              "      <th>4</th>\n",
              "      <td>0</td>\n",
              "      <td>8.0</td>\n",
              "      <td>143.298294</td>\n",
              "      <td>-0.598145</td>\n",
              "      <td>-9.853534</td>\n",
              "      <td>-1.378574</td>\n",
              "      <td>-0.014297</td>\n",
              "      <td>-0.046206</td>\n",
              "      <td>0.021902</td>\n",
              "      <td>4.0</td>\n",
              "      <td>0.228454</td>\n",
              "      <td>0</td>\n",
              "      <td>under control</td>\n",
              "    </tr>\n",
              "  </tbody>\n",
              "</table>\n",
              "</div>"
            ],
            "text/plain": [
              "   bookingID  Accuracy     Bearing  acceleration_x  acceleration_y  \\\n",
              "0          0      12.0  143.298294        0.818112       -9.941461   \n",
              "1          0       8.0  143.298294        0.546405       -9.835590   \n",
              "2          0       8.0  143.298294       -1.706207       -9.270792   \n",
              "3          0       8.0  143.298294       -1.416705       -9.548032   \n",
              "4          0       8.0  143.298294       -0.598145       -9.853534   \n",
              "\n",
              "   acceleration_z    gyro_x    gyro_y    gyro_z  second     Speed  label  \\\n",
              "0       -2.014999 -0.016245 -0.094040  0.070732     0.0  3.442991      0   \n",
              "1       -2.038925 -0.047092 -0.078874  0.043187     1.0  0.228454      0   \n",
              "2       -1.209448 -0.028965 -0.032652  0.015390     2.0  0.228454      0   \n",
              "3       -1.860977 -0.022413  0.005049 -0.025753     3.0  0.228454      0   \n",
              "4       -1.378574 -0.014297 -0.046206  0.021902     4.0  0.228454      0   \n",
              "\n",
              "     speed_limit  \n",
              "0  under control  \n",
              "1  under control  \n",
              "2  under control  \n",
              "3  under control  \n",
              "4  under control  "
            ]
          },
          "metadata": {
            "tags": []
          },
          "execution_count": 7
        }
      ]
    },
    {
      "cell_type": "code",
      "metadata": {
        "id": "-fdsp5ai2_CM",
        "outputId": "50c74aac-9d1a-4083-a974-bc79d029908b"
      },
      "source": [
        "#Distance\n",
        "train_df['distance']=train_df['Speed']*train_df['second']\n",
        "train_df.head()"
      ],
      "execution_count": null,
      "outputs": [
        {
          "output_type": "execute_result",
          "data": {
            "text/html": [
              "<div>\n",
              "<style scoped>\n",
              "    .dataframe tbody tr th:only-of-type {\n",
              "        vertical-align: middle;\n",
              "    }\n",
              "\n",
              "    .dataframe tbody tr th {\n",
              "        vertical-align: top;\n",
              "    }\n",
              "\n",
              "    .dataframe thead th {\n",
              "        text-align: right;\n",
              "    }\n",
              "</style>\n",
              "<table border=\"1\" class=\"dataframe\">\n",
              "  <thead>\n",
              "    <tr style=\"text-align: right;\">\n",
              "      <th></th>\n",
              "      <th>bookingID</th>\n",
              "      <th>Accuracy</th>\n",
              "      <th>Bearing</th>\n",
              "      <th>acceleration_x</th>\n",
              "      <th>acceleration_y</th>\n",
              "      <th>acceleration_z</th>\n",
              "      <th>gyro_x</th>\n",
              "      <th>gyro_y</th>\n",
              "      <th>gyro_z</th>\n",
              "      <th>second</th>\n",
              "      <th>Speed</th>\n",
              "      <th>label</th>\n",
              "      <th>speed_limit</th>\n",
              "      <th>distance</th>\n",
              "    </tr>\n",
              "  </thead>\n",
              "  <tbody>\n",
              "    <tr>\n",
              "      <th>0</th>\n",
              "      <td>0</td>\n",
              "      <td>12.0</td>\n",
              "      <td>143.298294</td>\n",
              "      <td>0.818112</td>\n",
              "      <td>-9.941461</td>\n",
              "      <td>-2.014999</td>\n",
              "      <td>-0.016245</td>\n",
              "      <td>-0.094040</td>\n",
              "      <td>0.070732</td>\n",
              "      <td>0.0</td>\n",
              "      <td>3.442991</td>\n",
              "      <td>0</td>\n",
              "      <td>under control</td>\n",
              "      <td>0.000000</td>\n",
              "    </tr>\n",
              "    <tr>\n",
              "      <th>1</th>\n",
              "      <td>0</td>\n",
              "      <td>8.0</td>\n",
              "      <td>143.298294</td>\n",
              "      <td>0.546405</td>\n",
              "      <td>-9.835590</td>\n",
              "      <td>-2.038925</td>\n",
              "      <td>-0.047092</td>\n",
              "      <td>-0.078874</td>\n",
              "      <td>0.043187</td>\n",
              "      <td>1.0</td>\n",
              "      <td>0.228454</td>\n",
              "      <td>0</td>\n",
              "      <td>under control</td>\n",
              "      <td>0.228454</td>\n",
              "    </tr>\n",
              "    <tr>\n",
              "      <th>2</th>\n",
              "      <td>0</td>\n",
              "      <td>8.0</td>\n",
              "      <td>143.298294</td>\n",
              "      <td>-1.706207</td>\n",
              "      <td>-9.270792</td>\n",
              "      <td>-1.209448</td>\n",
              "      <td>-0.028965</td>\n",
              "      <td>-0.032652</td>\n",
              "      <td>0.015390</td>\n",
              "      <td>2.0</td>\n",
              "      <td>0.228454</td>\n",
              "      <td>0</td>\n",
              "      <td>under control</td>\n",
              "      <td>0.456909</td>\n",
              "    </tr>\n",
              "    <tr>\n",
              "      <th>3</th>\n",
              "      <td>0</td>\n",
              "      <td>8.0</td>\n",
              "      <td>143.298294</td>\n",
              "      <td>-1.416705</td>\n",
              "      <td>-9.548032</td>\n",
              "      <td>-1.860977</td>\n",
              "      <td>-0.022413</td>\n",
              "      <td>0.005049</td>\n",
              "      <td>-0.025753</td>\n",
              "      <td>3.0</td>\n",
              "      <td>0.228454</td>\n",
              "      <td>0</td>\n",
              "      <td>under control</td>\n",
              "      <td>0.685363</td>\n",
              "    </tr>\n",
              "    <tr>\n",
              "      <th>4</th>\n",
              "      <td>0</td>\n",
              "      <td>8.0</td>\n",
              "      <td>143.298294</td>\n",
              "      <td>-0.598145</td>\n",
              "      <td>-9.853534</td>\n",
              "      <td>-1.378574</td>\n",
              "      <td>-0.014297</td>\n",
              "      <td>-0.046206</td>\n",
              "      <td>0.021902</td>\n",
              "      <td>4.0</td>\n",
              "      <td>0.228454</td>\n",
              "      <td>0</td>\n",
              "      <td>under control</td>\n",
              "      <td>0.913818</td>\n",
              "    </tr>\n",
              "  </tbody>\n",
              "</table>\n",
              "</div>"
            ],
            "text/plain": [
              "   bookingID  Accuracy     Bearing  acceleration_x  acceleration_y  \\\n",
              "0          0      12.0  143.298294        0.818112       -9.941461   \n",
              "1          0       8.0  143.298294        0.546405       -9.835590   \n",
              "2          0       8.0  143.298294       -1.706207       -9.270792   \n",
              "3          0       8.0  143.298294       -1.416705       -9.548032   \n",
              "4          0       8.0  143.298294       -0.598145       -9.853534   \n",
              "\n",
              "   acceleration_z    gyro_x    gyro_y    gyro_z  second     Speed  label  \\\n",
              "0       -2.014999 -0.016245 -0.094040  0.070732     0.0  3.442991      0   \n",
              "1       -2.038925 -0.047092 -0.078874  0.043187     1.0  0.228454      0   \n",
              "2       -1.209448 -0.028965 -0.032652  0.015390     2.0  0.228454      0   \n",
              "3       -1.860977 -0.022413  0.005049 -0.025753     3.0  0.228454      0   \n",
              "4       -1.378574 -0.014297 -0.046206  0.021902     4.0  0.228454      0   \n",
              "\n",
              "     speed_limit  distance  \n",
              "0  under control  0.000000  \n",
              "1  under control  0.228454  \n",
              "2  under control  0.456909  \n",
              "3  under control  0.685363  \n",
              "4  under control  0.913818  "
            ]
          },
          "metadata": {
            "tags": []
          },
          "execution_count": 8
        }
      ]
    },
    {
      "cell_type": "code",
      "metadata": {
        "id": "ce9iZTIy2_CM"
      },
      "source": [
        "# Speed \n",
        "\n",
        "train_df['speed_x'] = train_df['acceleration_x']*train_df['second']\n",
        "train_df['speed_y'] = train_df['acceleration_y']*train_df['second']\n",
        "train_df['speed_z'] = train_df['acceleration_z']*train_df['second']"
      ],
      "execution_count": null,
      "outputs": []
    },
    {
      "cell_type": "code",
      "metadata": {
        "id": "R0VuVnQv2_CM"
      },
      "source": [
        "# Radian \n",
        "train_df['rad_x']=train_df['gyro_x']*train_df['second']\n",
        "train_df['rad_y']=train_df['gyro_y']*train_df['second']\n",
        "train_df['rad_z']=train_df['gyro_z']*train_df['second']"
      ],
      "execution_count": null,
      "outputs": []
    },
    {
      "cell_type": "code",
      "metadata": {
        "id": "A3y0K2I92_CM"
      },
      "source": [
        "# gyro \n",
        "# interaction variable with all the combination of the feature 'Gyro' based on \n",
        "#the vector theorem\n",
        "\n",
        "train_df['gyro_xy']=np.sqrt(train_df['gyro_x']**2+train_df['gyro_y']**2)\n",
        "train_df['gyro_xz']=np.sqrt(train_df['gyro_x']**2+train_df['gyro_z']**2)\n",
        "train_df['gyro_yz']=np.sqrt(train_df['gyro_z']**2+train_df['gyro_y']**2)\n",
        "train_df['gyro_xyz']=np.sqrt(train_df['gyro_x']**2+train_df['gyro_y']**2+train_df['gyro_z']**2)"
      ],
      "execution_count": null,
      "outputs": []
    },
    {
      "cell_type": "code",
      "metadata": {
        "id": "rpirMLmc2_CM"
      },
      "source": [
        "#Transform the accelerometer data\n",
        "#Acceleration\n",
        "\n",
        "train_df['acc_xy']=np.sqrt(train_df['acceleration_x']**2+train_df['acceleration_y']**2)\n",
        "train_df['acc_xz']=np.sqrt(train_df['acceleration_x']**2+train_df['acceleration_z']**2)\n",
        "train_df['acc_yz']=np.sqrt(train_df['acceleration_z']**2+train_df['acceleration_y']**2)\n",
        "train_df['acc_xyz']=np.sqrt(train_df['acceleration_x']**2+train_df['acceleration_y']**2+train_df['acceleration_z']**2)"
      ],
      "execution_count": null,
      "outputs": []
    },
    {
      "cell_type": "code",
      "metadata": {
        "id": "xgf8sQUq2_CM",
        "outputId": "ac7c199f-6621-40c0-e2bb-4b9cd6b03228"
      },
      "source": [
        "train_df.head()"
      ],
      "execution_count": null,
      "outputs": [
        {
          "output_type": "execute_result",
          "data": {
            "text/html": [
              "<div>\n",
              "<style scoped>\n",
              "    .dataframe tbody tr th:only-of-type {\n",
              "        vertical-align: middle;\n",
              "    }\n",
              "\n",
              "    .dataframe tbody tr th {\n",
              "        vertical-align: top;\n",
              "    }\n",
              "\n",
              "    .dataframe thead th {\n",
              "        text-align: right;\n",
              "    }\n",
              "</style>\n",
              "<table border=\"1\" class=\"dataframe\">\n",
              "  <thead>\n",
              "    <tr style=\"text-align: right;\">\n",
              "      <th></th>\n",
              "      <th>bookingID</th>\n",
              "      <th>Accuracy</th>\n",
              "      <th>Bearing</th>\n",
              "      <th>acceleration_x</th>\n",
              "      <th>acceleration_y</th>\n",
              "      <th>acceleration_z</th>\n",
              "      <th>gyro_x</th>\n",
              "      <th>gyro_y</th>\n",
              "      <th>gyro_z</th>\n",
              "      <th>second</th>\n",
              "      <th>...</th>\n",
              "      <th>rad_y</th>\n",
              "      <th>rad_z</th>\n",
              "      <th>gyro_xy</th>\n",
              "      <th>gyro_xz</th>\n",
              "      <th>gyro_yz</th>\n",
              "      <th>gyro_xyz</th>\n",
              "      <th>acc_xy</th>\n",
              "      <th>acc_xz</th>\n",
              "      <th>acc_yz</th>\n",
              "      <th>acc_xyz</th>\n",
              "    </tr>\n",
              "  </thead>\n",
              "  <tbody>\n",
              "    <tr>\n",
              "      <th>0</th>\n",
              "      <td>0</td>\n",
              "      <td>12.0</td>\n",
              "      <td>143.298294</td>\n",
              "      <td>0.818112</td>\n",
              "      <td>-9.941461</td>\n",
              "      <td>-2.014999</td>\n",
              "      <td>-0.016245</td>\n",
              "      <td>-0.094040</td>\n",
              "      <td>0.070732</td>\n",
              "      <td>0.0</td>\n",
              "      <td>...</td>\n",
              "      <td>-0.000000</td>\n",
              "      <td>0.000000</td>\n",
              "      <td>0.095433</td>\n",
              "      <td>0.072574</td>\n",
              "      <td>0.117672</td>\n",
              "      <td>0.118788</td>\n",
              "      <td>9.975067</td>\n",
              "      <td>2.174748</td>\n",
              "      <td>10.143612</td>\n",
              "      <td>10.176551</td>\n",
              "    </tr>\n",
              "    <tr>\n",
              "      <th>1</th>\n",
              "      <td>0</td>\n",
              "      <td>8.0</td>\n",
              "      <td>143.298294</td>\n",
              "      <td>0.546405</td>\n",
              "      <td>-9.835590</td>\n",
              "      <td>-2.038925</td>\n",
              "      <td>-0.047092</td>\n",
              "      <td>-0.078874</td>\n",
              "      <td>0.043187</td>\n",
              "      <td>1.0</td>\n",
              "      <td>...</td>\n",
              "      <td>-0.078874</td>\n",
              "      <td>0.043187</td>\n",
              "      <td>0.091863</td>\n",
              "      <td>0.063897</td>\n",
              "      <td>0.089924</td>\n",
              "      <td>0.101508</td>\n",
              "      <td>9.850755</td>\n",
              "      <td>2.110871</td>\n",
              "      <td>10.044702</td>\n",
              "      <td>10.059553</td>\n",
              "    </tr>\n",
              "    <tr>\n",
              "      <th>2</th>\n",
              "      <td>0</td>\n",
              "      <td>8.0</td>\n",
              "      <td>143.298294</td>\n",
              "      <td>-1.706207</td>\n",
              "      <td>-9.270792</td>\n",
              "      <td>-1.209448</td>\n",
              "      <td>-0.028965</td>\n",
              "      <td>-0.032652</td>\n",
              "      <td>0.015390</td>\n",
              "      <td>2.0</td>\n",
              "      <td>...</td>\n",
              "      <td>-0.065304</td>\n",
              "      <td>0.030780</td>\n",
              "      <td>0.043648</td>\n",
              "      <td>0.032800</td>\n",
              "      <td>0.036097</td>\n",
              "      <td>0.046282</td>\n",
              "      <td>9.426490</td>\n",
              "      <td>2.091389</td>\n",
              "      <td>9.349350</td>\n",
              "      <td>9.503762</td>\n",
              "    </tr>\n",
              "    <tr>\n",
              "      <th>3</th>\n",
              "      <td>0</td>\n",
              "      <td>8.0</td>\n",
              "      <td>143.298294</td>\n",
              "      <td>-1.416705</td>\n",
              "      <td>-9.548032</td>\n",
              "      <td>-1.860977</td>\n",
              "      <td>-0.022413</td>\n",
              "      <td>0.005049</td>\n",
              "      <td>-0.025753</td>\n",
              "      <td>3.0</td>\n",
              "      <td>...</td>\n",
              "      <td>0.015146</td>\n",
              "      <td>-0.077258</td>\n",
              "      <td>0.022975</td>\n",
              "      <td>0.034140</td>\n",
              "      <td>0.026243</td>\n",
              "      <td>0.034511</td>\n",
              "      <td>9.652562</td>\n",
              "      <td>2.338865</td>\n",
              "      <td>9.727700</td>\n",
              "      <td>9.830320</td>\n",
              "    </tr>\n",
              "    <tr>\n",
              "      <th>4</th>\n",
              "      <td>0</td>\n",
              "      <td>8.0</td>\n",
              "      <td>143.298294</td>\n",
              "      <td>-0.598145</td>\n",
              "      <td>-9.853534</td>\n",
              "      <td>-1.378574</td>\n",
              "      <td>-0.014297</td>\n",
              "      <td>-0.046206</td>\n",
              "      <td>0.021902</td>\n",
              "      <td>4.0</td>\n",
              "      <td>...</td>\n",
              "      <td>-0.184822</td>\n",
              "      <td>0.087606</td>\n",
              "      <td>0.048367</td>\n",
              "      <td>0.026155</td>\n",
              "      <td>0.051133</td>\n",
              "      <td>0.053095</td>\n",
              "      <td>9.871672</td>\n",
              "      <td>1.502745</td>\n",
              "      <td>9.949502</td>\n",
              "      <td>9.967466</td>\n",
              "    </tr>\n",
              "  </tbody>\n",
              "</table>\n",
              "<p>5 rows × 28 columns</p>\n",
              "</div>"
            ],
            "text/plain": [
              "   bookingID  Accuracy     Bearing  acceleration_x  acceleration_y  \\\n",
              "0          0      12.0  143.298294        0.818112       -9.941461   \n",
              "1          0       8.0  143.298294        0.546405       -9.835590   \n",
              "2          0       8.0  143.298294       -1.706207       -9.270792   \n",
              "3          0       8.0  143.298294       -1.416705       -9.548032   \n",
              "4          0       8.0  143.298294       -0.598145       -9.853534   \n",
              "\n",
              "   acceleration_z    gyro_x    gyro_y    gyro_z  second  ...     rad_y  \\\n",
              "0       -2.014999 -0.016245 -0.094040  0.070732     0.0  ... -0.000000   \n",
              "1       -2.038925 -0.047092 -0.078874  0.043187     1.0  ... -0.078874   \n",
              "2       -1.209448 -0.028965 -0.032652  0.015390     2.0  ... -0.065304   \n",
              "3       -1.860977 -0.022413  0.005049 -0.025753     3.0  ...  0.015146   \n",
              "4       -1.378574 -0.014297 -0.046206  0.021902     4.0  ... -0.184822   \n",
              "\n",
              "      rad_z   gyro_xy   gyro_xz   gyro_yz  gyro_xyz    acc_xy    acc_xz  \\\n",
              "0  0.000000  0.095433  0.072574  0.117672  0.118788  9.975067  2.174748   \n",
              "1  0.043187  0.091863  0.063897  0.089924  0.101508  9.850755  2.110871   \n",
              "2  0.030780  0.043648  0.032800  0.036097  0.046282  9.426490  2.091389   \n",
              "3 -0.077258  0.022975  0.034140  0.026243  0.034511  9.652562  2.338865   \n",
              "4  0.087606  0.048367  0.026155  0.051133  0.053095  9.871672  1.502745   \n",
              "\n",
              "      acc_yz    acc_xyz  \n",
              "0  10.143612  10.176551  \n",
              "1  10.044702  10.059553  \n",
              "2   9.349350   9.503762  \n",
              "3   9.727700   9.830320  \n",
              "4   9.949502   9.967466  \n",
              "\n",
              "[5 rows x 28 columns]"
            ]
          },
          "metadata": {
            "tags": []
          },
          "execution_count": 13
        }
      ]
    },
    {
      "cell_type": "markdown",
      "metadata": {
        "id": "cpZ_CH0l2_CM"
      },
      "source": [
        "### Data Cleansing"
      ]
    },
    {
      "cell_type": "code",
      "metadata": {
        "id": "Mxamv3BI2_CM",
        "outputId": "815614dc-33b9-49b8-e3cd-abbd2b91e791"
      },
      "source": [
        "#remove unwanted columns \n",
        "train_df = train_df.drop(['bookingID'],axis=1)\n",
        "train_df.head()\n"
      ],
      "execution_count": null,
      "outputs": [
        {
          "output_type": "execute_result",
          "data": {
            "text/html": [
              "<div>\n",
              "<style scoped>\n",
              "    .dataframe tbody tr th:only-of-type {\n",
              "        vertical-align: middle;\n",
              "    }\n",
              "\n",
              "    .dataframe tbody tr th {\n",
              "        vertical-align: top;\n",
              "    }\n",
              "\n",
              "    .dataframe thead th {\n",
              "        text-align: right;\n",
              "    }\n",
              "</style>\n",
              "<table border=\"1\" class=\"dataframe\">\n",
              "  <thead>\n",
              "    <tr style=\"text-align: right;\">\n",
              "      <th></th>\n",
              "      <th>Accuracy</th>\n",
              "      <th>Bearing</th>\n",
              "      <th>acceleration_x</th>\n",
              "      <th>acceleration_y</th>\n",
              "      <th>acceleration_z</th>\n",
              "      <th>gyro_x</th>\n",
              "      <th>gyro_y</th>\n",
              "      <th>gyro_z</th>\n",
              "      <th>second</th>\n",
              "      <th>Speed</th>\n",
              "      <th>...</th>\n",
              "      <th>rad_y</th>\n",
              "      <th>rad_z</th>\n",
              "      <th>gyro_xy</th>\n",
              "      <th>gyro_xz</th>\n",
              "      <th>gyro_yz</th>\n",
              "      <th>gyro_xyz</th>\n",
              "      <th>acc_xy</th>\n",
              "      <th>acc_xz</th>\n",
              "      <th>acc_yz</th>\n",
              "      <th>acc_xyz</th>\n",
              "    </tr>\n",
              "  </thead>\n",
              "  <tbody>\n",
              "    <tr>\n",
              "      <th>0</th>\n",
              "      <td>12.0</td>\n",
              "      <td>143.298294</td>\n",
              "      <td>0.818112</td>\n",
              "      <td>-9.941461</td>\n",
              "      <td>-2.014999</td>\n",
              "      <td>-0.016245</td>\n",
              "      <td>-0.094040</td>\n",
              "      <td>0.070732</td>\n",
              "      <td>0.0</td>\n",
              "      <td>3.442991</td>\n",
              "      <td>...</td>\n",
              "      <td>-0.000000</td>\n",
              "      <td>0.000000</td>\n",
              "      <td>0.095433</td>\n",
              "      <td>0.072574</td>\n",
              "      <td>0.117672</td>\n",
              "      <td>0.118788</td>\n",
              "      <td>9.975067</td>\n",
              "      <td>2.174748</td>\n",
              "      <td>10.143612</td>\n",
              "      <td>10.176551</td>\n",
              "    </tr>\n",
              "    <tr>\n",
              "      <th>1</th>\n",
              "      <td>8.0</td>\n",
              "      <td>143.298294</td>\n",
              "      <td>0.546405</td>\n",
              "      <td>-9.835590</td>\n",
              "      <td>-2.038925</td>\n",
              "      <td>-0.047092</td>\n",
              "      <td>-0.078874</td>\n",
              "      <td>0.043187</td>\n",
              "      <td>1.0</td>\n",
              "      <td>0.228454</td>\n",
              "      <td>...</td>\n",
              "      <td>-0.078874</td>\n",
              "      <td>0.043187</td>\n",
              "      <td>0.091863</td>\n",
              "      <td>0.063897</td>\n",
              "      <td>0.089924</td>\n",
              "      <td>0.101508</td>\n",
              "      <td>9.850755</td>\n",
              "      <td>2.110871</td>\n",
              "      <td>10.044702</td>\n",
              "      <td>10.059553</td>\n",
              "    </tr>\n",
              "    <tr>\n",
              "      <th>2</th>\n",
              "      <td>8.0</td>\n",
              "      <td>143.298294</td>\n",
              "      <td>-1.706207</td>\n",
              "      <td>-9.270792</td>\n",
              "      <td>-1.209448</td>\n",
              "      <td>-0.028965</td>\n",
              "      <td>-0.032652</td>\n",
              "      <td>0.015390</td>\n",
              "      <td>2.0</td>\n",
              "      <td>0.228454</td>\n",
              "      <td>...</td>\n",
              "      <td>-0.065304</td>\n",
              "      <td>0.030780</td>\n",
              "      <td>0.043648</td>\n",
              "      <td>0.032800</td>\n",
              "      <td>0.036097</td>\n",
              "      <td>0.046282</td>\n",
              "      <td>9.426490</td>\n",
              "      <td>2.091389</td>\n",
              "      <td>9.349350</td>\n",
              "      <td>9.503762</td>\n",
              "    </tr>\n",
              "    <tr>\n",
              "      <th>3</th>\n",
              "      <td>8.0</td>\n",
              "      <td>143.298294</td>\n",
              "      <td>-1.416705</td>\n",
              "      <td>-9.548032</td>\n",
              "      <td>-1.860977</td>\n",
              "      <td>-0.022413</td>\n",
              "      <td>0.005049</td>\n",
              "      <td>-0.025753</td>\n",
              "      <td>3.0</td>\n",
              "      <td>0.228454</td>\n",
              "      <td>...</td>\n",
              "      <td>0.015146</td>\n",
              "      <td>-0.077258</td>\n",
              "      <td>0.022975</td>\n",
              "      <td>0.034140</td>\n",
              "      <td>0.026243</td>\n",
              "      <td>0.034511</td>\n",
              "      <td>9.652562</td>\n",
              "      <td>2.338865</td>\n",
              "      <td>9.727700</td>\n",
              "      <td>9.830320</td>\n",
              "    </tr>\n",
              "    <tr>\n",
              "      <th>4</th>\n",
              "      <td>8.0</td>\n",
              "      <td>143.298294</td>\n",
              "      <td>-0.598145</td>\n",
              "      <td>-9.853534</td>\n",
              "      <td>-1.378574</td>\n",
              "      <td>-0.014297</td>\n",
              "      <td>-0.046206</td>\n",
              "      <td>0.021902</td>\n",
              "      <td>4.0</td>\n",
              "      <td>0.228454</td>\n",
              "      <td>...</td>\n",
              "      <td>-0.184822</td>\n",
              "      <td>0.087606</td>\n",
              "      <td>0.048367</td>\n",
              "      <td>0.026155</td>\n",
              "      <td>0.051133</td>\n",
              "      <td>0.053095</td>\n",
              "      <td>9.871672</td>\n",
              "      <td>1.502745</td>\n",
              "      <td>9.949502</td>\n",
              "      <td>9.967466</td>\n",
              "    </tr>\n",
              "  </tbody>\n",
              "</table>\n",
              "<p>5 rows × 27 columns</p>\n",
              "</div>"
            ],
            "text/plain": [
              "   Accuracy     Bearing  acceleration_x  acceleration_y  acceleration_z  \\\n",
              "0      12.0  143.298294        0.818112       -9.941461       -2.014999   \n",
              "1       8.0  143.298294        0.546405       -9.835590       -2.038925   \n",
              "2       8.0  143.298294       -1.706207       -9.270792       -1.209448   \n",
              "3       8.0  143.298294       -1.416705       -9.548032       -1.860977   \n",
              "4       8.0  143.298294       -0.598145       -9.853534       -1.378574   \n",
              "\n",
              "     gyro_x    gyro_y    gyro_z  second     Speed  ...     rad_y     rad_z  \\\n",
              "0 -0.016245 -0.094040  0.070732     0.0  3.442991  ... -0.000000  0.000000   \n",
              "1 -0.047092 -0.078874  0.043187     1.0  0.228454  ... -0.078874  0.043187   \n",
              "2 -0.028965 -0.032652  0.015390     2.0  0.228454  ... -0.065304  0.030780   \n",
              "3 -0.022413  0.005049 -0.025753     3.0  0.228454  ...  0.015146 -0.077258   \n",
              "4 -0.014297 -0.046206  0.021902     4.0  0.228454  ... -0.184822  0.087606   \n",
              "\n",
              "    gyro_xy   gyro_xz   gyro_yz  gyro_xyz    acc_xy    acc_xz     acc_yz  \\\n",
              "0  0.095433  0.072574  0.117672  0.118788  9.975067  2.174748  10.143612   \n",
              "1  0.091863  0.063897  0.089924  0.101508  9.850755  2.110871  10.044702   \n",
              "2  0.043648  0.032800  0.036097  0.046282  9.426490  2.091389   9.349350   \n",
              "3  0.022975  0.034140  0.026243  0.034511  9.652562  2.338865   9.727700   \n",
              "4  0.048367  0.026155  0.051133  0.053095  9.871672  1.502745   9.949502   \n",
              "\n",
              "     acc_xyz  \n",
              "0  10.176551  \n",
              "1  10.059553  \n",
              "2   9.503762  \n",
              "3   9.830320  \n",
              "4   9.967466  \n",
              "\n",
              "[5 rows x 27 columns]"
            ]
          },
          "metadata": {
            "tags": []
          },
          "execution_count": 14
        }
      ]
    },
    {
      "cell_type": "code",
      "metadata": {
        "id": "fBeFSwaG2_CM",
        "outputId": "7bd4d427-4a57-4386-febb-ee5091d35dd3"
      },
      "source": [
        "# Show categorical varibles and numeric variables\n",
        "\n",
        "tnum_vars=list(train_df.columns[train_df.dtypes != \"object\"])\n",
        "tcat_vars=list(train_df.columns[train_df.dtypes == \"object\"])\n",
        "print(\"Categorical Variables: \",tcat_vars)\n",
        "print(\"Numerical Variables: \",tnum_vars)"
      ],
      "execution_count": null,
      "outputs": [
        {
          "output_type": "stream",
          "text": [
            "Categorical Variables:  ['speed_limit']\n",
            "Numerical Variables:  ['Accuracy', 'Bearing', 'acceleration_x', 'acceleration_y', 'acceleration_z', 'gyro_x', 'gyro_y', 'gyro_z', 'second', 'Speed', 'label', 'distance', 'speed_x', 'speed_y', 'speed_z', 'rad_x', 'rad_y', 'rad_z', 'gyro_xy', 'gyro_xz', 'gyro_yz', 'gyro_xyz', 'acc_xy', 'acc_xz', 'acc_yz', 'acc_xyz']\n"
          ],
          "name": "stdout"
        }
      ]
    },
    {
      "cell_type": "code",
      "metadata": {
        "id": "yxoHa18g2_CN",
        "outputId": "e0401fbc-beb3-47b3-cadc-0843323ffc52"
      },
      "source": [
        "#encode all the categorical variables\n",
        "nonnumfeats = tcat_vars\n",
        "print(nonnumfeats)\n",
        "\n",
        "#Convert Multiple Categorical Data Columns to Numerical Data Columns using Dummy Variables\n",
        "train_df = pd.get_dummies(train_df,columns=nonnumfeats)\n",
        "\n",
        "train_df.head()"
      ],
      "execution_count": null,
      "outputs": [
        {
          "output_type": "stream",
          "text": [
            "['speed_limit']\n"
          ],
          "name": "stdout"
        },
        {
          "output_type": "execute_result",
          "data": {
            "text/html": [
              "<div>\n",
              "<style scoped>\n",
              "    .dataframe tbody tr th:only-of-type {\n",
              "        vertical-align: middle;\n",
              "    }\n",
              "\n",
              "    .dataframe tbody tr th {\n",
              "        vertical-align: top;\n",
              "    }\n",
              "\n",
              "    .dataframe thead th {\n",
              "        text-align: right;\n",
              "    }\n",
              "</style>\n",
              "<table border=\"1\" class=\"dataframe\">\n",
              "  <thead>\n",
              "    <tr style=\"text-align: right;\">\n",
              "      <th></th>\n",
              "      <th>Accuracy</th>\n",
              "      <th>Bearing</th>\n",
              "      <th>acceleration_x</th>\n",
              "      <th>acceleration_y</th>\n",
              "      <th>acceleration_z</th>\n",
              "      <th>gyro_x</th>\n",
              "      <th>gyro_y</th>\n",
              "      <th>gyro_z</th>\n",
              "      <th>second</th>\n",
              "      <th>Speed</th>\n",
              "      <th>...</th>\n",
              "      <th>gyro_xy</th>\n",
              "      <th>gyro_xz</th>\n",
              "      <th>gyro_yz</th>\n",
              "      <th>gyro_xyz</th>\n",
              "      <th>acc_xy</th>\n",
              "      <th>acc_xz</th>\n",
              "      <th>acc_yz</th>\n",
              "      <th>acc_xyz</th>\n",
              "      <th>speed_limit_speeding</th>\n",
              "      <th>speed_limit_under control</th>\n",
              "    </tr>\n",
              "  </thead>\n",
              "  <tbody>\n",
              "    <tr>\n",
              "      <th>0</th>\n",
              "      <td>12.0</td>\n",
              "      <td>143.298294</td>\n",
              "      <td>0.818112</td>\n",
              "      <td>-9.941461</td>\n",
              "      <td>-2.014999</td>\n",
              "      <td>-0.016245</td>\n",
              "      <td>-0.094040</td>\n",
              "      <td>0.070732</td>\n",
              "      <td>0.0</td>\n",
              "      <td>3.442991</td>\n",
              "      <td>...</td>\n",
              "      <td>0.095433</td>\n",
              "      <td>0.072574</td>\n",
              "      <td>0.117672</td>\n",
              "      <td>0.118788</td>\n",
              "      <td>9.975067</td>\n",
              "      <td>2.174748</td>\n",
              "      <td>10.143612</td>\n",
              "      <td>10.176551</td>\n",
              "      <td>0</td>\n",
              "      <td>1</td>\n",
              "    </tr>\n",
              "    <tr>\n",
              "      <th>1</th>\n",
              "      <td>8.0</td>\n",
              "      <td>143.298294</td>\n",
              "      <td>0.546405</td>\n",
              "      <td>-9.835590</td>\n",
              "      <td>-2.038925</td>\n",
              "      <td>-0.047092</td>\n",
              "      <td>-0.078874</td>\n",
              "      <td>0.043187</td>\n",
              "      <td>1.0</td>\n",
              "      <td>0.228454</td>\n",
              "      <td>...</td>\n",
              "      <td>0.091863</td>\n",
              "      <td>0.063897</td>\n",
              "      <td>0.089924</td>\n",
              "      <td>0.101508</td>\n",
              "      <td>9.850755</td>\n",
              "      <td>2.110871</td>\n",
              "      <td>10.044702</td>\n",
              "      <td>10.059553</td>\n",
              "      <td>0</td>\n",
              "      <td>1</td>\n",
              "    </tr>\n",
              "    <tr>\n",
              "      <th>2</th>\n",
              "      <td>8.0</td>\n",
              "      <td>143.298294</td>\n",
              "      <td>-1.706207</td>\n",
              "      <td>-9.270792</td>\n",
              "      <td>-1.209448</td>\n",
              "      <td>-0.028965</td>\n",
              "      <td>-0.032652</td>\n",
              "      <td>0.015390</td>\n",
              "      <td>2.0</td>\n",
              "      <td>0.228454</td>\n",
              "      <td>...</td>\n",
              "      <td>0.043648</td>\n",
              "      <td>0.032800</td>\n",
              "      <td>0.036097</td>\n",
              "      <td>0.046282</td>\n",
              "      <td>9.426490</td>\n",
              "      <td>2.091389</td>\n",
              "      <td>9.349350</td>\n",
              "      <td>9.503762</td>\n",
              "      <td>0</td>\n",
              "      <td>1</td>\n",
              "    </tr>\n",
              "    <tr>\n",
              "      <th>3</th>\n",
              "      <td>8.0</td>\n",
              "      <td>143.298294</td>\n",
              "      <td>-1.416705</td>\n",
              "      <td>-9.548032</td>\n",
              "      <td>-1.860977</td>\n",
              "      <td>-0.022413</td>\n",
              "      <td>0.005049</td>\n",
              "      <td>-0.025753</td>\n",
              "      <td>3.0</td>\n",
              "      <td>0.228454</td>\n",
              "      <td>...</td>\n",
              "      <td>0.022975</td>\n",
              "      <td>0.034140</td>\n",
              "      <td>0.026243</td>\n",
              "      <td>0.034511</td>\n",
              "      <td>9.652562</td>\n",
              "      <td>2.338865</td>\n",
              "      <td>9.727700</td>\n",
              "      <td>9.830320</td>\n",
              "      <td>0</td>\n",
              "      <td>1</td>\n",
              "    </tr>\n",
              "    <tr>\n",
              "      <th>4</th>\n",
              "      <td>8.0</td>\n",
              "      <td>143.298294</td>\n",
              "      <td>-0.598145</td>\n",
              "      <td>-9.853534</td>\n",
              "      <td>-1.378574</td>\n",
              "      <td>-0.014297</td>\n",
              "      <td>-0.046206</td>\n",
              "      <td>0.021902</td>\n",
              "      <td>4.0</td>\n",
              "      <td>0.228454</td>\n",
              "      <td>...</td>\n",
              "      <td>0.048367</td>\n",
              "      <td>0.026155</td>\n",
              "      <td>0.051133</td>\n",
              "      <td>0.053095</td>\n",
              "      <td>9.871672</td>\n",
              "      <td>1.502745</td>\n",
              "      <td>9.949502</td>\n",
              "      <td>9.967466</td>\n",
              "      <td>0</td>\n",
              "      <td>1</td>\n",
              "    </tr>\n",
              "  </tbody>\n",
              "</table>\n",
              "<p>5 rows × 28 columns</p>\n",
              "</div>"
            ],
            "text/plain": [
              "   Accuracy     Bearing  acceleration_x  acceleration_y  acceleration_z  \\\n",
              "0      12.0  143.298294        0.818112       -9.941461       -2.014999   \n",
              "1       8.0  143.298294        0.546405       -9.835590       -2.038925   \n",
              "2       8.0  143.298294       -1.706207       -9.270792       -1.209448   \n",
              "3       8.0  143.298294       -1.416705       -9.548032       -1.860977   \n",
              "4       8.0  143.298294       -0.598145       -9.853534       -1.378574   \n",
              "\n",
              "     gyro_x    gyro_y    gyro_z  second     Speed  ...   gyro_xy   gyro_xz  \\\n",
              "0 -0.016245 -0.094040  0.070732     0.0  3.442991  ...  0.095433  0.072574   \n",
              "1 -0.047092 -0.078874  0.043187     1.0  0.228454  ...  0.091863  0.063897   \n",
              "2 -0.028965 -0.032652  0.015390     2.0  0.228454  ...  0.043648  0.032800   \n",
              "3 -0.022413  0.005049 -0.025753     3.0  0.228454  ...  0.022975  0.034140   \n",
              "4 -0.014297 -0.046206  0.021902     4.0  0.228454  ...  0.048367  0.026155   \n",
              "\n",
              "    gyro_yz  gyro_xyz    acc_xy    acc_xz     acc_yz    acc_xyz  \\\n",
              "0  0.117672  0.118788  9.975067  2.174748  10.143612  10.176551   \n",
              "1  0.089924  0.101508  9.850755  2.110871  10.044702  10.059553   \n",
              "2  0.036097  0.046282  9.426490  2.091389   9.349350   9.503762   \n",
              "3  0.026243  0.034511  9.652562  2.338865   9.727700   9.830320   \n",
              "4  0.051133  0.053095  9.871672  1.502745   9.949502   9.967466   \n",
              "\n",
              "   speed_limit_speeding  speed_limit_under control  \n",
              "0                     0                          1  \n",
              "1                     0                          1  \n",
              "2                     0                          1  \n",
              "3                     0                          1  \n",
              "4                     0                          1  \n",
              "\n",
              "[5 rows x 28 columns]"
            ]
          },
          "metadata": {
            "tags": []
          },
          "execution_count": 16
        }
      ]
    },
    {
      "cell_type": "markdown",
      "metadata": {
        "id": "vb973qLf2_CN"
      },
      "source": [
        "# Train Model"
      ]
    },
    {
      "cell_type": "markdown",
      "metadata": {
        "id": "8T_T2mP_2_CN"
      },
      "source": [
        "## Split Data into Train and Test Sets"
      ]
    },
    {
      "cell_type": "code",
      "metadata": {
        "id": "g3bx97Ko2_CN"
      },
      "source": [
        "from sklearn.model_selection import train_test_split\n",
        "y = train_df[\"label\"].values\n",
        "X = train_df.drop([\"label\"],axis=1).values\n",
        "\n",
        "#split data into 80% traning set and 20% testing set\n",
        "X_train, X_test, y_train, y_test = train_test_split(X, y, test_size=0.20,random_state=44)"
      ],
      "execution_count": null,
      "outputs": []
    },
    {
      "cell_type": "code",
      "metadata": {
        "id": "76Lmpr-y2_CN"
      },
      "source": [
        "from sklearn.linear_model import LogisticRegression\n",
        "from sklearn.ensemble import RandomForestClassifier\n",
        "from sklearn.ensemble import GradientBoostingClassifier\n",
        "\n",
        "from sklearn import metrics\n",
        "from sklearn.metrics import accuracy_score"
      ],
      "execution_count": null,
      "outputs": []
    },
    {
      "cell_type": "markdown",
      "metadata": {
        "id": "-Ve2WPYp2_CN"
      },
      "source": [
        "## Train Model with Algorithm"
      ]
    },
    {
      "cell_type": "markdown",
      "metadata": {
        "id": "tWhrZ1fV2_CN"
      },
      "source": [
        "### Logistic Regression"
      ]
    },
    {
      "cell_type": "code",
      "metadata": {
        "id": "iRyTLsFc2_CN",
        "outputId": "6c3ac50d-da2d-4b5e-a7a4-d25f528f0f77"
      },
      "source": [
        "lr_model = LogisticRegression()\n",
        "\n",
        "#fit logistic regression model to the data \n",
        "lr_model.fit(X_train, y_train)\n",
        "\n",
        "#make predictions \n",
        "Y_pred_LR = lr_model.predict(X_test)\n",
        "print(lr_model)\n",
        "\n",
        "#summarize the fit of the model\n",
        "print(metrics.classification_report(y_test,Y_pred_LR))\n",
        "print(metrics.confusion_matrix(y_test, Y_pred_LR))\n",
        "\n",
        "#accuracy score for both train set and test set\n",
        "score_lr=round(accuracy_score(y_train, lr_model.predict(X_train))*100,2)\n",
        "acc_lr=round(accuracy_score(y_test, Y_pred_LR)*100,2)\n",
        "print(\"Accuracy score for the train set={:.2f}%\".format(score_lr))\n",
        "print(\"Accuracy score for the test set={:.2f}%\".format(acc_lr))"
      ],
      "execution_count": null,
      "outputs": [
        {
          "output_type": "stream",
          "text": [
            "LogisticRegression()\n",
            "              precision    recall  f1-score   support\n",
            "\n",
            "           0       0.72      0.97      0.82   2217231\n",
            "           1       0.63      0.11      0.19    965509\n",
            "\n",
            "    accuracy                           0.71   3182740\n",
            "   macro avg       0.67      0.54      0.51   3182740\n",
            "weighted avg       0.69      0.71      0.63   3182740\n",
            "\n",
            "[[2153860   63371]\n",
            " [ 858127  107382]]\n",
            "Accuracy score for the train set=71.07%\n",
            "Accuracy score for the test set=71.05%\n"
          ],
          "name": "stdout"
        }
      ]
    },
    {
      "cell_type": "code",
      "metadata": {
        "id": "lEBsdS5L2_CN"
      },
      "source": [
        ""
      ],
      "execution_count": null,
      "outputs": []
    },
    {
      "cell_type": "markdown",
      "metadata": {
        "id": "PyrRx3hl2_CN"
      },
      "source": [
        "### Cross Validation"
      ]
    },
    {
      "cell_type": "code",
      "metadata": {
        "id": "iaSbMyMG2_CN",
        "outputId": "00d7c452-16fa-452c-ce17-98c7ce7b4bb7"
      },
      "source": [
        "from sklearn.metrics import roc_auc_score\n",
        "from sklearn.metrics import roc_curve\n",
        "\n",
        "logit_roc_auc = roc_auc_score(y_train, lr_model.predict(X_train))\n",
        "\n",
        "#false positive rate (x-axis), true positive rate(y-axis)\n",
        "fpr, tpr, thresholds = roc_curve(y_train, lr_model.predict_proba(X_train)[:,1])\n",
        "\n",
        "plt.figure()\n",
        "plt.plot(fpr, tpr, label='Logistric Regression (area = %0.2f)' % logit_roc_auc)\n",
        "plt.plot([0, 1], [0, 1],'r--')\n",
        "plt.xlim([0.0, 1.0])\n",
        "plt.ylim([0.0, 1.05])\n",
        "plt.xlabel('False Positive Rate')\n",
        "plt.ylabel('True Positive Rate')\n",
        "plt.title('ROC Curve for Train Set')\n",
        "plt.legend(loc=\"lower right\")\n",
        "\n",
        "plt.show()"
      ],
      "execution_count": null,
      "outputs": [
        {
          "output_type": "display_data",
          "data": {
            "image/png": "[encoded data removed]",
            "text/plain": [
              "<Figure size 432x288 with 1 Axes>"
            ]
          },
          "metadata": {
            "tags": [],
            "needs_background": "light"
          }
        }
      ]
    },
    {
      "cell_type": "code",
      "metadata": {
        "id": "K3gqVrS62_CN",
        "outputId": "4107020b-934e-4370-aa40-922f0a6b7e49"
      },
      "source": [
        "from sklearn.metrics import roc_curve\n",
        "logit_roc_auc = roc_auc_score(y_test, lr_model.predict(X_test))\n",
        "fpr, tpr, thresholds = roc_curve(y_test, lr_model.predict_proba(X_test)[:,1])\n",
        "plt.figure()\n",
        "plt.plot(fpr, tpr, label='Logistric Regression (area = %0.2f)' % logit_roc_auc)\n",
        "plt.plot([0, 1], [0, 1],'r--')\n",
        "plt.xlim([0.0, 1.0])\n",
        "plt.ylim([0.0, 1.05])\n",
        "plt.xlabel('False Positive Rate')\n",
        "plt.ylabel('True Positive Rate')\n",
        "plt.title('ROC Curve for Test Set')\n",
        "plt.legend(loc=\"lower right\")\n",
        "\n",
        "plt.show()"
      ],
      "execution_count": null,
      "outputs": [
        {
          "output_type": "display_data",
          "data": {
            "image/png": "[encoded data removed]",
            "text/plain": [
              "<Figure size 432x288 with 1 Axes>"
            ]
          },
          "metadata": {
            "tags": [],
            "needs_background": "light"
          }
        }
      ]
    },
    {
      "cell_type": "code",
      "metadata": {
        "id": "Kw9agMbc2_CN",
        "outputId": "67da510f-b169-420a-abaf-ddf21554572b"
      },
      "source": [
        "# visualization of the performance of the algorithm\n",
        "\n",
        "from sklearn.metrics import confusion_matrix\n",
        "\n",
        "# evaluate model for test set\n",
        "class_names_lr=[\"Normal\",\"Dangerous\"]\n",
        "cm_lr = confusion_matrix(y_test, Y_pred_LR, labels=[0,1])\n",
        "print(cm_lr)\n",
        "\n",
        "df_cm_lr = pd.DataFrame(cm_lr, columns=class_names_lr, index = class_names_lr)\n",
        "df_cm_lr.index.name = 'Actual'\n",
        "df_cm_lr.columns.name = 'Predicted'\n",
        "plt.figure(figsize = (6,5))\n",
        "#for label size\n",
        "sns.set(font_scale=1.4)\n",
        "# font size\n",
        "sns.heatmap(df_cm_lr, cmap=\"Blues\", annot=True,annot_kws={\"size\": 16})"
      ],
      "execution_count": null,
      "outputs": [
        {
          "output_type": "stream",
          "text": [
            "[[2153860   63371]\n",
            " [ 858127  107382]]\n"
          ],
          "name": "stdout"
        },
        {
          "output_type": "execute_result",
          "data": {
            "text/plain": [
              "<matplotlib.axes._subplots.AxesSubplot at 0x271aece40d0>"
            ]
          },
          "metadata": {
            "tags": []
          },
          "execution_count": 25
        },
        {
          "output_type": "display_data",
          "data": {
            "image/png": "[encoded data removed]",
            "text/plain": [
              "<Figure size 432x360 with 2 Axes>"
            ]
          },
          "metadata": {
            "tags": []
          }
        }
      ]
    },
    {
      "cell_type": "markdown",
      "metadata": {
        "id": "nAUj2Qbl2_CN"
      },
      "source": [
        "## Feature Importance"
      ]
    },
    {
      "cell_type": "code",
      "metadata": {
        "id": "bF65yvzA2_CN"
      },
      "source": [
        ""
      ],
      "execution_count": null,
      "outputs": []
    }
  ]
}